{
  "nbformat": 4,
  "nbformat_minor": 0,
  "metadata": {
    "colab": {
      "name": "\"practice.NN_keras.ipynb\"",
      "provenance": [],
      "collapsed_sections": [],
      "toc_visible": true,
      "include_colab_link": true
    },
    "kernelspec": {
      "name": "python3",
      "display_name": "Python 3"
    },
    "language_info": {
      "name": "python"
    }
  },
  "cells": [
    {
      "cell_type": "markdown",
      "metadata": {
        "id": "view-in-github",
        "colab_type": "text"
      },
      "source": [
        "<a href=\"https://colab.research.google.com/github/RuslanMavlitov/sf_data_science/blob/main/%22practice_NN_keras_ipynb%22.ipynb\" target=\"_parent\"><img src=\"https://colab.research.google.com/assets/colab-badge.svg\" alt=\"Open In Colab\"/></a>"
      ]
    },
    {
      "cell_type": "markdown",
      "source": [
        "# Первая нейросеть на Keras\n"
      ],
      "metadata": {
        "id": "YENBrjbPiQwC"
      }
    },
    {
      "cell_type": "markdown",
      "source": [
        "## Сегодня на практическом занятии:\n",
        "\n",
        "1. Обучим нейросеть на Keras для задачи регрессии (california housing)\n",
        "2. Подготовим изображения к обучению нейросети\n",
        "3. Обучим нейросеть на Keras для задачи классификации (MNIST)\n",
        "4. Обучим нейросеть на Keras для задачи восстановления изображений"
      ],
      "metadata": {
        "id": "D01f4B0GiNGC"
      }
    },
    {
      "cell_type": "markdown",
      "source": [
        "## Нейросеть для California housing"
      ],
      "metadata": {
        "id": "hfKwW-lVTQC1"
      }
    },
    {
      "cell_type": "markdown",
      "metadata": {
        "id": "3LkrhFC8QvOq"
      },
      "source": [
        "Будем работать с набором данным `fetch_california_housing` из `sklearn`."
      ]
    },
    {
      "cell_type": "code",
      "source": [
        "from sklearn.datasets import fetch_california_housing\n",
        "import pandas as pd\n",
        "\n",
        "\n",
        "data = fetch_california_housing()\n",
        "\n",
        "X = pd.DataFrame(data['data'], columns=data['feature_names'])\n",
        "y = data['target']\n",
        "\n",
        "X.head()"
      ],
      "metadata": {
        "colab": {
          "base_uri": "https://localhost:8080/",
          "height": 206
        },
        "outputId": "5e74294c-8577-4c88-bc8e-5274972e2d9a",
        "id": "pDEf_L-lQvPA"
      },
      "execution_count": 1,
      "outputs": [
        {
          "output_type": "execute_result",
          "data": {
            "text/plain": [
              "   MedInc  HouseAge  AveRooms  AveBedrms  Population  AveOccup  Latitude  \\\n",
              "0  8.3252      41.0  6.984127   1.023810       322.0  2.555556     37.88   \n",
              "1  8.3014      21.0  6.238137   0.971880      2401.0  2.109842     37.86   \n",
              "2  7.2574      52.0  8.288136   1.073446       496.0  2.802260     37.85   \n",
              "3  5.6431      52.0  5.817352   1.073059       558.0  2.547945     37.85   \n",
              "4  3.8462      52.0  6.281853   1.081081       565.0  2.181467     37.85   \n",
              "\n",
              "   Longitude  \n",
              "0    -122.23  \n",
              "1    -122.22  \n",
              "2    -122.24  \n",
              "3    -122.25  \n",
              "4    -122.25  "
            ],
            "text/html": [
              "\n",
              "  <div id=\"df-2bba4e3b-7667-4f09-9bda-75b64c75d7bc\">\n",
              "    <div class=\"colab-df-container\">\n",
              "      <div>\n",
              "<style scoped>\n",
              "    .dataframe tbody tr th:only-of-type {\n",
              "        vertical-align: middle;\n",
              "    }\n",
              "\n",
              "    .dataframe tbody tr th {\n",
              "        vertical-align: top;\n",
              "    }\n",
              "\n",
              "    .dataframe thead th {\n",
              "        text-align: right;\n",
              "    }\n",
              "</style>\n",
              "<table border=\"1\" class=\"dataframe\">\n",
              "  <thead>\n",
              "    <tr style=\"text-align: right;\">\n",
              "      <th></th>\n",
              "      <th>MedInc</th>\n",
              "      <th>HouseAge</th>\n",
              "      <th>AveRooms</th>\n",
              "      <th>AveBedrms</th>\n",
              "      <th>Population</th>\n",
              "      <th>AveOccup</th>\n",
              "      <th>Latitude</th>\n",
              "      <th>Longitude</th>\n",
              "    </tr>\n",
              "  </thead>\n",
              "  <tbody>\n",
              "    <tr>\n",
              "      <th>0</th>\n",
              "      <td>8.3252</td>\n",
              "      <td>41.0</td>\n",
              "      <td>6.984127</td>\n",
              "      <td>1.023810</td>\n",
              "      <td>322.0</td>\n",
              "      <td>2.555556</td>\n",
              "      <td>37.88</td>\n",
              "      <td>-122.23</td>\n",
              "    </tr>\n",
              "    <tr>\n",
              "      <th>1</th>\n",
              "      <td>8.3014</td>\n",
              "      <td>21.0</td>\n",
              "      <td>6.238137</td>\n",
              "      <td>0.971880</td>\n",
              "      <td>2401.0</td>\n",
              "      <td>2.109842</td>\n",
              "      <td>37.86</td>\n",
              "      <td>-122.22</td>\n",
              "    </tr>\n",
              "    <tr>\n",
              "      <th>2</th>\n",
              "      <td>7.2574</td>\n",
              "      <td>52.0</td>\n",
              "      <td>8.288136</td>\n",
              "      <td>1.073446</td>\n",
              "      <td>496.0</td>\n",
              "      <td>2.802260</td>\n",
              "      <td>37.85</td>\n",
              "      <td>-122.24</td>\n",
              "    </tr>\n",
              "    <tr>\n",
              "      <th>3</th>\n",
              "      <td>5.6431</td>\n",
              "      <td>52.0</td>\n",
              "      <td>5.817352</td>\n",
              "      <td>1.073059</td>\n",
              "      <td>558.0</td>\n",
              "      <td>2.547945</td>\n",
              "      <td>37.85</td>\n",
              "      <td>-122.25</td>\n",
              "    </tr>\n",
              "    <tr>\n",
              "      <th>4</th>\n",
              "      <td>3.8462</td>\n",
              "      <td>52.0</td>\n",
              "      <td>6.281853</td>\n",
              "      <td>1.081081</td>\n",
              "      <td>565.0</td>\n",
              "      <td>2.181467</td>\n",
              "      <td>37.85</td>\n",
              "      <td>-122.25</td>\n",
              "    </tr>\n",
              "  </tbody>\n",
              "</table>\n",
              "</div>\n",
              "      <button class=\"colab-df-convert\" onclick=\"convertToInteractive('df-2bba4e3b-7667-4f09-9bda-75b64c75d7bc')\"\n",
              "              title=\"Convert this dataframe to an interactive table.\"\n",
              "              style=\"display:none;\">\n",
              "        \n",
              "  <svg xmlns=\"http://www.w3.org/2000/svg\" height=\"24px\"viewBox=\"0 0 24 24\"\n",
              "       width=\"24px\">\n",
              "    <path d=\"M0 0h24v24H0V0z\" fill=\"none\"/>\n",
              "    <path d=\"M18.56 5.44l.94 2.06.94-2.06 2.06-.94-2.06-.94-.94-2.06-.94 2.06-2.06.94zm-11 1L8.5 8.5l.94-2.06 2.06-.94-2.06-.94L8.5 2.5l-.94 2.06-2.06.94zm10 10l.94 2.06.94-2.06 2.06-.94-2.06-.94-.94-2.06-.94 2.06-2.06.94z\"/><path d=\"M17.41 7.96l-1.37-1.37c-.4-.4-.92-.59-1.43-.59-.52 0-1.04.2-1.43.59L10.3 9.45l-7.72 7.72c-.78.78-.78 2.05 0 2.83L4 21.41c.39.39.9.59 1.41.59.51 0 1.02-.2 1.41-.59l7.78-7.78 2.81-2.81c.8-.78.8-2.07 0-2.86zM5.41 20L4 18.59l7.72-7.72 1.47 1.35L5.41 20z\"/>\n",
              "  </svg>\n",
              "      </button>\n",
              "      \n",
              "  <style>\n",
              "    .colab-df-container {\n",
              "      display:flex;\n",
              "      flex-wrap:wrap;\n",
              "      gap: 12px;\n",
              "    }\n",
              "\n",
              "    .colab-df-convert {\n",
              "      background-color: #E8F0FE;\n",
              "      border: none;\n",
              "      border-radius: 50%;\n",
              "      cursor: pointer;\n",
              "      display: none;\n",
              "      fill: #1967D2;\n",
              "      height: 32px;\n",
              "      padding: 0 0 0 0;\n",
              "      width: 32px;\n",
              "    }\n",
              "\n",
              "    .colab-df-convert:hover {\n",
              "      background-color: #E2EBFA;\n",
              "      box-shadow: 0px 1px 2px rgba(60, 64, 67, 0.3), 0px 1px 3px 1px rgba(60, 64, 67, 0.15);\n",
              "      fill: #174EA6;\n",
              "    }\n",
              "\n",
              "    [theme=dark] .colab-df-convert {\n",
              "      background-color: #3B4455;\n",
              "      fill: #D2E3FC;\n",
              "    }\n",
              "\n",
              "    [theme=dark] .colab-df-convert:hover {\n",
              "      background-color: #434B5C;\n",
              "      box-shadow: 0px 1px 3px 1px rgba(0, 0, 0, 0.15);\n",
              "      filter: drop-shadow(0px 1px 2px rgba(0, 0, 0, 0.3));\n",
              "      fill: #FFFFFF;\n",
              "    }\n",
              "  </style>\n",
              "\n",
              "      <script>\n",
              "        const buttonEl =\n",
              "          document.querySelector('#df-2bba4e3b-7667-4f09-9bda-75b64c75d7bc button.colab-df-convert');\n",
              "        buttonEl.style.display =\n",
              "          google.colab.kernel.accessAllowed ? 'block' : 'none';\n",
              "\n",
              "        async function convertToInteractive(key) {\n",
              "          const element = document.querySelector('#df-2bba4e3b-7667-4f09-9bda-75b64c75d7bc');\n",
              "          const dataTable =\n",
              "            await google.colab.kernel.invokeFunction('convertToInteractive',\n",
              "                                                     [key], {});\n",
              "          if (!dataTable) return;\n",
              "\n",
              "          const docLinkHtml = 'Like what you see? Visit the ' +\n",
              "            '<a target=\"_blank\" href=https://colab.research.google.com/notebooks/data_table.ipynb>data table notebook</a>'\n",
              "            + ' to learn more about interactive tables.';\n",
              "          element.innerHTML = '';\n",
              "          dataTable['output_type'] = 'display_data';\n",
              "          await google.colab.output.renderOutput(dataTable, element);\n",
              "          const docLink = document.createElement('div');\n",
              "          docLink.innerHTML = docLinkHtml;\n",
              "          element.appendChild(docLink);\n",
              "        }\n",
              "      </script>\n",
              "    </div>\n",
              "  </div>\n",
              "  "
            ]
          },
          "metadata": {},
          "execution_count": 1
        }
      ]
    },
    {
      "cell_type": "code",
      "source": [
        "y"
      ],
      "metadata": {
        "colab": {
          "base_uri": "https://localhost:8080/"
        },
        "outputId": "c9319f71-cf00-40c5-f224-91f5157115be",
        "id": "qGlJz8tWQvPC"
      },
      "execution_count": 2,
      "outputs": [
        {
          "output_type": "execute_result",
          "data": {
            "text/plain": [
              "array([4.526, 3.585, 3.521, ..., 0.923, 0.847, 0.894])"
            ]
          },
          "metadata": {},
          "execution_count": 2
        }
      ]
    },
    {
      "cell_type": "code",
      "source": [
        "from sklearn.preprocessing import MinMaxScaler\n",
        "\n",
        "mms = MinMaxScaler()\n",
        "X_norm = mms.fit_transform(X)"
      ],
      "metadata": {
        "id": "W8zOFtZizdNZ"
      },
      "execution_count": 4,
      "outputs": []
    },
    {
      "cell_type": "markdown",
      "source": [
        "#### 1.1. Разбейте данные на обучение и тест"
      ],
      "metadata": {
        "id": "fkRGiXVZTudB"
      }
    },
    {
      "cell_type": "code",
      "source": [
        "# Ваш код здесь\n",
        "from sklearn.model_selection import train_test_split\n",
        "X_train, X_test, y_train, y_test = train_test_split(X_norm, y, test_size=0.3, random_state=42)\n"
      ],
      "metadata": {
        "id": "0Kr_m64uTudB"
      },
      "execution_count": 5,
      "outputs": []
    },
    {
      "cell_type": "markdown",
      "source": [
        "#### 1.2. Создайте архитектуру для этой задачи"
      ],
      "metadata": {
        "id": "815ut8JJTIM7"
      }
    },
    {
      "cell_type": "code",
      "source": [
        "# Ваш код здесь\n",
        "from keras.layers import Dense\n",
        "from keras.models import Sequential\n",
        "import tensorflow as tf\n",
        "tf.random.set_seed(9)\n",
        "\n",
        "model = Sequential([\n",
        "    Dense(16, input_shape=(8,), activation='relu'),\n",
        "    Dense(1, activation='relu')\n",
        "])\n",
        "\n",
        "model.summary()\n"
      ],
      "metadata": {
        "id": "OtEKBEAXTVmN",
        "colab": {
          "base_uri": "https://localhost:8080/"
        },
        "outputId": "b70fe886-8ab5-4f8c-9574-96cac55b795b"
      },
      "execution_count": 19,
      "outputs": [
        {
          "output_type": "stream",
          "name": "stdout",
          "text": [
            "Model: \"sequential_4\"\n",
            "_________________________________________________________________\n",
            " Layer (type)                Output Shape              Param #   \n",
            "=================================================================\n",
            " dense_8 (Dense)             (None, 16)                144       \n",
            "                                                                 \n",
            " dense_9 (Dense)             (None, 1)                 17        \n",
            "                                                                 \n",
            "=================================================================\n",
            "Total params: 161\n",
            "Trainable params: 161\n",
            "Non-trainable params: 0\n",
            "_________________________________________________________________\n"
          ]
        }
      ]
    },
    {
      "cell_type": "markdown",
      "source": [
        "#### 1.3. Скомпилируйте сеть\n",
        "\n",
        "Подберите нужную функцию потерь и метрику. Оптимизатор можете использовать 'sgd'"
      ],
      "metadata": {
        "id": "F9E1W4yCT0YC"
      }
    },
    {
      "cell_type": "code",
      "source": [
        "# Ваш код здесь\n",
        "model.compile(optimizer='sgd', loss='mse', metrics='mae')\n"
      ],
      "metadata": {
        "id": "S4ADrJaoTeZf"
      },
      "execution_count": 20,
      "outputs": []
    },
    {
      "cell_type": "markdown",
      "source": [
        "#### 1.4. Обучите нейросеть\n",
        "\n",
        "Выберите нужное количество эпох.\n"
      ],
      "metadata": {
        "id": "ebac-dNAUBtX"
      }
    },
    {
      "cell_type": "code",
      "source": [
        "# Ваш код здесь\n",
        "%%time\n",
        "model.fit(X_norm, y, epochs=20)\n"
      ],
      "metadata": {
        "id": "bGJAwEVPTf8b",
        "colab": {
          "base_uri": "https://localhost:8080/"
        },
        "outputId": "47e656c6-e88d-43a9-bdad-e29fdaaa5a0c"
      },
      "execution_count": 22,
      "outputs": [
        {
          "output_type": "stream",
          "name": "stdout",
          "text": [
            "Epoch 1/20\n",
            "645/645 [==============================] - 2s 3ms/step - loss: 0.4598 - mae: 0.4836\n",
            "Epoch 2/20\n",
            "645/645 [==============================] - 2s 3ms/step - loss: 0.4596 - mae: 0.4837\n",
            "Epoch 3/20\n",
            "645/645 [==============================] - 1s 2ms/step - loss: 0.4587 - mae: 0.4830\n",
            "Epoch 4/20\n",
            "645/645 [==============================] - 1s 2ms/step - loss: 0.4584 - mae: 0.4827\n",
            "Epoch 5/20\n",
            "645/645 [==============================] - 2s 3ms/step - loss: 0.4572 - mae: 0.4825\n",
            "Epoch 6/20\n",
            "645/645 [==============================] - 1s 2ms/step - loss: 0.4576 - mae: 0.4819\n",
            "Epoch 7/20\n",
            "645/645 [==============================] - 1s 1ms/step - loss: 0.4570 - mae: 0.4811\n",
            "Epoch 8/20\n",
            "645/645 [==============================] - 1s 1ms/step - loss: 0.4553 - mae: 0.4811\n",
            "Epoch 9/20\n",
            "645/645 [==============================] - 1s 1ms/step - loss: 0.4557 - mae: 0.4799\n",
            "Epoch 10/20\n",
            "645/645 [==============================] - 1s 1ms/step - loss: 0.4560 - mae: 0.4805\n",
            "Epoch 11/20\n",
            "645/645 [==============================] - 1s 1ms/step - loss: 0.4548 - mae: 0.4801\n",
            "Epoch 12/20\n",
            "645/645 [==============================] - 1s 1ms/step - loss: 0.4534 - mae: 0.4786\n",
            "Epoch 13/20\n",
            "645/645 [==============================] - 1s 1ms/step - loss: 0.4532 - mae: 0.4780\n",
            "Epoch 14/20\n",
            "645/645 [==============================] - 1s 1ms/step - loss: 0.4520 - mae: 0.4773\n",
            "Epoch 15/20\n",
            "645/645 [==============================] - 1s 1ms/step - loss: 0.4514 - mae: 0.4777\n",
            "Epoch 16/20\n",
            "645/645 [==============================] - 1s 1ms/step - loss: 0.4521 - mae: 0.4774\n",
            "Epoch 17/20\n",
            "645/645 [==============================] - 1s 1ms/step - loss: 0.4511 - mae: 0.4769\n",
            "Epoch 18/20\n",
            "645/645 [==============================] - 1s 1ms/step - loss: 0.4504 - mae: 0.4765\n",
            "Epoch 19/20\n",
            "645/645 [==============================] - 1s 1ms/step - loss: 0.4508 - mae: 0.4763\n",
            "Epoch 20/20\n",
            "645/645 [==============================] - 1s 1ms/step - loss: 0.4501 - mae: 0.4753\n",
            "CPU times: user 21.9 s, sys: 1.56 s, total: 23.4 s\n",
            "Wall time: 41.1 s\n"
          ]
        },
        {
          "output_type": "execute_result",
          "data": {
            "text/plain": [
              "<keras.callbacks.History at 0x7f78c05c9610>"
            ]
          },
          "metadata": {},
          "execution_count": 22
        }
      ]
    },
    {
      "cell_type": "markdown",
      "source": [
        "#### 1.5. Сделайте вывод, хорошо ли модель обучается?\n",
        "\n",
        "Если модель обучается плохо, можете внести изменения в работу."
      ],
      "metadata": {
        "id": "EZaZYI7jULuL"
      }
    },
    {
      "cell_type": "code",
      "source": [
        "# Ваш вывод здесь\n",
        "\n"
      ],
      "metadata": {
        "id": "TwzVMr7jUasa"
      },
      "execution_count": null,
      "outputs": []
    },
    {
      "cell_type": "markdown",
      "source": [
        "#### 1.6. Сделайте предсказания на тестовых данных"
      ],
      "metadata": {
        "id": "mvlGXR3yVMYo"
      }
    },
    {
      "cell_type": "code",
      "source": [
        "# Ваш код здесь\n",
        "preds = model.predict(X_test)\n"
      ],
      "metadata": {
        "id": "gW7-vtIsVPdV"
      },
      "execution_count": 23,
      "outputs": []
    },
    {
      "cell_type": "markdown",
      "source": [
        "#### 1.7. Посчитайте метрику качества на тестовых данных\n",
        "\n",
        "Доп информация по метрикам [здесь](https://youtu.be/vh2smjQyhp8)"
      ],
      "metadata": {
        "id": "NLsmmLVkVhkL"
      }
    },
    {
      "cell_type": "code",
      "source": [
        "# Ваш код здесь\n",
        "from sklearn.metrics import mean_absolute_error\n",
        "\n",
        "mean_absolute_error(preds, y_test)\n"
      ],
      "metadata": {
        "id": "SEu1V0AmVTUr",
        "colab": {
          "base_uri": "https://localhost:8080/"
        },
        "outputId": "c98d1493-b709-4c92-887c-4c3073c35365"
      },
      "execution_count": 24,
      "outputs": [
        {
          "output_type": "execute_result",
          "data": {
            "text/plain": [
              "0.46578594818551716"
            ]
          },
          "metadata": {},
          "execution_count": 24
        }
      ]
    },
    {
      "cell_type": "markdown",
      "source": [
        "MAE довольно низкий. Модель обучилась хорошо"
      ],
      "metadata": {
        "id": "XvkZfKVh2wKU"
      }
    },
    {
      "cell_type": "markdown",
      "source": [
        "## 2. Нейросеть для MNIST"
      ],
      "metadata": {
        "id": "z5hUjlFNKysJ"
      }
    },
    {
      "cell_type": "markdown",
      "metadata": {
        "id": "h7GSqp3eKysU"
      },
      "source": [
        "Будем работать с набором данных `MNIST` из `keras`."
      ]
    },
    {
      "cell_type": "code",
      "source": [
        "from keras.datasets import mnist\n",
        "\n",
        "(X_train, y_train), (X_test, y_test) = mnist.load_data()\n",
        "\n",
        "X_train.shape, X_test.shape"
      ],
      "metadata": {
        "colab": {
          "base_uri": "https://localhost:8080/"
        },
        "outputId": "ef0e3ad9-0e68-442b-8b13-e85489be5f52",
        "id": "5SMNbUvZKysU"
      },
      "execution_count": 25,
      "outputs": [
        {
          "output_type": "stream",
          "name": "stdout",
          "text": [
            "Downloading data from https://storage.googleapis.com/tensorflow/tf-keras-datasets/mnist.npz\n",
            "11493376/11490434 [==============================] - 0s 0us/step\n",
            "11501568/11490434 [==============================] - 0s 0us/step\n"
          ]
        },
        {
          "output_type": "execute_result",
          "data": {
            "text/plain": [
              "((60000, 28, 28), (10000, 28, 28))"
            ]
          },
          "metadata": {},
          "execution_count": 25
        }
      ]
    },
    {
      "cell_type": "markdown",
      "source": [
        "### 2.1. Отрисуйте несколько примеров из обучения"
      ],
      "metadata": {
        "id": "yKZInrc5LBSV"
      }
    },
    {
      "cell_type": "code",
      "source": [
        "# Ваш код здесь\n",
        "import matplotlib.pyplot as plt\n",
        "fig, ax = plt.subplots(1, 4, figsize=(15, 10))\n",
        "\n",
        "for i in range(4):\n",
        "    ax[i].imshow(X_train[i], cmap='gray')\n",
        "    ax[i].axis('off')\n"
      ],
      "metadata": {
        "id": "gKikMCPlLF__",
        "colab": {
          "base_uri": "https://localhost:8080/",
          "height": 213
        },
        "outputId": "2b37b4c9-a5ae-40db-d6b1-b490856c1fe5"
      },
      "execution_count": 33,
      "outputs": [
        {
          "output_type": "display_data",
          "data": {
            "text/plain": [
              "<Figure size 1080x720 with 4 Axes>"
            ],
            "image/png": "[encoded data removed]"
          },
          "metadata": {
            "needs_background": "light"
          }
        }
      ]
    },
    {
      "cell_type": "markdown",
      "source": [
        "### 2.2. Подготовка данных"
      ],
      "metadata": {
        "id": "Uqafao750wfc"
      }
    },
    {
      "cell_type": "markdown",
      "source": [
        "#### 2.2.1. Возьмите для обучения только два класса (3 и 8), чтобы сделать задачу бинарной классификации."
      ],
      "metadata": {
        "id": "JKPYzs_-LUCs"
      }
    },
    {
      "cell_type": "code",
      "source": [
        "import numpy as np"
      ],
      "metadata": {
        "id": "vrDZobW55E6z"
      },
      "execution_count": 40,
      "outputs": []
    },
    {
      "cell_type": "code",
      "source": [
        "# Ваш код здесь\n",
        "idxs = np.where((y_train == 3) | (y_train == 8))\n",
        "y_train = y_train[idxs]\n"
      ],
      "metadata": {
        "id": "k-2c7wJ40UfB"
      },
      "execution_count": 41,
      "outputs": []
    },
    {
      "cell_type": "code",
      "source": [
        "X_train = X_train[idxs]"
      ],
      "metadata": {
        "id": "WtBra0DX4uzd"
      },
      "execution_count": 42,
      "outputs": []
    },
    {
      "cell_type": "code",
      "source": [
        "X_train.shape, y_train.shape"
      ],
      "metadata": {
        "colab": {
          "base_uri": "https://localhost:8080/"
        },
        "id": "TKeRGUxX4vbT",
        "outputId": "538594c4-26e2-46ec-a949-e25b5bc5a877"
      },
      "execution_count": 43,
      "outputs": [
        {
          "output_type": "execute_result",
          "data": {
            "text/plain": [
              "((11982, 28, 28), (11982,))"
            ]
          },
          "metadata": {},
          "execution_count": 43
        }
      ]
    },
    {
      "cell_type": "markdown",
      "source": [
        "#### 2.2.2. И тоже самое сделайте для теста"
      ],
      "metadata": {
        "id": "Uwfrh9Os0_TE"
      }
    },
    {
      "cell_type": "code",
      "source": [
        "# Ваш код здесь\n",
        "idxs = np.where((y_test == 3) | (y_test == 8))\n",
        "y_test = y_test[idxs]\n",
        "\n",
        "X_test = X_test[idxs]\n",
        "\n",
        "X_test.shape, y_test.shape\n"
      ],
      "metadata": {
        "id": "_aXF2MFw1Avv",
        "colab": {
          "base_uri": "https://localhost:8080/"
        },
        "outputId": "bbd2b509-ea09-44eb-eb74-1f648388dc55"
      },
      "execution_count": 44,
      "outputs": [
        {
          "output_type": "execute_result",
          "data": {
            "text/plain": [
              "((1984, 28, 28), (1984,))"
            ]
          },
          "metadata": {},
          "execution_count": 44
        }
      ]
    },
    {
      "cell_type": "markdown",
      "source": [
        "#### 2.2.3. Отрисуйте несколько изображений из новых данных\n"
      ],
      "metadata": {
        "id": "AHTXRcF5-jdc"
      }
    },
    {
      "cell_type": "code",
      "source": [
        "# Ваш код здесь\n",
        "fig, ax = plt.subplots(1, 5, figsize=(15, 10))\n",
        "\n",
        "for i in range(5):\n",
        "    ax[i].imshow(X_train[i], cmap='gray')\n",
        "    ax[i].axis('off')\n"
      ],
      "metadata": {
        "id": "icacSfk21L7E",
        "colab": {
          "base_uri": "https://localhost:8080/",
          "height": 175
        },
        "outputId": "504d4dde-a9a9-44fa-f2df-07d516c65441"
      },
      "execution_count": 45,
      "outputs": [
        {
          "output_type": "display_data",
          "data": {
            "text/plain": [
              "<Figure size 1080x720 with 5 Axes>"
            ],
            "image/png": "[encoded data removed]"
          },
          "metadata": {
            "needs_background": "light"
          }
        }
      ]
    },
    {
      "cell_type": "code",
      "source": [
        "y_train[:5]"
      ],
      "metadata": {
        "colab": {
          "base_uri": "https://localhost:8080/"
        },
        "id": "YXz7QhZe50zl",
        "outputId": "c826ec37-34d5-43b3-cbe4-36ddcaee2228"
      },
      "execution_count": 46,
      "outputs": [
        {
          "output_type": "execute_result",
          "data": {
            "text/plain": [
              "array([3, 3, 3, 8, 3], dtype=uint8)"
            ]
          },
          "metadata": {},
          "execution_count": 46
        }
      ]
    },
    {
      "cell_type": "markdown",
      "source": [
        "#### 2.2.4. Нормируйте данные"
      ],
      "metadata": {
        "id": "L-LuuDfrMSk7"
      }
    },
    {
      "cell_type": "code",
      "source": [
        "# Ваш код здесь\n",
        "print(X_train.min(), X_train.max())\n",
        "\n",
        "X_train = X_train / 255.0\n",
        "X_test = X_test / 255.0\n",
        "\n",
        "print(X_train.min(), X_train.max())\n"
      ],
      "metadata": {
        "id": "RADeSMbdrLf7",
        "colab": {
          "base_uri": "https://localhost:8080/"
        },
        "outputId": "25186a3a-1e14-434a-fe88-e1bdbcf41008"
      },
      "execution_count": 47,
      "outputs": [
        {
          "output_type": "stream",
          "name": "stdout",
          "text": [
            "0 255\n",
            "0.0 1.0\n"
          ]
        }
      ]
    },
    {
      "cell_type": "markdown",
      "source": [
        "#### 2.2.5. Преобразуйте целевые значения в бинарный вид\n",
        "\n",
        "При этом еще нужно вначале перевести класс 3 и 8 в 0 и 1, только при таких метках класса сетка будет обучаться правильно."
      ],
      "metadata": {
        "id": "9qweUxUsMWwp"
      }
    },
    {
      "cell_type": "code",
      "source": [
        "y_train[y_train == 3] = 0\n",
        "y_train[y_train == 8] = 1\n",
        "\n",
        "y_test[y_test == 3] = 0\n",
        "y_test[y_test == 8] = 1"
      ],
      "metadata": {
        "id": "0_ff0XCK6tHJ"
      },
      "execution_count": 50,
      "outputs": []
    },
    {
      "cell_type": "code",
      "source": [
        "# Ваш код здесь\n",
        "from keras.utils.np_utils import to_categorical\n",
        "\n",
        "y_train_cat = to_categorical(y_train)\n",
        "y_test_cat = to_categorical(y_test)"
      ],
      "metadata": {
        "id": "Cq3mHXUlP9tU"
      },
      "execution_count": 51,
      "outputs": []
    },
    {
      "cell_type": "code",
      "source": [
        "# Ваш код здесь\n",
        "y_train_cat[:5]\n"
      ],
      "metadata": {
        "id": "VtEYAHdF2ru5",
        "colab": {
          "base_uri": "https://localhost:8080/"
        },
        "outputId": "a69a8f83-7894-4106-c61d-6df3b0aff47a"
      },
      "execution_count": 52,
      "outputs": [
        {
          "output_type": "execute_result",
          "data": {
            "text/plain": [
              "array([[1., 0.],\n",
              "       [1., 0.],\n",
              "       [1., 0.],\n",
              "       [0., 1.],\n",
              "       [1., 0.]], dtype=float32)"
            ]
          },
          "metadata": {},
          "execution_count": 52
        }
      ]
    },
    {
      "cell_type": "markdown",
      "source": [
        "### 2.3. Создайте архитектуру для этой задачи"
      ],
      "metadata": {
        "id": "7MlITp9zKysV"
      }
    },
    {
      "cell_type": "code",
      "source": [
        "# Ваш код здесь\n",
        "from keras.layers import Flatten\n",
        "from keras.models import Sequential\n",
        "\n",
        "\n",
        "model = Sequential([\n",
        "    Flatten(input_shape=(28, 28)),\n",
        "    Dense(512, activation='relu'),\n",
        "    Dense(128, activation='relu'),\n",
        "    Dense(2, activation='sigmoid')\n",
        "])\n",
        "\n",
        "model.summary()\n"
      ],
      "metadata": {
        "id": "x8SRlENdKysW",
        "colab": {
          "base_uri": "https://localhost:8080/"
        },
        "outputId": "1ed1d0fe-2cda-400d-ff3e-60ae45009d88"
      },
      "execution_count": 53,
      "outputs": [
        {
          "output_type": "stream",
          "name": "stdout",
          "text": [
            "Model: \"sequential_5\"\n",
            "_________________________________________________________________\n",
            " Layer (type)                Output Shape              Param #   \n",
            "=================================================================\n",
            " flatten (Flatten)           (None, 784)               0         \n",
            "                                                                 \n",
            " dense_10 (Dense)            (None, 512)               401920    \n",
            "                                                                 \n",
            " dense_11 (Dense)            (None, 128)               65664     \n",
            "                                                                 \n",
            " dense_12 (Dense)            (None, 2)                 258       \n",
            "                                                                 \n",
            "=================================================================\n",
            "Total params: 467,842\n",
            "Trainable params: 467,842\n",
            "Non-trainable params: 0\n",
            "_________________________________________________________________\n"
          ]
        }
      ]
    },
    {
      "cell_type": "markdown",
      "source": [
        "### 2.4. Скомпилируйте сеть\n",
        "\n",
        "Подберите нужную функцию потерь и метрику. Оптимизатор можете использовать 'sgd'"
      ],
      "metadata": {
        "id": "wmUIOgMEKysW"
      }
    },
    {
      "cell_type": "code",
      "source": [
        "# Ваш код здесь\n",
        "model.compile(optimizer='sgd', loss='binary_crossentropy', metrics='accuracy')\n"
      ],
      "metadata": {
        "id": "b8pmOpKeKysW"
      },
      "execution_count": 54,
      "outputs": []
    },
    {
      "cell_type": "markdown",
      "source": [
        "### 2.5. Обучите нейросеть\n",
        "\n",
        "Выберите нужное количество эпох.\n"
      ],
      "metadata": {
        "id": "0fMjmZ8GKysW"
      }
    },
    {
      "cell_type": "code",
      "source": [
        "# Ваш код здесь\n",
        "%%time\n",
        "model.fit(X_train, y_train_cat, epochs=20)\n"
      ],
      "metadata": {
        "id": "TQe6kSqlKysW",
        "colab": {
          "base_uri": "https://localhost:8080/"
        },
        "outputId": "5db823fc-1bfb-4979-dd3d-f41a2b84e994"
      },
      "execution_count": 55,
      "outputs": [
        {
          "output_type": "stream",
          "name": "stdout",
          "text": [
            "Epoch 1/20\n",
            "375/375 [==============================] - 4s 8ms/step - loss: 0.3077 - accuracy: 0.9102\n",
            "Epoch 2/20\n",
            "375/375 [==============================] - 3s 8ms/step - loss: 0.1418 - accuracy: 0.9543\n",
            "Epoch 3/20\n",
            "375/375 [==============================] - 2s 6ms/step - loss: 0.1151 - accuracy: 0.9637\n",
            "Epoch 4/20\n",
            "375/375 [==============================] - 2s 5ms/step - loss: 0.1032 - accuracy: 0.9667\n",
            "Epoch 5/20\n",
            "375/375 [==============================] - 2s 5ms/step - loss: 0.0953 - accuracy: 0.9710\n",
            "Epoch 6/20\n",
            "375/375 [==============================] - 2s 5ms/step - loss: 0.0896 - accuracy: 0.9719\n",
            "Epoch 7/20\n",
            "375/375 [==============================] - 2s 5ms/step - loss: 0.0843 - accuracy: 0.9739\n",
            "Epoch 8/20\n",
            "375/375 [==============================] - 2s 5ms/step - loss: 0.0797 - accuracy: 0.9759\n",
            "Epoch 9/20\n",
            "375/375 [==============================] - 2s 5ms/step - loss: 0.0756 - accuracy: 0.9770\n",
            "Epoch 10/20\n",
            "375/375 [==============================] - 2s 5ms/step - loss: 0.0716 - accuracy: 0.9786\n",
            "Epoch 11/20\n",
            "375/375 [==============================] - 2s 5ms/step - loss: 0.0679 - accuracy: 0.9794\n",
            "Epoch 12/20\n",
            "375/375 [==============================] - 2s 6ms/step - loss: 0.0641 - accuracy: 0.9816\n",
            "Epoch 13/20\n",
            "375/375 [==============================] - 2s 6ms/step - loss: 0.0607 - accuracy: 0.9828\n",
            "Epoch 14/20\n",
            "375/375 [==============================] - 2s 6ms/step - loss: 0.0575 - accuracy: 0.9840\n",
            "Epoch 15/20\n",
            "375/375 [==============================] - 2s 5ms/step - loss: 0.0544 - accuracy: 0.9849\n",
            "Epoch 16/20\n",
            "375/375 [==============================] - 2s 5ms/step - loss: 0.0515 - accuracy: 0.9855\n",
            "Epoch 17/20\n",
            "375/375 [==============================] - 2s 5ms/step - loss: 0.0487 - accuracy: 0.9861\n",
            "Epoch 18/20\n",
            "375/375 [==============================] - 2s 5ms/step - loss: 0.0464 - accuracy: 0.9866\n",
            "Epoch 19/20\n",
            "375/375 [==============================] - 2s 5ms/step - loss: 0.0441 - accuracy: 0.9877\n",
            "Epoch 20/20\n",
            "375/375 [==============================] - 2s 5ms/step - loss: 0.0417 - accuracy: 0.9889\n",
            "CPU times: user 51.3 s, sys: 3.51 s, total: 54.8 s\n",
            "Wall time: 43.4 s\n"
          ]
        },
        {
          "output_type": "execute_result",
          "data": {
            "text/plain": [
              "<keras.callbacks.History at 0x7f78c00eabd0>"
            ]
          },
          "metadata": {},
          "execution_count": 55
        }
      ]
    },
    {
      "cell_type": "markdown",
      "source": [
        "### 2.6. Сделайте предсказания на тестовых данных"
      ],
      "metadata": {
        "id": "KXuR0VjmKysX"
      }
    },
    {
      "cell_type": "code",
      "source": [
        "# Ваш код здесь\n",
        "print(\"Предсказание нейронной сети: \")\n",
        "pred = model.predict(X_test)\n",
        "pred\n"
      ],
      "metadata": {
        "id": "GFTgbSScKysX",
        "colab": {
          "base_uri": "https://localhost:8080/"
        },
        "outputId": "a001172e-f572-4a23-bbda-0f9633d1b47e"
      },
      "execution_count": 57,
      "outputs": [
        {
          "output_type": "stream",
          "name": "stdout",
          "text": [
            "Предсказание нейронной сети: \n"
          ]
        },
        {
          "output_type": "execute_result",
          "data": {
            "text/plain": [
              "array([[9.6037239e-01, 4.4633448e-02],\n",
              "       [9.9994695e-01, 5.9514594e-05],\n",
              "       [9.9966860e-01, 3.2436848e-04],\n",
              "       ...,\n",
              "       [8.4304261e-01, 1.7744836e-01],\n",
              "       [1.6551018e-03, 9.9853033e-01],\n",
              "       [9.9999785e-01, 2.4616152e-06]], dtype=float32)"
            ]
          },
          "metadata": {},
          "execution_count": 57
        }
      ]
    },
    {
      "cell_type": "markdown",
      "source": [
        "### 2.7. Посчитайте метрику качества на тестовых данных\n",
        "\n",
        "По метрикам можете повторить эти занятия по [ссылке](https://youtube.com/playlist?list=PLkJJmZ1EJno6CLyvD4DHc32Fed6cPBHje)"
      ],
      "metadata": {
        "id": "YDrkN9ASKysX"
      }
    },
    {
      "cell_type": "code",
      "source": [
        "# Ваш код здесь\n",
        "preds_cls = pred.argmax(axis=1)\n",
        "preds_cls\n"
      ],
      "metadata": {
        "id": "A0jsXcgRKysX",
        "colab": {
          "base_uri": "https://localhost:8080/"
        },
        "outputId": "f2c26121-e258-4325-d015-262fce1ec795"
      },
      "execution_count": 58,
      "outputs": [
        {
          "output_type": "execute_result",
          "data": {
            "text/plain": [
              "array([0, 0, 0, ..., 0, 1, 0])"
            ]
          },
          "metadata": {},
          "execution_count": 58
        }
      ]
    },
    {
      "cell_type": "code",
      "source": [
        "from sklearn.metrics import accuracy_score\n",
        "\n",
        "print(f'test acc: {accuracy_score(y_test, preds_cls)*100:.2f}% ({(y_test == preds_cls).sum()} out of {y_test.shape[0]})')"
      ],
      "metadata": {
        "colab": {
          "base_uri": "https://localhost:8080/"
        },
        "id": "NGgEuVhu8EtU",
        "outputId": "ea69193e-d7ee-460b-e003-a2b26802a6e0"
      },
      "execution_count": 59,
      "outputs": [
        {
          "output_type": "stream",
          "name": "stdout",
          "text": [
            "test acc: 98.34% (1951 out of 1984)\n"
          ]
        }
      ]
    },
    {
      "cell_type": "markdown",
      "source": [
        "Шикарный результат. Модель хорошо умеет различать 3 и 8"
      ],
      "metadata": {
        "id": "ZiC0eQhF8QZh"
      }
    },
    {
      "cell_type": "markdown",
      "source": [
        "## 3. Нейросеть для восстановления изображения"
      ],
      "metadata": {
        "id": "T6mFtupL_xwP"
      }
    },
    {
      "cell_type": "markdown",
      "metadata": {
        "id": "PJVARGYG_xwQ"
      },
      "source": [
        "Будем работать с набором данным `fetch_olivetti_faces` из `sklearn`."
      ]
    },
    {
      "cell_type": "code",
      "source": [
        "from sklearn.datasets import fetch_olivetti_faces\n",
        "from sklearn.model_selection import train_test_split\n",
        "\n",
        "data, _ = fetch_olivetti_faces(return_X_y=True)\n",
        "train, test = train_test_split(data, test_size=0.2, random_state=4)"
      ],
      "metadata": {
        "id": "uWD9ztJr_xwQ",
        "colab": {
          "base_uri": "https://localhost:8080/"
        },
        "outputId": "2fc4e19d-dca7-4382-d758-89f363bef2c8"
      },
      "execution_count": 60,
      "outputs": [
        {
          "output_type": "stream",
          "name": "stdout",
          "text": [
            "downloading Olivetti faces from https://ndownloader.figshare.com/files/5976027 to /root/scikit_learn_data\n"
          ]
        }
      ]
    },
    {
      "cell_type": "code",
      "source": [
        "train.shape"
      ],
      "metadata": {
        "colab": {
          "base_uri": "https://localhost:8080/"
        },
        "id": "BweSEFYmX8df",
        "outputId": "5a9b02f6-2b57-466c-e593-cab19603d470"
      },
      "execution_count": 61,
      "outputs": [
        {
          "output_type": "execute_result",
          "data": {
            "text/plain": [
              "(320, 4096)"
            ]
          },
          "metadata": {},
          "execution_count": 61
        }
      ]
    },
    {
      "cell_type": "markdown",
      "source": [
        "Сейчас изображение - это вектор 4096."
      ],
      "metadata": {
        "id": "cFHMUzpMXzNH"
      }
    },
    {
      "cell_type": "markdown",
      "source": [
        "### 3.1. Работа с данными"
      ],
      "metadata": {
        "id": "Rr7OISUBKMvp"
      }
    },
    {
      "cell_type": "markdown",
      "source": [
        "#### 3.1.1. Переведите векторы в настоящие изображения из двух размерностей"
      ],
      "metadata": {
        "id": "kl-BK6WjX-Fc"
      }
    },
    {
      "cell_type": "code",
      "source": [
        "# Ваш код здесь\n",
        "train = train.reshape((train.shape[0], 64, 64))\n",
        "test = test.reshape((test.shape[0], 64, 64))\n",
        "\n",
        "print(train.shape)\n",
        "print(test.shape)\n"
      ],
      "metadata": {
        "id": "_ku9ipjhX6CB",
        "colab": {
          "base_uri": "https://localhost:8080/"
        },
        "outputId": "35e91134-8bcf-4f01-d11c-78c0042ecefa"
      },
      "execution_count": 62,
      "outputs": [
        {
          "output_type": "stream",
          "name": "stdout",
          "text": [
            "(320, 64, 64)\n",
            "(80, 64, 64)\n"
          ]
        }
      ]
    },
    {
      "cell_type": "markdown",
      "source": [
        "#### 3.1.2. Отрисуйте несколько примеров"
      ],
      "metadata": {
        "id": "8Vrbf_SYYEaM"
      }
    },
    {
      "cell_type": "code",
      "source": [
        "# Ваш код здесь\n",
        "fig, ax = plt.subplots(1, 2, figsize=(15, 10))\n",
        "\n",
        "for i in range(2):\n",
        "    ax[i].imshow(test[i], cmap='gray')\n",
        "    ax[i].axis('off')\n"
      ],
      "metadata": {
        "id": "OiUzTMu2Ymqo",
        "colab": {
          "base_uri": "https://localhost:8080/",
          "height": 411
        },
        "outputId": "6cba432d-e4f3-417c-f1fd-4877b9913b74"
      },
      "execution_count": 64,
      "outputs": [
        {
          "output_type": "display_data",
          "data": {
            "text/plain": [
              "<Figure size 1080x720 with 2 Axes>"
            ],
            "image/png": "[encoded data removed]"
          },
          "metadata": {
            "needs_background": "light"
          }
        }
      ]
    },
    {
      "cell_type": "markdown",
      "source": [
        "Поделим данные на X и y, где X - это верхняя часть лица человека, на этом модель будет обучаться, а y - это нижняя часть лица человека - её будем предсказывать."
      ],
      "metadata": {
        "id": "MDbWz6kIDIdq"
      }
    },
    {
      "cell_type": "code",
      "source": [
        "n_pixels = train.shape[1]\n",
        "\n",
        "# Upper half of the faces\n",
        "X_train = train[:, :(n_pixels + 1) // 2, :]\n",
        "# Lower half of the faces\n",
        "y_train = train[:, n_pixels // 2:, :]\n",
        "\n",
        "\n",
        "X_test = test[:, :(n_pixels + 1) // 2, :]\n",
        "y_test = test[:, n_pixels // 2:, :]"
      ],
      "metadata": {
        "id": "0Y31rNs8AkHw"
      },
      "execution_count": 65,
      "outputs": []
    },
    {
      "cell_type": "code",
      "source": [
        "X_train.shape"
      ],
      "metadata": {
        "colab": {
          "base_uri": "https://localhost:8080/"
        },
        "id": "Gn8OgMu5Znnh",
        "outputId": "e886e8d7-4a57-41dd-e42d-293bc31721d8"
      },
      "execution_count": 66,
      "outputs": [
        {
          "output_type": "execute_result",
          "data": {
            "text/plain": [
              "(320, 32, 64)"
            ]
          },
          "metadata": {},
          "execution_count": 66
        }
      ]
    },
    {
      "cell_type": "markdown",
      "source": [
        "Вот один пример обучающей пары."
      ],
      "metadata": {
        "id": "7q4nmYnMDTzY"
      }
    },
    {
      "cell_type": "code",
      "source": [
        "import matplotlib.pyplot as plt\n",
        "\n",
        "idx = 0\n",
        "\n",
        "fig, ax = plt.subplots(1, 2, figsize=(15, 8))\n",
        "ax[0].imshow(X_train[idx], cmap='gray')\n",
        "ax[0].set_title('X')\n",
        "ax[1].imshow(y_train[idx], cmap='gray')\n",
        "ax[1].set_title('y')\n",
        "ax[0].axis('off')\n",
        "ax[1].axis('off')\n",
        "\n",
        "plt.show()"
      ],
      "metadata": {
        "colab": {
          "base_uri": "https://localhost:8080/",
          "height": 237
        },
        "outputId": "b8e00dea-856d-422f-b21f-5a79f3c00413",
        "id": "GYpecml0_xwS"
      },
      "execution_count": 67,
      "outputs": [
        {
          "output_type": "display_data",
          "data": {
            "text/plain": [
              "<Figure size 1080x576 with 2 Axes>"
            ],
            "image/png": "[encoded data removed]"
          },
          "metadata": {
            "needs_background": "light"
          }
        }
      ]
    },
    {
      "cell_type": "markdown",
      "source": [
        "#### 3.1.3. Измените размерность y\n",
        "Остается только изменить размерность y, т.к. сейчас $y$ - картинка 32x64, а выход нейронной сети у нас будет одномерный и равный 32 * 64 = 2048. "
      ],
      "metadata": {
        "id": "-MQUIAGaeIaI"
      }
    },
    {
      "cell_type": "code",
      "source": [
        "# Ваш код здесь\n",
        "y_train_n = y_train.reshape(y_train.shape[0], 2048)\n",
        "y_test_n = y_test.reshape(y_test.shape[0], 2048)\n"
      ],
      "metadata": {
        "id": "NTsrtRfkdhAE"
      },
      "execution_count": 68,
      "outputs": []
    },
    {
      "cell_type": "markdown",
      "source": [
        "### 3.2. Создайте архитектуру для этой задачи"
      ],
      "metadata": {
        "id": "TaoQfXrzGkV5"
      }
    },
    {
      "cell_type": "code",
      "source": [
        "# Ваш код здесь\n",
        "from keras.layers import Dense, Flatten\n",
        "from keras.models import Sequential\n",
        "\n",
        "\n",
        "model = Sequential([\n",
        "    Flatten(input_shape=(32, 64)),\n",
        "    Dense(2048, activation='relu'),\n",
        "    Dense(2048, activation='relu'),\n",
        "    Dense(2048, activation='linear')\n",
        "])\n",
        "\n",
        "model.summary()\n"
      ],
      "metadata": {
        "id": "O0cB3seMGkV_",
        "colab": {
          "base_uri": "https://localhost:8080/"
        },
        "outputId": "bafc5785-a167-4b53-991c-2610fcb1532c"
      },
      "execution_count": 81,
      "outputs": [
        {
          "output_type": "stream",
          "name": "stdout",
          "text": [
            "Model: \"sequential_7\"\n",
            "_________________________________________________________________\n",
            " Layer (type)                Output Shape              Param #   \n",
            "=================================================================\n",
            " flatten_2 (Flatten)         (None, 2048)              0         \n",
            "                                                                 \n",
            " dense_16 (Dense)            (None, 2048)              4196352   \n",
            "                                                                 \n",
            " dense_17 (Dense)            (None, 2048)              4196352   \n",
            "                                                                 \n",
            " dense_18 (Dense)            (None, 2048)              4196352   \n",
            "                                                                 \n",
            "=================================================================\n",
            "Total params: 12,589,056\n",
            "Trainable params: 12,589,056\n",
            "Non-trainable params: 0\n",
            "_________________________________________________________________\n"
          ]
        }
      ]
    },
    {
      "cell_type": "markdown",
      "source": [
        "### 3.3. Скомпилируйте сеть\n",
        "\n",
        "Подберите нужную функцию потерь и метрику. Оптимизатор можете использовать 'adam'"
      ],
      "metadata": {
        "id": "jvwQpCIsGkWA"
      }
    },
    {
      "cell_type": "code",
      "source": [
        "# Ваш код здесь\n",
        "model.compile(optimizer='adam', loss='mse', metrics='mae')\n"
      ],
      "metadata": {
        "id": "NwoUip0-GkWA"
      },
      "execution_count": 82,
      "outputs": []
    },
    {
      "cell_type": "markdown",
      "source": [
        "### 3.4. Обучите нейросеть\n",
        "\n",
        "Выберите нужное количество эпох.\n"
      ],
      "metadata": {
        "id": "QQDeimPrGkWA"
      }
    },
    {
      "cell_type": "code",
      "source": [
        "# Ваш код здесь\n",
        "model.fit(X_train, y_train_n, epochs=400)"
      ],
      "metadata": {
        "id": "TYi8LM6iGkWB",
        "colab": {
          "base_uri": "https://localhost:8080/"
        },
        "outputId": "509ee965-6fa5-4534-a7e2-743b32d9c885"
      },
      "execution_count": 83,
      "outputs": [
        {
          "output_type": "stream",
          "name": "stdout",
          "text": [
            "Epoch 1/400\n",
            "10/10 [==============================] - 2s 167ms/step - loss: 0.1120 - mae: 0.2395\n",
            "Epoch 2/400\n",
            "10/10 [==============================] - 1s 124ms/step - loss: 0.0215 - mae: 0.1158\n",
            "Epoch 3/400\n",
            "10/10 [==============================] - 1s 109ms/step - loss: 0.0192 - mae: 0.1099\n",
            "Epoch 4/400\n",
            "10/10 [==============================] - 1s 110ms/step - loss: 0.0185 - mae: 0.1071\n",
            "Epoch 5/400\n",
            "10/10 [==============================] - 1s 109ms/step - loss: 0.0167 - mae: 0.1017\n",
            "Epoch 6/400\n",
            "10/10 [==============================] - 1s 109ms/step - loss: 0.0164 - mae: 0.1002\n",
            "Epoch 7/400\n",
            "10/10 [==============================] - 1s 108ms/step - loss: 0.0159 - mae: 0.0983\n",
            "Epoch 8/400\n",
            "10/10 [==============================] - 1s 113ms/step - loss: 0.0152 - mae: 0.0959\n",
            "Epoch 9/400\n",
            "10/10 [==============================] - 1s 111ms/step - loss: 0.0147 - mae: 0.0939\n",
            "Epoch 10/400\n",
            "10/10 [==============================] - 1s 109ms/step - loss: 0.0145 - mae: 0.0930\n",
            "Epoch 11/400\n",
            "10/10 [==============================] - 1s 109ms/step - loss: 0.0140 - mae: 0.0909\n",
            "Epoch 12/400\n",
            "10/10 [==============================] - 1s 109ms/step - loss: 0.0141 - mae: 0.0915\n",
            "Epoch 13/400\n",
            "10/10 [==============================] - 1s 110ms/step - loss: 0.0144 - mae: 0.0929\n",
            "Epoch 14/400\n",
            "10/10 [==============================] - 1s 107ms/step - loss: 0.0143 - mae: 0.0927\n",
            "Epoch 15/400\n",
            "10/10 [==============================] - 1s 108ms/step - loss: 0.0142 - mae: 0.0914\n",
            "Epoch 16/400\n",
            "10/10 [==============================] - 1s 109ms/step - loss: 0.0144 - mae: 0.0931\n",
            "Epoch 17/400\n",
            "10/10 [==============================] - 1s 110ms/step - loss: 0.0138 - mae: 0.0904\n",
            "Epoch 18/400\n",
            "10/10 [==============================] - 1s 114ms/step - loss: 0.0131 - mae: 0.0876\n",
            "Epoch 19/400\n",
            "10/10 [==============================] - 1s 110ms/step - loss: 0.0131 - mae: 0.0872\n",
            "Epoch 20/400\n",
            "10/10 [==============================] - 1s 110ms/step - loss: 0.0135 - mae: 0.0894\n",
            "Epoch 21/400\n",
            "10/10 [==============================] - 1s 110ms/step - loss: 0.0130 - mae: 0.0876\n",
            "Epoch 22/400\n",
            "10/10 [==============================] - 1s 109ms/step - loss: 0.0139 - mae: 0.0907\n",
            "Epoch 23/400\n",
            "10/10 [==============================] - 1s 110ms/step - loss: 0.0138 - mae: 0.0911\n",
            "Epoch 24/400\n",
            "10/10 [==============================] - 1s 110ms/step - loss: 0.0134 - mae: 0.0885\n",
            "Epoch 25/400\n",
            "10/10 [==============================] - 1s 110ms/step - loss: 0.0126 - mae: 0.0857\n",
            "Epoch 26/400\n",
            "10/10 [==============================] - 1s 109ms/step - loss: 0.0123 - mae: 0.0846\n",
            "Epoch 27/400\n",
            "10/10 [==============================] - 1s 109ms/step - loss: 0.0130 - mae: 0.0879\n",
            "Epoch 28/400\n",
            "10/10 [==============================] - 1s 112ms/step - loss: 0.0126 - mae: 0.0859\n",
            "Epoch 29/400\n",
            "10/10 [==============================] - 1s 111ms/step - loss: 0.0122 - mae: 0.0843\n",
            "Epoch 30/400\n",
            "10/10 [==============================] - 1s 111ms/step - loss: 0.0121 - mae: 0.0841\n",
            "Epoch 31/400\n",
            "10/10 [==============================] - 1s 111ms/step - loss: 0.0116 - mae: 0.0823\n",
            "Epoch 32/400\n",
            "10/10 [==============================] - 1s 111ms/step - loss: 0.0115 - mae: 0.0814\n",
            "Epoch 33/400\n",
            "10/10 [==============================] - 1s 110ms/step - loss: 0.0119 - mae: 0.0835\n",
            "Epoch 34/400\n",
            "10/10 [==============================] - 1s 109ms/step - loss: 0.0112 - mae: 0.0805\n",
            "Epoch 35/400\n",
            "10/10 [==============================] - 1s 110ms/step - loss: 0.0110 - mae: 0.0798\n",
            "Epoch 36/400\n",
            "10/10 [==============================] - 1s 110ms/step - loss: 0.0119 - mae: 0.0834\n",
            "Epoch 37/400\n",
            "10/10 [==============================] - 1s 110ms/step - loss: 0.0119 - mae: 0.0832\n",
            "Epoch 38/400\n",
            "10/10 [==============================] - 1s 112ms/step - loss: 0.0115 - mae: 0.0815\n",
            "Epoch 39/400\n",
            "10/10 [==============================] - 1s 109ms/step - loss: 0.0112 - mae: 0.0806\n",
            "Epoch 40/400\n",
            "10/10 [==============================] - 1s 110ms/step - loss: 0.0107 - mae: 0.0784\n",
            "Epoch 41/400\n",
            "10/10 [==============================] - 1s 109ms/step - loss: 0.0107 - mae: 0.0789\n",
            "Epoch 42/400\n",
            "10/10 [==============================] - 1s 110ms/step - loss: 0.0107 - mae: 0.0783\n",
            "Epoch 43/400\n",
            "10/10 [==============================] - 1s 110ms/step - loss: 0.0106 - mae: 0.0783\n",
            "Epoch 44/400\n",
            "10/10 [==============================] - 1s 109ms/step - loss: 0.0113 - mae: 0.0807\n",
            "Epoch 45/400\n",
            "10/10 [==============================] - 1s 111ms/step - loss: 0.0107 - mae: 0.0783\n",
            "Epoch 46/400\n",
            "10/10 [==============================] - 1s 112ms/step - loss: 0.0106 - mae: 0.0784\n",
            "Epoch 47/400\n",
            "10/10 [==============================] - 1s 113ms/step - loss: 0.0107 - mae: 0.0790\n",
            "Epoch 48/400\n",
            "10/10 [==============================] - 1s 111ms/step - loss: 0.0106 - mae: 0.0781\n",
            "Epoch 49/400\n",
            "10/10 [==============================] - 1s 109ms/step - loss: 0.0106 - mae: 0.0789\n",
            "Epoch 50/400\n",
            "10/10 [==============================] - 1s 110ms/step - loss: 0.0104 - mae: 0.0778\n",
            "Epoch 51/400\n",
            "10/10 [==============================] - 1s 109ms/step - loss: 0.0105 - mae: 0.0783\n",
            "Epoch 52/400\n",
            "10/10 [==============================] - 1s 111ms/step - loss: 0.0106 - mae: 0.0788\n",
            "Epoch 53/400\n",
            "10/10 [==============================] - 1s 110ms/step - loss: 0.0097 - mae: 0.0746\n",
            "Epoch 54/400\n",
            "10/10 [==============================] - 1s 109ms/step - loss: 0.0095 - mae: 0.0739\n",
            "Epoch 55/400\n",
            "10/10 [==============================] - 1s 110ms/step - loss: 0.0102 - mae: 0.0772\n",
            "Epoch 56/400\n",
            "10/10 [==============================] - 1s 111ms/step - loss: 0.0094 - mae: 0.0738\n",
            "Epoch 57/400\n",
            "10/10 [==============================] - 1s 111ms/step - loss: 0.0095 - mae: 0.0739\n",
            "Epoch 58/400\n",
            "10/10 [==============================] - 1s 111ms/step - loss: 0.0094 - mae: 0.0738\n",
            "Epoch 59/400\n",
            "10/10 [==============================] - 1s 113ms/step - loss: 0.0087 - mae: 0.0700\n",
            "Epoch 60/400\n",
            "10/10 [==============================] - 1s 110ms/step - loss: 0.0088 - mae: 0.0710\n",
            "Epoch 61/400\n",
            "10/10 [==============================] - 1s 112ms/step - loss: 0.0093 - mae: 0.0732\n",
            "Epoch 62/400\n",
            "10/10 [==============================] - 1s 111ms/step - loss: 0.0096 - mae: 0.0745\n",
            "Epoch 63/400\n",
            "10/10 [==============================] - 1s 110ms/step - loss: 0.0095 - mae: 0.0745\n",
            "Epoch 64/400\n",
            "10/10 [==============================] - 1s 110ms/step - loss: 0.0085 - mae: 0.0696\n",
            "Epoch 65/400\n",
            "10/10 [==============================] - 1s 110ms/step - loss: 0.0085 - mae: 0.0694\n",
            "Epoch 66/400\n",
            "10/10 [==============================] - 1s 114ms/step - loss: 0.0083 - mae: 0.0689\n",
            "Epoch 67/400\n",
            "10/10 [==============================] - 1s 111ms/step - loss: 0.0084 - mae: 0.0687\n",
            "Epoch 68/400\n",
            "10/10 [==============================] - 1s 110ms/step - loss: 0.0082 - mae: 0.0681\n",
            "Epoch 69/400\n",
            "10/10 [==============================] - 1s 111ms/step - loss: 0.0090 - mae: 0.0723\n",
            "Epoch 70/400\n",
            "10/10 [==============================] - 1s 110ms/step - loss: 0.0088 - mae: 0.0715\n",
            "Epoch 71/400\n",
            "10/10 [==============================] - 1s 110ms/step - loss: 0.0084 - mae: 0.0693\n",
            "Epoch 72/400\n",
            "10/10 [==============================] - 1s 112ms/step - loss: 0.0093 - mae: 0.0732\n",
            "Epoch 73/400\n",
            "10/10 [==============================] - 1s 112ms/step - loss: 0.0086 - mae: 0.0701\n",
            "Epoch 74/400\n",
            "10/10 [==============================] - 1s 112ms/step - loss: 0.0082 - mae: 0.0679\n",
            "Epoch 75/400\n",
            "10/10 [==============================] - 1s 113ms/step - loss: 0.0081 - mae: 0.0678\n",
            "Epoch 76/400\n",
            "10/10 [==============================] - 1s 110ms/step - loss: 0.0081 - mae: 0.0680\n",
            "Epoch 77/400\n",
            "10/10 [==============================] - 1s 111ms/step - loss: 0.0085 - mae: 0.0699\n",
            "Epoch 78/400\n",
            "10/10 [==============================] - 1s 110ms/step - loss: 0.0079 - mae: 0.0673\n",
            "Epoch 79/400\n",
            "10/10 [==============================] - 1s 111ms/step - loss: 0.0074 - mae: 0.0647\n",
            "Epoch 80/400\n",
            "10/10 [==============================] - 1s 110ms/step - loss: 0.0074 - mae: 0.0642\n",
            "Epoch 81/400\n",
            "10/10 [==============================] - 1s 113ms/step - loss: 0.0079 - mae: 0.0675\n",
            "Epoch 82/400\n",
            "10/10 [==============================] - 1s 112ms/step - loss: 0.0074 - mae: 0.0644\n",
            "Epoch 83/400\n",
            "10/10 [==============================] - 1s 112ms/step - loss: 0.0071 - mae: 0.0629\n",
            "Epoch 84/400\n",
            "10/10 [==============================] - 1s 111ms/step - loss: 0.0074 - mae: 0.0643\n",
            "Epoch 85/400\n",
            "10/10 [==============================] - 1s 115ms/step - loss: 0.0076 - mae: 0.0657\n",
            "Epoch 86/400\n",
            "10/10 [==============================] - 1s 113ms/step - loss: 0.0072 - mae: 0.0635\n",
            "Epoch 87/400\n",
            "10/10 [==============================] - 1s 111ms/step - loss: 0.0068 - mae: 0.0615\n",
            "Epoch 88/400\n",
            "10/10 [==============================] - 1s 111ms/step - loss: 0.0067 - mae: 0.0612\n",
            "Epoch 89/400\n",
            "10/10 [==============================] - 1s 112ms/step - loss: 0.0072 - mae: 0.0638\n",
            "Epoch 90/400\n",
            "10/10 [==============================] - 1s 111ms/step - loss: 0.0078 - mae: 0.0674\n",
            "Epoch 91/400\n",
            "10/10 [==============================] - 1s 110ms/step - loss: 0.0069 - mae: 0.0622\n",
            "Epoch 92/400\n",
            "10/10 [==============================] - 1s 111ms/step - loss: 0.0066 - mae: 0.0604\n",
            "Epoch 93/400\n",
            "10/10 [==============================] - 1s 111ms/step - loss: 0.0066 - mae: 0.0603\n",
            "Epoch 94/400\n",
            "10/10 [==============================] - 1s 113ms/step - loss: 0.0067 - mae: 0.0609\n",
            "Epoch 95/400\n",
            "10/10 [==============================] - 1s 111ms/step - loss: 0.0066 - mae: 0.0607\n",
            "Epoch 96/400\n",
            "10/10 [==============================] - 1s 111ms/step - loss: 0.0069 - mae: 0.0621\n",
            "Epoch 97/400\n",
            "10/10 [==============================] - 1s 110ms/step - loss: 0.0066 - mae: 0.0607\n",
            "Epoch 98/400\n",
            "10/10 [==============================] - 1s 111ms/step - loss: 0.0062 - mae: 0.0587\n",
            "Epoch 99/400\n",
            "10/10 [==============================] - 1s 112ms/step - loss: 0.0062 - mae: 0.0587\n",
            "Epoch 100/400\n",
            "10/10 [==============================] - 1s 111ms/step - loss: 0.0060 - mae: 0.0572\n",
            "Epoch 101/400\n",
            "10/10 [==============================] - 1s 112ms/step - loss: 0.0060 - mae: 0.0572\n",
            "Epoch 102/400\n",
            "10/10 [==============================] - 1s 110ms/step - loss: 0.0059 - mae: 0.0571\n",
            "Epoch 103/400\n",
            "10/10 [==============================] - 1s 111ms/step - loss: 0.0064 - mae: 0.0603\n",
            "Epoch 104/400\n",
            "10/10 [==============================] - 1s 113ms/step - loss: 0.0065 - mae: 0.0607\n",
            "Epoch 105/400\n",
            "10/10 [==============================] - 1s 110ms/step - loss: 0.0059 - mae: 0.0572\n",
            "Epoch 106/400\n",
            "10/10 [==============================] - 1s 112ms/step - loss: 0.0059 - mae: 0.0569\n",
            "Epoch 107/400\n",
            "10/10 [==============================] - 1s 112ms/step - loss: 0.0058 - mae: 0.0565\n",
            "Epoch 108/400\n",
            "10/10 [==============================] - 1s 111ms/step - loss: 0.0057 - mae: 0.0561\n",
            "Epoch 109/400\n",
            "10/10 [==============================] - 1s 112ms/step - loss: 0.0057 - mae: 0.0561\n",
            "Epoch 110/400\n",
            "10/10 [==============================] - 1s 112ms/step - loss: 0.0056 - mae: 0.0555\n",
            "Epoch 111/400\n",
            "10/10 [==============================] - 1s 111ms/step - loss: 0.0060 - mae: 0.0580\n",
            "Epoch 112/400\n",
            "10/10 [==============================] - 1s 114ms/step - loss: 0.0062 - mae: 0.0586\n",
            "Epoch 113/400\n",
            "10/10 [==============================] - 1s 114ms/step - loss: 0.0057 - mae: 0.0561\n",
            "Epoch 114/400\n",
            "10/10 [==============================] - 1s 113ms/step - loss: 0.0055 - mae: 0.0547\n",
            "Epoch 115/400\n",
            "10/10 [==============================] - 1s 113ms/step - loss: 0.0053 - mae: 0.0539\n",
            "Epoch 116/400\n",
            "10/10 [==============================] - 1s 113ms/step - loss: 0.0054 - mae: 0.0547\n",
            "Epoch 117/400\n",
            "10/10 [==============================] - 1s 113ms/step - loss: 0.0054 - mae: 0.0544\n",
            "Epoch 118/400\n",
            "10/10 [==============================] - 1s 113ms/step - loss: 0.0054 - mae: 0.0546\n",
            "Epoch 119/400\n",
            "10/10 [==============================] - 1s 112ms/step - loss: 0.0056 - mae: 0.0558\n",
            "Epoch 120/400\n",
            "10/10 [==============================] - 1s 112ms/step - loss: 0.0056 - mae: 0.0555\n",
            "Epoch 121/400\n",
            "10/10 [==============================] - 1s 114ms/step - loss: 0.0054 - mae: 0.0549\n",
            "Epoch 122/400\n",
            "10/10 [==============================] - 1s 114ms/step - loss: 0.0054 - mae: 0.0546\n",
            "Epoch 123/400\n",
            "10/10 [==============================] - 1s 111ms/step - loss: 0.0053 - mae: 0.0541\n",
            "Epoch 124/400\n",
            "10/10 [==============================] - 1s 112ms/step - loss: 0.0052 - mae: 0.0535\n",
            "Epoch 125/400\n",
            "10/10 [==============================] - 1s 114ms/step - loss: 0.0051 - mae: 0.0531\n",
            "Epoch 126/400\n",
            "10/10 [==============================] - 1s 112ms/step - loss: 0.0051 - mae: 0.0528\n",
            "Epoch 127/400\n",
            "10/10 [==============================] - 1s 112ms/step - loss: 0.0050 - mae: 0.0525\n",
            "Epoch 128/400\n",
            "10/10 [==============================] - 1s 113ms/step - loss: 0.0050 - mae: 0.0524\n",
            "Epoch 129/400\n",
            "10/10 [==============================] - 1s 111ms/step - loss: 0.0049 - mae: 0.0519\n",
            "Epoch 130/400\n",
            "10/10 [==============================] - 1s 111ms/step - loss: 0.0048 - mae: 0.0514\n",
            "Epoch 131/400\n",
            "10/10 [==============================] - 1s 110ms/step - loss: 0.0047 - mae: 0.0504\n",
            "Epoch 132/400\n",
            "10/10 [==============================] - 1s 113ms/step - loss: 0.0047 - mae: 0.0503\n",
            "Epoch 133/400\n",
            "10/10 [==============================] - 1s 110ms/step - loss: 0.0048 - mae: 0.0516\n",
            "Epoch 134/400\n",
            "10/10 [==============================] - 1s 110ms/step - loss: 0.0049 - mae: 0.0520\n",
            "Epoch 135/400\n",
            "10/10 [==============================] - 1s 111ms/step - loss: 0.0052 - mae: 0.0538\n",
            "Epoch 136/400\n",
            "10/10 [==============================] - 1s 111ms/step - loss: 0.0051 - mae: 0.0533\n",
            "Epoch 137/400\n",
            "10/10 [==============================] - 1s 111ms/step - loss: 0.0051 - mae: 0.0528\n",
            "Epoch 138/400\n",
            "10/10 [==============================] - 1s 111ms/step - loss: 0.0047 - mae: 0.0508\n",
            "Epoch 139/400\n",
            "10/10 [==============================] - 1s 110ms/step - loss: 0.0048 - mae: 0.0513\n",
            "Epoch 140/400\n",
            "10/10 [==============================] - 1s 111ms/step - loss: 0.0049 - mae: 0.0521\n",
            "Epoch 141/400\n",
            "10/10 [==============================] - 1s 113ms/step - loss: 0.0046 - mae: 0.0502\n",
            "Epoch 142/400\n",
            "10/10 [==============================] - 1s 111ms/step - loss: 0.0045 - mae: 0.0495\n",
            "Epoch 143/400\n",
            "10/10 [==============================] - 1s 113ms/step - loss: 0.0044 - mae: 0.0485\n",
            "Epoch 144/400\n",
            "10/10 [==============================] - 1s 111ms/step - loss: 0.0046 - mae: 0.0498\n",
            "Epoch 145/400\n",
            "10/10 [==============================] - 1s 111ms/step - loss: 0.0044 - mae: 0.0490\n",
            "Epoch 146/400\n",
            "10/10 [==============================] - 1s 113ms/step - loss: 0.0044 - mae: 0.0490\n",
            "Epoch 147/400\n",
            "10/10 [==============================] - 1s 112ms/step - loss: 0.0045 - mae: 0.0493\n",
            "Epoch 148/400\n",
            "10/10 [==============================] - 1s 111ms/step - loss: 0.0051 - mae: 0.0536\n",
            "Epoch 149/400\n",
            "10/10 [==============================] - 1s 112ms/step - loss: 0.0048 - mae: 0.0517\n",
            "Epoch 150/400\n",
            "10/10 [==============================] - 1s 115ms/step - loss: 0.0045 - mae: 0.0498\n",
            "Epoch 151/400\n",
            "10/10 [==============================] - 1s 112ms/step - loss: 0.0043 - mae: 0.0482\n",
            "Epoch 152/400\n",
            "10/10 [==============================] - 1s 113ms/step - loss: 0.0043 - mae: 0.0483\n",
            "Epoch 153/400\n",
            "10/10 [==============================] - 1s 111ms/step - loss: 0.0044 - mae: 0.0487\n",
            "Epoch 154/400\n",
            "10/10 [==============================] - 1s 112ms/step - loss: 0.0043 - mae: 0.0480\n",
            "Epoch 155/400\n",
            "10/10 [==============================] - 1s 111ms/step - loss: 0.0041 - mae: 0.0473\n",
            "Epoch 156/400\n",
            "10/10 [==============================] - 1s 113ms/step - loss: 0.0045 - mae: 0.0496\n",
            "Epoch 157/400\n",
            "10/10 [==============================] - 1s 111ms/step - loss: 0.0042 - mae: 0.0479\n",
            "Epoch 158/400\n",
            "10/10 [==============================] - 1s 112ms/step - loss: 0.0040 - mae: 0.0460\n",
            "Epoch 159/400\n",
            "10/10 [==============================] - 1s 111ms/step - loss: 0.0039 - mae: 0.0453\n",
            "Epoch 160/400\n",
            "10/10 [==============================] - 1s 113ms/step - loss: 0.0040 - mae: 0.0465\n",
            "Epoch 161/400\n",
            "10/10 [==============================] - 1s 112ms/step - loss: 0.0038 - mae: 0.0451\n",
            "Epoch 162/400\n",
            "10/10 [==============================] - 1s 113ms/step - loss: 0.0038 - mae: 0.0453\n",
            "Epoch 163/400\n",
            "10/10 [==============================] - 1s 111ms/step - loss: 0.0039 - mae: 0.0460\n",
            "Epoch 164/400\n",
            "10/10 [==============================] - 1s 111ms/step - loss: 0.0038 - mae: 0.0454\n",
            "Epoch 165/400\n",
            "10/10 [==============================] - 1s 114ms/step - loss: 0.0037 - mae: 0.0444\n",
            "Epoch 166/400\n",
            "10/10 [==============================] - 1s 112ms/step - loss: 0.0037 - mae: 0.0447\n",
            "Epoch 167/400\n",
            "10/10 [==============================] - 1s 112ms/step - loss: 0.0037 - mae: 0.0445\n",
            "Epoch 168/400\n",
            "10/10 [==============================] - 1s 113ms/step - loss: 0.0038 - mae: 0.0455\n",
            "Epoch 169/400\n",
            "10/10 [==============================] - 1s 114ms/step - loss: 0.0038 - mae: 0.0455\n",
            "Epoch 170/400\n",
            "10/10 [==============================] - 1s 112ms/step - loss: 0.0036 - mae: 0.0440\n",
            "Epoch 171/400\n",
            "10/10 [==============================] - 1s 112ms/step - loss: 0.0035 - mae: 0.0430\n",
            "Epoch 172/400\n",
            "10/10 [==============================] - 1s 112ms/step - loss: 0.0035 - mae: 0.0430\n",
            "Epoch 173/400\n",
            "10/10 [==============================] - 1s 111ms/step - loss: 0.0035 - mae: 0.0431\n",
            "Epoch 174/400\n",
            "10/10 [==============================] - 1s 111ms/step - loss: 0.0034 - mae: 0.0428\n",
            "Epoch 175/400\n",
            "10/10 [==============================] - 1s 112ms/step - loss: 0.0034 - mae: 0.0423\n",
            "Epoch 176/400\n",
            "10/10 [==============================] - 1s 112ms/step - loss: 0.0035 - mae: 0.0432\n",
            "Epoch 177/400\n",
            "10/10 [==============================] - 1s 111ms/step - loss: 0.0034 - mae: 0.0429\n",
            "Epoch 178/400\n",
            "10/10 [==============================] - 1s 115ms/step - loss: 0.0034 - mae: 0.0426\n",
            "Epoch 179/400\n",
            "10/10 [==============================] - 1s 114ms/step - loss: 0.0039 - mae: 0.0470\n",
            "Epoch 180/400\n",
            "10/10 [==============================] - 1s 113ms/step - loss: 0.0037 - mae: 0.0449\n",
            "Epoch 181/400\n",
            "10/10 [==============================] - 1s 112ms/step - loss: 0.0035 - mae: 0.0437\n",
            "Epoch 182/400\n",
            "10/10 [==============================] - 1s 111ms/step - loss: 0.0034 - mae: 0.0426\n",
            "Epoch 183/400\n",
            "10/10 [==============================] - 1s 111ms/step - loss: 0.0033 - mae: 0.0417\n",
            "Epoch 184/400\n",
            "10/10 [==============================] - 1s 111ms/step - loss: 0.0033 - mae: 0.0415\n",
            "Epoch 185/400\n",
            "10/10 [==============================] - 1s 110ms/step - loss: 0.0035 - mae: 0.0434\n",
            "Epoch 186/400\n",
            "10/10 [==============================] - 1s 112ms/step - loss: 0.0036 - mae: 0.0443\n",
            "Epoch 187/400\n",
            "10/10 [==============================] - 1s 111ms/step - loss: 0.0034 - mae: 0.0425\n",
            "Epoch 188/400\n",
            "10/10 [==============================] - 1s 111ms/step - loss: 0.0032 - mae: 0.0413\n",
            "Epoch 189/400\n",
            "10/10 [==============================] - 1s 112ms/step - loss: 0.0033 - mae: 0.0425\n",
            "Epoch 190/400\n",
            "10/10 [==============================] - 1s 111ms/step - loss: 0.0032 - mae: 0.0414\n",
            "Epoch 191/400\n",
            "10/10 [==============================] - 1s 112ms/step - loss: 0.0033 - mae: 0.0423\n",
            "Epoch 192/400\n",
            "10/10 [==============================] - 1s 111ms/step - loss: 0.0032 - mae: 0.0417\n",
            "Epoch 193/400\n",
            "10/10 [==============================] - 1s 112ms/step - loss: 0.0031 - mae: 0.0403\n",
            "Epoch 194/400\n",
            "10/10 [==============================] - 1s 111ms/step - loss: 0.0030 - mae: 0.0396\n",
            "Epoch 195/400\n",
            "10/10 [==============================] - 1s 110ms/step - loss: 0.0030 - mae: 0.0397\n",
            "Epoch 196/400\n",
            "10/10 [==============================] - 1s 111ms/step - loss: 0.0029 - mae: 0.0388\n",
            "Epoch 197/400\n",
            "10/10 [==============================] - 1s 115ms/step - loss: 0.0029 - mae: 0.0396\n",
            "Epoch 198/400\n",
            "10/10 [==============================] - 1s 112ms/step - loss: 0.0030 - mae: 0.0399\n",
            "Epoch 199/400\n",
            "10/10 [==============================] - 1s 111ms/step - loss: 0.0030 - mae: 0.0395\n",
            "Epoch 200/400\n",
            "10/10 [==============================] - 1s 112ms/step - loss: 0.0029 - mae: 0.0396\n",
            "Epoch 201/400\n",
            "10/10 [==============================] - 1s 110ms/step - loss: 0.0029 - mae: 0.0388\n",
            "Epoch 202/400\n",
            "10/10 [==============================] - 1s 111ms/step - loss: 0.0028 - mae: 0.0384\n",
            "Epoch 203/400\n",
            "10/10 [==============================] - 1s 110ms/step - loss: 0.0028 - mae: 0.0384\n",
            "Epoch 204/400\n",
            "10/10 [==============================] - 1s 111ms/step - loss: 0.0030 - mae: 0.0403\n",
            "Epoch 205/400\n",
            "10/10 [==============================] - 1s 110ms/step - loss: 0.0033 - mae: 0.0432\n",
            "Epoch 206/400\n",
            "10/10 [==============================] - 1s 113ms/step - loss: 0.0030 - mae: 0.0406\n",
            "Epoch 207/400\n",
            "10/10 [==============================] - 1s 109ms/step - loss: 0.0028 - mae: 0.0385\n",
            "Epoch 208/400\n",
            "10/10 [==============================] - 1s 110ms/step - loss: 0.0028 - mae: 0.0386\n",
            "Epoch 209/400\n",
            "10/10 [==============================] - 1s 110ms/step - loss: 0.0028 - mae: 0.0382\n",
            "Epoch 210/400\n",
            "10/10 [==============================] - 1s 111ms/step - loss: 0.0028 - mae: 0.0384\n",
            "Epoch 211/400\n",
            "10/10 [==============================] - 1s 112ms/step - loss: 0.0029 - mae: 0.0393\n",
            "Epoch 212/400\n",
            "10/10 [==============================] - 1s 111ms/step - loss: 0.0028 - mae: 0.0385\n",
            "Epoch 213/400\n",
            "10/10 [==============================] - 1s 111ms/step - loss: 0.0027 - mae: 0.0381\n",
            "Epoch 214/400\n",
            "10/10 [==============================] - 1s 112ms/step - loss: 0.0027 - mae: 0.0378\n",
            "Epoch 215/400\n",
            "10/10 [==============================] - 1s 111ms/step - loss: 0.0030 - mae: 0.0406\n",
            "Epoch 216/400\n",
            "10/10 [==============================] - 1s 113ms/step - loss: 0.0028 - mae: 0.0391\n",
            "Epoch 217/400\n",
            "10/10 [==============================] - 1s 110ms/step - loss: 0.0027 - mae: 0.0381\n",
            "Epoch 218/400\n",
            "10/10 [==============================] - 1s 110ms/step - loss: 0.0027 - mae: 0.0377\n",
            "Epoch 219/400\n",
            "10/10 [==============================] - 1s 111ms/step - loss: 0.0027 - mae: 0.0380\n",
            "Epoch 220/400\n",
            "10/10 [==============================] - 1s 111ms/step - loss: 0.0028 - mae: 0.0389\n",
            "Epoch 221/400\n",
            "10/10 [==============================] - 1s 111ms/step - loss: 0.0028 - mae: 0.0387\n",
            "Epoch 222/400\n",
            "10/10 [==============================] - 1s 110ms/step - loss: 0.0028 - mae: 0.0393\n",
            "Epoch 223/400\n",
            "10/10 [==============================] - 1s 111ms/step - loss: 0.0026 - mae: 0.0375\n",
            "Epoch 224/400\n",
            "10/10 [==============================] - 1s 112ms/step - loss: 0.0024 - mae: 0.0358\n",
            "Epoch 225/400\n",
            "10/10 [==============================] - 1s 114ms/step - loss: 0.0024 - mae: 0.0355\n",
            "Epoch 226/400\n",
            "10/10 [==============================] - 1s 113ms/step - loss: 0.0024 - mae: 0.0353\n",
            "Epoch 227/400\n",
            "10/10 [==============================] - 1s 111ms/step - loss: 0.0025 - mae: 0.0365\n",
            "Epoch 228/400\n",
            "10/10 [==============================] - 1s 112ms/step - loss: 0.0024 - mae: 0.0355\n",
            "Epoch 229/400\n",
            "10/10 [==============================] - 1s 112ms/step - loss: 0.0024 - mae: 0.0355\n",
            "Epoch 230/400\n",
            "10/10 [==============================] - 1s 111ms/step - loss: 0.0024 - mae: 0.0357\n",
            "Epoch 231/400\n",
            "10/10 [==============================] - 1s 109ms/step - loss: 0.0024 - mae: 0.0360\n",
            "Epoch 232/400\n",
            "10/10 [==============================] - 1s 112ms/step - loss: 0.0025 - mae: 0.0366\n",
            "Epoch 233/400\n",
            "10/10 [==============================] - 1s 111ms/step - loss: 0.0026 - mae: 0.0374\n",
            "Epoch 234/400\n",
            "10/10 [==============================] - 1s 114ms/step - loss: 0.0024 - mae: 0.0361\n",
            "Epoch 235/400\n",
            "10/10 [==============================] - 1s 113ms/step - loss: 0.0024 - mae: 0.0354\n",
            "Epoch 236/400\n",
            "10/10 [==============================] - 1s 110ms/step - loss: 0.0022 - mae: 0.0344\n",
            "Epoch 237/400\n",
            "10/10 [==============================] - 1s 112ms/step - loss: 0.0022 - mae: 0.0342\n",
            "Epoch 238/400\n",
            "10/10 [==============================] - 1s 111ms/step - loss: 0.0022 - mae: 0.0341\n",
            "Epoch 239/400\n",
            "10/10 [==============================] - 1s 112ms/step - loss: 0.0023 - mae: 0.0351\n",
            "Epoch 240/400\n",
            "10/10 [==============================] - 1s 111ms/step - loss: 0.0022 - mae: 0.0341\n",
            "Epoch 241/400\n",
            "10/10 [==============================] - 1s 110ms/step - loss: 0.0021 - mae: 0.0335\n",
            "Epoch 242/400\n",
            "10/10 [==============================] - 1s 110ms/step - loss: 0.0022 - mae: 0.0337\n",
            "Epoch 243/400\n",
            "10/10 [==============================] - 1s 111ms/step - loss: 0.0020 - mae: 0.0326\n",
            "Epoch 244/400\n",
            "10/10 [==============================] - 1s 114ms/step - loss: 0.0021 - mae: 0.0331\n",
            "Epoch 245/400\n",
            "10/10 [==============================] - 1s 110ms/step - loss: 0.0021 - mae: 0.0335\n",
            "Epoch 246/400\n",
            "10/10 [==============================] - 1s 110ms/step - loss: 0.0022 - mae: 0.0345\n",
            "Epoch 247/400\n",
            "10/10 [==============================] - 1s 111ms/step - loss: 0.0024 - mae: 0.0358\n",
            "Epoch 248/400\n",
            "10/10 [==============================] - 1s 112ms/step - loss: 0.0023 - mae: 0.0350\n",
            "Epoch 249/400\n",
            "10/10 [==============================] - 1s 112ms/step - loss: 0.0022 - mae: 0.0345\n",
            "Epoch 250/400\n",
            "10/10 [==============================] - 1s 112ms/step - loss: 0.0022 - mae: 0.0349\n",
            "Epoch 251/400\n",
            "10/10 [==============================] - 1s 112ms/step - loss: 0.0021 - mae: 0.0330\n",
            "Epoch 252/400\n",
            "10/10 [==============================] - 1s 112ms/step - loss: 0.0020 - mae: 0.0327\n",
            "Epoch 253/400\n",
            "10/10 [==============================] - 1s 113ms/step - loss: 0.0023 - mae: 0.0353\n",
            "Epoch 254/400\n",
            "10/10 [==============================] - 1s 111ms/step - loss: 0.0023 - mae: 0.0356\n",
            "Epoch 255/400\n",
            "10/10 [==============================] - 1s 113ms/step - loss: 0.0024 - mae: 0.0363\n",
            "Epoch 256/400\n",
            "10/10 [==============================] - 1s 111ms/step - loss: 0.0025 - mae: 0.0377\n",
            "Epoch 257/400\n",
            "10/10 [==============================] - 1s 111ms/step - loss: 0.0025 - mae: 0.0370\n",
            "Epoch 258/400\n",
            "10/10 [==============================] - 1s 111ms/step - loss: 0.0022 - mae: 0.0350\n",
            "Epoch 259/400\n",
            "10/10 [==============================] - 1s 112ms/step - loss: 0.0022 - mae: 0.0343\n",
            "Epoch 260/400\n",
            "10/10 [==============================] - 1s 109ms/step - loss: 0.0020 - mae: 0.0327\n",
            "Epoch 261/400\n",
            "10/10 [==============================] - 1s 111ms/step - loss: 0.0018 - mae: 0.0310\n",
            "Epoch 262/400\n",
            "10/10 [==============================] - 1s 113ms/step - loss: 0.0017 - mae: 0.0300\n",
            "Epoch 263/400\n",
            "10/10 [==============================] - 1s 111ms/step - loss: 0.0018 - mae: 0.0306\n",
            "Epoch 264/400\n",
            "10/10 [==============================] - 1s 112ms/step - loss: 0.0019 - mae: 0.0313\n",
            "Epoch 265/400\n",
            "10/10 [==============================] - 1s 112ms/step - loss: 0.0019 - mae: 0.0317\n",
            "Epoch 266/400\n",
            "10/10 [==============================] - 1s 113ms/step - loss: 0.0019 - mae: 0.0322\n",
            "Epoch 267/400\n",
            "10/10 [==============================] - 1s 113ms/step - loss: 0.0018 - mae: 0.0312\n",
            "Epoch 268/400\n",
            "10/10 [==============================] - 1s 111ms/step - loss: 0.0019 - mae: 0.0321\n",
            "Epoch 269/400\n",
            "10/10 [==============================] - 1s 113ms/step - loss: 0.0018 - mae: 0.0312\n",
            "Epoch 270/400\n",
            "10/10 [==============================] - 1s 111ms/step - loss: 0.0018 - mae: 0.0308\n",
            "Epoch 271/400\n",
            "10/10 [==============================] - 1s 111ms/step - loss: 0.0018 - mae: 0.0311\n",
            "Epoch 272/400\n",
            "10/10 [==============================] - 1s 113ms/step - loss: 0.0018 - mae: 0.0308\n",
            "Epoch 273/400\n",
            "10/10 [==============================] - 1s 112ms/step - loss: 0.0017 - mae: 0.0299\n",
            "Epoch 274/400\n",
            "10/10 [==============================] - 1s 112ms/step - loss: 0.0017 - mae: 0.0296\n",
            "Epoch 275/400\n",
            "10/10 [==============================] - 1s 112ms/step - loss: 0.0016 - mae: 0.0290\n",
            "Epoch 276/400\n",
            "10/10 [==============================] - 1s 110ms/step - loss: 0.0016 - mae: 0.0294\n",
            "Epoch 277/400\n",
            "10/10 [==============================] - 1s 113ms/step - loss: 0.0018 - mae: 0.0312\n",
            "Epoch 278/400\n",
            "10/10 [==============================] - 1s 114ms/step - loss: 0.0025 - mae: 0.0381\n",
            "Epoch 279/400\n",
            "10/10 [==============================] - 1s 112ms/step - loss: 0.0023 - mae: 0.0360\n",
            "Epoch 280/400\n",
            "10/10 [==============================] - 1s 112ms/step - loss: 0.0022 - mae: 0.0353\n",
            "Epoch 281/400\n",
            "10/10 [==============================] - 1s 113ms/step - loss: 0.0020 - mae: 0.0331\n",
            "Epoch 282/400\n",
            "10/10 [==============================] - 1s 112ms/step - loss: 0.0018 - mae: 0.0316\n",
            "Epoch 283/400\n",
            "10/10 [==============================] - 1s 112ms/step - loss: 0.0019 - mae: 0.0324\n",
            "Epoch 284/400\n",
            "10/10 [==============================] - 1s 113ms/step - loss: 0.0020 - mae: 0.0327\n",
            "Epoch 285/400\n",
            "10/10 [==============================] - 1s 113ms/step - loss: 0.0020 - mae: 0.0328\n",
            "Epoch 286/400\n",
            "10/10 [==============================] - 1s 113ms/step - loss: 0.0020 - mae: 0.0332\n",
            "Epoch 287/400\n",
            "10/10 [==============================] - 1s 111ms/step - loss: 0.0023 - mae: 0.0357\n",
            "Epoch 288/400\n",
            "10/10 [==============================] - 1s 112ms/step - loss: 0.0021 - mae: 0.0339\n",
            "Epoch 289/400\n",
            "10/10 [==============================] - 1s 111ms/step - loss: 0.0020 - mae: 0.0338\n",
            "Epoch 290/400\n",
            "10/10 [==============================] - 1s 115ms/step - loss: 0.0019 - mae: 0.0325\n",
            "Epoch 291/400\n",
            "10/10 [==============================] - 1s 111ms/step - loss: 0.0021 - mae: 0.0344\n",
            "Epoch 292/400\n",
            "10/10 [==============================] - 1s 111ms/step - loss: 0.0020 - mae: 0.0339\n",
            "Epoch 293/400\n",
            "10/10 [==============================] - 1s 114ms/step - loss: 0.0023 - mae: 0.0367\n",
            "Epoch 294/400\n",
            "10/10 [==============================] - 1s 112ms/step - loss: 0.0023 - mae: 0.0359\n",
            "Epoch 295/400\n",
            "10/10 [==============================] - 1s 112ms/step - loss: 0.0020 - mae: 0.0337\n",
            "Epoch 296/400\n",
            "10/10 [==============================] - 1s 111ms/step - loss: 0.0020 - mae: 0.0340\n",
            "Epoch 297/400\n",
            "10/10 [==============================] - 1s 111ms/step - loss: 0.0019 - mae: 0.0326\n",
            "Epoch 298/400\n",
            "10/10 [==============================] - 1s 112ms/step - loss: 0.0018 - mae: 0.0310\n",
            "Epoch 299/400\n",
            "10/10 [==============================] - 1s 113ms/step - loss: 0.0016 - mae: 0.0292\n",
            "Epoch 300/400\n",
            "10/10 [==============================] - 1s 110ms/step - loss: 0.0015 - mae: 0.0286\n",
            "Epoch 301/400\n",
            "10/10 [==============================] - 1s 112ms/step - loss: 0.0014 - mae: 0.0274\n",
            "Epoch 302/400\n",
            "10/10 [==============================] - 1s 111ms/step - loss: 0.0014 - mae: 0.0269\n",
            "Epoch 303/400\n",
            "10/10 [==============================] - 1s 111ms/step - loss: 0.0014 - mae: 0.0268\n",
            "Epoch 304/400\n",
            "10/10 [==============================] - 1s 114ms/step - loss: 0.0014 - mae: 0.0266\n",
            "Epoch 305/400\n",
            "10/10 [==============================] - 1s 114ms/step - loss: 0.0014 - mae: 0.0268\n",
            "Epoch 306/400\n",
            "10/10 [==============================] - 1s 113ms/step - loss: 0.0014 - mae: 0.0272\n",
            "Epoch 307/400\n",
            "10/10 [==============================] - 1s 111ms/step - loss: 0.0015 - mae: 0.0278\n",
            "Epoch 308/400\n",
            "10/10 [==============================] - 1s 111ms/step - loss: 0.0013 - mae: 0.0263\n",
            "Epoch 309/400\n",
            "10/10 [==============================] - 1s 115ms/step - loss: 0.0014 - mae: 0.0269\n",
            "Epoch 310/400\n",
            "10/10 [==============================] - 1s 113ms/step - loss: 0.0014 - mae: 0.0269\n",
            "Epoch 311/400\n",
            "10/10 [==============================] - 1s 112ms/step - loss: 0.0013 - mae: 0.0260\n",
            "Epoch 312/400\n",
            "10/10 [==============================] - 1s 113ms/step - loss: 0.0013 - mae: 0.0266\n",
            "Epoch 313/400\n",
            "10/10 [==============================] - 1s 111ms/step - loss: 0.0014 - mae: 0.0272\n",
            "Epoch 314/400\n",
            "10/10 [==============================] - 1s 111ms/step - loss: 0.0014 - mae: 0.0269\n",
            "Epoch 315/400\n",
            "10/10 [==============================] - 1s 111ms/step - loss: 0.0014 - mae: 0.0268\n",
            "Epoch 316/400\n",
            "10/10 [==============================] - 1s 111ms/step - loss: 0.0014 - mae: 0.0268\n",
            "Epoch 317/400\n",
            "10/10 [==============================] - 1s 111ms/step - loss: 0.0013 - mae: 0.0262\n",
            "Epoch 318/400\n",
            "10/10 [==============================] - 1s 114ms/step - loss: 0.0013 - mae: 0.0264\n",
            "Epoch 319/400\n",
            "10/10 [==============================] - 1s 111ms/step - loss: 0.0013 - mae: 0.0266\n",
            "Epoch 320/400\n",
            "10/10 [==============================] - 1s 111ms/step - loss: 0.0013 - mae: 0.0266\n",
            "Epoch 321/400\n",
            "10/10 [==============================] - 1s 112ms/step - loss: 0.0013 - mae: 0.0262\n",
            "Epoch 322/400\n",
            "10/10 [==============================] - 1s 113ms/step - loss: 0.0014 - mae: 0.0273\n",
            "Epoch 323/400\n",
            "10/10 [==============================] - 1s 113ms/step - loss: 0.0013 - mae: 0.0264\n",
            "Epoch 324/400\n",
            "10/10 [==============================] - 1s 112ms/step - loss: 0.0013 - mae: 0.0258\n",
            "Epoch 325/400\n",
            "10/10 [==============================] - 1s 112ms/step - loss: 0.0013 - mae: 0.0266\n",
            "Epoch 326/400\n",
            "10/10 [==============================] - 1s 113ms/step - loss: 0.0013 - mae: 0.0262\n",
            "Epoch 327/400\n",
            "10/10 [==============================] - 1s 116ms/step - loss: 0.0013 - mae: 0.0266\n",
            "Epoch 328/400\n",
            "10/10 [==============================] - 1s 113ms/step - loss: 0.0013 - mae: 0.0266\n",
            "Epoch 329/400\n",
            "10/10 [==============================] - 1s 111ms/step - loss: 0.0012 - mae: 0.0254\n",
            "Epoch 330/400\n",
            "10/10 [==============================] - 1s 112ms/step - loss: 0.0012 - mae: 0.0251\n",
            "Epoch 331/400\n",
            "10/10 [==============================] - 1s 113ms/step - loss: 0.0012 - mae: 0.0254\n",
            "Epoch 332/400\n",
            "10/10 [==============================] - 1s 112ms/step - loss: 0.0012 - mae: 0.0246\n",
            "Epoch 333/400\n",
            "10/10 [==============================] - 1s 111ms/step - loss: 0.0012 - mae: 0.0248\n",
            "Epoch 334/400\n",
            "10/10 [==============================] - 1s 112ms/step - loss: 0.0012 - mae: 0.0253\n",
            "Epoch 335/400\n",
            "10/10 [==============================] - 1s 112ms/step - loss: 0.0012 - mae: 0.0253\n",
            "Epoch 336/400\n",
            "10/10 [==============================] - 1s 113ms/step - loss: 0.0013 - mae: 0.0263\n",
            "Epoch 337/400\n",
            "10/10 [==============================] - 1s 115ms/step - loss: 0.0013 - mae: 0.0271\n",
            "Epoch 338/400\n",
            "10/10 [==============================] - 1s 113ms/step - loss: 0.0012 - mae: 0.0251\n",
            "Epoch 339/400\n",
            "10/10 [==============================] - 1s 115ms/step - loss: 0.0011 - mae: 0.0242\n",
            "Epoch 340/400\n",
            "10/10 [==============================] - 1s 112ms/step - loss: 0.0011 - mae: 0.0240\n",
            "Epoch 341/400\n",
            "10/10 [==============================] - 1s 116ms/step - loss: 0.0012 - mae: 0.0256\n",
            "Epoch 342/400\n",
            "10/10 [==============================] - 1s 113ms/step - loss: 0.0013 - mae: 0.0267\n",
            "Epoch 343/400\n",
            "10/10 [==============================] - 1s 111ms/step - loss: 0.0013 - mae: 0.0265\n",
            "Epoch 344/400\n",
            "10/10 [==============================] - 1s 112ms/step - loss: 0.0013 - mae: 0.0270\n",
            "Epoch 345/400\n",
            "10/10 [==============================] - 1s 111ms/step - loss: 0.0013 - mae: 0.0267\n",
            "Epoch 346/400\n",
            "10/10 [==============================] - 1s 115ms/step - loss: 0.0013 - mae: 0.0272\n",
            "Epoch 347/400\n",
            "10/10 [==============================] - 1s 112ms/step - loss: 0.0013 - mae: 0.0266\n",
            "Epoch 348/400\n",
            "10/10 [==============================] - 1s 112ms/step - loss: 0.0013 - mae: 0.0265\n",
            "Epoch 349/400\n",
            "10/10 [==============================] - 1s 112ms/step - loss: 0.0013 - mae: 0.0273\n",
            "Epoch 350/400\n",
            "10/10 [==============================] - 1s 111ms/step - loss: 0.0013 - mae: 0.0265\n",
            "Epoch 351/400\n",
            "10/10 [==============================] - 1s 111ms/step - loss: 0.0012 - mae: 0.0262\n",
            "Epoch 352/400\n",
            "10/10 [==============================] - 1s 114ms/step - loss: 0.0012 - mae: 0.0256\n",
            "Epoch 353/400\n",
            "10/10 [==============================] - 1s 111ms/step - loss: 0.0016 - mae: 0.0309\n",
            "Epoch 354/400\n",
            "10/10 [==============================] - 1s 112ms/step - loss: 0.0017 - mae: 0.0314\n",
            "Epoch 355/400\n",
            "10/10 [==============================] - 1s 116ms/step - loss: 0.0015 - mae: 0.0290\n",
            "Epoch 356/400\n",
            "10/10 [==============================] - 1s 112ms/step - loss: 0.0014 - mae: 0.0278\n",
            "Epoch 357/400\n",
            "10/10 [==============================] - 1s 112ms/step - loss: 0.0013 - mae: 0.0265\n",
            "Epoch 358/400\n",
            "10/10 [==============================] - 1s 111ms/step - loss: 0.0011 - mae: 0.0250\n",
            "Epoch 359/400\n",
            "10/10 [==============================] - 1s 111ms/step - loss: 0.0012 - mae: 0.0254\n",
            "Epoch 360/400\n",
            "10/10 [==============================] - 1s 110ms/step - loss: 0.0011 - mae: 0.0239\n",
            "Epoch 361/400\n",
            "10/10 [==============================] - 1s 112ms/step - loss: 0.0010 - mae: 0.0236\n",
            "Epoch 362/400\n",
            "10/10 [==============================] - 1s 112ms/step - loss: 0.0011 - mae: 0.0251\n",
            "Epoch 363/400\n",
            "10/10 [==============================] - 1s 112ms/step - loss: 0.0013 - mae: 0.0266\n",
            "Epoch 364/400\n",
            "10/10 [==============================] - 1s 114ms/step - loss: 0.0013 - mae: 0.0271\n",
            "Epoch 365/400\n",
            "10/10 [==============================] - 1s 111ms/step - loss: 0.0013 - mae: 0.0267\n",
            "Epoch 366/400\n",
            "10/10 [==============================] - 1s 111ms/step - loss: 0.0013 - mae: 0.0270\n",
            "Epoch 367/400\n",
            "10/10 [==============================] - 1s 111ms/step - loss: 0.0012 - mae: 0.0264\n",
            "Epoch 368/400\n",
            "10/10 [==============================] - 1s 111ms/step - loss: 0.0011 - mae: 0.0246\n",
            "Epoch 369/400\n",
            "10/10 [==============================] - 1s 112ms/step - loss: 9.9108e-04 - mae: 0.0231\n",
            "Epoch 370/400\n",
            "10/10 [==============================] - 1s 112ms/step - loss: 0.0010 - mae: 0.0236\n",
            "Epoch 371/400\n",
            "10/10 [==============================] - 1s 113ms/step - loss: 0.0010 - mae: 0.0240\n",
            "Epoch 372/400\n",
            "10/10 [==============================] - 1s 114ms/step - loss: 9.5784e-04 - mae: 0.0227\n",
            "Epoch 373/400\n",
            "10/10 [==============================] - 1s 112ms/step - loss: 9.5744e-04 - mae: 0.0228\n",
            "Epoch 374/400\n",
            "10/10 [==============================] - 1s 114ms/step - loss: 9.0845e-04 - mae: 0.0222\n",
            "Epoch 375/400\n",
            "10/10 [==============================] - 1s 114ms/step - loss: 8.8474e-04 - mae: 0.0218\n",
            "Epoch 376/400\n",
            "10/10 [==============================] - 1s 113ms/step - loss: 8.7887e-04 - mae: 0.0216\n",
            "Epoch 377/400\n",
            "10/10 [==============================] - 1s 111ms/step - loss: 8.4065e-04 - mae: 0.0210\n",
            "Epoch 378/400\n",
            "10/10 [==============================] - 1s 113ms/step - loss: 7.9615e-04 - mae: 0.0204\n",
            "Epoch 379/400\n",
            "10/10 [==============================] - 1s 112ms/step - loss: 7.8712e-04 - mae: 0.0202\n",
            "Epoch 380/400\n",
            "10/10 [==============================] - 1s 112ms/step - loss: 8.1642e-04 - mae: 0.0208\n",
            "Epoch 381/400\n",
            "10/10 [==============================] - 1s 113ms/step - loss: 8.2600e-04 - mae: 0.0209\n",
            "Epoch 382/400\n",
            "10/10 [==============================] - 1s 113ms/step - loss: 7.9382e-04 - mae: 0.0204\n",
            "Epoch 383/400\n",
            "10/10 [==============================] - 1s 115ms/step - loss: 7.5598e-04 - mae: 0.0199\n",
            "Epoch 384/400\n",
            "10/10 [==============================] - 1s 115ms/step - loss: 7.4751e-04 - mae: 0.0198\n",
            "Epoch 385/400\n",
            "10/10 [==============================] - 1s 113ms/step - loss: 7.7571e-04 - mae: 0.0203\n",
            "Epoch 386/400\n",
            "10/10 [==============================] - 1s 113ms/step - loss: 7.5816e-04 - mae: 0.0200\n",
            "Epoch 387/400\n",
            "10/10 [==============================] - 1s 114ms/step - loss: 7.7218e-04 - mae: 0.0201\n",
            "Epoch 388/400\n",
            "10/10 [==============================] - 1s 114ms/step - loss: 7.7520e-04 - mae: 0.0203\n",
            "Epoch 389/400\n",
            "10/10 [==============================] - 1s 113ms/step - loss: 8.0988e-04 - mae: 0.0209\n",
            "Epoch 390/400\n",
            "10/10 [==============================] - 1s 113ms/step - loss: 9.1757e-04 - mae: 0.0226\n",
            "Epoch 391/400\n",
            "10/10 [==============================] - 1s 113ms/step - loss: 8.3084e-04 - mae: 0.0213\n",
            "Epoch 392/400\n",
            "10/10 [==============================] - 1s 117ms/step - loss: 8.6467e-04 - mae: 0.0217\n",
            "Epoch 393/400\n",
            "10/10 [==============================] - 1s 114ms/step - loss: 8.3302e-04 - mae: 0.0213\n",
            "Epoch 394/400\n",
            "10/10 [==============================] - 1s 112ms/step - loss: 8.8757e-04 - mae: 0.0222\n",
            "Epoch 395/400\n",
            "10/10 [==============================] - 1s 112ms/step - loss: 9.1521e-04 - mae: 0.0226\n",
            "Epoch 396/400\n",
            "10/10 [==============================] - 1s 113ms/step - loss: 8.8008e-04 - mae: 0.0220\n",
            "Epoch 397/400\n",
            "10/10 [==============================] - 1s 114ms/step - loss: 8.5075e-04 - mae: 0.0216\n",
            "Epoch 398/400\n",
            "10/10 [==============================] - 1s 114ms/step - loss: 7.8229e-04 - mae: 0.0206\n",
            "Epoch 399/400\n",
            "10/10 [==============================] - 1s 112ms/step - loss: 7.8687e-04 - mae: 0.0207\n",
            "Epoch 400/400\n",
            "10/10 [==============================] - 1s 114ms/step - loss: 7.7554e-04 - mae: 0.0206\n"
          ]
        },
        {
          "output_type": "execute_result",
          "data": {
            "text/plain": [
              "<keras.callbacks.History at 0x7f78c0450390>"
            ]
          },
          "metadata": {},
          "execution_count": 83
        }
      ]
    },
    {
      "cell_type": "markdown",
      "source": [
        "### 3.5. Сделайте предсказания на тестовых данных"
      ],
      "metadata": {
        "id": "_y_TeRgPHDoA"
      }
    },
    {
      "cell_type": "code",
      "source": [
        "# Ваш код здесь\n",
        "preds = model.predict(X_test)\n"
      ],
      "metadata": {
        "id": "UoypDLtvHDoA"
      },
      "execution_count": 84,
      "outputs": []
    },
    {
      "cell_type": "markdown",
      "source": [
        "### 3.6. Посчитайте метрику качества на тестовых данных\n",
        "\n",
        "Доп информация по метрикам [здесь](https://youtu.be/vh2smjQyhp8)"
      ],
      "metadata": {
        "id": "RUgzV344HDoB"
      }
    },
    {
      "cell_type": "code",
      "source": [
        "# Ваш код здесь\n",
        "from sklearn.metrics import mean_absolute_error\n",
        "from sklearn.metrics import mean_squared_error\n",
        "\n",
        "print('MAE {}'.format(mean_absolute_error(preds, y_test_n)))\n",
        "print('MSE {}'.format(mean_squared_error(preds, y_test_n)))\n"
      ],
      "metadata": {
        "id": "ZcUmYJetHDoB",
        "colab": {
          "base_uri": "https://localhost:8080/"
        },
        "outputId": "8b52e1a3-0a25-4275-9610-c25f074c06fe"
      },
      "execution_count": 85,
      "outputs": [
        {
          "output_type": "stream",
          "name": "stdout",
          "text": [
            "MAE 0.07237707078456879\n",
            "MSE 0.009937331080436707\n"
          ]
        }
      ]
    },
    {
      "cell_type": "markdown",
      "source": [
        "### 3.7. Поменяйте размерность предсказанных векторов в двумерное изображение"
      ],
      "metadata": {
        "id": "gHWdJ-WmNYZB"
      }
    },
    {
      "cell_type": "code",
      "source": [
        "# Ваш код здесь\n",
        "preds_n = preds.reshape(preds.shape[0], 32, 64)\n"
      ],
      "metadata": {
        "id": "3HvIZh6AIHHM"
      },
      "execution_count": 86,
      "outputs": []
    },
    {
      "cell_type": "markdown",
      "source": [
        "А сейчас отрисуем все предсказания."
      ],
      "metadata": {
        "id": "LzmfZBw1GAQ9"
      }
    },
    {
      "cell_type": "code",
      "source": [
        "n_faces = 10\n",
        "n_cols = 2\n",
        "image_shape = (64, 64)\n",
        "plt.figure(figsize=(3 * n_cols, 3 * n_faces))\n",
        "\n",
        "\n",
        "for i in range(10):\n",
        "    true_face = np.vstack((X_test[i], y_test[i]))\n",
        "\n",
        "    if i:\n",
        "        sub = plt.subplot(n_faces, n_cols, i * n_cols + 1)\n",
        "    else:\n",
        "        sub = plt.subplot(n_faces, n_cols, i * n_cols + 1, title=\"true faces\")\n",
        "\n",
        "    sub.axis(\"off\")\n",
        "    sub.imshow(\n",
        "        true_face.reshape(image_shape), cmap=plt.cm.gray, interpolation=\"nearest\"\n",
        "    )\n",
        "\n",
        "    completed_face = np.vstack((X_test[i], preds_n[i]))\n",
        "\n",
        "    if i:\n",
        "        sub = plt.subplot(n_faces, n_cols, i * n_cols + 2)\n",
        "\n",
        "    else:\n",
        "        sub = plt.subplot(n_faces, n_cols, i * n_cols + 2)\n",
        "\n",
        "    sub.axis(\"off\")\n",
        "    sub.imshow(\n",
        "        completed_face.reshape(image_shape),\n",
        "        cmap=plt.cm.gray,\n",
        "        interpolation=\"nearest\",\n",
        "    )"
      ],
      "metadata": {
        "colab": {
          "base_uri": "https://localhost:8080/",
          "height": 1000
        },
        "id": "aIna_q3gCWo-",
        "outputId": "653ea15a-8749-4aa6-9c1f-f6a910bf762a"
      },
      "execution_count": 89,
      "outputs": [
        {
          "output_type": "display_data",
          "data": {
            "text/plain": [
              "<Figure size 432x2160 with 20 Axes>"
            ],
            "image/png": "[encoded data removed]"
          },
          "metadata": {
            "needs_background": "light"
          }
        }
      ]
    },
    {
      "cell_type": "markdown",
      "source": [
        "## Резюме \n",
        "\n",
        "Сегодня на практическом занятии:\n",
        "\n",
        "1. Обучили нейросеть на Keras для задачи регрессии (california housing)\n",
        "2. Подготовили изображения к обучению нейросети\n",
        "3. Обучили нейросеть на Keras для задачи классификации (MNIST)\n",
        "4. Обучили нейросеть на Keras для задачи восстановления изображений"
      ],
      "metadata": {
        "id": "VgBSMbZHhvbe"
      }
    },
    {
      "cell_type": "markdown",
      "source": [
        "**Муррр** ♥"
      ],
      "metadata": {
        "id": "GTJ1GuCMIhYi"
      }
    }
  ]
}