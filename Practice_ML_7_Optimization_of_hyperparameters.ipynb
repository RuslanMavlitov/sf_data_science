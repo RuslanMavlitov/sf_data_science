{
  "cells": [
    {
      "cell_type": "markdown",
      "metadata": {
        "id": "view-in-github",
        "colab_type": "text"
      },
      "source": [
        "<a href=\"https://colab.research.google.com/github/RuslanMavlitov/sf_data_science/blob/main/Practice_ML_7_Optimization_of_hyperparameters.ipynb\" target=\"_parent\"><img src=\"https://colab.research.google.com/assets/colab-badge.svg\" alt=\"Open In Colab\"/></a>"
      ]
    },
    {
      "cell_type": "markdown",
      "id": "AoeSkz4KaANH",
      "metadata": {
        "id": "AoeSkz4KaANH"
      },
      "source": [
        "# Практика ML-7. Оптимизация гиперпараметров модели"
      ]
    },
    {
      "cell_type": "markdown",
      "id": "af628f85-6780-4b24-8212-e9946c388196",
      "metadata": {
        "tags": [],
        "id": "af628f85-6780-4b24-8212-e9946c388196"
      },
      "source": [
        "## 1. Введение"
      ]
    },
    {
      "cell_type": "markdown",
      "id": "b8896f5c-1683-4a55-987f-60ce00207db5",
      "metadata": {
        "id": "b8896f5c-1683-4a55-987f-60ce00207db5"
      },
      "source": [
        "Практическое задание основано на соревновании Kaggle: Predicting a Biological Response (Прогнозирование биологического ответа).\n",
        "https://www.kaggle.com/c/bioresponse\n",
        "\n",
        "Цели модуля:\n",
        "* Необходимо обучить две модели: логистическую регрессию и случайный лес. \n",
        "* Нужно сделать подбор гиперпараметров с помощью базовых и продвинутых методов оптимизации. Использовать все четыре метода (GridSeachCV, RandomizedSearchCV, Hyperopt, Optuna) хотя бы по разу, максимальное количество итераций не должно превышать 50.\n"
      ]
    },
    {
      "cell_type": "markdown",
      "id": "203fb80e-a314-4876-850c-5e4913f78563",
      "metadata": {
        "tags": [],
        "id": "203fb80e-a314-4876-850c-5e4913f78563"
      },
      "source": [
        "## 2. Базовая оптимизация"
      ]
    },
    {
      "cell_type": "code",
      "execution_count": null,
      "id": "d8q91-MSaAOG",
      "metadata": {
        "id": "d8q91-MSaAOG"
      },
      "outputs": [],
      "source": [
        "#импорт библиотек\n",
        "import numpy as np #для матричных вычислений\n",
        "import pandas as pd #для анализа и предобработки данных\n",
        "import matplotlib.pyplot as plt #для визуализации\n",
        "import seaborn as sns #для визуализации\n",
        "\n",
        "from sklearn import linear_model #линейные моделиё\n",
        "from sklearn import tree #деревья решений\n",
        "from sklearn import ensemble #ансамбли\n",
        "from sklearn import metrics #метрики\n",
        "from sklearn import preprocessing #предобработка\n",
        "from sklearn.model_selection import train_test_split #сплитование выборки\n",
        "\n",
        "%matplotlib inline\n",
        "plt.style.use('seaborn')"
      ]
    },
    {
      "cell_type": "markdown",
      "id": "ezanmTbEaAOe",
      "metadata": {
        "id": "ezanmTbEaAOe",
        "jp-MarkdownHeadingCollapsed": true,
        "tags": []
      },
      "source": [
        "### Описание задачи"
      ]
    },
    {
      "cell_type": "markdown",
      "id": "8SprnF5HaAOj",
      "metadata": {
        "id": "8SprnF5HaAOj"
      },
      "source": [
        "Данные представлены в формате значений, разделенных запятыми (CSV). Каждая строка в этом наборе данных представляет молекулу. Первый столбец содержит экспериментальные данные, описывающие реальную биологическую реакцию; Было замечено, что молекула вызывает этот ответ (1) или нет (0). Остальные столбцы представляют собой молекулярные дескрипторы (от d1 до d1776). Это рассчитанные свойства, которые могут отражать некоторые характеристики молекулы, например размер, форму или состав элементов. Матрица дескриптора была нормализована.\n"
      ]
    },
    {
      "cell_type": "markdown",
      "id": "8lbyun1kaAOy",
      "metadata": {
        "id": "8lbyun1kaAOy",
        "jp-MarkdownHeadingCollapsed": true,
        "tags": []
      },
      "source": [
        "### Знакомство с данными и их исследование"
      ]
    },
    {
      "cell_type": "code",
      "execution_count": null,
      "id": "p770SmlfaAO3",
      "metadata": {
        "colab": {
          "base_uri": "https://localhost:8080/",
          "height": 253
        },
        "id": "p770SmlfaAO3",
        "outputId": "b0a33989-f32f-4833-9b86-5814f0a52bb3"
      },
      "outputs": [
        {
          "output_type": "stream",
          "name": "stdout",
          "text": [
            "Mounted at /content/drive\n"
          ]
        },
        {
          "output_type": "execute_result",
          "data": {
            "text/plain": [
              "   Activity        D1        D2    D3   D4        D5        D6        D7  \\\n",
              "0         1  0.000000  0.497009  0.10  0.0  0.132956  0.678031  0.273166   \n",
              "1         1  0.366667  0.606291  0.05  0.0  0.111209  0.803455  0.106105   \n",
              "2         1  0.033300  0.480124  0.00  0.0  0.209791  0.610350  0.356453   \n",
              "3         1  0.000000  0.538825  0.00  0.5  0.196344  0.724230  0.235606   \n",
              "4         0  0.100000  0.517794  0.00  0.0  0.494734  0.781422  0.154361   \n",
              "\n",
              "         D8        D9  ...  D1767  D1768  D1769  D1770  D1771  D1772  D1773  \\\n",
              "0  0.585445  0.743663  ...      0      0      0      0      0      0      0   \n",
              "1  0.411754  0.836582  ...      1      1      1      1      0      1      0   \n",
              "2  0.517720  0.679051  ...      0      0      0      0      0      0      0   \n",
              "3  0.288764  0.805110  ...      0      0      0      0      0      0      0   \n",
              "4  0.303809  0.812646  ...      0      0      0      0      0      0      0   \n",
              "\n",
              "   D1774  D1775  D1776  \n",
              "0      0      0      0  \n",
              "1      0      1      0  \n",
              "2      0      0      0  \n",
              "3      0      0      0  \n",
              "4      0      0      0  \n",
              "\n",
              "[5 rows x 1777 columns]"
            ],
            "text/html": [
              "\n",
              "  <div id=\"df-f38f5625-ee3d-454b-ad44-2c25eb6b27bf\">\n",
              "    <div class=\"colab-df-container\">\n",
              "      <div>\n",
              "<style scoped>\n",
              "    .dataframe tbody tr th:only-of-type {\n",
              "        vertical-align: middle;\n",
              "    }\n",
              "\n",
              "    .dataframe tbody tr th {\n",
              "        vertical-align: top;\n",
              "    }\n",
              "\n",
              "    .dataframe thead th {\n",
              "        text-align: right;\n",
              "    }\n",
              "</style>\n",
              "<table border=\"1\" class=\"dataframe\">\n",
              "  <thead>\n",
              "    <tr style=\"text-align: right;\">\n",
              "      <th></th>\n",
              "      <th>Activity</th>\n",
              "      <th>D1</th>\n",
              "      <th>D2</th>\n",
              "      <th>D3</th>\n",
              "      <th>D4</th>\n",
              "      <th>D5</th>\n",
              "      <th>D6</th>\n",
              "      <th>D7</th>\n",
              "      <th>D8</th>\n",
              "      <th>D9</th>\n",
              "      <th>...</th>\n",
              "      <th>D1767</th>\n",
              "      <th>D1768</th>\n",
              "      <th>D1769</th>\n",
              "      <th>D1770</th>\n",
              "      <th>D1771</th>\n",
              "      <th>D1772</th>\n",
              "      <th>D1773</th>\n",
              "      <th>D1774</th>\n",
              "      <th>D1775</th>\n",
              "      <th>D1776</th>\n",
              "    </tr>\n",
              "  </thead>\n",
              "  <tbody>\n",
              "    <tr>\n",
              "      <th>0</th>\n",
              "      <td>1</td>\n",
              "      <td>0.000000</td>\n",
              "      <td>0.497009</td>\n",
              "      <td>0.10</td>\n",
              "      <td>0.0</td>\n",
              "      <td>0.132956</td>\n",
              "      <td>0.678031</td>\n",
              "      <td>0.273166</td>\n",
              "      <td>0.585445</td>\n",
              "      <td>0.743663</td>\n",
              "      <td>...</td>\n",
              "      <td>0</td>\n",
              "      <td>0</td>\n",
              "      <td>0</td>\n",
              "      <td>0</td>\n",
              "      <td>0</td>\n",
              "      <td>0</td>\n",
              "      <td>0</td>\n",
              "      <td>0</td>\n",
              "      <td>0</td>\n",
              "      <td>0</td>\n",
              "    </tr>\n",
              "    <tr>\n",
              "      <th>1</th>\n",
              "      <td>1</td>\n",
              "      <td>0.366667</td>\n",
              "      <td>0.606291</td>\n",
              "      <td>0.05</td>\n",
              "      <td>0.0</td>\n",
              "      <td>0.111209</td>\n",
              "      <td>0.803455</td>\n",
              "      <td>0.106105</td>\n",
              "      <td>0.411754</td>\n",
              "      <td>0.836582</td>\n",
              "      <td>...</td>\n",
              "      <td>1</td>\n",
              "      <td>1</td>\n",
              "      <td>1</td>\n",
              "      <td>1</td>\n",
              "      <td>0</td>\n",
              "      <td>1</td>\n",
              "      <td>0</td>\n",
              "      <td>0</td>\n",
              "      <td>1</td>\n",
              "      <td>0</td>\n",
              "    </tr>\n",
              "    <tr>\n",
              "      <th>2</th>\n",
              "      <td>1</td>\n",
              "      <td>0.033300</td>\n",
              "      <td>0.480124</td>\n",
              "      <td>0.00</td>\n",
              "      <td>0.0</td>\n",
              "      <td>0.209791</td>\n",
              "      <td>0.610350</td>\n",
              "      <td>0.356453</td>\n",
              "      <td>0.517720</td>\n",
              "      <td>0.679051</td>\n",
              "      <td>...</td>\n",
              "      <td>0</td>\n",
              "      <td>0</td>\n",
              "      <td>0</td>\n",
              "      <td>0</td>\n",
              "      <td>0</td>\n",
              "      <td>0</td>\n",
              "      <td>0</td>\n",
              "      <td>0</td>\n",
              "      <td>0</td>\n",
              "      <td>0</td>\n",
              "    </tr>\n",
              "    <tr>\n",
              "      <th>3</th>\n",
              "      <td>1</td>\n",
              "      <td>0.000000</td>\n",
              "      <td>0.538825</td>\n",
              "      <td>0.00</td>\n",
              "      <td>0.5</td>\n",
              "      <td>0.196344</td>\n",
              "      <td>0.724230</td>\n",
              "      <td>0.235606</td>\n",
              "      <td>0.288764</td>\n",
              "      <td>0.805110</td>\n",
              "      <td>...</td>\n",
              "      <td>0</td>\n",
              "      <td>0</td>\n",
              "      <td>0</td>\n",
              "      <td>0</td>\n",
              "      <td>0</td>\n",
              "      <td>0</td>\n",
              "      <td>0</td>\n",
              "      <td>0</td>\n",
              "      <td>0</td>\n",
              "      <td>0</td>\n",
              "    </tr>\n",
              "    <tr>\n",
              "      <th>4</th>\n",
              "      <td>0</td>\n",
              "      <td>0.100000</td>\n",
              "      <td>0.517794</td>\n",
              "      <td>0.00</td>\n",
              "      <td>0.0</td>\n",
              "      <td>0.494734</td>\n",
              "      <td>0.781422</td>\n",
              "      <td>0.154361</td>\n",
              "      <td>0.303809</td>\n",
              "      <td>0.812646</td>\n",
              "      <td>...</td>\n",
              "      <td>0</td>\n",
              "      <td>0</td>\n",
              "      <td>0</td>\n",
              "      <td>0</td>\n",
              "      <td>0</td>\n",
              "      <td>0</td>\n",
              "      <td>0</td>\n",
              "      <td>0</td>\n",
              "      <td>0</td>\n",
              "      <td>0</td>\n",
              "    </tr>\n",
              "  </tbody>\n",
              "</table>\n",
              "<p>5 rows × 1777 columns</p>\n",
              "</div>\n",
              "      <button class=\"colab-df-convert\" onclick=\"convertToInteractive('df-f38f5625-ee3d-454b-ad44-2c25eb6b27bf')\"\n",
              "              title=\"Convert this dataframe to an interactive table.\"\n",
              "              style=\"display:none;\">\n",
              "        \n",
              "  <svg xmlns=\"http://www.w3.org/2000/svg\" height=\"24px\"viewBox=\"0 0 24 24\"\n",
              "       width=\"24px\">\n",
              "    <path d=\"M0 0h24v24H0V0z\" fill=\"none\"/>\n",
              "    <path d=\"M18.56 5.44l.94 2.06.94-2.06 2.06-.94-2.06-.94-.94-2.06-.94 2.06-2.06.94zm-11 1L8.5 8.5l.94-2.06 2.06-.94-2.06-.94L8.5 2.5l-.94 2.06-2.06.94zm10 10l.94 2.06.94-2.06 2.06-.94-2.06-.94-.94-2.06-.94 2.06-2.06.94z\"/><path d=\"M17.41 7.96l-1.37-1.37c-.4-.4-.92-.59-1.43-.59-.52 0-1.04.2-1.43.59L10.3 9.45l-7.72 7.72c-.78.78-.78 2.05 0 2.83L4 21.41c.39.39.9.59 1.41.59.51 0 1.02-.2 1.41-.59l7.78-7.78 2.81-2.81c.8-.78.8-2.07 0-2.86zM5.41 20L4 18.59l7.72-7.72 1.47 1.35L5.41 20z\"/>\n",
              "  </svg>\n",
              "      </button>\n",
              "      \n",
              "  <style>\n",
              "    .colab-df-container {\n",
              "      display:flex;\n",
              "      flex-wrap:wrap;\n",
              "      gap: 12px;\n",
              "    }\n",
              "\n",
              "    .colab-df-convert {\n",
              "      background-color: #E8F0FE;\n",
              "      border: none;\n",
              "      border-radius: 50%;\n",
              "      cursor: pointer;\n",
              "      display: none;\n",
              "      fill: #1967D2;\n",
              "      height: 32px;\n",
              "      padding: 0 0 0 0;\n",
              "      width: 32px;\n",
              "    }\n",
              "\n",
              "    .colab-df-convert:hover {\n",
              "      background-color: #E2EBFA;\n",
              "      box-shadow: 0px 1px 2px rgba(60, 64, 67, 0.3), 0px 1px 3px 1px rgba(60, 64, 67, 0.15);\n",
              "      fill: #174EA6;\n",
              "    }\n",
              "\n",
              "    [theme=dark] .colab-df-convert {\n",
              "      background-color: #3B4455;\n",
              "      fill: #D2E3FC;\n",
              "    }\n",
              "\n",
              "    [theme=dark] .colab-df-convert:hover {\n",
              "      background-color: #434B5C;\n",
              "      box-shadow: 0px 1px 3px 1px rgba(0, 0, 0, 0.15);\n",
              "      filter: drop-shadow(0px 1px 2px rgba(0, 0, 0, 0.3));\n",
              "      fill: #FFFFFF;\n",
              "    }\n",
              "  </style>\n",
              "\n",
              "      <script>\n",
              "        const buttonEl =\n",
              "          document.querySelector('#df-f38f5625-ee3d-454b-ad44-2c25eb6b27bf button.colab-df-convert');\n",
              "        buttonEl.style.display =\n",
              "          google.colab.kernel.accessAllowed ? 'block' : 'none';\n",
              "\n",
              "        async function convertToInteractive(key) {\n",
              "          const element = document.querySelector('#df-f38f5625-ee3d-454b-ad44-2c25eb6b27bf');\n",
              "          const dataTable =\n",
              "            await google.colab.kernel.invokeFunction('convertToInteractive',\n",
              "                                                     [key], {});\n",
              "          if (!dataTable) return;\n",
              "\n",
              "          const docLinkHtml = 'Like what you see? Visit the ' +\n",
              "            '<a target=\"_blank\" href=https://colab.research.google.com/notebooks/data_table.ipynb>data table notebook</a>'\n",
              "            + ' to learn more about interactive tables.';\n",
              "          element.innerHTML = '';\n",
              "          dataTable['output_type'] = 'display_data';\n",
              "          await google.colab.output.renderOutput(dataTable, element);\n",
              "          const docLink = document.createElement('div');\n",
              "          docLink.innerHTML = docLinkHtml;\n",
              "          element.appendChild(docLink);\n",
              "        }\n",
              "      </script>\n",
              "    </div>\n",
              "  </div>\n",
              "  "
            ]
          },
          "metadata": {},
          "execution_count": 7
        }
      ],
      "source": [
        "#РАБОТАЕМ В GOOGLE COLAB\n",
        "# подключаем google диск, где у нас хранятся данные\n",
        "from google.colab import drive\n",
        "drive.mount('/content/drive')\n",
        "# берем необходимый нам файл с диска, указав путь\n",
        "data = pd.read_csv('./drive/MyDrive/SF/_train_sem09__1_.zip')\n",
        "data.head()"
      ]
    },
    {
      "cell_type": "markdown",
      "id": "g2w-AD7uaAPK",
      "metadata": {
        "id": "g2w-AD7uaAPK"
      },
      "source": [
        "Проверяем наличие пропусков"
      ]
    },
    {
      "cell_type": "code",
      "execution_count": null,
      "id": "-0L4fYsbaAPP",
      "metadata": {
        "colab": {
          "base_uri": "https://localhost:8080/"
        },
        "id": "-0L4fYsbaAPP",
        "outputId": "31efcc25-88b9-4822-8e28-1b4f248a8b4b"
      },
      "outputs": [
        {
          "output_type": "stream",
          "name": "stdout",
          "text": [
            "Пропущенные значения 0\n"
          ]
        }
      ],
      "source": [
        "print(\"Пропущенные значения\",data.isnull().sum().sum())"
      ]
    },
    {
      "cell_type": "code",
      "execution_count": null,
      "id": "OkBZOD4eaAPW",
      "metadata": {
        "colab": {
          "base_uri": "https://localhost:8080/",
          "height": 394
        },
        "id": "OkBZOD4eaAPW",
        "outputId": "c43b0894-8605-4375-ed42-314b2f2c8d3f"
      },
      "outputs": [
        {
          "output_type": "execute_result",
          "data": {
            "text/plain": [
              "          Activity           D1           D2           D3           D4  \\\n",
              "count  3751.000000  3751.000000  3751.000000  3751.000000  3751.000000   \n",
              "mean      0.542255     0.076948     0.592436     0.068142     0.038990   \n",
              "std       0.498278     0.079989     0.105860     0.078414     0.115885   \n",
              "min       0.000000     0.000000     0.282128     0.000000     0.000000   \n",
              "25%       0.000000     0.033300     0.517811     0.000000     0.000000   \n",
              "50%       1.000000     0.066700     0.585989     0.050000     0.000000   \n",
              "75%       1.000000     0.100000     0.668395     0.100000     0.000000   \n",
              "max       1.000000     1.000000     0.964381     0.950000     1.000000   \n",
              "\n",
              "                D5           D6           D7           D8           D9  ...  \\\n",
              "count  3751.000000  3751.000000  3751.000000  3751.000000  3751.000000  ...   \n",
              "mean      0.212112     0.686653     0.274713     0.455133     0.749517  ...   \n",
              "std       0.102592     0.078702     0.090017     0.162731     0.071702  ...   \n",
              "min       0.002630     0.137873     0.006130     0.000000     0.275590  ...   \n",
              "25%       0.138118     0.625627     0.207374     0.378062     0.707339  ...   \n",
              "50%       0.190926     0.674037     0.277845     0.499942     0.738961  ...   \n",
              "75%       0.261726     0.740663     0.335816     0.569962     0.788177  ...   \n",
              "max       1.000000     0.994735     0.790831     0.989870     1.000000  ...   \n",
              "\n",
              "             D1767        D1768        D1769        D1770        D1771  \\\n",
              "count  3751.000000  3751.000000  3751.000000  3751.000000  3751.000000   \n",
              "mean      0.026926     0.014663     0.013863     0.021861     0.015196   \n",
              "std       0.161889     0.120215     0.116938     0.146249     0.122348   \n",
              "min       0.000000     0.000000     0.000000     0.000000     0.000000   \n",
              "25%       0.000000     0.000000     0.000000     0.000000     0.000000   \n",
              "50%       0.000000     0.000000     0.000000     0.000000     0.000000   \n",
              "75%       0.000000     0.000000     0.000000     0.000000     0.000000   \n",
              "max       1.000000     1.000000     1.000000     1.000000     1.000000   \n",
              "\n",
              "             D1772        D1773        D1774        D1775        D1776  \n",
              "count  3751.000000  3751.000000  3751.000000  3751.000000  3751.000000  \n",
              "mean      0.016796     0.012263     0.011730     0.020261     0.011197  \n",
              "std       0.128522     0.110074     0.107683     0.140911     0.105236  \n",
              "min       0.000000     0.000000     0.000000     0.000000     0.000000  \n",
              "25%       0.000000     0.000000     0.000000     0.000000     0.000000  \n",
              "50%       0.000000     0.000000     0.000000     0.000000     0.000000  \n",
              "75%       0.000000     0.000000     0.000000     0.000000     0.000000  \n",
              "max       1.000000     1.000000     1.000000     1.000000     1.000000  \n",
              "\n",
              "[8 rows x 1777 columns]"
            ],
            "text/html": [
              "\n",
              "  <div id=\"df-31569f7a-e2d5-4b8b-b18c-1fccc83d31e0\">\n",
              "    <div class=\"colab-df-container\">\n",
              "      <div>\n",
              "<style scoped>\n",
              "    .dataframe tbody tr th:only-of-type {\n",
              "        vertical-align: middle;\n",
              "    }\n",
              "\n",
              "    .dataframe tbody tr th {\n",
              "        vertical-align: top;\n",
              "    }\n",
              "\n",
              "    .dataframe thead th {\n",
              "        text-align: right;\n",
              "    }\n",
              "</style>\n",
              "<table border=\"1\" class=\"dataframe\">\n",
              "  <thead>\n",
              "    <tr style=\"text-align: right;\">\n",
              "      <th></th>\n",
              "      <th>Activity</th>\n",
              "      <th>D1</th>\n",
              "      <th>D2</th>\n",
              "      <th>D3</th>\n",
              "      <th>D4</th>\n",
              "      <th>D5</th>\n",
              "      <th>D6</th>\n",
              "      <th>D7</th>\n",
              "      <th>D8</th>\n",
              "      <th>D9</th>\n",
              "      <th>...</th>\n",
              "      <th>D1767</th>\n",
              "      <th>D1768</th>\n",
              "      <th>D1769</th>\n",
              "      <th>D1770</th>\n",
              "      <th>D1771</th>\n",
              "      <th>D1772</th>\n",
              "      <th>D1773</th>\n",
              "      <th>D1774</th>\n",
              "      <th>D1775</th>\n",
              "      <th>D1776</th>\n",
              "    </tr>\n",
              "  </thead>\n",
              "  <tbody>\n",
              "    <tr>\n",
              "      <th>count</th>\n",
              "      <td>3751.000000</td>\n",
              "      <td>3751.000000</td>\n",
              "      <td>3751.000000</td>\n",
              "      <td>3751.000000</td>\n",
              "      <td>3751.000000</td>\n",
              "      <td>3751.000000</td>\n",
              "      <td>3751.000000</td>\n",
              "      <td>3751.000000</td>\n",
              "      <td>3751.000000</td>\n",
              "      <td>3751.000000</td>\n",
              "      <td>...</td>\n",
              "      <td>3751.000000</td>\n",
              "      <td>3751.000000</td>\n",
              "      <td>3751.000000</td>\n",
              "      <td>3751.000000</td>\n",
              "      <td>3751.000000</td>\n",
              "      <td>3751.000000</td>\n",
              "      <td>3751.000000</td>\n",
              "      <td>3751.000000</td>\n",
              "      <td>3751.000000</td>\n",
              "      <td>3751.000000</td>\n",
              "    </tr>\n",
              "    <tr>\n",
              "      <th>mean</th>\n",
              "      <td>0.542255</td>\n",
              "      <td>0.076948</td>\n",
              "      <td>0.592436</td>\n",
              "      <td>0.068142</td>\n",
              "      <td>0.038990</td>\n",
              "      <td>0.212112</td>\n",
              "      <td>0.686653</td>\n",
              "      <td>0.274713</td>\n",
              "      <td>0.455133</td>\n",
              "      <td>0.749517</td>\n",
              "      <td>...</td>\n",
              "      <td>0.026926</td>\n",
              "      <td>0.014663</td>\n",
              "      <td>0.013863</td>\n",
              "      <td>0.021861</td>\n",
              "      <td>0.015196</td>\n",
              "      <td>0.016796</td>\n",
              "      <td>0.012263</td>\n",
              "      <td>0.011730</td>\n",
              "      <td>0.020261</td>\n",
              "      <td>0.011197</td>\n",
              "    </tr>\n",
              "    <tr>\n",
              "      <th>std</th>\n",
              "      <td>0.498278</td>\n",
              "      <td>0.079989</td>\n",
              "      <td>0.105860</td>\n",
              "      <td>0.078414</td>\n",
              "      <td>0.115885</td>\n",
              "      <td>0.102592</td>\n",
              "      <td>0.078702</td>\n",
              "      <td>0.090017</td>\n",
              "      <td>0.162731</td>\n",
              "      <td>0.071702</td>\n",
              "      <td>...</td>\n",
              "      <td>0.161889</td>\n",
              "      <td>0.120215</td>\n",
              "      <td>0.116938</td>\n",
              "      <td>0.146249</td>\n",
              "      <td>0.122348</td>\n",
              "      <td>0.128522</td>\n",
              "      <td>0.110074</td>\n",
              "      <td>0.107683</td>\n",
              "      <td>0.140911</td>\n",
              "      <td>0.105236</td>\n",
              "    </tr>\n",
              "    <tr>\n",
              "      <th>min</th>\n",
              "      <td>0.000000</td>\n",
              "      <td>0.000000</td>\n",
              "      <td>0.282128</td>\n",
              "      <td>0.000000</td>\n",
              "      <td>0.000000</td>\n",
              "      <td>0.002630</td>\n",
              "      <td>0.137873</td>\n",
              "      <td>0.006130</td>\n",
              "      <td>0.000000</td>\n",
              "      <td>0.275590</td>\n",
              "      <td>...</td>\n",
              "      <td>0.000000</td>\n",
              "      <td>0.000000</td>\n",
              "      <td>0.000000</td>\n",
              "      <td>0.000000</td>\n",
              "      <td>0.000000</td>\n",
              "      <td>0.000000</td>\n",
              "      <td>0.000000</td>\n",
              "      <td>0.000000</td>\n",
              "      <td>0.000000</td>\n",
              "      <td>0.000000</td>\n",
              "    </tr>\n",
              "    <tr>\n",
              "      <th>25%</th>\n",
              "      <td>0.000000</td>\n",
              "      <td>0.033300</td>\n",
              "      <td>0.517811</td>\n",
              "      <td>0.000000</td>\n",
              "      <td>0.000000</td>\n",
              "      <td>0.138118</td>\n",
              "      <td>0.625627</td>\n",
              "      <td>0.207374</td>\n",
              "      <td>0.378062</td>\n",
              "      <td>0.707339</td>\n",
              "      <td>...</td>\n",
              "      <td>0.000000</td>\n",
              "      <td>0.000000</td>\n",
              "      <td>0.000000</td>\n",
              "      <td>0.000000</td>\n",
              "      <td>0.000000</td>\n",
              "      <td>0.000000</td>\n",
              "      <td>0.000000</td>\n",
              "      <td>0.000000</td>\n",
              "      <td>0.000000</td>\n",
              "      <td>0.000000</td>\n",
              "    </tr>\n",
              "    <tr>\n",
              "      <th>50%</th>\n",
              "      <td>1.000000</td>\n",
              "      <td>0.066700</td>\n",
              "      <td>0.585989</td>\n",
              "      <td>0.050000</td>\n",
              "      <td>0.000000</td>\n",
              "      <td>0.190926</td>\n",
              "      <td>0.674037</td>\n",
              "      <td>0.277845</td>\n",
              "      <td>0.499942</td>\n",
              "      <td>0.738961</td>\n",
              "      <td>...</td>\n",
              "      <td>0.000000</td>\n",
              "      <td>0.000000</td>\n",
              "      <td>0.000000</td>\n",
              "      <td>0.000000</td>\n",
              "      <td>0.000000</td>\n",
              "      <td>0.000000</td>\n",
              "      <td>0.000000</td>\n",
              "      <td>0.000000</td>\n",
              "      <td>0.000000</td>\n",
              "      <td>0.000000</td>\n",
              "    </tr>\n",
              "    <tr>\n",
              "      <th>75%</th>\n",
              "      <td>1.000000</td>\n",
              "      <td>0.100000</td>\n",
              "      <td>0.668395</td>\n",
              "      <td>0.100000</td>\n",
              "      <td>0.000000</td>\n",
              "      <td>0.261726</td>\n",
              "      <td>0.740663</td>\n",
              "      <td>0.335816</td>\n",
              "      <td>0.569962</td>\n",
              "      <td>0.788177</td>\n",
              "      <td>...</td>\n",
              "      <td>0.000000</td>\n",
              "      <td>0.000000</td>\n",
              "      <td>0.000000</td>\n",
              "      <td>0.000000</td>\n",
              "      <td>0.000000</td>\n",
              "      <td>0.000000</td>\n",
              "      <td>0.000000</td>\n",
              "      <td>0.000000</td>\n",
              "      <td>0.000000</td>\n",
              "      <td>0.000000</td>\n",
              "    </tr>\n",
              "    <tr>\n",
              "      <th>max</th>\n",
              "      <td>1.000000</td>\n",
              "      <td>1.000000</td>\n",
              "      <td>0.964381</td>\n",
              "      <td>0.950000</td>\n",
              "      <td>1.000000</td>\n",
              "      <td>1.000000</td>\n",
              "      <td>0.994735</td>\n",
              "      <td>0.790831</td>\n",
              "      <td>0.989870</td>\n",
              "      <td>1.000000</td>\n",
              "      <td>...</td>\n",
              "      <td>1.000000</td>\n",
              "      <td>1.000000</td>\n",
              "      <td>1.000000</td>\n",
              "      <td>1.000000</td>\n",
              "      <td>1.000000</td>\n",
              "      <td>1.000000</td>\n",
              "      <td>1.000000</td>\n",
              "      <td>1.000000</td>\n",
              "      <td>1.000000</td>\n",
              "      <td>1.000000</td>\n",
              "    </tr>\n",
              "  </tbody>\n",
              "</table>\n",
              "<p>8 rows × 1777 columns</p>\n",
              "</div>\n",
              "      <button class=\"colab-df-convert\" onclick=\"convertToInteractive('df-31569f7a-e2d5-4b8b-b18c-1fccc83d31e0')\"\n",
              "              title=\"Convert this dataframe to an interactive table.\"\n",
              "              style=\"display:none;\">\n",
              "        \n",
              "  <svg xmlns=\"http://www.w3.org/2000/svg\" height=\"24px\"viewBox=\"0 0 24 24\"\n",
              "       width=\"24px\">\n",
              "    <path d=\"M0 0h24v24H0V0z\" fill=\"none\"/>\n",
              "    <path d=\"M18.56 5.44l.94 2.06.94-2.06 2.06-.94-2.06-.94-.94-2.06-.94 2.06-2.06.94zm-11 1L8.5 8.5l.94-2.06 2.06-.94-2.06-.94L8.5 2.5l-.94 2.06-2.06.94zm10 10l.94 2.06.94-2.06 2.06-.94-2.06-.94-.94-2.06-.94 2.06-2.06.94z\"/><path d=\"M17.41 7.96l-1.37-1.37c-.4-.4-.92-.59-1.43-.59-.52 0-1.04.2-1.43.59L10.3 9.45l-7.72 7.72c-.78.78-.78 2.05 0 2.83L4 21.41c.39.39.9.59 1.41.59.51 0 1.02-.2 1.41-.59l7.78-7.78 2.81-2.81c.8-.78.8-2.07 0-2.86zM5.41 20L4 18.59l7.72-7.72 1.47 1.35L5.41 20z\"/>\n",
              "  </svg>\n",
              "      </button>\n",
              "      \n",
              "  <style>\n",
              "    .colab-df-container {\n",
              "      display:flex;\n",
              "      flex-wrap:wrap;\n",
              "      gap: 12px;\n",
              "    }\n",
              "\n",
              "    .colab-df-convert {\n",
              "      background-color: #E8F0FE;\n",
              "      border: none;\n",
              "      border-radius: 50%;\n",
              "      cursor: pointer;\n",
              "      display: none;\n",
              "      fill: #1967D2;\n",
              "      height: 32px;\n",
              "      padding: 0 0 0 0;\n",
              "      width: 32px;\n",
              "    }\n",
              "\n",
              "    .colab-df-convert:hover {\n",
              "      background-color: #E2EBFA;\n",
              "      box-shadow: 0px 1px 2px rgba(60, 64, 67, 0.3), 0px 1px 3px 1px rgba(60, 64, 67, 0.15);\n",
              "      fill: #174EA6;\n",
              "    }\n",
              "\n",
              "    [theme=dark] .colab-df-convert {\n",
              "      background-color: #3B4455;\n",
              "      fill: #D2E3FC;\n",
              "    }\n",
              "\n",
              "    [theme=dark] .colab-df-convert:hover {\n",
              "      background-color: #434B5C;\n",
              "      box-shadow: 0px 1px 3px 1px rgba(0, 0, 0, 0.15);\n",
              "      filter: drop-shadow(0px 1px 2px rgba(0, 0, 0, 0.3));\n",
              "      fill: #FFFFFF;\n",
              "    }\n",
              "  </style>\n",
              "\n",
              "      <script>\n",
              "        const buttonEl =\n",
              "          document.querySelector('#df-31569f7a-e2d5-4b8b-b18c-1fccc83d31e0 button.colab-df-convert');\n",
              "        buttonEl.style.display =\n",
              "          google.colab.kernel.accessAllowed ? 'block' : 'none';\n",
              "\n",
              "        async function convertToInteractive(key) {\n",
              "          const element = document.querySelector('#df-31569f7a-e2d5-4b8b-b18c-1fccc83d31e0');\n",
              "          const dataTable =\n",
              "            await google.colab.kernel.invokeFunction('convertToInteractive',\n",
              "                                                     [key], {});\n",
              "          if (!dataTable) return;\n",
              "\n",
              "          const docLinkHtml = 'Like what you see? Visit the ' +\n",
              "            '<a target=\"_blank\" href=https://colab.research.google.com/notebooks/data_table.ipynb>data table notebook</a>'\n",
              "            + ' to learn more about interactive tables.';\n",
              "          element.innerHTML = '';\n",
              "          dataTable['output_type'] = 'display_data';\n",
              "          await google.colab.output.renderOutput(dataTable, element);\n",
              "          const docLink = document.createElement('div');\n",
              "          docLink.innerHTML = docLinkHtml;\n",
              "          element.appendChild(docLink);\n",
              "        }\n",
              "      </script>\n",
              "    </div>\n",
              "  </div>\n",
              "  "
            ]
          },
          "metadata": {},
          "execution_count": 4
        }
      ],
      "source": [
        "data.describe()"
      ]
    },
    {
      "cell_type": "markdown",
      "id": "0jbyUoPlaAPc",
      "metadata": {
        "id": "0jbyUoPlaAPc"
      },
      "source": [
        "Смотрим на сбалансированность классов:"
      ]
    },
    {
      "cell_type": "code",
      "execution_count": null,
      "id": "PPo2xmRdaAPf",
      "metadata": {
        "colab": {
          "base_uri": "https://localhost:8080/",
          "height": 279
        },
        "id": "PPo2xmRdaAPf",
        "outputId": "76c01788-5fb0-4824-84de-38098ed86dc3"
      },
      "outputs": [
        {
          "output_type": "display_data",
          "data": {
            "text/plain": [
              "<Figure size 432x288 with 1 Axes>"
            ],
            "image/png": "[encoded data removed]"
          },
          "metadata": {
            "needs_background": "light"
          }
        }
      ],
      "source": [
        "sns.countplot(data=data, x='Activity');"
      ]
    },
    {
      "cell_type": "markdown",
      "id": "M20nsIRfaAP-",
      "metadata": {
        "id": "M20nsIRfaAP-",
        "jp-MarkdownHeadingCollapsed": true,
        "tags": []
      },
      "source": [
        "### Подготовка данных (предобработка)"
      ]
    },
    {
      "cell_type": "markdown",
      "id": "8p3eELnEaAQW",
      "metadata": {
        "id": "8p3eELnEaAQW"
      },
      "source": [
        "Создаем матрицу наблюдений $X$ и вектор ответов $y$"
      ]
    },
    {
      "cell_type": "code",
      "execution_count": null,
      "id": "_2GncsCbaAQY",
      "metadata": {
        "id": "_2GncsCbaAQY"
      },
      "outputs": [],
      "source": [
        "X = data.drop(['Activity'], axis=1)\n",
        "y = data['Activity']"
      ]
    },
    {
      "cell_type": "markdown",
      "id": "q4SyRSFhaAQZ",
      "metadata": {
        "id": "q4SyRSFhaAQZ"
      },
      "source": [
        "Разделяем выборку на тренировочную и тестовую в соотношении 80/20. Для сохранения соотношений целевого признака используем параметр stratify (стратифицированное разбиение). "
      ]
    },
    {
      "cell_type": "code",
      "execution_count": null,
      "id": "Fl_eJIInaAQa",
      "metadata": {
        "id": "Fl_eJIInaAQa"
      },
      "outputs": [],
      "source": [
        "X_train, X_test, y_train, y_test = train_test_split(X, y, stratify=y, random_state = 1, test_size = 0.2)"
      ]
    },
    {
      "cell_type": "markdown",
      "id": "NTmUGmXqaAQc",
      "metadata": {
        "id": "NTmUGmXqaAQc"
      },
      "source": [
        "Производим нормализацию данных с помощью min-max нормализации"
      ]
    },
    {
      "cell_type": "code",
      "execution_count": null,
      "id": "dcAjG5bKaAQd",
      "metadata": {
        "id": "dcAjG5bKaAQd"
      },
      "outputs": [],
      "source": [
        "scaler = preprocessing.MinMaxScaler()\n",
        "scaler.fit(X_train)\n",
        "X_train_scaled = scaler.transform(X_train)\n",
        "X_test_scaled = scaler.transform(X_test)"
      ]
    },
    {
      "cell_type": "markdown",
      "id": "H7DZBta2aAQf",
      "metadata": {
        "id": "H7DZBta2aAQf",
        "tags": []
      },
      "source": [
        "### Оптимизация гиперпараметров модели"
      ]
    },
    {
      "cell_type": "markdown",
      "id": "CE7v-medaAQh",
      "metadata": {
        "id": "CE7v-medaAQh",
        "tags": []
      },
      "source": [
        "#### **Логистическая регрессия**"
      ]
    },
    {
      "cell_type": "markdown",
      "id": "5b6d603a-1ce0-414e-b095-e0f61113c0e7",
      "metadata": {
        "id": "5b6d603a-1ce0-414e-b095-e0f61113c0e7"
      },
      "source": [
        "Зафиксируем только метрики, которые были получены без дополнительной настройки, т.е со значениями гиперпараметров, установленных по умолчанию:"
      ]
    },
    {
      "cell_type": "code",
      "execution_count": null,
      "id": "0aMCHU3-aAQn",
      "metadata": {
        "colab": {
          "base_uri": "https://localhost:8080/"
        },
        "id": "0aMCHU3-aAQn",
        "outputId": "fbfe370e-3b9c-492a-f110-7e1de54237ab"
      },
      "outputs": [
        {
          "output_type": "stream",
          "name": "stdout",
          "text": [
            "accuracy на тестовом наборе: 0.76\n",
            "f1_score на тестовом наборе: 0.78\n"
          ]
        }
      ],
      "source": [
        "#Создаем объект класса логистическая регрессия\n",
        "log_reg = linear_model.LogisticRegression(max_iter = 1000)\n",
        "#Обучаем модель, минимизируя logloss\n",
        "log_reg.fit(X_train_scaled, y_train)\n",
        "print(\"accuracy на тестовом наборе: {:.2f}\".format(log_reg.score(X_test_scaled, y_test)))\n",
        "y_test_pred = log_reg.predict(X_test_scaled)\n",
        "print('f1_score на тестовом наборе: {:.2f}'.format(metrics.f1_score(y_test, y_test_pred)))"
      ]
    },
    {
      "cell_type": "markdown",
      "source": [
        "Зафиксируем метрику с базовыми параметрами модели: f1_score на тестовом наборе: 0.78"
      ],
      "metadata": {
        "id": "1bIQYyU-GIsy"
      },
      "id": "1bIQYyU-GIsy"
    },
    {
      "cell_type": "markdown",
      "id": "Q6PP7ObJp7WG",
      "metadata": {
        "id": "Q6PP7ObJp7WG"
      },
      "source": [
        "##### <center> GridSearchCV"
      ]
    },
    {
      "cell_type": "markdown",
      "id": "VfXtklWP5cJI",
      "metadata": {
        "id": "VfXtklWP5cJI"
      },
      "source": [
        "Чтобы воспользоваться классом GridSearchCV:\n",
        "- сначала необходимо импортировать библиотеку; \n",
        "- затем указать искомые гиперпараметры в виде словаря: ключами словаря являются имена настраиваемых гиперпараметров, а значениями – тестируемые настройки гиперпараметров; \n",
        "- после передаем модель (LogisticRegression), сетку искомых параметров (param_grid), а также число фолдов, которые мы хотим использовать в кросс-валидации, (допустим, пятиблочную кросс-валидацию, cv=5) и n_jobs = -1, чтобы использовать все доступные ядра для расчетов.\n",
        "\n",
        "Созданный нами объект grid_search аналогичен классификатору, мы можем вызвать стандартные методы fit, predict и score от его имени. Однако, когда мы вызываем fit, он запускает кросс-валидацию для каждой комбинации гиперпараметров, указанных в param_grid.\n",
        "\n",
        "GridSearchCV включает в себя не только поиск лучших параметров, но и автоматическое построение новой модели на всем обучающем наборе данных, используя параметры, которые дают наилучшее значение точности при кросс-валидации.\n"
      ]
    },
    {
      "cell_type": "code",
      "source": [
        "from sklearn.model_selection import GridSearchCV"
      ],
      "metadata": {
        "id": "MorFus-dSgEd"
      },
      "id": "MorFus-dSgEd",
      "execution_count": null,
      "outputs": []
    },
    {
      "cell_type": "code",
      "execution_count": null,
      "id": "drR8M2WLjOyM",
      "metadata": {
        "colab": {
          "base_uri": "https://localhost:8080/"
        },
        "id": "drR8M2WLjOyM",
        "outputId": "aa703b77-66a9-4cc5-df0f-b3ee233710c4"
      },
      "outputs": [
        {
          "output_type": "stream",
          "name": "stdout",
          "text": [
            "CPU times: user 9.57 s, sys: 1.15 s, total: 10.7 s\n",
            "Wall time: 30min 25s\n",
            "accuracy на тестовом наборе: 0.76\n",
            "f1_score на тестовом наборе: 0.79\n",
            "Наилучшие значения гиперпараметров: {'C': 0.1, 'penalty': 'l2', 'solver': 'lbfgs'}\n"
          ]
        }
      ],
      "source": [
        "param_grid = {'penalty': ['l2', 'none'] , # тип регуляризации\n",
        "              'solver': ['lbfgs', 'sag'], # алгоритм оптимизации\n",
        "               'C': [0.01, 0.1, 0.3, 0.5, 0.7, 0.9, 1]}, # уровень силы регурялизации\n",
        "\n",
        "grid_search_1 = GridSearchCV(\n",
        "    estimator=linear_model.LogisticRegression(random_state=1, max_iter=1000), \n",
        "    param_grid=param_grid, \n",
        "    cv=5, \n",
        "    n_jobs = -1\n",
        ")  \n",
        "%time grid_search_1.fit(X_train_scaled, y_train) \n",
        "print(\"accuracy на тестовом наборе: {:.2f}\".format(grid_search_1.score(X_test_scaled, y_test)))\n",
        "y_test_pred = grid_search_1.predict(X_test_scaled)\n",
        "print('f1_score на тестовом наборе: {:.2f}'.format(metrics.f1_score(y_test, y_test_pred)))\n",
        "print(\"Наилучшие значения гиперпараметров: {}\".format(grid_search_1.best_params_))"
      ]
    },
    {
      "cell_type": "markdown",
      "id": "ln1LrZaOXcLU",
      "metadata": {
        "id": "ln1LrZaOXcLU"
      },
      "source": [
        "Метрику  удалось улучшить c 0.78 до 0.79,но время потратили много, 30 минут ожидания.\n"
      ]
    },
    {
      "cell_type": "markdown",
      "id": "GA09esoBG6WS",
      "metadata": {
        "id": "GA09esoBG6WS"
      },
      "source": [
        "Итоговая полученная модель. "
      ]
    },
    {
      "cell_type": "code",
      "execution_count": null,
      "id": "8hzskokPDJ00",
      "metadata": {
        "colab": {
          "base_uri": "https://localhost:8080/"
        },
        "id": "8hzskokPDJ00",
        "outputId": "3f5a6762-821a-4276-fc19-50c494de8ea2"
      },
      "outputs": [
        {
          "output_type": "stream",
          "name": "stdout",
          "text": [
            "Наилучшая модель:\n",
            "LogisticRegression(C=0.1, max_iter=1000, random_state=1)\n"
          ]
        }
      ],
      "source": [
        "print(\"Наилучшая модель:\\n{}\".format(grid_search_1.best_estimator_))"
      ]
    },
    {
      "cell_type": "code",
      "execution_count": null,
      "id": "J8Fvuix4j1o5",
      "metadata": {
        "colab": {
          "base_uri": "https://localhost:8080/",
          "height": 296
        },
        "id": "J8Fvuix4j1o5",
        "outputId": "429506f5-3583-4825-ff86-81b5c7b8fa17"
      },
      "outputs": [
        {
          "output_type": "display_data",
          "data": {
            "text/plain": [
              "<Figure size 432x288 with 2 Axes>"
            ],
            "image/png": "[encoded data removed]"
          },
          "metadata": {
            "needs_background": "light"
          }
        }
      ],
      "source": [
        "# отрисуем, как менялась точность при различных гиперпараметрах\n",
        "visual = pd.pivot_table(pd.DataFrame(grid_search_1.cv_results_),\n",
        "                        values='mean_test_score', index='param_C',\n",
        "                        columns='param_solver')\n",
        "sns.heatmap(visual)\n",
        "plt.title('Тепловая карта зависимости метрики accuracy от solver и С') # подпись графика\n",
        "sns.set(rc={'figure.figsize':(12, 8)}) #задаем размер графика"
      ]
    },
    {
      "cell_type": "markdown",
      "id": "HdhfiJvUSia7",
      "metadata": {
        "id": "HdhfiJvUSia7"
      },
      "source": [
        "Видим, что слабая регуляризация С = 0,1 положительно влияет на метрику, поэтому есть смысл брать значения больше 0,1 и  алгоритмы оптимизации lbfgs и sag работают по разному."
      ]
    },
    {
      "cell_type": "markdown",
      "id": "QOlWE5zSptj0",
      "metadata": {
        "id": "QOlWE5zSptj0"
      },
      "source": [
        "##### <center> RandomizedSearchCV"
      ]
    },
    {
      "cell_type": "markdown",
      "id": "stnYdU2-rN4a",
      "metadata": {
        "id": "stnYdU2-rN4a"
      },
      "source": [
        "С использованием класса RandomizedSearchCV из библиотеки scikit learn мы осуществим оптимизацию гиперпараметров для алгоритмов логистической регрессии и случайного леса, а также сравним результаты с GridSearchCV и значениями по умолчанию."
      ]
    },
    {
      "cell_type": "code",
      "execution_count": null,
      "id": "4yjUJJKntcX7",
      "metadata": {
        "colab": {
          "base_uri": "https://localhost:8080/"
        },
        "id": "4yjUJJKntcX7",
        "outputId": "518c3f32-7af7-4937-ce51-6659048aac99"
      },
      "outputs": [
        {
          "output_type": "stream",
          "name": "stdout",
          "text": [
            "CPU times: user 5.71 s, sys: 658 ms, total: 6.37 s\n",
            "Wall time: 10min 38s\n",
            "accuracy на тестовом наборе: 0.76\n",
            "f1_score на тестовом наборе: 0.79\n",
            "Наилучшие значения гиперпараметров: {'solver': 'lbfgs', 'penalty': 'l2', 'C': 0.45}\n"
          ]
        }
      ],
      "source": [
        "from sklearn.model_selection import RandomizedSearchCV\n",
        "\n",
        "#np.linspace(start(от), stop(до), num=50(количество),dtype- тип данных)\n",
        "param_grid = {'penalty': ['l2', 'none'] ,\n",
        "              'solver': ['lbfgs', 'sag'],\n",
        "               'C': list(np.linspace(0.01, 1, 10, dtype=float))},\n",
        "            \n",
        "random_search = RandomizedSearchCV(\n",
        "    estimator=linear_model.LogisticRegression(random_state=42, max_iter=1000), \n",
        "    param_distributions=param_grid, \n",
        "    cv=5, \n",
        "    n_iter = 10, \n",
        "    n_jobs = -1\n",
        ")  \n",
        "%time random_search.fit(X_train_scaled, y_train) \n",
        "print(\"accuracy на тестовом наборе: {:.2f}\".format(random_search.score(X_test_scaled, y_test)))\n",
        "y_test_pred = random_search.predict(X_test_scaled)\n",
        "print('f1_score на тестовом наборе: {:.2f}'.format(metrics.f1_score(y_test, y_test_pred)))\n",
        "print(\"Наилучшие значения гиперпараметров: {}\".format(random_search.best_params_))"
      ]
    },
    {
      "cell_type": "markdown",
      "id": "o70ZkAU5Ok4A",
      "metadata": {
        "id": "o70ZkAU5Ok4A"
      },
      "source": [
        "За 10 итераций метрику улучшить не удалось, но затрачено в 3 раза меньше времени(10 минут). "
      ]
    },
    {
      "cell_type": "markdown",
      "id": "jBSbPYAYaAQ9",
      "metadata": {
        "id": "jBSbPYAYaAQ9",
        "tags": []
      },
      "source": [
        "#### **Случайный лес**"
      ]
    },
    {
      "cell_type": "markdown",
      "id": "-4-TPHjgTBOs",
      "metadata": {
        "id": "-4-TPHjgTBOs"
      },
      "source": [
        "Проделаем аналогичное для RandomForestClassifier().\n",
        "Сначала посчитаем модель с параметрами по умолчанию и оценим метрику:"
      ]
    },
    {
      "cell_type": "code",
      "execution_count": null,
      "id": "XUYSiTfraARA",
      "metadata": {
        "colab": {
          "base_uri": "https://localhost:8080/"
        },
        "id": "XUYSiTfraARA",
        "outputId": "cb1ac3df-9a41-404a-a3ac-b0c7c1fd67f5"
      },
      "outputs": [
        {
          "output_type": "stream",
          "name": "stdout",
          "text": [
            "Train: 1.00\n",
            "Test: 0.81\n"
          ]
        }
      ],
      "source": [
        "#Создаем объект класса случайный лес\n",
        "rf = ensemble.RandomForestClassifier(random_state=42)\n",
        "\n",
        "#Обучаем модель\n",
        "rf.fit(X_train_scaled, y_train)\n",
        "#Выводим значения метрики \n",
        "y_train_pred = rf.predict(X_train_scaled)\n",
        "print('Train: {:.2f}'.format(metrics.f1_score(y_train, y_train_pred)))\n",
        "y_test_pred = rf.predict(X_test_scaled)\n",
        "print('Test: {:.2f}'.format(metrics.f1_score(y_test, y_test_pred)))"
      ]
    },
    {
      "cell_type": "markdown",
      "source": [
        "Модель \"Случайный лес\" на базовых параметрах конечно же переобучилась, но на тестовой выборке метрика F1=0.81!!!"
      ],
      "metadata": {
        "id": "TOdGN2BcruOf"
      },
      "id": "TOdGN2BcruOf"
    },
    {
      "cell_type": "markdown",
      "id": "mFu0_kEXVp1q",
      "metadata": {
        "id": "mFu0_kEXVp1q"
      },
      "source": [
        "Теперь зададим сетку гиперпараметров: \n",
        "\n",
        "*   'n_estimators' - количество деревьев в лесу, по умолчанию =100\n",
        "\n",
        "*  'min_samples_leaf' - минимальное количество объектов в листе;\n",
        "*  'max_depth': максимальная глубина дерева, не должна быть слишком большой, иначе будет переобучение;\n",
        "\n",
        "\n",
        "\n",
        "\n",
        "И посчитаем RandomizedSearchCV() и затем GridSearchCV()\n",
        "\n",
        "\n",
        "\n"
      ]
    },
    {
      "cell_type": "markdown",
      "source": [
        "##### <center> RandomizedSearchCV"
      ],
      "metadata": {
        "id": "AtKB2nL3Wxch"
      },
      "id": "AtKB2nL3Wxch"
    },
    {
      "cell_type": "code",
      "execution_count": null,
      "id": "TBSxQJ6JzS1f",
      "metadata": {
        "colab": {
          "base_uri": "https://localhost:8080/"
        },
        "id": "TBSxQJ6JzS1f",
        "outputId": "78393554-8ec5-45bb-dd58-823512d4cbf5"
      },
      "outputs": [
        {
          "output_type": "stream",
          "name": "stdout",
          "text": [
            "CPU times: user 1.94 s, sys: 47.6 ms, total: 1.99 s\n",
            "Wall time: 48.7 s\n",
            "f1_score на обучающем наборе: 0.94\n",
            "accuracy на тестовом наборе: 0.81\n",
            "f1_score на тестовом наборе: 0.83\n",
            "Наилучшие значения гиперпараметров: {'n_estimators': 140, 'min_samples_leaf': 5, 'max_depth': 22}\n"
          ]
        }
      ],
      "source": [
        "param_grid = {'n_estimators': list(range(80, 200, 30)),\n",
        "              'min_samples_leaf': [5],\n",
        "              'max_depth': list(np.linspace(20, 40, 10, dtype=int))\n",
        "              }\n",
        "            \n",
        "random_search_forest = RandomizedSearchCV(\n",
        "    estimator=ensemble.RandomForestClassifier(random_state=42), \n",
        "    param_distributions=param_grid, \n",
        "    cv=5,\n",
        "    n_iter = 10, \n",
        "    n_jobs = -1\n",
        ")  \n",
        "%time random_search_forest.fit(X_train_scaled, y_train) \n",
        "y_train_pred = random_search_forest.predict(X_train_scaled)\n",
        "print('f1_score на обучающем наборе: {:.2f}'.format(metrics.f1_score(y_train, y_train_pred)))\n",
        "print(\"accuracy на тестовом наборе: {:.2f}\".format(random_search_forest.score(X_test_scaled, y_test)))\n",
        "y_test_pred = random_search_forest.predict(X_test_scaled)\n",
        "print('f1_score на тестовом наборе: {:.2f}'.format(metrics.f1_score(y_test, y_test_pred)))\n",
        "print(\"Наилучшие значения гиперпараметров: {}\".format(random_search_forest.best_params_))"
      ]
    },
    {
      "cell_type": "markdown",
      "source": [
        "##### <center> GridSearchCV"
      ],
      "metadata": {
        "id": "MJKKmlyeWriq"
      },
      "id": "MJKKmlyeWriq"
    },
    {
      "cell_type": "code",
      "execution_count": null,
      "id": "FMojHKnN06ke",
      "metadata": {
        "colab": {
          "base_uri": "https://localhost:8080/"
        },
        "id": "FMojHKnN06ke",
        "outputId": "6b005d2e-1db1-4252-e774-657027238660"
      },
      "outputs": [
        {
          "output_type": "stream",
          "name": "stdout",
          "text": [
            "CPU times: user 2.35 s, sys: 71.8 ms, total: 2.42 s\n",
            "Wall time: 1min 32s\n",
            "f1_score на обучающем наборе: 0.94\n",
            "accuracy на тестовом наборе: 0.80\n",
            "f1_score на тестовом наборе: 0.82\n",
            "Наилучшие значения гиперпараметров: {'max_depth': 20, 'min_samples_leaf': 5, 'n_estimators': 140}\n"
          ]
        }
      ],
      "source": [
        "param_grid = {'n_estimators': list(range(80, 200, 30)),\n",
        "              'min_samples_leaf': [5],\n",
        "              'max_depth': list(np.linspace(20, 40, 5, dtype=int))\n",
        "              }\n",
        "            \n",
        "grid_search_forest = GridSearchCV(\n",
        "    estimator=ensemble.RandomForestClassifier(random_state=42), \n",
        "    param_grid=param_grid, \n",
        "    cv=5, \n",
        "    n_jobs = -1\n",
        ")  \n",
        "%time grid_search_forest.fit(X_train_scaled, y_train) \n",
        "y_train_pred = grid_search_forest.predict(X_train_scaled)\n",
        "print('f1_score на обучающем наборе: {:.2f}'.format(metrics.f1_score(y_train, y_train_pred)))\n",
        "print(\"accuracy на тестовом наборе: {:.2f}\".format(grid_search_forest.score(X_test_scaled, y_test)))\n",
        "y_test_pred = grid_search_forest.predict(X_test_scaled)\n",
        "print('f1_score на тестовом наборе: {:.2f}'.format(metrics.f1_score(y_test, y_test_pred)))\n",
        "print(\"Наилучшие значения гиперпараметров: {}\".format(grid_search_forest.best_params_))"
      ]
    },
    {
      "cell_type": "markdown",
      "id": "WkQaYLPQXZvp",
      "metadata": {
        "id": "WkQaYLPQXZvp"
      },
      "source": [
        "Метрику удалось еще больше улучшить с помощью обоих методов, но RandomizedSearchCV опять же потребовалось в два раза меньше времени;"
      ]
    },
    {
      "cell_type": "markdown",
      "id": "Z0oexy_WZsgj",
      "metadata": {
        "id": "Z0oexy_WZsgj"
      },
      "source": [
        "#### **Вывод по базовой оптимизации:**\n",
        "На множестве примеров нам удалось продемонстрировать более эффективную и быструю работу RandomizedSearchCV над GridSearchCV."
      ]
    },
    {
      "cell_type": "markdown",
      "id": "9c224fa3-0468-4aa0-9877-057a98a92010",
      "metadata": {
        "id": "9c224fa3-0468-4aa0-9877-057a98a92010"
      },
      "source": [
        "## 3. Продвинутая оптимизация."
      ]
    },
    {
      "cell_type": "markdown",
      "id": "abd91fa8-8b52-4c41-ade6-ec96a1895a0a",
      "metadata": {
        "id": "abd91fa8-8b52-4c41-ade6-ec96a1895a0a"
      },
      "source": [
        "Оценка качества модели для каждой комбинации гиперпараметров является дорогостоящей частью оптимизации, поэтому в идеале мы хотим делать это самым эффективным образом. Один из способов  — это выбор следующей комбинации гиперпараметров на основе прошлых результатов. \n",
        "Байесовская оптимизация отличается от случайного поиска или поиска по сетке тем, что делает именно это: вместо того, чтобы просто выбирать комбинации из сетки, не имеющей информации о прошлых оценках, байесовские методы учитывают предыдущие результаты, чтобы попробовать более многообещающие комбинации значений. Это позволяет во многих случаях найти лучшие значения гиперпараметров модели за меньшее количество времени.\n",
        "Таким образом, мы получаем и более быструю оптимизацию, и более качественный результат. Это два желаемых результата, особенно когда мы работаем с настройкой гиперпараметров моделей машинного обучения."
      ]
    },
    {
      "cell_type": "markdown",
      "id": "Kmo2b6kPChhN",
      "metadata": {
        "id": "Kmo2b6kPChhN"
      },
      "source": [
        "### <center> Hyperopt\n",
        "\n",
        "---\n",
        "\n"
      ]
    },
    {
      "cell_type": "code",
      "execution_count": null,
      "id": "aSpCOHIW7i_u",
      "metadata": {
        "id": "aSpCOHIW7i_u"
      },
      "outputs": [],
      "source": [
        "# Устанавливаем библиотеку\n",
        "# !pip install hyperopt\n",
        "# или\n",
        "#!conda install -c conda-forge hyperopt"
      ]
    },
    {
      "cell_type": "code",
      "execution_count": null,
      "id": "Ae44foDuCzke",
      "metadata": {
        "colab": {
          "base_uri": "https://localhost:8080/"
        },
        "id": "Ae44foDuCzke",
        "outputId": "e7473675-27f8-4dcb-8af9-024a02c3d0d0"
      },
      "outputs": [
        {
          "output_type": "stream",
          "name": "stdout",
          "text": [
            "Версия Hyperopt : 0.2\n"
          ]
        }
      ],
      "source": [
        "#делаем импорт и выведем версию библиотеки\n",
        "from sklearn.model_selection import cross_val_score\n",
        "import hyperopt\n",
        "from hyperopt import hp, fmin, tpe, Trials\n",
        "# fmin - основная функция, она будет минимизировать наш функционал\n",
        "# tpe - алгоритм оптимизации\n",
        "# hp - включает набор методов для объявления пространства поиска гиперпараметров\n",
        "# trails - используется для логирования результатов\n",
        "\n",
        "print(\"Версия Hyperopt : {}\".format(hyperopt.__version__))"
      ]
    },
    {
      "cell_type": "markdown",
      "source": [
        "#### **Логистическая регрессия**"
      ],
      "metadata": {
        "id": "5N-v7bvaJujb"
      },
      "id": "5N-v7bvaJujb"
    },
    {
      "cell_type": "markdown",
      "source": [
        "Настроим оптимизацию гиперпараметров для алгоритма случайного леса."
      ],
      "metadata": {
        "id": "YUU5ERvoKFPx"
      },
      "id": "YUU5ERvoKFPx"
    },
    {
      "cell_type": "code",
      "execution_count": 56,
      "metadata": {
        "id": "FKI0x70oKFPx"
      },
      "outputs": [],
      "source": [
        "# зададим пространство поиска гиперпараметров\n",
        "space={'penalty': hp.choice('penalty', ['l2', 'none']),\n",
        "       'solver' : hp.choice('solver', ['lbfgs', 'sag', ]),\n",
        "       'C': hp.quniform('C', 0.1, 1.01, 0.1)}"
      ],
      "id": "FKI0x70oKFPx"
    },
    {
      "cell_type": "markdown",
      "metadata": {
        "id": "hWvu-MBwKFPy"
      },
      "source": [
        "Интерфейс hyperopt отличается от Grid или RandomizedSearch, поэтому нам нужно создать функцию для минимизации, она должна принимать словарь значений гиперпараметров и возвращать значение целевой функции."
      ],
      "id": "hWvu-MBwKFPy"
    },
    {
      "cell_type": "code",
      "execution_count": 57,
      "metadata": {
        "id": "ccdETZYvKFPy"
      },
      "outputs": [],
      "source": [
        "# зафксируем random_state\n",
        "random_state = 42\n",
        "def hyperopt_lr(params, cv=5, X=X_train_scaled, y=y_train, random_state=random_state):\n",
        "    # функция получает комбинацию гиперпараметров в \"params\"\n",
        "    params = {'penalty': str(params['penalty']), \n",
        "              'solver': str(params['solver']), \n",
        "              'C': float(params['C'])\n",
        "               }\n",
        "  \n",
        "    # используем эту комбинацию для построения модели\n",
        "    model = linear_model.LogisticRegression(**params, random_state=random_state,n_jobs=-1)\n",
        "\n",
        "    # обучаем модель\n",
        "    model.fit(X, y)\n",
        "    score = metrics.f1_score(y, model.predict(X))\n",
        "    \n",
        "    # обучать модель можно также с помощью кросс-валидации\n",
        "    # применим  cross validation с тем же количеством фолдов\n",
        "    # score = cross_val_score(model, X, y, cv=cv, scoring=\"f1\", n_jobs=-1).mean()\n",
        "\n",
        "    # метрику необходимо минимизировать, поэтому ставим знак минус\n",
        "    return -score"
      ],
      "id": "ccdETZYvKFPy"
    },
    {
      "cell_type": "code",
      "execution_count": 58,
      "metadata": {
        "colab": {
          "base_uri": "https://localhost:8080/"
        },
        "outputId": "a15cfe3b-4fb3-41ed-9baa-5c21cb8ac6b1",
        "id": "qCgdPeSLKFPz"
      },
      "outputs": [
        {
          "output_type": "stream",
          "name": "stdout",
          "text": [
            "  5%|▌         | 1/20 [00:07<02:20,  7.42s/it, best loss: -0.8704156479217605]"
          ]
        },
        {
          "output_type": "stream",
          "name": "stderr",
          "text": [
            "/usr/local/lib/python3.7/dist-packages/sklearn/linear_model/_sag.py:354: ConvergenceWarning: The max_iter was reached which means the coef_ did not converge\n",
            "  ConvergenceWarning,\n",
            "\n",
            "/usr/local/lib/python3.7/dist-packages/sklearn/linear_model/_logistic.py:1526: UserWarning: 'n_jobs' > 1 does not have any effect when 'solver' is set to 'liblinear'. Got 'n_jobs' = 2.\n",
            "  \" = {}.\".format(effective_n_jobs(self.n_jobs))\n",
            "\n"
          ]
        },
        {
          "output_type": "stream",
          "name": "stdout",
          "text": [
            "\r 10%|█         | 2/20 [00:08<01:04,  3.59s/it, best loss: -0.8842040941032691]"
          ]
        },
        {
          "output_type": "stream",
          "name": "stderr",
          "text": [
            "/usr/local/lib/python3.7/dist-packages/sklearn/linear_model/_logistic.py:1526: UserWarning: 'n_jobs' > 1 does not have any effect when 'solver' is set to 'liblinear'. Got 'n_jobs' = 2.\n",
            "  \" = {}.\".format(effective_n_jobs(self.n_jobs))\n",
            "\n"
          ]
        },
        {
          "output_type": "stream",
          "name": "stdout",
          "text": [
            "\r 15%|█▌        | 3/20 [00:09<00:39,  2.31s/it, best loss: -0.8842040941032691]"
          ]
        },
        {
          "output_type": "stream",
          "name": "stderr",
          "text": [
            "/usr/local/lib/python3.7/dist-packages/sklearn/linear_model/_logistic.py:1526: UserWarning: 'n_jobs' > 1 does not have any effect when 'solver' is set to 'liblinear'. Got 'n_jobs' = 2.\n",
            "  \" = {}.\".format(effective_n_jobs(self.n_jobs))\n",
            "\n"
          ]
        },
        {
          "output_type": "stream",
          "name": "stdout",
          "text": [
            " 25%|██▌       | 5/20 [00:19<01:09,  4.62s/it, best loss: -0.8883450596512695]"
          ]
        },
        {
          "output_type": "stream",
          "name": "stderr",
          "text": [
            "/usr/local/lib/python3.7/dist-packages/sklearn/linear_model/_sag.py:354: ConvergenceWarning: The max_iter was reached which means the coef_ did not converge\n",
            "  ConvergenceWarning,\n",
            "\n"
          ]
        },
        {
          "output_type": "stream",
          "name": "stdout",
          "text": [
            "\r 30%|███       | 6/20 [00:30<01:32,  6.62s/it, best loss: -0.8883450596512695]"
          ]
        },
        {
          "output_type": "stream",
          "name": "stderr",
          "text": [
            "/usr/local/lib/python3.7/dist-packages/sklearn/linear_model/_sag.py:354: ConvergenceWarning: The max_iter was reached which means the coef_ did not converge\n",
            "  ConvergenceWarning,\n",
            "\n",
            "/usr/local/lib/python3.7/dist-packages/sklearn/linear_model/_logistic.py:1526: UserWarning: 'n_jobs' > 1 does not have any effect when 'solver' is set to 'liblinear'. Got 'n_jobs' = 2.\n",
            "  \" = {}.\".format(effective_n_jobs(self.n_jobs))\n",
            "\n"
          ]
        },
        {
          "output_type": "stream",
          "name": "stdout",
          "text": [
            "\r 35%|███▌      | 7/20 [00:31<01:01,  4.74s/it, best loss: -0.8883450596512695]"
          ]
        },
        {
          "output_type": "stream",
          "name": "stderr",
          "text": [
            "/usr/local/lib/python3.7/dist-packages/sklearn/linear_model/_logistic.py:1526: UserWarning: 'n_jobs' > 1 does not have any effect when 'solver' is set to 'liblinear'. Got 'n_jobs' = 2.\n",
            "  \" = {}.\".format(effective_n_jobs(self.n_jobs))\n",
            "\n"
          ]
        },
        {
          "output_type": "stream",
          "name": "stdout",
          "text": [
            "\r 40%|████      | 8/20 [00:31<00:42,  3.52s/it, best loss: -0.8883450596512695]"
          ]
        },
        {
          "output_type": "stream",
          "name": "stderr",
          "text": [
            "/usr/local/lib/python3.7/dist-packages/sklearn/linear_model/_logistic.py:1526: UserWarning: 'n_jobs' > 1 does not have any effect when 'solver' is set to 'liblinear'. Got 'n_jobs' = 2.\n",
            "  \" = {}.\".format(effective_n_jobs(self.n_jobs))\n",
            "\n"
          ]
        },
        {
          "output_type": "stream",
          "name": "stdout",
          "text": [
            "\r 45%|████▌     | 9/20 [00:32<00:29,  2.67s/it, best loss: -0.8883450596512695]"
          ]
        },
        {
          "output_type": "stream",
          "name": "stderr",
          "text": [
            "/usr/local/lib/python3.7/dist-packages/sklearn/linear_model/_logistic.py:1526: UserWarning: 'n_jobs' > 1 does not have any effect when 'solver' is set to 'liblinear'. Got 'n_jobs' = 2.\n",
            "  \" = {}.\".format(effective_n_jobs(self.n_jobs))\n",
            "\n"
          ]
        },
        {
          "output_type": "stream",
          "name": "stdout",
          "text": [
            " 55%|█████▌    | 11/20 [00:45<00:44,  5.00s/it, best loss: -0.8883450596512695]"
          ]
        },
        {
          "output_type": "stream",
          "name": "stderr",
          "text": [
            "/usr/local/lib/python3.7/dist-packages/sklearn/linear_model/_sag.py:354: ConvergenceWarning: The max_iter was reached which means the coef_ did not converge\n",
            "  ConvergenceWarning,\n",
            "\n",
            "/usr/local/lib/python3.7/dist-packages/sklearn/linear_model/_logistic.py:1526: UserWarning: 'n_jobs' > 1 does not have any effect when 'solver' is set to 'liblinear'. Got 'n_jobs' = 2.\n",
            "  \" = {}.\".format(effective_n_jobs(self.n_jobs))\n",
            "\n"
          ]
        },
        {
          "output_type": "stream",
          "name": "stdout",
          "text": [
            " 65%|██████▌   | 13/20 [00:53<00:33,  4.85s/it, best loss: -0.8883450596512695]"
          ]
        },
        {
          "output_type": "stream",
          "name": "stderr",
          "text": [
            "/usr/local/lib/python3.7/dist-packages/sklearn/linear_model/_sag.py:354: ConvergenceWarning: The max_iter was reached which means the coef_ did not converge\n",
            "  ConvergenceWarning,\n",
            "\n",
            "/usr/local/lib/python3.7/dist-packages/sklearn/linear_model/_logistic.py:1526: UserWarning: 'n_jobs' > 1 does not have any effect when 'solver' is set to 'liblinear'. Got 'n_jobs' = 2.\n",
            "  \" = {}.\".format(effective_n_jobs(self.n_jobs))\n",
            "\n"
          ]
        },
        {
          "output_type": "stream",
          "name": "stdout",
          "text": [
            "\r 70%|███████   | 14/20 [00:54<00:21,  3.59s/it, best loss: -0.8883450596512695]"
          ]
        },
        {
          "output_type": "stream",
          "name": "stderr",
          "text": [
            "/usr/local/lib/python3.7/dist-packages/sklearn/linear_model/_logistic.py:1526: UserWarning: 'n_jobs' > 1 does not have any effect when 'solver' is set to 'liblinear'. Got 'n_jobs' = 2.\n",
            "  \" = {}.\".format(effective_n_jobs(self.n_jobs))\n",
            "\n"
          ]
        },
        {
          "output_type": "stream",
          "name": "stdout",
          "text": [
            "\r 75%|███████▌  | 15/20 [00:55<00:13,  2.79s/it, best loss: -0.8883450596512695]"
          ]
        },
        {
          "output_type": "stream",
          "name": "stderr",
          "text": [
            "/usr/local/lib/python3.7/dist-packages/sklearn/linear_model/_logistic.py:1526: UserWarning: 'n_jobs' > 1 does not have any effect when 'solver' is set to 'liblinear'. Got 'n_jobs' = 2.\n",
            "  \" = {}.\".format(effective_n_jobs(self.n_jobs))\n",
            "\n"
          ]
        },
        {
          "output_type": "stream",
          "name": "stdout",
          "text": [
            " 85%|████████▌ | 17/20 [01:03<00:11,  3.77s/it, best loss: -0.8883450596512695]"
          ]
        },
        {
          "output_type": "stream",
          "name": "stderr",
          "text": [
            "/usr/local/lib/python3.7/dist-packages/sklearn/linear_model/_sag.py:354: ConvergenceWarning: The max_iter was reached which means the coef_ did not converge\n",
            "  ConvergenceWarning,\n",
            "\n",
            "/usr/local/lib/python3.7/dist-packages/sklearn/linear_model/_logistic.py:1526: UserWarning: 'n_jobs' > 1 does not have any effect when 'solver' is set to 'liblinear'. Got 'n_jobs' = 2.\n",
            "  \" = {}.\".format(effective_n_jobs(self.n_jobs))\n",
            "\n"
          ]
        },
        {
          "output_type": "stream",
          "name": "stdout",
          "text": [
            " 95%|█████████▌| 19/20 [01:15<00:05,  5.42s/it, best loss: -0.8883450596512695]"
          ]
        },
        {
          "output_type": "stream",
          "name": "stderr",
          "text": [
            "/usr/local/lib/python3.7/dist-packages/sklearn/linear_model/_sag.py:354: ConvergenceWarning: The max_iter was reached which means the coef_ did not converge\n",
            "  ConvergenceWarning,\n",
            "\n",
            "/usr/local/lib/python3.7/dist-packages/sklearn/linear_model/_logistic.py:1526: UserWarning: 'n_jobs' > 1 does not have any effect when 'solver' is set to 'liblinear'. Got 'n_jobs' = 2.\n",
            "  \" = {}.\".format(effective_n_jobs(self.n_jobs))\n",
            "\n"
          ]
        },
        {
          "output_type": "stream",
          "name": "stdout",
          "text": [
            "100%|██████████| 20/20 [01:16<00:00,  3.82s/it, best loss: -0.8883450596512695]\n",
            "Наилучшие значения гиперпараметров {'C': 0.9, 'penalty': 1, 'solver': 0}\n",
            "CPU times: user 1min 16s, sys: 2 s, total: 1min 18s\n",
            "Wall time: 1min 16s\n"
          ]
        }
      ],
      "source": [
        "# начинаем подбор гиперпараметров\n",
        "%%time\n",
        "\n",
        "trials = Trials() # используется для логирования результатов\n",
        "\n",
        "best=fmin(hyperopt_lr, # наша функция \n",
        "          space=space, # пространство гиперпараметров\n",
        "          algo=tpe.suggest, # алгоритм оптимизации, установлен по умолчанию, задавать необязательно\n",
        "          max_evals=20, # максимальное количество итераций\n",
        "          trials=trials, # логирование результатов\n",
        "          rstate=np.random.RandomState(random_state)# фиксируем для повторяемости результата\n",
        "         )\n",
        "print(\"Наилучшие значения гиперпараметров {}\".format(best))"
      ],
      "id": "qCgdPeSLKFPz"
    },
    {
      "cell_type": "code",
      "execution_count": 43,
      "metadata": {
        "colab": {
          "base_uri": "https://localhost:8080/"
        },
        "outputId": "c5b3efc0-43cc-44ba-a0d2-af69f82fdcc7",
        "id": "aWgIjJIHKFPz"
      },
      "outputs": [
        {
          "output_type": "stream",
          "name": "stdout",
          "text": [
            "f1_score на обучающем наборе: 0.88\n",
            "accuracy на тестовом наборе: 0.76\n",
            "f1_score на тестовом наборе: 0.78\n"
          ]
        }
      ],
      "source": [
        "# рассчитаем точность для тестовой выборки\n",
        "model = linear_model.LogisticRegression(\n",
        "    random_state=random_state, \n",
        "    penalty='l2',\n",
        "    solver='sag',\n",
        "    C=float(best['C']),\n",
        "    max_iter=1000\n",
        ")\n",
        "model.fit(X_train_scaled, y_train)\n",
        "y_train_pred = model.predict(X_train_scaled)\n",
        "print('f1_score на обучающем наборе: {:.2f}'.format(metrics.f1_score(y_train, y_train_pred)))\n",
        "print(\"accuracy на тестовом наборе: {:.2f}\".format(model.score(X_test_scaled, y_test)))\n",
        "y_test_pred = model.predict(X_test_scaled)\n",
        "print('f1_score на тестовом наборе: {:.2f}'.format(metrics.f1_score(y_test, y_test_pred)))"
      ],
      "id": "aWgIjJIHKFPz"
    },
    {
      "cell_type": "markdown",
      "metadata": {
        "id": "MD4xyfxiKFP1"
      },
      "source": [
        "Hyperot выдал многочисленные предупреждения и ошибки. Метрика не улучшилась."
      ],
      "id": "MD4xyfxiKFP1"
    },
    {
      "cell_type": "markdown",
      "source": [
        "#### **Случайный лес**"
      ],
      "metadata": {
        "id": "7LawWf7aKJRe"
      },
      "id": "7LawWf7aKJRe"
    },
    {
      "cell_type": "markdown",
      "source": [
        "Настроим оптимизацию гиперпараметров для алгоритма случайного леса."
      ],
      "metadata": {
        "id": "z9K7uLdZ69xr"
      },
      "id": "z9K7uLdZ69xr"
    },
    {
      "cell_type": "code",
      "execution_count": 59,
      "id": "8dWxW_9K_qJp",
      "metadata": {
        "id": "8dWxW_9K_qJp"
      },
      "outputs": [],
      "source": [
        "# зададим пространство поиска гиперпараметров\n",
        "space={'n_estimators': hp.quniform('n_estimators', 100, 200, 1),\n",
        "       'max_depth' : hp.quniform('max_depth', 15, 26, 1),\n",
        "       'min_samples_leaf': hp.quniform('min_samples_leaf', 2, 10, 1)\n",
        "      }"
      ]
    },
    {
      "cell_type": "markdown",
      "id": "pci4SxXM_Cb4",
      "metadata": {
        "id": "pci4SxXM_Cb4"
      },
      "source": [
        "Интерфейс hyperopt отличается от Grid или RandomizedSearch, поэтому нам нужно создать функцию для минимизации, она должна принимать словарь значений гиперпараметров и возвращать значение целевой функции."
      ]
    },
    {
      "cell_type": "code",
      "execution_count": 60,
      "id": "t3JS7HXU8pd2",
      "metadata": {
        "id": "t3JS7HXU8pd2"
      },
      "outputs": [],
      "source": [
        "# зафксируем random_state\n",
        "random_state = 42\n",
        "def hyperopt_rf(params, cv=5, X=X_train_scaled, y=y_train, random_state=random_state):\n",
        "    # функция получает комбинацию гиперпараметров в \"params\"\n",
        "    params = {'n_estimators': int(params['n_estimators']), \n",
        "              'max_depth': int(params['max_depth']), \n",
        "             'min_samples_leaf': int(params['min_samples_leaf'])\n",
        "              }\n",
        "  \n",
        "    # используем эту комбинацию для построения модели\n",
        "    model = ensemble.RandomForestClassifier(**params, random_state=random_state)\n",
        "\n",
        "    # обучаем модель\n",
        "    model.fit(X, y)\n",
        "    score = metrics.f1_score(y, model.predict(X))\n",
        "    \n",
        "    # обучать модель можно также с помощью кросс-валидации\n",
        "    # применим  cross validation с тем же количеством фолдов\n",
        "    # score = cross_val_score(model, X, y, cv=cv, scoring=\"f1\", n_jobs=-1).mean()\n",
        "\n",
        "    # метрику необходимо минимизировать, поэтому ставим знак минус\n",
        "    return -score"
      ]
    },
    {
      "cell_type": "code",
      "execution_count": 61,
      "id": "qxKIThc002O1",
      "metadata": {
        "colab": {
          "base_uri": "https://localhost:8080/"
        },
        "id": "qxKIThc002O1",
        "outputId": "2ba07656-161a-4396-bc83-2de18fa4d9b4"
      },
      "outputs": [
        {
          "output_type": "stream",
          "name": "stdout",
          "text": [
            "100%|██████████| 20/20 [01:00<00:00,  3.03s/it, best loss: -0.9908144519289651]\n",
            "Наилучшие значения гиперпараметров {'max_depth': 24.0, 'min_samples_leaf': 2.0, 'n_estimators': 153.0}\n",
            "CPU times: user 1min, sys: 175 ms, total: 1min\n",
            "Wall time: 1min\n"
          ]
        }
      ],
      "source": [
        "# начинаем подбор гиперпараметров\n",
        "%%time\n",
        "\n",
        "trials = Trials() # используется для логирования результатов\n",
        "\n",
        "best=fmin(hyperopt_rf, # наша функция \n",
        "          space=space, # пространство гиперпараметров\n",
        "          algo=tpe.suggest, # алгоритм оптимизации, установлен по умолчанию, задавать необязательно\n",
        "          max_evals=20, # максимальное количество итераций\n",
        "          trials=trials, # логирование результатов\n",
        "          rstate=np.random.RandomState(random_state)# фиксируем для повторяемости результата\n",
        "         )\n",
        "print(\"Наилучшие значения гиперпараметров {}\".format(best))"
      ]
    },
    {
      "cell_type": "code",
      "execution_count": 62,
      "id": "GjN-n5J601hy",
      "metadata": {
        "colab": {
          "base_uri": "https://localhost:8080/"
        },
        "id": "GjN-n5J601hy",
        "outputId": "ef593baa-6104-446b-f761-e32e38ac92fe"
      },
      "outputs": [
        {
          "output_type": "stream",
          "name": "stdout",
          "text": [
            "f1_score на обучающем наборе: 0.99\n",
            "accuracy на тестовом наборе: 0.80\n",
            "f1_score на тестовом наборе: 0.82\n"
          ]
        }
      ],
      "source": [
        "# рассчитаем точность для тестовой выборки\n",
        "model = ensemble.RandomForestClassifier(\n",
        "    random_state=random_state, \n",
        "    n_estimators=int(best['n_estimators']),\n",
        "    max_depth=int(best['max_depth']),\n",
        "    min_samples_leaf=int(best['min_samples_leaf'])\n",
        ")\n",
        "model.fit(X_train_scaled, y_train)\n",
        "y_train_pred = model.predict(X_train_scaled)\n",
        "print('f1_score на обучающем наборе: {:.2f}'.format(metrics.f1_score(y_train, y_train_pred)))\n",
        "print(\"accuracy на тестовом наборе: {:.2f}\".format(model.score(X_test_scaled, y_test)))\n",
        "y_test_pred = model.predict(X_test_scaled)\n",
        "print('f1_score на тестовом наборе: {:.2f}'.format(metrics.f1_score(y_test, y_test_pred)))"
      ]
    },
    {
      "cell_type": "markdown",
      "id": "TqQqJI7UHLUJ",
      "metadata": {
        "id": "TqQqJI7UHLUJ"
      },
      "source": [
        "Hyperot не смог улучшить нашу метрику. Пока лучшая метрика у RandomizedSearchCV."
      ]
    },
    {
      "cell_type": "code",
      "execution_count": 63,
      "id": "m2DYa5gQ9Ffu",
      "metadata": {
        "colab": {
          "base_uri": "https://localhost:8080/",
          "height": 592
        },
        "id": "m2DYa5gQ9Ffu",
        "outputId": "6bc4703c-791f-4978-db02-7cded5ffa853"
      },
      "outputs": [
        {
          "output_type": "display_data",
          "data": {
            "text/plain": [
              "<Figure size 720x720 with 3 Axes>"
            ],
            "image/png": "[encoded data removed]"
          },
          "metadata": {}
        }
      ],
      "source": [
        "# отрисуем, как менялась точность при различных гиперпараметрах\n",
        "tpe_results=np.array([[x['result']['loss'],\n",
        "                      x['misc']['vals']['max_depth'][0],\n",
        "                      x['misc']['vals']['n_estimators'][0]] for x in trials.trials])\n",
        "\n",
        "tpe_results_df=pd.DataFrame(tpe_results,\n",
        "                           columns=['score', 'max_depth', 'n_estimators'])\n",
        "# тепловая карта в данном случае не очень наглядна, возьмем линейный график\n",
        "tpe_results_df.plot(subplots=True,figsize=(10, 10));"
      ]
    },
    {
      "cell_type": "markdown",
      "id": "b8734d51-d5d5-4424-b8a3-b341dde985b5",
      "metadata": {
        "id": "b8734d51-d5d5-4424-b8a3-b341dde985b5"
      },
      "source": [
        "### <center> Optuna"
      ]
    },
    {
      "cell_type": "markdown",
      "id": "64a579c2-4e99-4373-b3c4-ca4aad36e5c0",
      "metadata": {
        "id": "64a579c2-4e99-4373-b3c4-ca4aad36e5c0"
      },
      "source": [
        "Optuna - это достаточно новый фреймворк/библиотека, разработанный специально для оптимизации гиперпараметров. Помимо байесовских алгоритмов, есть возможность удаления плохих комбинаций из рассмотрения. По умолчанию удаляет комбинации, в которых модель дает качество ниже медианы из уже рассмотренных. Optuna помогает  быстрее находить лучшие гиперпараметры и работает с большинством современных известных библиотек ML, таких как scikit-learn, xgboost, PyTorch, TensorFlow, skorch, lightgbm, Keras, fast-ai и др."
      ]
    },
    {
      "cell_type": "code",
      "execution_count": 66,
      "id": "cNySTr2GqwbF",
      "metadata": {
        "id": "cNySTr2GqwbF"
      },
      "outputs": [],
      "source": [
        "# Устанавливаем библиотеку\n",
        "#!pip install optuna\n",
        "# или\n",
        "#!conda install -c conda-forge optuna"
      ]
    },
    {
      "cell_type": "code",
      "execution_count": 67,
      "id": "CQL0pyNGqQgR",
      "metadata": {
        "colab": {
          "base_uri": "https://localhost:8080/"
        },
        "id": "CQL0pyNGqQgR",
        "outputId": "67b97862-84d6-4668-b71c-661b4d4be0be"
      },
      "outputs": [
        {
          "output_type": "stream",
          "name": "stdout",
          "text": [
            "Версия Optuna: 2.10.1\n"
          ]
        }
      ],
      "source": [
        "import optuna\n",
        "\n",
        "print(\"Версия Optuna: {}\".format(optuna.__version__))"
      ]
    },
    {
      "cell_type": "markdown",
      "source": [
        "#### **Логистическая регрессия**"
      ],
      "metadata": {
        "id": "AHKApS2dPGiR"
      },
      "id": "AHKApS2dPGiR"
    },
    {
      "cell_type": "markdown",
      "source": [
        "Настроим оптимизацию гиперпараметров для алгоритма случайного леса."
      ],
      "metadata": {
        "id": "PPR54ca3DbDi"
      },
      "id": "PPR54ca3DbDi"
    },
    {
      "cell_type": "code",
      "execution_count": 70,
      "id": "aSF_70FWu3T6",
      "metadata": {
        "id": "aSF_70FWu3T6"
      },
      "outputs": [],
      "source": [
        "def optuna_lr(trial):\n",
        "  # задаем пространства поиска гиперпараметров\n",
        "  penalty = trial.suggest_categorical('penalty', ['l2', 'none'])\n",
        "  solver = trial.suggest_categorical('solver', ['lbfgs', 'sag'])\n",
        "  C = trial.suggest_float('C', 0.01, 1, log=True)\n",
        "\n",
        "  # создаем модель\n",
        "  model = linear_model.LogisticRegression(penalty=penalty,\n",
        "                                          solver=solver,\n",
        "                                          C=C,\n",
        "                                          random_state=random_state)\n",
        "  # обучаем модель\n",
        "  model.fit(X_train_scaled, y_train)\n",
        "  score = metrics.f1_score(y_train, model.predict(X_train_scaled))\n",
        "\n",
        "  return score\n",
        "  \n"
      ]
    },
    {
      "cell_type": "code",
      "execution_count": 72,
      "id": "ubC21yLQpYyF",
      "metadata": {
        "colab": {
          "base_uri": "https://localhost:8080/"
        },
        "id": "ubC21yLQpYyF",
        "outputId": "f05338fc-746a-4661-9008-adeac318232b"
      },
      "outputs": [
        {
          "output_type": "stream",
          "name": "stderr",
          "text": [
            "\u001b[32m[I 2022-06-17 10:19:59,604]\u001b[0m A new study created in memory with name: LogisticRegression\u001b[0m\n",
            "/usr/local/lib/python3.7/dist-packages/sklearn/linear_model/_sag.py:354: ConvergenceWarning: The max_iter was reached which means the coef_ did not converge\n",
            "  ConvergenceWarning,\n",
            "\u001b[32m[I 2022-06-17 10:20:08,958]\u001b[0m Trial 0 finished with value: 0.866646322856271 and parameters: {'penalty': 'l2', 'solver': 'sag', 'C': 0.2444621977254634}. Best is trial 0 with value: 0.866646322856271.\u001b[0m\n",
            "/usr/local/lib/python3.7/dist-packages/sklearn/linear_model/_logistic.py:1484: UserWarning: Setting penalty='none' will ignore the C and l1_ratio parameters\n",
            "  \"Setting penalty='none' will ignore the C and l1_ratio parameters\"\n",
            "/usr/local/lib/python3.7/dist-packages/sklearn/linear_model/_sag.py:354: ConvergenceWarning: The max_iter was reached which means the coef_ did not converge\n",
            "  ConvergenceWarning,\n",
            "\u001b[32m[I 2022-06-17 10:20:15,058]\u001b[0m Trial 1 finished with value: 0.8883450596512695 and parameters: {'penalty': 'none', 'solver': 'sag', 'C': 0.02574420664455496}. Best is trial 1 with value: 0.8883450596512695.\u001b[0m\n",
            "/usr/local/lib/python3.7/dist-packages/sklearn/linear_model/_logistic.py:1484: UserWarning: Setting penalty='none' will ignore the C and l1_ratio parameters\n",
            "  \"Setting penalty='none' will ignore the C and l1_ratio parameters\"\n",
            "/usr/local/lib/python3.7/dist-packages/sklearn/linear_model/_sag.py:354: ConvergenceWarning: The max_iter was reached which means the coef_ did not converge\n",
            "  ConvergenceWarning,\n",
            "\u001b[32m[I 2022-06-17 10:20:21,184]\u001b[0m Trial 2 finished with value: 0.8883450596512695 and parameters: {'penalty': 'none', 'solver': 'sag', 'C': 0.07501435553823844}. Best is trial 1 with value: 0.8883450596512695.\u001b[0m\n",
            "/usr/local/lib/python3.7/dist-packages/sklearn/linear_model/_logistic.py:1484: UserWarning: Setting penalty='none' will ignore the C and l1_ratio parameters\n",
            "  \"Setting penalty='none' will ignore the C and l1_ratio parameters\"\n",
            "/usr/local/lib/python3.7/dist-packages/sklearn/linear_model/_logistic.py:818: ConvergenceWarning: lbfgs failed to converge (status=1):\n",
            "STOP: TOTAL NO. of ITERATIONS REACHED LIMIT.\n",
            "\n",
            "Increase the number of iterations (max_iter) or scale the data as shown in:\n",
            "    https://scikit-learn.org/stable/modules/preprocessing.html\n",
            "Please also refer to the documentation for alternative solver options:\n",
            "    https://scikit-learn.org/stable/modules/linear_model.html#logistic-regression\n",
            "  extra_warning_msg=_LOGISTIC_SOLVER_CONVERGENCE_MSG,\n",
            "\u001b[32m[I 2022-06-17 10:20:22,704]\u001b[0m Trial 3 finished with value: 0.9136405248703082 and parameters: {'penalty': 'none', 'solver': 'lbfgs', 'C': 0.9948316774076748}. Best is trial 3 with value: 0.9136405248703082.\u001b[0m\n",
            "/usr/local/lib/python3.7/dist-packages/sklearn/linear_model/_logistic.py:818: ConvergenceWarning: lbfgs failed to converge (status=1):\n",
            "STOP: TOTAL NO. of ITERATIONS REACHED LIMIT.\n",
            "\n",
            "Increase the number of iterations (max_iter) or scale the data as shown in:\n",
            "    https://scikit-learn.org/stable/modules/preprocessing.html\n",
            "Please also refer to the documentation for alternative solver options:\n",
            "    https://scikit-learn.org/stable/modules/linear_model.html#logistic-regression\n",
            "  extra_warning_msg=_LOGISTIC_SOLVER_CONVERGENCE_MSG,\n",
            "\u001b[32m[I 2022-06-17 10:20:24,254]\u001b[0m Trial 4 finished with value: 0.8489646772228988 and parameters: {'penalty': 'l2', 'solver': 'lbfgs', 'C': 0.08733896350090996}. Best is trial 3 with value: 0.9136405248703082.\u001b[0m\n",
            "/usr/local/lib/python3.7/dist-packages/sklearn/linear_model/_logistic.py:1484: UserWarning: Setting penalty='none' will ignore the C and l1_ratio parameters\n",
            "  \"Setting penalty='none' will ignore the C and l1_ratio parameters\"\n",
            "/usr/local/lib/python3.7/dist-packages/sklearn/linear_model/_logistic.py:818: ConvergenceWarning: lbfgs failed to converge (status=1):\n",
            "STOP: TOTAL NO. of ITERATIONS REACHED LIMIT.\n",
            "\n",
            "Increase the number of iterations (max_iter) or scale the data as shown in:\n",
            "    https://scikit-learn.org/stable/modules/preprocessing.html\n",
            "Please also refer to the documentation for alternative solver options:\n",
            "    https://scikit-learn.org/stable/modules/linear_model.html#logistic-regression\n",
            "  extra_warning_msg=_LOGISTIC_SOLVER_CONVERGENCE_MSG,\n",
            "\u001b[32m[I 2022-06-17 10:20:25,788]\u001b[0m Trial 5 finished with value: 0.9136405248703082 and parameters: {'penalty': 'none', 'solver': 'lbfgs', 'C': 0.033431190841055905}. Best is trial 3 with value: 0.9136405248703082.\u001b[0m\n",
            "/usr/local/lib/python3.7/dist-packages/sklearn/linear_model/_logistic.py:1484: UserWarning: Setting penalty='none' will ignore the C and l1_ratio parameters\n",
            "  \"Setting penalty='none' will ignore the C and l1_ratio parameters\"\n",
            "/usr/local/lib/python3.7/dist-packages/sklearn/linear_model/_logistic.py:818: ConvergenceWarning: lbfgs failed to converge (status=1):\n",
            "STOP: TOTAL NO. of ITERATIONS REACHED LIMIT.\n",
            "\n",
            "Increase the number of iterations (max_iter) or scale the data as shown in:\n",
            "    https://scikit-learn.org/stable/modules/preprocessing.html\n",
            "Please also refer to the documentation for alternative solver options:\n",
            "    https://scikit-learn.org/stable/modules/linear_model.html#logistic-regression\n",
            "  extra_warning_msg=_LOGISTIC_SOLVER_CONVERGENCE_MSG,\n",
            "\u001b[32m[I 2022-06-17 10:20:27,246]\u001b[0m Trial 6 finished with value: 0.9136405248703082 and parameters: {'penalty': 'none', 'solver': 'lbfgs', 'C': 0.2726275683902999}. Best is trial 3 with value: 0.9136405248703082.\u001b[0m\n",
            "/usr/local/lib/python3.7/dist-packages/sklearn/linear_model/_logistic.py:1484: UserWarning: Setting penalty='none' will ignore the C and l1_ratio parameters\n",
            "  \"Setting penalty='none' will ignore the C and l1_ratio parameters\"\n",
            "/usr/local/lib/python3.7/dist-packages/sklearn/linear_model/_sag.py:354: ConvergenceWarning: The max_iter was reached which means the coef_ did not converge\n",
            "  ConvergenceWarning,\n",
            "\u001b[32m[I 2022-06-17 10:20:33,317]\u001b[0m Trial 7 finished with value: 0.8883450596512695 and parameters: {'penalty': 'none', 'solver': 'sag', 'C': 0.30150324265221834}. Best is trial 3 with value: 0.9136405248703082.\u001b[0m\n",
            "/usr/local/lib/python3.7/dist-packages/sklearn/linear_model/_logistic.py:1484: UserWarning: Setting penalty='none' will ignore the C and l1_ratio parameters\n",
            "  \"Setting penalty='none' will ignore the C and l1_ratio parameters\"\n",
            "/usr/local/lib/python3.7/dist-packages/sklearn/linear_model/_logistic.py:818: ConvergenceWarning: lbfgs failed to converge (status=1):\n",
            "STOP: TOTAL NO. of ITERATIONS REACHED LIMIT.\n",
            "\n",
            "Increase the number of iterations (max_iter) or scale the data as shown in:\n",
            "    https://scikit-learn.org/stable/modules/preprocessing.html\n",
            "Please also refer to the documentation for alternative solver options:\n",
            "    https://scikit-learn.org/stable/modules/linear_model.html#logistic-regression\n",
            "  extra_warning_msg=_LOGISTIC_SOLVER_CONVERGENCE_MSG,\n",
            "\u001b[32m[I 2022-06-17 10:20:34,872]\u001b[0m Trial 8 finished with value: 0.9136405248703082 and parameters: {'penalty': 'none', 'solver': 'lbfgs', 'C': 0.18040192551764972}. Best is trial 3 with value: 0.9136405248703082.\u001b[0m\n",
            "/usr/local/lib/python3.7/dist-packages/sklearn/linear_model/_logistic.py:1484: UserWarning: Setting penalty='none' will ignore the C and l1_ratio parameters\n",
            "  \"Setting penalty='none' will ignore the C and l1_ratio parameters\"\n",
            "/usr/local/lib/python3.7/dist-packages/sklearn/linear_model/_sag.py:354: ConvergenceWarning: The max_iter was reached which means the coef_ did not converge\n",
            "  ConvergenceWarning,\n",
            "\u001b[32m[I 2022-06-17 10:20:40,960]\u001b[0m Trial 9 finished with value: 0.8883450596512695 and parameters: {'penalty': 'none', 'solver': 'sag', 'C': 0.018258349367346893}. Best is trial 3 with value: 0.9136405248703082.\u001b[0m\n",
            "/usr/local/lib/python3.7/dist-packages/sklearn/linear_model/_logistic.py:818: ConvergenceWarning: lbfgs failed to converge (status=1):\n",
            "STOP: TOTAL NO. of ITERATIONS REACHED LIMIT.\n",
            "\n",
            "Increase the number of iterations (max_iter) or scale the data as shown in:\n",
            "    https://scikit-learn.org/stable/modules/preprocessing.html\n",
            "Please also refer to the documentation for alternative solver options:\n",
            "    https://scikit-learn.org/stable/modules/linear_model.html#logistic-regression\n",
            "  extra_warning_msg=_LOGISTIC_SOLVER_CONVERGENCE_MSG,\n",
            "\u001b[32m[I 2022-06-17 10:20:42,478]\u001b[0m Trial 10 finished with value: 0.8788990825688074 and parameters: {'penalty': 'l2', 'solver': 'lbfgs', 'C': 0.6076773063382053}. Best is trial 3 with value: 0.9136405248703082.\u001b[0m\n",
            "/usr/local/lib/python3.7/dist-packages/sklearn/linear_model/_logistic.py:1484: UserWarning: Setting penalty='none' will ignore the C and l1_ratio parameters\n",
            "  \"Setting penalty='none' will ignore the C and l1_ratio parameters\"\n",
            "/usr/local/lib/python3.7/dist-packages/sklearn/linear_model/_logistic.py:818: ConvergenceWarning: lbfgs failed to converge (status=1):\n",
            "STOP: TOTAL NO. of ITERATIONS REACHED LIMIT.\n",
            "\n",
            "Increase the number of iterations (max_iter) or scale the data as shown in:\n",
            "    https://scikit-learn.org/stable/modules/preprocessing.html\n",
            "Please also refer to the documentation for alternative solver options:\n",
            "    https://scikit-learn.org/stable/modules/linear_model.html#logistic-regression\n",
            "  extra_warning_msg=_LOGISTIC_SOLVER_CONVERGENCE_MSG,\n",
            "\u001b[32m[I 2022-06-17 10:20:43,979]\u001b[0m Trial 11 finished with value: 0.9136405248703082 and parameters: {'penalty': 'none', 'solver': 'lbfgs', 'C': 0.03762341392666542}. Best is trial 3 with value: 0.9136405248703082.\u001b[0m\n",
            "/usr/local/lib/python3.7/dist-packages/sklearn/linear_model/_logistic.py:1484: UserWarning: Setting penalty='none' will ignore the C and l1_ratio parameters\n",
            "  \"Setting penalty='none' will ignore the C and l1_ratio parameters\"\n",
            "/usr/local/lib/python3.7/dist-packages/sklearn/linear_model/_logistic.py:818: ConvergenceWarning: lbfgs failed to converge (status=1):\n",
            "STOP: TOTAL NO. of ITERATIONS REACHED LIMIT.\n",
            "\n",
            "Increase the number of iterations (max_iter) or scale the data as shown in:\n",
            "    https://scikit-learn.org/stable/modules/preprocessing.html\n",
            "Please also refer to the documentation for alternative solver options:\n",
            "    https://scikit-learn.org/stable/modules/linear_model.html#logistic-regression\n",
            "  extra_warning_msg=_LOGISTIC_SOLVER_CONVERGENCE_MSG,\n",
            "\u001b[32m[I 2022-06-17 10:20:45,513]\u001b[0m Trial 12 finished with value: 0.9136405248703082 and parameters: {'penalty': 'none', 'solver': 'lbfgs', 'C': 0.010423924715960976}. Best is trial 3 with value: 0.9136405248703082.\u001b[0m\n",
            "/usr/local/lib/python3.7/dist-packages/sklearn/linear_model/_logistic.py:1484: UserWarning: Setting penalty='none' will ignore the C and l1_ratio parameters\n",
            "  \"Setting penalty='none' will ignore the C and l1_ratio parameters\"\n",
            "/usr/local/lib/python3.7/dist-packages/sklearn/linear_model/_logistic.py:818: ConvergenceWarning: lbfgs failed to converge (status=1):\n",
            "STOP: TOTAL NO. of ITERATIONS REACHED LIMIT.\n",
            "\n",
            "Increase the number of iterations (max_iter) or scale the data as shown in:\n",
            "    https://scikit-learn.org/stable/modules/preprocessing.html\n",
            "Please also refer to the documentation for alternative solver options:\n",
            "    https://scikit-learn.org/stable/modules/linear_model.html#logistic-regression\n",
            "  extra_warning_msg=_LOGISTIC_SOLVER_CONVERGENCE_MSG,\n",
            "\u001b[32m[I 2022-06-17 10:20:47,005]\u001b[0m Trial 13 finished with value: 0.9136405248703082 and parameters: {'penalty': 'none', 'solver': 'lbfgs', 'C': 0.6763058677573712}. Best is trial 3 with value: 0.9136405248703082.\u001b[0m\n",
            "/usr/local/lib/python3.7/dist-packages/sklearn/linear_model/_logistic.py:818: ConvergenceWarning: lbfgs failed to converge (status=1):\n",
            "STOP: TOTAL NO. of ITERATIONS REACHED LIMIT.\n",
            "\n",
            "Increase the number of iterations (max_iter) or scale the data as shown in:\n",
            "    https://scikit-learn.org/stable/modules/preprocessing.html\n",
            "Please also refer to the documentation for alternative solver options:\n",
            "    https://scikit-learn.org/stable/modules/linear_model.html#logistic-regression\n",
            "  extra_warning_msg=_LOGISTIC_SOLVER_CONVERGENCE_MSG,\n",
            "\u001b[32m[I 2022-06-17 10:20:48,583]\u001b[0m Trial 14 finished with value: 0.8379685610640871 and parameters: {'penalty': 'l2', 'solver': 'lbfgs', 'C': 0.05128211117718912}. Best is trial 3 with value: 0.9136405248703082.\u001b[0m\n",
            "/usr/local/lib/python3.7/dist-packages/sklearn/linear_model/_logistic.py:1484: UserWarning: Setting penalty='none' will ignore the C and l1_ratio parameters\n",
            "  \"Setting penalty='none' will ignore the C and l1_ratio parameters\"\n",
            "/usr/local/lib/python3.7/dist-packages/sklearn/linear_model/_logistic.py:818: ConvergenceWarning: lbfgs failed to converge (status=1):\n",
            "STOP: TOTAL NO. of ITERATIONS REACHED LIMIT.\n",
            "\n",
            "Increase the number of iterations (max_iter) or scale the data as shown in:\n",
            "    https://scikit-learn.org/stable/modules/preprocessing.html\n",
            "Please also refer to the documentation for alternative solver options:\n",
            "    https://scikit-learn.org/stable/modules/linear_model.html#logistic-regression\n",
            "  extra_warning_msg=_LOGISTIC_SOLVER_CONVERGENCE_MSG,\n",
            "\u001b[32m[I 2022-06-17 10:20:50,103]\u001b[0m Trial 15 finished with value: 0.9136405248703082 and parameters: {'penalty': 'none', 'solver': 'lbfgs', 'C': 0.13056850924676378}. Best is trial 3 with value: 0.9136405248703082.\u001b[0m\n",
            "/usr/local/lib/python3.7/dist-packages/sklearn/linear_model/_logistic.py:1484: UserWarning: Setting penalty='none' will ignore the C and l1_ratio parameters\n",
            "  \"Setting penalty='none' will ignore the C and l1_ratio parameters\"\n",
            "/usr/local/lib/python3.7/dist-packages/sklearn/linear_model/_logistic.py:818: ConvergenceWarning: lbfgs failed to converge (status=1):\n",
            "STOP: TOTAL NO. of ITERATIONS REACHED LIMIT.\n",
            "\n",
            "Increase the number of iterations (max_iter) or scale the data as shown in:\n",
            "    https://scikit-learn.org/stable/modules/preprocessing.html\n",
            "Please also refer to the documentation for alternative solver options:\n",
            "    https://scikit-learn.org/stable/modules/linear_model.html#logistic-regression\n",
            "  extra_warning_msg=_LOGISTIC_SOLVER_CONVERGENCE_MSG,\n",
            "\u001b[32m[I 2022-06-17 10:20:51,645]\u001b[0m Trial 16 finished with value: 0.9136405248703082 and parameters: {'penalty': 'none', 'solver': 'lbfgs', 'C': 0.4678583178155393}. Best is trial 3 with value: 0.9136405248703082.\u001b[0m\n",
            "/usr/local/lib/python3.7/dist-packages/sklearn/linear_model/_logistic.py:1484: UserWarning: Setting penalty='none' will ignore the C and l1_ratio parameters\n",
            "  \"Setting penalty='none' will ignore the C and l1_ratio parameters\"\n",
            "/usr/local/lib/python3.7/dist-packages/sklearn/linear_model/_logistic.py:818: ConvergenceWarning: lbfgs failed to converge (status=1):\n",
            "STOP: TOTAL NO. of ITERATIONS REACHED LIMIT.\n",
            "\n",
            "Increase the number of iterations (max_iter) or scale the data as shown in:\n",
            "    https://scikit-learn.org/stable/modules/preprocessing.html\n",
            "Please also refer to the documentation for alternative solver options:\n",
            "    https://scikit-learn.org/stable/modules/linear_model.html#logistic-regression\n",
            "  extra_warning_msg=_LOGISTIC_SOLVER_CONVERGENCE_MSG,\n",
            "\u001b[32m[I 2022-06-17 10:20:53,131]\u001b[0m Trial 17 finished with value: 0.9136405248703082 and parameters: {'penalty': 'none', 'solver': 'lbfgs', 'C': 0.14346391509110443}. Best is trial 3 with value: 0.9136405248703082.\u001b[0m\n",
            "/usr/local/lib/python3.7/dist-packages/sklearn/linear_model/_logistic.py:818: ConvergenceWarning: lbfgs failed to converge (status=1):\n",
            "STOP: TOTAL NO. of ITERATIONS REACHED LIMIT.\n",
            "\n",
            "Increase the number of iterations (max_iter) or scale the data as shown in:\n",
            "    https://scikit-learn.org/stable/modules/preprocessing.html\n",
            "Please also refer to the documentation for alternative solver options:\n",
            "    https://scikit-learn.org/stable/modules/linear_model.html#logistic-regression\n",
            "  extra_warning_msg=_LOGISTIC_SOLVER_CONVERGENCE_MSG,\n",
            "\u001b[32m[I 2022-06-17 10:20:54,688]\u001b[0m Trial 18 finished with value: 0.8561872909698997 and parameters: {'penalty': 'l2', 'solver': 'lbfgs', 'C': 0.12992020735614668}. Best is trial 3 with value: 0.9136405248703082.\u001b[0m\n",
            "/usr/local/lib/python3.7/dist-packages/sklearn/linear_model/_logistic.py:1484: UserWarning: Setting penalty='none' will ignore the C and l1_ratio parameters\n",
            "  \"Setting penalty='none' will ignore the C and l1_ratio parameters\"\n",
            "/usr/local/lib/python3.7/dist-packages/sklearn/linear_model/_logistic.py:818: ConvergenceWarning: lbfgs failed to converge (status=1):\n",
            "STOP: TOTAL NO. of ITERATIONS REACHED LIMIT.\n",
            "\n",
            "Increase the number of iterations (max_iter) or scale the data as shown in:\n",
            "    https://scikit-learn.org/stable/modules/preprocessing.html\n",
            "Please also refer to the documentation for alternative solver options:\n",
            "    https://scikit-learn.org/stable/modules/linear_model.html#logistic-regression\n",
            "  extra_warning_msg=_LOGISTIC_SOLVER_CONVERGENCE_MSG,\n",
            "\u001b[32m[I 2022-06-17 10:20:56,219]\u001b[0m Trial 19 finished with value: 0.9136405248703082 and parameters: {'penalty': 'none', 'solver': 'lbfgs', 'C': 0.9613876327527692}. Best is trial 3 with value: 0.9136405248703082.\u001b[0m\n",
            "/usr/local/lib/python3.7/dist-packages/sklearn/linear_model/_logistic.py:1484: UserWarning: Setting penalty='none' will ignore the C and l1_ratio parameters\n",
            "  \"Setting penalty='none' will ignore the C and l1_ratio parameters\"\n",
            "/usr/local/lib/python3.7/dist-packages/sklearn/linear_model/_logistic.py:818: ConvergenceWarning: lbfgs failed to converge (status=1):\n",
            "STOP: TOTAL NO. of ITERATIONS REACHED LIMIT.\n",
            "\n",
            "Increase the number of iterations (max_iter) or scale the data as shown in:\n",
            "    https://scikit-learn.org/stable/modules/preprocessing.html\n",
            "Please also refer to the documentation for alternative solver options:\n",
            "    https://scikit-learn.org/stable/modules/linear_model.html#logistic-regression\n",
            "  extra_warning_msg=_LOGISTIC_SOLVER_CONVERGENCE_MSG,\n",
            "\u001b[32m[I 2022-06-17 10:20:57,779]\u001b[0m Trial 20 finished with value: 0.9136405248703082 and parameters: {'penalty': 'none', 'solver': 'lbfgs', 'C': 0.3983593811846637}. Best is trial 3 with value: 0.9136405248703082.\u001b[0m\n",
            "/usr/local/lib/python3.7/dist-packages/sklearn/linear_model/_logistic.py:1484: UserWarning: Setting penalty='none' will ignore the C and l1_ratio parameters\n",
            "  \"Setting penalty='none' will ignore the C and l1_ratio parameters\"\n",
            "/usr/local/lib/python3.7/dist-packages/sklearn/linear_model/_logistic.py:818: ConvergenceWarning: lbfgs failed to converge (status=1):\n",
            "STOP: TOTAL NO. of ITERATIONS REACHED LIMIT.\n",
            "\n",
            "Increase the number of iterations (max_iter) or scale the data as shown in:\n",
            "    https://scikit-learn.org/stable/modules/preprocessing.html\n",
            "Please also refer to the documentation for alternative solver options:\n",
            "    https://scikit-learn.org/stable/modules/linear_model.html#logistic-regression\n",
            "  extra_warning_msg=_LOGISTIC_SOLVER_CONVERGENCE_MSG,\n",
            "\u001b[32m[I 2022-06-17 10:20:59,287]\u001b[0m Trial 21 finished with value: 0.9136405248703082 and parameters: {'penalty': 'none', 'solver': 'lbfgs', 'C': 0.9342480670883799}. Best is trial 3 with value: 0.9136405248703082.\u001b[0m\n",
            "/usr/local/lib/python3.7/dist-packages/sklearn/linear_model/_logistic.py:1484: UserWarning: Setting penalty='none' will ignore the C and l1_ratio parameters\n",
            "  \"Setting penalty='none' will ignore the C and l1_ratio parameters\"\n",
            "/usr/local/lib/python3.7/dist-packages/sklearn/linear_model/_logistic.py:818: ConvergenceWarning: lbfgs failed to converge (status=1):\n",
            "STOP: TOTAL NO. of ITERATIONS REACHED LIMIT.\n",
            "\n",
            "Increase the number of iterations (max_iter) or scale the data as shown in:\n",
            "    https://scikit-learn.org/stable/modules/preprocessing.html\n",
            "Please also refer to the documentation for alternative solver options:\n",
            "    https://scikit-learn.org/stable/modules/linear_model.html#logistic-regression\n",
            "  extra_warning_msg=_LOGISTIC_SOLVER_CONVERGENCE_MSG,\n",
            "\u001b[32m[I 2022-06-17 10:21:00,802]\u001b[0m Trial 22 finished with value: 0.9136405248703082 and parameters: {'penalty': 'none', 'solver': 'lbfgs', 'C': 0.6682274125394739}. Best is trial 3 with value: 0.9136405248703082.\u001b[0m\n",
            "/usr/local/lib/python3.7/dist-packages/sklearn/linear_model/_logistic.py:1484: UserWarning: Setting penalty='none' will ignore the C and l1_ratio parameters\n",
            "  \"Setting penalty='none' will ignore the C and l1_ratio parameters\"\n",
            "/usr/local/lib/python3.7/dist-packages/sklearn/linear_model/_logistic.py:818: ConvergenceWarning: lbfgs failed to converge (status=1):\n",
            "STOP: TOTAL NO. of ITERATIONS REACHED LIMIT.\n",
            "\n",
            "Increase the number of iterations (max_iter) or scale the data as shown in:\n",
            "    https://scikit-learn.org/stable/modules/preprocessing.html\n",
            "Please also refer to the documentation for alternative solver options:\n",
            "    https://scikit-learn.org/stable/modules/linear_model.html#logistic-regression\n",
            "  extra_warning_msg=_LOGISTIC_SOLVER_CONVERGENCE_MSG,\n",
            "\u001b[32m[I 2022-06-17 10:21:02,298]\u001b[0m Trial 23 finished with value: 0.9136405248703082 and parameters: {'penalty': 'none', 'solver': 'lbfgs', 'C': 0.04671999390562664}. Best is trial 3 with value: 0.9136405248703082.\u001b[0m\n",
            "/usr/local/lib/python3.7/dist-packages/sklearn/linear_model/_logistic.py:1484: UserWarning: Setting penalty='none' will ignore the C and l1_ratio parameters\n",
            "  \"Setting penalty='none' will ignore the C and l1_ratio parameters\"\n",
            "/usr/local/lib/python3.7/dist-packages/sklearn/linear_model/_logistic.py:818: ConvergenceWarning: lbfgs failed to converge (status=1):\n",
            "STOP: TOTAL NO. of ITERATIONS REACHED LIMIT.\n",
            "\n",
            "Increase the number of iterations (max_iter) or scale the data as shown in:\n",
            "    https://scikit-learn.org/stable/modules/preprocessing.html\n",
            "Please also refer to the documentation for alternative solver options:\n",
            "    https://scikit-learn.org/stable/modules/linear_model.html#logistic-regression\n",
            "  extra_warning_msg=_LOGISTIC_SOLVER_CONVERGENCE_MSG,\n",
            "\u001b[32m[I 2022-06-17 10:21:03,804]\u001b[0m Trial 24 finished with value: 0.9136405248703082 and parameters: {'penalty': 'none', 'solver': 'lbfgs', 'C': 0.37962988309108564}. Best is trial 3 with value: 0.9136405248703082.\u001b[0m\n",
            "/usr/local/lib/python3.7/dist-packages/sklearn/linear_model/_logistic.py:1484: UserWarning: Setting penalty='none' will ignore the C and l1_ratio parameters\n",
            "  \"Setting penalty='none' will ignore the C and l1_ratio parameters\"\n",
            "/usr/local/lib/python3.7/dist-packages/sklearn/linear_model/_logistic.py:818: ConvergenceWarning: lbfgs failed to converge (status=1):\n",
            "STOP: TOTAL NO. of ITERATIONS REACHED LIMIT.\n",
            "\n",
            "Increase the number of iterations (max_iter) or scale the data as shown in:\n",
            "    https://scikit-learn.org/stable/modules/preprocessing.html\n",
            "Please also refer to the documentation for alternative solver options:\n",
            "    https://scikit-learn.org/stable/modules/linear_model.html#logistic-regression\n",
            "  extra_warning_msg=_LOGISTIC_SOLVER_CONVERGENCE_MSG,\n",
            "\u001b[32m[I 2022-06-17 10:21:05,321]\u001b[0m Trial 25 finished with value: 0.9136405248703082 and parameters: {'penalty': 'none', 'solver': 'lbfgs', 'C': 0.014868049199228864}. Best is trial 3 with value: 0.9136405248703082.\u001b[0m\n",
            "/usr/local/lib/python3.7/dist-packages/sklearn/linear_model/_sag.py:354: ConvergenceWarning: The max_iter was reached which means the coef_ did not converge\n",
            "  ConvergenceWarning,\n",
            "\u001b[32m[I 2022-06-17 10:21:11,424]\u001b[0m Trial 26 finished with value: 0.8217286914765907 and parameters: {'penalty': 'l2', 'solver': 'sag', 'C': 0.011936329769471067}. Best is trial 3 with value: 0.9136405248703082.\u001b[0m\n",
            "/usr/local/lib/python3.7/dist-packages/sklearn/linear_model/_logistic.py:1484: UserWarning: Setting penalty='none' will ignore the C and l1_ratio parameters\n",
            "  \"Setting penalty='none' will ignore the C and l1_ratio parameters\"\n",
            "/usr/local/lib/python3.7/dist-packages/sklearn/linear_model/_logistic.py:818: ConvergenceWarning: lbfgs failed to converge (status=1):\n",
            "STOP: TOTAL NO. of ITERATIONS REACHED LIMIT.\n",
            "\n",
            "Increase the number of iterations (max_iter) or scale the data as shown in:\n",
            "    https://scikit-learn.org/stable/modules/preprocessing.html\n",
            "Please also refer to the documentation for alternative solver options:\n",
            "    https://scikit-learn.org/stable/modules/linear_model.html#logistic-regression\n",
            "  extra_warning_msg=_LOGISTIC_SOLVER_CONVERGENCE_MSG,\n",
            "\u001b[32m[I 2022-06-17 10:21:12,924]\u001b[0m Trial 27 finished with value: 0.9136405248703082 and parameters: {'penalty': 'none', 'solver': 'lbfgs', 'C': 0.6802428125135649}. Best is trial 3 with value: 0.9136405248703082.\u001b[0m\n",
            "/usr/local/lib/python3.7/dist-packages/sklearn/linear_model/_logistic.py:1484: UserWarning: Setting penalty='none' will ignore the C and l1_ratio parameters\n",
            "  \"Setting penalty='none' will ignore the C and l1_ratio parameters\"\n",
            "/usr/local/lib/python3.7/dist-packages/sklearn/linear_model/_logistic.py:818: ConvergenceWarning: lbfgs failed to converge (status=1):\n",
            "STOP: TOTAL NO. of ITERATIONS REACHED LIMIT.\n",
            "\n",
            "Increase the number of iterations (max_iter) or scale the data as shown in:\n",
            "    https://scikit-learn.org/stable/modules/preprocessing.html\n",
            "Please also refer to the documentation for alternative solver options:\n",
            "    https://scikit-learn.org/stable/modules/linear_model.html#logistic-regression\n",
            "  extra_warning_msg=_LOGISTIC_SOLVER_CONVERGENCE_MSG,\n",
            "\u001b[32m[I 2022-06-17 10:21:14,422]\u001b[0m Trial 28 finished with value: 0.9136405248703082 and parameters: {'penalty': 'none', 'solver': 'lbfgs', 'C': 0.39879508871802116}. Best is trial 3 with value: 0.9136405248703082.\u001b[0m\n",
            "/usr/local/lib/python3.7/dist-packages/sklearn/linear_model/_sag.py:354: ConvergenceWarning: The max_iter was reached which means the coef_ did not converge\n",
            "  ConvergenceWarning,\n",
            "\u001b[32m[I 2022-06-17 10:21:20,470]\u001b[0m Trial 29 finished with value: 0.8646341463414634 and parameters: {'penalty': 'l2', 'solver': 'sag', 'C': 0.20672237052070672}. Best is trial 3 with value: 0.9136405248703082.\u001b[0m\n",
            "/usr/local/lib/python3.7/dist-packages/sklearn/linear_model/_logistic.py:1484: UserWarning: Setting penalty='none' will ignore the C and l1_ratio parameters\n",
            "  \"Setting penalty='none' will ignore the C and l1_ratio parameters\"\n",
            "/usr/local/lib/python3.7/dist-packages/sklearn/linear_model/_logistic.py:818: ConvergenceWarning: lbfgs failed to converge (status=1):\n",
            "STOP: TOTAL NO. of ITERATIONS REACHED LIMIT.\n",
            "\n",
            "Increase the number of iterations (max_iter) or scale the data as shown in:\n",
            "    https://scikit-learn.org/stable/modules/preprocessing.html\n",
            "Please also refer to the documentation for alternative solver options:\n",
            "    https://scikit-learn.org/stable/modules/linear_model.html#logistic-regression\n",
            "  extra_warning_msg=_LOGISTIC_SOLVER_CONVERGENCE_MSG,\n",
            "\u001b[32m[I 2022-06-17 10:21:21,980]\u001b[0m Trial 30 finished with value: 0.9136405248703082 and parameters: {'penalty': 'none', 'solver': 'lbfgs', 'C': 0.5519332285772874}. Best is trial 3 with value: 0.9136405248703082.\u001b[0m\n",
            "/usr/local/lib/python3.7/dist-packages/sklearn/linear_model/_logistic.py:1484: UserWarning: Setting penalty='none' will ignore the C and l1_ratio parameters\n",
            "  \"Setting penalty='none' will ignore the C and l1_ratio parameters\"\n",
            "/usr/local/lib/python3.7/dist-packages/sklearn/linear_model/_logistic.py:818: ConvergenceWarning: lbfgs failed to converge (status=1):\n",
            "STOP: TOTAL NO. of ITERATIONS REACHED LIMIT.\n",
            "\n",
            "Increase the number of iterations (max_iter) or scale the data as shown in:\n",
            "    https://scikit-learn.org/stable/modules/preprocessing.html\n",
            "Please also refer to the documentation for alternative solver options:\n",
            "    https://scikit-learn.org/stable/modules/linear_model.html#logistic-regression\n",
            "  extra_warning_msg=_LOGISTIC_SOLVER_CONVERGENCE_MSG,\n",
            "\u001b[32m[I 2022-06-17 10:21:23,445]\u001b[0m Trial 31 finished with value: 0.9136405248703082 and parameters: {'penalty': 'none', 'solver': 'lbfgs', 'C': 0.11034642812629644}. Best is trial 3 with value: 0.9136405248703082.\u001b[0m\n",
            "/usr/local/lib/python3.7/dist-packages/sklearn/linear_model/_logistic.py:1484: UserWarning: Setting penalty='none' will ignore the C and l1_ratio parameters\n",
            "  \"Setting penalty='none' will ignore the C and l1_ratio parameters\"\n",
            "/usr/local/lib/python3.7/dist-packages/sklearn/linear_model/_logistic.py:818: ConvergenceWarning: lbfgs failed to converge (status=1):\n",
            "STOP: TOTAL NO. of ITERATIONS REACHED LIMIT.\n",
            "\n",
            "Increase the number of iterations (max_iter) or scale the data as shown in:\n",
            "    https://scikit-learn.org/stable/modules/preprocessing.html\n",
            "Please also refer to the documentation for alternative solver options:\n",
            "    https://scikit-learn.org/stable/modules/linear_model.html#logistic-regression\n",
            "  extra_warning_msg=_LOGISTIC_SOLVER_CONVERGENCE_MSG,\n",
            "\u001b[32m[I 2022-06-17 10:21:24,931]\u001b[0m Trial 32 finished with value: 0.9136405248703082 and parameters: {'penalty': 'none', 'solver': 'lbfgs', 'C': 0.019477479127962615}. Best is trial 3 with value: 0.9136405248703082.\u001b[0m\n",
            "/usr/local/lib/python3.7/dist-packages/sklearn/linear_model/_logistic.py:1484: UserWarning: Setting penalty='none' will ignore the C and l1_ratio parameters\n",
            "  \"Setting penalty='none' will ignore the C and l1_ratio parameters\"\n",
            "/usr/local/lib/python3.7/dist-packages/sklearn/linear_model/_logistic.py:818: ConvergenceWarning: lbfgs failed to converge (status=1):\n",
            "STOP: TOTAL NO. of ITERATIONS REACHED LIMIT.\n",
            "\n",
            "Increase the number of iterations (max_iter) or scale the data as shown in:\n",
            "    https://scikit-learn.org/stable/modules/preprocessing.html\n",
            "Please also refer to the documentation for alternative solver options:\n",
            "    https://scikit-learn.org/stable/modules/linear_model.html#logistic-regression\n",
            "  extra_warning_msg=_LOGISTIC_SOLVER_CONVERGENCE_MSG,\n",
            "\u001b[32m[I 2022-06-17 10:21:26,446]\u001b[0m Trial 33 finished with value: 0.9136405248703082 and parameters: {'penalty': 'none', 'solver': 'lbfgs', 'C': 0.4842151655884963}. Best is trial 3 with value: 0.9136405248703082.\u001b[0m\n",
            "/usr/local/lib/python3.7/dist-packages/sklearn/linear_model/_logistic.py:1484: UserWarning: Setting penalty='none' will ignore the C and l1_ratio parameters\n",
            "  \"Setting penalty='none' will ignore the C and l1_ratio parameters\"\n",
            "/usr/local/lib/python3.7/dist-packages/sklearn/linear_model/_sag.py:354: ConvergenceWarning: The max_iter was reached which means the coef_ did not converge\n",
            "  ConvergenceWarning,\n",
            "\u001b[32m[I 2022-06-17 10:21:32,557]\u001b[0m Trial 34 finished with value: 0.8883450596512695 and parameters: {'penalty': 'none', 'solver': 'sag', 'C': 0.3823347787265575}. Best is trial 3 with value: 0.9136405248703082.\u001b[0m\n",
            "/usr/local/lib/python3.7/dist-packages/sklearn/linear_model/_logistic.py:1484: UserWarning: Setting penalty='none' will ignore the C and l1_ratio parameters\n",
            "  \"Setting penalty='none' will ignore the C and l1_ratio parameters\"\n",
            "/usr/local/lib/python3.7/dist-packages/sklearn/linear_model/_logistic.py:818: ConvergenceWarning: lbfgs failed to converge (status=1):\n",
            "STOP: TOTAL NO. of ITERATIONS REACHED LIMIT.\n",
            "\n",
            "Increase the number of iterations (max_iter) or scale the data as shown in:\n",
            "    https://scikit-learn.org/stable/modules/preprocessing.html\n",
            "Please also refer to the documentation for alternative solver options:\n",
            "    https://scikit-learn.org/stable/modules/linear_model.html#logistic-regression\n",
            "  extra_warning_msg=_LOGISTIC_SOLVER_CONVERGENCE_MSG,\n",
            "\u001b[32m[I 2022-06-17 10:21:34,096]\u001b[0m Trial 35 finished with value: 0.9136405248703082 and parameters: {'penalty': 'none', 'solver': 'lbfgs', 'C': 0.06378291420578758}. Best is trial 3 with value: 0.9136405248703082.\u001b[0m\n",
            "/usr/local/lib/python3.7/dist-packages/sklearn/linear_model/_logistic.py:1484: UserWarning: Setting penalty='none' will ignore the C and l1_ratio parameters\n",
            "  \"Setting penalty='none' will ignore the C and l1_ratio parameters\"\n",
            "/usr/local/lib/python3.7/dist-packages/sklearn/linear_model/_logistic.py:818: ConvergenceWarning: lbfgs failed to converge (status=1):\n",
            "STOP: TOTAL NO. of ITERATIONS REACHED LIMIT.\n",
            "\n",
            "Increase the number of iterations (max_iter) or scale the data as shown in:\n",
            "    https://scikit-learn.org/stable/modules/preprocessing.html\n",
            "Please also refer to the documentation for alternative solver options:\n",
            "    https://scikit-learn.org/stable/modules/linear_model.html#logistic-regression\n",
            "  extra_warning_msg=_LOGISTIC_SOLVER_CONVERGENCE_MSG,\n",
            "\u001b[32m[I 2022-06-17 10:21:35,575]\u001b[0m Trial 36 finished with value: 0.9136405248703082 and parameters: {'penalty': 'none', 'solver': 'lbfgs', 'C': 0.10104577268228239}. Best is trial 3 with value: 0.9136405248703082.\u001b[0m\n",
            "/usr/local/lib/python3.7/dist-packages/sklearn/linear_model/_logistic.py:1484: UserWarning: Setting penalty='none' will ignore the C and l1_ratio parameters\n",
            "  \"Setting penalty='none' will ignore the C and l1_ratio parameters\"\n",
            "/usr/local/lib/python3.7/dist-packages/sklearn/linear_model/_logistic.py:818: ConvergenceWarning: lbfgs failed to converge (status=1):\n",
            "STOP: TOTAL NO. of ITERATIONS REACHED LIMIT.\n",
            "\n",
            "Increase the number of iterations (max_iter) or scale the data as shown in:\n",
            "    https://scikit-learn.org/stable/modules/preprocessing.html\n",
            "Please also refer to the documentation for alternative solver options:\n",
            "    https://scikit-learn.org/stable/modules/linear_model.html#logistic-regression\n",
            "  extra_warning_msg=_LOGISTIC_SOLVER_CONVERGENCE_MSG,\n",
            "\u001b[32m[I 2022-06-17 10:21:37,022]\u001b[0m Trial 37 finished with value: 0.9136405248703082 and parameters: {'penalty': 'none', 'solver': 'lbfgs', 'C': 0.024624327727524584}. Best is trial 3 with value: 0.9136405248703082.\u001b[0m\n",
            "/usr/local/lib/python3.7/dist-packages/sklearn/linear_model/_logistic.py:1484: UserWarning: Setting penalty='none' will ignore the C and l1_ratio parameters\n",
            "  \"Setting penalty='none' will ignore the C and l1_ratio parameters\"\n",
            "/usr/local/lib/python3.7/dist-packages/sklearn/linear_model/_sag.py:354: ConvergenceWarning: The max_iter was reached which means the coef_ did not converge\n",
            "  ConvergenceWarning,\n",
            "\u001b[32m[I 2022-06-17 10:21:43,078]\u001b[0m Trial 38 finished with value: 0.8883450596512695 and parameters: {'penalty': 'none', 'solver': 'sag', 'C': 0.02429377077149272}. Best is trial 3 with value: 0.9136405248703082.\u001b[0m\n",
            "/usr/local/lib/python3.7/dist-packages/sklearn/linear_model/_logistic.py:818: ConvergenceWarning: lbfgs failed to converge (status=1):\n",
            "STOP: TOTAL NO. of ITERATIONS REACHED LIMIT.\n",
            "\n",
            "Increase the number of iterations (max_iter) or scale the data as shown in:\n",
            "    https://scikit-learn.org/stable/modules/preprocessing.html\n",
            "Please also refer to the documentation for alternative solver options:\n",
            "    https://scikit-learn.org/stable/modules/linear_model.html#logistic-regression\n",
            "  extra_warning_msg=_LOGISTIC_SOLVER_CONVERGENCE_MSG,\n",
            "\u001b[32m[I 2022-06-17 10:21:44,607]\u001b[0m Trial 39 finished with value: 0.8869193154034231 and parameters: {'penalty': 'l2', 'solver': 'lbfgs', 'C': 0.886769934931194}. Best is trial 3 with value: 0.9136405248703082.\u001b[0m\n",
            "/usr/local/lib/python3.7/dist-packages/sklearn/linear_model/_logistic.py:1484: UserWarning: Setting penalty='none' will ignore the C and l1_ratio parameters\n",
            "  \"Setting penalty='none' will ignore the C and l1_ratio parameters\"\n",
            "/usr/local/lib/python3.7/dist-packages/sklearn/linear_model/_logistic.py:818: ConvergenceWarning: lbfgs failed to converge (status=1):\n",
            "STOP: TOTAL NO. of ITERATIONS REACHED LIMIT.\n",
            "\n",
            "Increase the number of iterations (max_iter) or scale the data as shown in:\n",
            "    https://scikit-learn.org/stable/modules/preprocessing.html\n",
            "Please also refer to the documentation for alternative solver options:\n",
            "    https://scikit-learn.org/stable/modules/linear_model.html#logistic-regression\n",
            "  extra_warning_msg=_LOGISTIC_SOLVER_CONVERGENCE_MSG,\n",
            "\u001b[32m[I 2022-06-17 10:21:46,119]\u001b[0m Trial 40 finished with value: 0.9136405248703082 and parameters: {'penalty': 'none', 'solver': 'lbfgs', 'C': 0.7397654749184903}. Best is trial 3 with value: 0.9136405248703082.\u001b[0m\n",
            "/usr/local/lib/python3.7/dist-packages/sklearn/linear_model/_logistic.py:1484: UserWarning: Setting penalty='none' will ignore the C and l1_ratio parameters\n",
            "  \"Setting penalty='none' will ignore the C and l1_ratio parameters\"\n",
            "/usr/local/lib/python3.7/dist-packages/sklearn/linear_model/_logistic.py:818: ConvergenceWarning: lbfgs failed to converge (status=1):\n",
            "STOP: TOTAL NO. of ITERATIONS REACHED LIMIT.\n",
            "\n",
            "Increase the number of iterations (max_iter) or scale the data as shown in:\n",
            "    https://scikit-learn.org/stable/modules/preprocessing.html\n",
            "Please also refer to the documentation for alternative solver options:\n",
            "    https://scikit-learn.org/stable/modules/linear_model.html#logistic-regression\n",
            "  extra_warning_msg=_LOGISTIC_SOLVER_CONVERGENCE_MSG,\n",
            "\u001b[32m[I 2022-06-17 10:21:47,614]\u001b[0m Trial 41 finished with value: 0.9136405248703082 and parameters: {'penalty': 'none', 'solver': 'lbfgs', 'C': 0.346361805859175}. Best is trial 3 with value: 0.9136405248703082.\u001b[0m\n",
            "/usr/local/lib/python3.7/dist-packages/sklearn/linear_model/_logistic.py:1484: UserWarning: Setting penalty='none' will ignore the C and l1_ratio parameters\n",
            "  \"Setting penalty='none' will ignore the C and l1_ratio parameters\"\n",
            "/usr/local/lib/python3.7/dist-packages/sklearn/linear_model/_logistic.py:818: ConvergenceWarning: lbfgs failed to converge (status=1):\n",
            "STOP: TOTAL NO. of ITERATIONS REACHED LIMIT.\n",
            "\n",
            "Increase the number of iterations (max_iter) or scale the data as shown in:\n",
            "    https://scikit-learn.org/stable/modules/preprocessing.html\n",
            "Please also refer to the documentation for alternative solver options:\n",
            "    https://scikit-learn.org/stable/modules/linear_model.html#logistic-regression\n",
            "  extra_warning_msg=_LOGISTIC_SOLVER_CONVERGENCE_MSG,\n",
            "\u001b[32m[I 2022-06-17 10:21:49,121]\u001b[0m Trial 42 finished with value: 0.9136405248703082 and parameters: {'penalty': 'none', 'solver': 'lbfgs', 'C': 0.2844730684212999}. Best is trial 3 with value: 0.9136405248703082.\u001b[0m\n",
            "/usr/local/lib/python3.7/dist-packages/sklearn/linear_model/_logistic.py:1484: UserWarning: Setting penalty='none' will ignore the C and l1_ratio parameters\n",
            "  \"Setting penalty='none' will ignore the C and l1_ratio parameters\"\n",
            "/usr/local/lib/python3.7/dist-packages/sklearn/linear_model/_logistic.py:818: ConvergenceWarning: lbfgs failed to converge (status=1):\n",
            "STOP: TOTAL NO. of ITERATIONS REACHED LIMIT.\n",
            "\n",
            "Increase the number of iterations (max_iter) or scale the data as shown in:\n",
            "    https://scikit-learn.org/stable/modules/preprocessing.html\n",
            "Please also refer to the documentation for alternative solver options:\n",
            "    https://scikit-learn.org/stable/modules/linear_model.html#logistic-regression\n",
            "  extra_warning_msg=_LOGISTIC_SOLVER_CONVERGENCE_MSG,\n",
            "\u001b[32m[I 2022-06-17 10:21:50,692]\u001b[0m Trial 43 finished with value: 0.9136405248703082 and parameters: {'penalty': 'none', 'solver': 'lbfgs', 'C': 0.21002523421323835}. Best is trial 3 with value: 0.9136405248703082.\u001b[0m\n",
            "/usr/local/lib/python3.7/dist-packages/sklearn/linear_model/_logistic.py:1484: UserWarning: Setting penalty='none' will ignore the C and l1_ratio parameters\n",
            "  \"Setting penalty='none' will ignore the C and l1_ratio parameters\"\n",
            "/usr/local/lib/python3.7/dist-packages/sklearn/linear_model/_logistic.py:818: ConvergenceWarning: lbfgs failed to converge (status=1):\n",
            "STOP: TOTAL NO. of ITERATIONS REACHED LIMIT.\n",
            "\n",
            "Increase the number of iterations (max_iter) or scale the data as shown in:\n",
            "    https://scikit-learn.org/stable/modules/preprocessing.html\n",
            "Please also refer to the documentation for alternative solver options:\n",
            "    https://scikit-learn.org/stable/modules/linear_model.html#logistic-regression\n",
            "  extra_warning_msg=_LOGISTIC_SOLVER_CONVERGENCE_MSG,\n",
            "\u001b[32m[I 2022-06-17 10:21:53,002]\u001b[0m Trial 44 finished with value: 0.9136405248703082 and parameters: {'penalty': 'none', 'solver': 'lbfgs', 'C': 0.2742260420993012}. Best is trial 3 with value: 0.9136405248703082.\u001b[0m\n",
            "/usr/local/lib/python3.7/dist-packages/sklearn/linear_model/_logistic.py:1484: UserWarning: Setting penalty='none' will ignore the C and l1_ratio parameters\n",
            "  \"Setting penalty='none' will ignore the C and l1_ratio parameters\"\n",
            "/usr/local/lib/python3.7/dist-packages/sklearn/linear_model/_logistic.py:818: ConvergenceWarning: lbfgs failed to converge (status=1):\n",
            "STOP: TOTAL NO. of ITERATIONS REACHED LIMIT.\n",
            "\n",
            "Increase the number of iterations (max_iter) or scale the data as shown in:\n",
            "    https://scikit-learn.org/stable/modules/preprocessing.html\n",
            "Please also refer to the documentation for alternative solver options:\n",
            "    https://scikit-learn.org/stable/modules/linear_model.html#logistic-regression\n",
            "  extra_warning_msg=_LOGISTIC_SOLVER_CONVERGENCE_MSG,\n",
            "\u001b[32m[I 2022-06-17 10:21:54,514]\u001b[0m Trial 45 finished with value: 0.9136405248703082 and parameters: {'penalty': 'none', 'solver': 'lbfgs', 'C': 0.20846619391109808}. Best is trial 3 with value: 0.9136405248703082.\u001b[0m\n",
            "/usr/local/lib/python3.7/dist-packages/sklearn/linear_model/_logistic.py:1484: UserWarning: Setting penalty='none' will ignore the C and l1_ratio parameters\n",
            "  \"Setting penalty='none' will ignore the C and l1_ratio parameters\"\n",
            "/usr/local/lib/python3.7/dist-packages/sklearn/linear_model/_sag.py:354: ConvergenceWarning: The max_iter was reached which means the coef_ did not converge\n",
            "  ConvergenceWarning,\n",
            "\u001b[32m[I 2022-06-17 10:22:00,566]\u001b[0m Trial 46 finished with value: 0.8883450596512695 and parameters: {'penalty': 'none', 'solver': 'sag', 'C': 0.039404721969881235}. Best is trial 3 with value: 0.9136405248703082.\u001b[0m\n",
            "/usr/local/lib/python3.7/dist-packages/sklearn/linear_model/_logistic.py:1484: UserWarning: Setting penalty='none' will ignore the C and l1_ratio parameters\n",
            "  \"Setting penalty='none' will ignore the C and l1_ratio parameters\"\n",
            "/usr/local/lib/python3.7/dist-packages/sklearn/linear_model/_logistic.py:818: ConvergenceWarning: lbfgs failed to converge (status=1):\n",
            "STOP: TOTAL NO. of ITERATIONS REACHED LIMIT.\n",
            "\n",
            "Increase the number of iterations (max_iter) or scale the data as shown in:\n",
            "    https://scikit-learn.org/stable/modules/preprocessing.html\n",
            "Please also refer to the documentation for alternative solver options:\n",
            "    https://scikit-learn.org/stable/modules/linear_model.html#logistic-regression\n",
            "  extra_warning_msg=_LOGISTIC_SOLVER_CONVERGENCE_MSG,\n",
            "\u001b[32m[I 2022-06-17 10:22:02,099]\u001b[0m Trial 47 finished with value: 0.9136405248703082 and parameters: {'penalty': 'none', 'solver': 'lbfgs', 'C': 0.5346061818547376}. Best is trial 3 with value: 0.9136405248703082.\u001b[0m\n",
            "/usr/local/lib/python3.7/dist-packages/sklearn/linear_model/_logistic.py:1484: UserWarning: Setting penalty='none' will ignore the C and l1_ratio parameters\n",
            "  \"Setting penalty='none' will ignore the C and l1_ratio parameters\"\n",
            "/usr/local/lib/python3.7/dist-packages/sklearn/linear_model/_logistic.py:818: ConvergenceWarning: lbfgs failed to converge (status=1):\n",
            "STOP: TOTAL NO. of ITERATIONS REACHED LIMIT.\n",
            "\n",
            "Increase the number of iterations (max_iter) or scale the data as shown in:\n",
            "    https://scikit-learn.org/stable/modules/preprocessing.html\n",
            "Please also refer to the documentation for alternative solver options:\n",
            "    https://scikit-learn.org/stable/modules/linear_model.html#logistic-regression\n",
            "  extra_warning_msg=_LOGISTIC_SOLVER_CONVERGENCE_MSG,\n",
            "\u001b[32m[I 2022-06-17 10:22:03,549]\u001b[0m Trial 48 finished with value: 0.9136405248703082 and parameters: {'penalty': 'none', 'solver': 'lbfgs', 'C': 0.01462246308896903}. Best is trial 3 with value: 0.9136405248703082.\u001b[0m\n",
            "/usr/local/lib/python3.7/dist-packages/sklearn/linear_model/_logistic.py:818: ConvergenceWarning: lbfgs failed to converge (status=1):\n",
            "STOP: TOTAL NO. of ITERATIONS REACHED LIMIT.\n",
            "\n",
            "Increase the number of iterations (max_iter) or scale the data as shown in:\n",
            "    https://scikit-learn.org/stable/modules/preprocessing.html\n",
            "Please also refer to the documentation for alternative solver options:\n",
            "    https://scikit-learn.org/stable/modules/linear_model.html#logistic-regression\n",
            "  extra_warning_msg=_LOGISTIC_SOLVER_CONVERGENCE_MSG,\n",
            "\u001b[32m[I 2022-06-17 10:22:05,072]\u001b[0m Trial 49 finished with value: 0.8438639125151884 and parameters: {'penalty': 'l2', 'solver': 'lbfgs', 'C': 0.0722887281993054}. Best is trial 3 with value: 0.9136405248703082.\u001b[0m\n"
          ]
        },
        {
          "output_type": "stream",
          "name": "stdout",
          "text": [
            "CPU times: user 2min 47s, sys: 12.3 s, total: 2min 59s\n",
            "Wall time: 2min 5s\n"
          ]
        }
      ],
      "source": [
        "%%time\n",
        "# cоздаем объект исследования\n",
        "# можем напрямую указать, что нам необходимо максимизировать метрику direction=\"maximize\"\n",
        "study = optuna.create_study(study_name=\"LogisticRegression\", direction=\"maximize\")\n",
        "# ищем лучшую комбинацию гиперпараметров n_trials раз\n",
        "study.optimize(optuna_lr, n_trials=50)"
      ]
    },
    {
      "cell_type": "code",
      "execution_count": 76,
      "id": "6cNF33I2pYaq",
      "metadata": {
        "colab": {
          "base_uri": "https://localhost:8080/"
        },
        "id": "6cNF33I2pYaq",
        "outputId": "bcd15512-3b9d-452c-9c94-e2b5935029a3"
      },
      "outputs": [
        {
          "output_type": "stream",
          "name": "stdout",
          "text": [
            "Наилучшие значения гиперпараметров {'penalty': 'none', 'solver': 'lbfgs', 'C': 0.9948316774076748}\n",
            "f1_score на обучающем наборе: 0.91\n"
          ]
        }
      ],
      "source": [
        "# выводим результаты на обучающей выборке\n",
        "print(\"Наилучшие значения гиперпараметров {}\".format(study.best_params))\n",
        "print(\"f1_score на обучающем наборе: {:.2f}\".format(study.best_value))"
      ]
    },
    {
      "cell_type": "code",
      "execution_count": 77,
      "id": "JlFIQ0p1pYAJ",
      "metadata": {
        "colab": {
          "base_uri": "https://localhost:8080/"
        },
        "id": "JlFIQ0p1pYAJ",
        "outputId": "9b521f2b-7ba6-4b1d-90bc-3c1dce9d8ab1"
      },
      "outputs": [
        {
          "output_type": "stream",
          "name": "stderr",
          "text": [
            "/usr/local/lib/python3.7/dist-packages/sklearn/linear_model/_logistic.py:1484: UserWarning: Setting penalty='none' will ignore the C and l1_ratio parameters\n",
            "  \"Setting penalty='none' will ignore the C and l1_ratio parameters\"\n"
          ]
        },
        {
          "output_type": "stream",
          "name": "stdout",
          "text": [
            "accuracy на тестовом наборе: 0.69\n",
            "f1_score на тестовом наборе: 0.71\n"
          ]
        },
        {
          "output_type": "stream",
          "name": "stderr",
          "text": [
            "/usr/local/lib/python3.7/dist-packages/sklearn/linear_model/_logistic.py:818: ConvergenceWarning: lbfgs failed to converge (status=1):\n",
            "STOP: TOTAL NO. of ITERATIONS REACHED LIMIT.\n",
            "\n",
            "Increase the number of iterations (max_iter) or scale the data as shown in:\n",
            "    https://scikit-learn.org/stable/modules/preprocessing.html\n",
            "Please also refer to the documentation for alternative solver options:\n",
            "    https://scikit-learn.org/stable/modules/linear_model.html#logistic-regression\n",
            "  extra_warning_msg=_LOGISTIC_SOLVER_CONVERGENCE_MSG,\n"
          ]
        }
      ],
      "source": [
        "# рассчитаем точность для тестовой выборки\n",
        "model = linear_model.LogisticRegression(**study.best_params,random_state=random_state, max_iter=1000)\n",
        "model.fit(X_train_scaled, y_train)\n",
        "y_train_pred = model.predict(X_train_scaled)\n",
        "print(\"accuracy на тестовом наборе: {:.2f}\".format(model.score(X_test_scaled, y_test)))\n",
        "y_test_pred = model.predict(X_test_scaled)\n",
        "print('f1_score на тестовом наборе: {:.2f}'.format(metrics.f1_score(y_test, y_test_pred)))"
      ]
    },
    {
      "cell_type": "markdown",
      "id": "7YnKbvg0MFCs",
      "metadata": {
        "id": "7YnKbvg0MFCs"
      },
      "source": [
        "Optuna также не удалось увеличить метрику"
      ]
    },
    {
      "cell_type": "markdown",
      "id": "VmEnYQzmvgNa",
      "metadata": {
        "id": "VmEnYQzmvgNa"
      },
      "source": [
        "Рассмотрим различные визуализации, доступные через Optuna, которые помогают принимать лучшие решения, видеть влияние различных гиперпараметров на производительность модели.\n",
        "\n",
        "Сначало необходимо проверить, доступна ли поддержка визуализации: is_available (), т.е. доступны ли правильные версии plotly и matplotlib для создания визуализаций."
      ]
    },
    {
      "cell_type": "code",
      "execution_count": 78,
      "id": "uFSzqrVzssLs",
      "metadata": {
        "colab": {
          "base_uri": "https://localhost:8080/"
        },
        "id": "uFSzqrVzssLs",
        "outputId": "5410d8eb-3202-4807-b114-fbb7478fe498"
      },
      "outputs": [
        {
          "output_type": "execute_result",
          "data": {
            "text/plain": [
              "True"
            ]
          },
          "metadata": {},
          "execution_count": 78
        }
      ],
      "source": [
        "optuna.visualization.is_available()"
      ]
    },
    {
      "cell_type": "markdown",
      "id": "fBO5EyP1wT6i",
      "metadata": {
        "id": "fBO5EyP1wT6i"
      },
      "source": [
        "График истории оптимизации - отображает количество испытаний на оси Х и метрику на оси Y.\n",
        "\n",
        "Следует использовать эту диаграмму, чтобы проверить, идет ли оптимизация гиперпараметров в правильном направлении или нет."
      ]
    },
    {
      "cell_type": "code",
      "execution_count": 79,
      "id": "mQAxHDbMsrpl",
      "metadata": {
        "colab": {
          "base_uri": "https://localhost:8080/",
          "height": 542
        },
        "id": "mQAxHDbMsrpl",
        "outputId": "578c2f02-a8cc-4826-9d9e-8c3807a2c408"
      },
      "outputs": [
        {
          "output_type": "display_data",
          "data": {
            "text/html": [
              "<html>\n",
              "<head><meta charset=\"utf-8\" /></head>\n",
              "<body>\n",
              "    <div>            <script src=\"https://cdnjs.cloudflare.com/ajax/libs/mathjax/2.7.5/MathJax.js?config=TeX-AMS-MML_SVG\"></script><script type=\"text/javascript\">if (window.MathJax) {MathJax.Hub.Config({SVG: {font: \"STIX-Web\"}});}</script>                <script type=\"text/javascript\">window.PlotlyConfig = {MathJaxConfig: 'local'};</script>\n",
              "        <script src=\"https://cdn.plot.ly/plotly-2.8.3.min.js\"></script>                <div id=\"d013dbde-31b0-4557-b733-7b34ae1f68b0\" class=\"plotly-graph-div\" style=\"height:525px; width:100%;\"></div>            <script type=\"text/javascript\">                                    window.PLOTLYENV=window.PLOTLYENV || {};                                    if (document.getElementById(\"d013dbde-31b0-4557-b733-7b34ae1f68b0\")) {                    Plotly.newPlot(                        \"d013dbde-31b0-4557-b733-7b34ae1f68b0\",                        [{\"mode\":\"markers\",\"name\":\"f1_score\",\"x\":[0,1,2,3,4,5,6,7,8,9,10,11,12,13,14,15,16,17,18,19,20,21,22,23,24,25,26,27,28,29,30,31,32,33,34,35,36,37,38,39,40,41,42,43,44,45,46,47,48,49,50,51,52,53,54,55,56,57,58,59],\"y\":[0.866646322856271,0.8883450596512695,0.8883450596512695,0.9136405248703082,0.8489646772228988,0.9136405248703082,0.9136405248703082,0.8883450596512695,0.9136405248703082,0.8883450596512695,0.8788990825688074,0.9136405248703082,0.9136405248703082,0.9136405248703082,0.8379685610640871,0.9136405248703082,0.9136405248703082,0.9136405248703082,0.8561872909698997,0.9136405248703082,0.9136405248703082,0.9136405248703082,0.9136405248703082,0.9136405248703082,0.9136405248703082,0.9136405248703082,0.8217286914765907,0.9136405248703082,0.9136405248703082,0.8646341463414634,0.9136405248703082,0.9136405248703082,0.9136405248703082,0.9136405248703082,0.8883450596512695,0.9136405248703082,0.9136405248703082,0.9136405248703082,0.8883450596512695,0.8869193154034231,0.9136405248703082,0.9136405248703082,0.9136405248703082,0.9136405248703082,0.9136405248703082,0.9136405248703082,0.8883450596512695,0.9136405248703082,0.9136405248703082,0.8438639125151884,0.9136405248703082,0.9136405248703082,0.9136405248703082,0.9136405248703082,0.9136405248703082,0.9136405248703082,0.9136405248703082,0.9136405248703082,0.9136405248703082,0.9136405248703082],\"type\":\"scatter\"},{\"name\":\"Best Value\",\"x\":[0,1,2,3,4,5,6,7,8,9,10,11,12,13,14,15,16,17,18,19,20,21,22,23,24,25,26,27,28,29,30,31,32,33,34,35,36,37,38,39,40,41,42,43,44,45,46,47,48,49,50,51,52,53,54,55,56,57,58,59],\"y\":[0.866646322856271,0.8883450596512695,0.8883450596512695,0.9136405248703082,0.9136405248703082,0.9136405248703082,0.9136405248703082,0.9136405248703082,0.9136405248703082,0.9136405248703082,0.9136405248703082,0.9136405248703082,0.9136405248703082,0.9136405248703082,0.9136405248703082,0.9136405248703082,0.9136405248703082,0.9136405248703082,0.9136405248703082,0.9136405248703082,0.9136405248703082,0.9136405248703082,0.9136405248703082,0.9136405248703082,0.9136405248703082,0.9136405248703082,0.9136405248703082,0.9136405248703082,0.9136405248703082,0.9136405248703082,0.9136405248703082,0.9136405248703082,0.9136405248703082,0.9136405248703082,0.9136405248703082,0.9136405248703082,0.9136405248703082,0.9136405248703082,0.9136405248703082,0.9136405248703082,0.9136405248703082,0.9136405248703082,0.9136405248703082,0.9136405248703082,0.9136405248703082,0.9136405248703082,0.9136405248703082,0.9136405248703082,0.9136405248703082,0.9136405248703082,0.9136405248703082,0.9136405248703082,0.9136405248703082,0.9136405248703082,0.9136405248703082,0.9136405248703082,0.9136405248703082,0.9136405248703082,0.9136405248703082,0.9136405248703082],\"type\":\"scatter\"}],                        {\"title\":{\"text\":\"Optimization History Plot\"},\"xaxis\":{\"title\":{\"text\":\"#Trials\"}},\"yaxis\":{\"title\":{\"text\":\"f1_score\"}},\"template\":{\"data\":{\"bar\":[{\"error_x\":{\"color\":\"#2a3f5f\"},\"error_y\":{\"color\":\"#2a3f5f\"},\"marker\":{\"line\":{\"color\":\"#E5ECF6\",\"width\":0.5},\"pattern\":{\"fillmode\":\"overlay\",\"size\":10,\"solidity\":0.2}},\"type\":\"bar\"}],\"barpolar\":[{\"marker\":{\"line\":{\"color\":\"#E5ECF6\",\"width\":0.5},\"pattern\":{\"fillmode\":\"overlay\",\"size\":10,\"solidity\":0.2}},\"type\":\"barpolar\"}],\"carpet\":[{\"aaxis\":{\"endlinecolor\":\"#2a3f5f\",\"gridcolor\":\"white\",\"linecolor\":\"white\",\"minorgridcolor\":\"white\",\"startlinecolor\":\"#2a3f5f\"},\"baxis\":{\"endlinecolor\":\"#2a3f5f\",\"gridcolor\":\"white\",\"linecolor\":\"white\",\"minorgridcolor\":\"white\",\"startlinecolor\":\"#2a3f5f\"},\"type\":\"carpet\"}],\"choropleth\":[{\"colorbar\":{\"outlinewidth\":0,\"ticks\":\"\"},\"type\":\"choropleth\"}],\"contour\":[{\"colorbar\":{\"outlinewidth\":0,\"ticks\":\"\"},\"colorscale\":[[0.0,\"#0d0887\"],[0.1111111111111111,\"#46039f\"],[0.2222222222222222,\"#7201a8\"],[0.3333333333333333,\"#9c179e\"],[0.4444444444444444,\"#bd3786\"],[0.5555555555555556,\"#d8576b\"],[0.6666666666666666,\"#ed7953\"],[0.7777777777777778,\"#fb9f3a\"],[0.8888888888888888,\"#fdca26\"],[1.0,\"#f0f921\"]],\"type\":\"contour\"}],\"contourcarpet\":[{\"colorbar\":{\"outlinewidth\":0,\"ticks\":\"\"},\"type\":\"contourcarpet\"}],\"heatmap\":[{\"colorbar\":{\"outlinewidth\":0,\"ticks\":\"\"},\"colorscale\":[[0.0,\"#0d0887\"],[0.1111111111111111,\"#46039f\"],[0.2222222222222222,\"#7201a8\"],[0.3333333333333333,\"#9c179e\"],[0.4444444444444444,\"#bd3786\"],[0.5555555555555556,\"#d8576b\"],[0.6666666666666666,\"#ed7953\"],[0.7777777777777778,\"#fb9f3a\"],[0.8888888888888888,\"#fdca26\"],[1.0,\"#f0f921\"]],\"type\":\"heatmap\"}],\"heatmapgl\":[{\"colorbar\":{\"outlinewidth\":0,\"ticks\":\"\"},\"colorscale\":[[0.0,\"#0d0887\"],[0.1111111111111111,\"#46039f\"],[0.2222222222222222,\"#7201a8\"],[0.3333333333333333,\"#9c179e\"],[0.4444444444444444,\"#bd3786\"],[0.5555555555555556,\"#d8576b\"],[0.6666666666666666,\"#ed7953\"],[0.7777777777777778,\"#fb9f3a\"],[0.8888888888888888,\"#fdca26\"],[1.0,\"#f0f921\"]],\"type\":\"heatmapgl\"}],\"histogram\":[{\"marker\":{\"pattern\":{\"fillmode\":\"overlay\",\"size\":10,\"solidity\":0.2}},\"type\":\"histogram\"}],\"histogram2d\":[{\"colorbar\":{\"outlinewidth\":0,\"ticks\":\"\"},\"colorscale\":[[0.0,\"#0d0887\"],[0.1111111111111111,\"#46039f\"],[0.2222222222222222,\"#7201a8\"],[0.3333333333333333,\"#9c179e\"],[0.4444444444444444,\"#bd3786\"],[0.5555555555555556,\"#d8576b\"],[0.6666666666666666,\"#ed7953\"],[0.7777777777777778,\"#fb9f3a\"],[0.8888888888888888,\"#fdca26\"],[1.0,\"#f0f921\"]],\"type\":\"histogram2d\"}],\"histogram2dcontour\":[{\"colorbar\":{\"outlinewidth\":0,\"ticks\":\"\"},\"colorscale\":[[0.0,\"#0d0887\"],[0.1111111111111111,\"#46039f\"],[0.2222222222222222,\"#7201a8\"],[0.3333333333333333,\"#9c179e\"],[0.4444444444444444,\"#bd3786\"],[0.5555555555555556,\"#d8576b\"],[0.6666666666666666,\"#ed7953\"],[0.7777777777777778,\"#fb9f3a\"],[0.8888888888888888,\"#fdca26\"],[1.0,\"#f0f921\"]],\"type\":\"histogram2dcontour\"}],\"mesh3d\":[{\"colorbar\":{\"outlinewidth\":0,\"ticks\":\"\"},\"type\":\"mesh3d\"}],\"parcoords\":[{\"line\":{\"colorbar\":{\"outlinewidth\":0,\"ticks\":\"\"}},\"type\":\"parcoords\"}],\"pie\":[{\"automargin\":true,\"type\":\"pie\"}],\"scatter\":[{\"marker\":{\"colorbar\":{\"outlinewidth\":0,\"ticks\":\"\"}},\"type\":\"scatter\"}],\"scatter3d\":[{\"line\":{\"colorbar\":{\"outlinewidth\":0,\"ticks\":\"\"}},\"marker\":{\"colorbar\":{\"outlinewidth\":0,\"ticks\":\"\"}},\"type\":\"scatter3d\"}],\"scattercarpet\":[{\"marker\":{\"colorbar\":{\"outlinewidth\":0,\"ticks\":\"\"}},\"type\":\"scattercarpet\"}],\"scattergeo\":[{\"marker\":{\"colorbar\":{\"outlinewidth\":0,\"ticks\":\"\"}},\"type\":\"scattergeo\"}],\"scattergl\":[{\"marker\":{\"colorbar\":{\"outlinewidth\":0,\"ticks\":\"\"}},\"type\":\"scattergl\"}],\"scattermapbox\":[{\"marker\":{\"colorbar\":{\"outlinewidth\":0,\"ticks\":\"\"}},\"type\":\"scattermapbox\"}],\"scatterpolar\":[{\"marker\":{\"colorbar\":{\"outlinewidth\":0,\"ticks\":\"\"}},\"type\":\"scatterpolar\"}],\"scatterpolargl\":[{\"marker\":{\"colorbar\":{\"outlinewidth\":0,\"ticks\":\"\"}},\"type\":\"scatterpolargl\"}],\"scatterternary\":[{\"marker\":{\"colorbar\":{\"outlinewidth\":0,\"ticks\":\"\"}},\"type\":\"scatterternary\"}],\"surface\":[{\"colorbar\":{\"outlinewidth\":0,\"ticks\":\"\"},\"colorscale\":[[0.0,\"#0d0887\"],[0.1111111111111111,\"#46039f\"],[0.2222222222222222,\"#7201a8\"],[0.3333333333333333,\"#9c179e\"],[0.4444444444444444,\"#bd3786\"],[0.5555555555555556,\"#d8576b\"],[0.6666666666666666,\"#ed7953\"],[0.7777777777777778,\"#fb9f3a\"],[0.8888888888888888,\"#fdca26\"],[1.0,\"#f0f921\"]],\"type\":\"surface\"}],\"table\":[{\"cells\":{\"fill\":{\"color\":\"#EBF0F8\"},\"line\":{\"color\":\"white\"}},\"header\":{\"fill\":{\"color\":\"#C8D4E3\"},\"line\":{\"color\":\"white\"}},\"type\":\"table\"}]},\"layout\":{\"annotationdefaults\":{\"arrowcolor\":\"#2a3f5f\",\"arrowhead\":0,\"arrowwidth\":1},\"autotypenumbers\":\"strict\",\"coloraxis\":{\"colorbar\":{\"outlinewidth\":0,\"ticks\":\"\"}},\"colorscale\":{\"diverging\":[[0,\"#8e0152\"],[0.1,\"#c51b7d\"],[0.2,\"#de77ae\"],[0.3,\"#f1b6da\"],[0.4,\"#fde0ef\"],[0.5,\"#f7f7f7\"],[0.6,\"#e6f5d0\"],[0.7,\"#b8e186\"],[0.8,\"#7fbc41\"],[0.9,\"#4d9221\"],[1,\"#276419\"]],\"sequential\":[[0.0,\"#0d0887\"],[0.1111111111111111,\"#46039f\"],[0.2222222222222222,\"#7201a8\"],[0.3333333333333333,\"#9c179e\"],[0.4444444444444444,\"#bd3786\"],[0.5555555555555556,\"#d8576b\"],[0.6666666666666666,\"#ed7953\"],[0.7777777777777778,\"#fb9f3a\"],[0.8888888888888888,\"#fdca26\"],[1.0,\"#f0f921\"]],\"sequentialminus\":[[0.0,\"#0d0887\"],[0.1111111111111111,\"#46039f\"],[0.2222222222222222,\"#7201a8\"],[0.3333333333333333,\"#9c179e\"],[0.4444444444444444,\"#bd3786\"],[0.5555555555555556,\"#d8576b\"],[0.6666666666666666,\"#ed7953\"],[0.7777777777777778,\"#fb9f3a\"],[0.8888888888888888,\"#fdca26\"],[1.0,\"#f0f921\"]]},\"colorway\":[\"#636efa\",\"#EF553B\",\"#00cc96\",\"#ab63fa\",\"#FFA15A\",\"#19d3f3\",\"#FF6692\",\"#B6E880\",\"#FF97FF\",\"#FECB52\"],\"font\":{\"color\":\"#2a3f5f\"},\"geo\":{\"bgcolor\":\"white\",\"lakecolor\":\"white\",\"landcolor\":\"#E5ECF6\",\"showlakes\":true,\"showland\":true,\"subunitcolor\":\"white\"},\"hoverlabel\":{\"align\":\"left\"},\"hovermode\":\"closest\",\"mapbox\":{\"style\":\"light\"},\"paper_bgcolor\":\"white\",\"plot_bgcolor\":\"#E5ECF6\",\"polar\":{\"angularaxis\":{\"gridcolor\":\"white\",\"linecolor\":\"white\",\"ticks\":\"\"},\"bgcolor\":\"#E5ECF6\",\"radialaxis\":{\"gridcolor\":\"white\",\"linecolor\":\"white\",\"ticks\":\"\"}},\"scene\":{\"xaxis\":{\"backgroundcolor\":\"#E5ECF6\",\"gridcolor\":\"white\",\"gridwidth\":2,\"linecolor\":\"white\",\"showbackground\":true,\"ticks\":\"\",\"zerolinecolor\":\"white\"},\"yaxis\":{\"backgroundcolor\":\"#E5ECF6\",\"gridcolor\":\"white\",\"gridwidth\":2,\"linecolor\":\"white\",\"showbackground\":true,\"ticks\":\"\",\"zerolinecolor\":\"white\"},\"zaxis\":{\"backgroundcolor\":\"#E5ECF6\",\"gridcolor\":\"white\",\"gridwidth\":2,\"linecolor\":\"white\",\"showbackground\":true,\"ticks\":\"\",\"zerolinecolor\":\"white\"}},\"shapedefaults\":{\"line\":{\"color\":\"#2a3f5f\"}},\"ternary\":{\"aaxis\":{\"gridcolor\":\"white\",\"linecolor\":\"white\",\"ticks\":\"\"},\"baxis\":{\"gridcolor\":\"white\",\"linecolor\":\"white\",\"ticks\":\"\"},\"bgcolor\":\"#E5ECF6\",\"caxis\":{\"gridcolor\":\"white\",\"linecolor\":\"white\",\"ticks\":\"\"}},\"title\":{\"x\":0.05},\"xaxis\":{\"automargin\":true,\"gridcolor\":\"white\",\"linecolor\":\"white\",\"ticks\":\"\",\"title\":{\"standoff\":15},\"zerolinecolor\":\"white\",\"zerolinewidth\":2},\"yaxis\":{\"automargin\":true,\"gridcolor\":\"white\",\"linecolor\":\"white\",\"ticks\":\"\",\"title\":{\"standoff\":15},\"zerolinecolor\":\"white\",\"zerolinewidth\":2}}}},                        {\"responsive\": true}                    ).then(function(){\n",
              "                            \n",
              "var gd = document.getElementById('d013dbde-31b0-4557-b733-7b34ae1f68b0');\n",
              "var x = new MutationObserver(function (mutations, observer) {{\n",
              "        var display = window.getComputedStyle(gd).display;\n",
              "        if (!display || display === 'none') {{\n",
              "            console.log([gd, 'removed!']);\n",
              "            Plotly.purge(gd);\n",
              "            observer.disconnect();\n",
              "        }}\n",
              "}});\n",
              "\n",
              "// Listen for the removal of the full notebook cells\n",
              "var notebookContainer = gd.closest('#notebook-container');\n",
              "if (notebookContainer) {{\n",
              "    x.observe(notebookContainer, {childList: true});\n",
              "}}\n",
              "\n",
              "// Listen for the clearing of the current output cell\n",
              "var outputEl = gd.closest('.output');\n",
              "if (outputEl) {{\n",
              "    x.observe(outputEl, {childList: true});\n",
              "}}\n",
              "\n",
              "                        })                };                            </script>        </div>\n",
              "</body>\n",
              "</html>"
            ]
          },
          "metadata": {}
        }
      ],
      "source": [
        "optuna.visualization.plot_optimization_history(study, target_name=\"f1_score\")"
      ]
    },
    {
      "cell_type": "markdown",
      "id": "d16TJE58x925",
      "metadata": {
        "id": "d16TJE58x925"
      },
      "source": [
        "В нашем случае, все идет верно, метрика максимизируется."
      ]
    },
    {
      "cell_type": "markdown",
      "id": "asr2cGgsyZk9",
      "metadata": {
        "id": "asr2cGgsyZk9"
      },
      "source": [
        "График важности гиперпараметров - помогает понять, какие гиперпараметры вносят больший вклад в минимизацию/максимизацию метрики."
      ]
    },
    {
      "cell_type": "code",
      "execution_count": 80,
      "id": "xP9C7m9nx5tE",
      "metadata": {
        "colab": {
          "base_uri": "https://localhost:8080/",
          "height": 542
        },
        "id": "xP9C7m9nx5tE",
        "outputId": "492fc1e1-15d5-4438-8bdb-fa1c16143625"
      },
      "outputs": [
        {
          "output_type": "display_data",
          "data": {
            "text/html": [
              "<html>\n",
              "<head><meta charset=\"utf-8\" /></head>\n",
              "<body>\n",
              "    <div>            <script src=\"https://cdnjs.cloudflare.com/ajax/libs/mathjax/2.7.5/MathJax.js?config=TeX-AMS-MML_SVG\"></script><script type=\"text/javascript\">if (window.MathJax) {MathJax.Hub.Config({SVG: {font: \"STIX-Web\"}});}</script>                <script type=\"text/javascript\">window.PlotlyConfig = {MathJaxConfig: 'local'};</script>\n",
              "        <script src=\"https://cdn.plot.ly/plotly-2.8.3.min.js\"></script>                <div id=\"356369b5-b05e-4920-844c-8d1f21631672\" class=\"plotly-graph-div\" style=\"height:525px; width:100%;\"></div>            <script type=\"text/javascript\">                                    window.PLOTLYENV=window.PLOTLYENV || {};                                    if (document.getElementById(\"356369b5-b05e-4920-844c-8d1f21631672\")) {                    Plotly.newPlot(                        \"356369b5-b05e-4920-844c-8d1f21631672\",                        [{\"cliponaxis\":false,\"hovertemplate\":[\"C (LogUniformDistribution): 0.1477503577994504<extra></extra>\",\"solver (CategoricalDistribution): 0.14782388895648113<extra></extra>\",\"penalty (CategoricalDistribution): 0.7044257532440685<extra></extra>\"],\"marker\":{\"color\":\"rgb(66,146,198)\"},\"orientation\":\"h\",\"text\":[\"0.1477503577994504\",\"0.14782388895648113\",\"0.7044257532440685\"],\"textposition\":\"outside\",\"texttemplate\":\"%{text:.2f}\",\"x\":[0.1477503577994504,0.14782388895648113,0.7044257532440685],\"y\":[\"C\",\"solver\",\"penalty\"],\"type\":\"bar\"}],                        {\"showlegend\":false,\"title\":{\"text\":\"Hyperparameter Importances\"},\"xaxis\":{\"title\":{\"text\":\"Importance for f1_score\"}},\"yaxis\":{\"title\":{\"text\":\"Hyperparameter\"}},\"template\":{\"data\":{\"bar\":[{\"error_x\":{\"color\":\"#2a3f5f\"},\"error_y\":{\"color\":\"#2a3f5f\"},\"marker\":{\"line\":{\"color\":\"#E5ECF6\",\"width\":0.5},\"pattern\":{\"fillmode\":\"overlay\",\"size\":10,\"solidity\":0.2}},\"type\":\"bar\"}],\"barpolar\":[{\"marker\":{\"line\":{\"color\":\"#E5ECF6\",\"width\":0.5},\"pattern\":{\"fillmode\":\"overlay\",\"size\":10,\"solidity\":0.2}},\"type\":\"barpolar\"}],\"carpet\":[{\"aaxis\":{\"endlinecolor\":\"#2a3f5f\",\"gridcolor\":\"white\",\"linecolor\":\"white\",\"minorgridcolor\":\"white\",\"startlinecolor\":\"#2a3f5f\"},\"baxis\":{\"endlinecolor\":\"#2a3f5f\",\"gridcolor\":\"white\",\"linecolor\":\"white\",\"minorgridcolor\":\"white\",\"startlinecolor\":\"#2a3f5f\"},\"type\":\"carpet\"}],\"choropleth\":[{\"colorbar\":{\"outlinewidth\":0,\"ticks\":\"\"},\"type\":\"choropleth\"}],\"contour\":[{\"colorbar\":{\"outlinewidth\":0,\"ticks\":\"\"},\"colorscale\":[[0.0,\"#0d0887\"],[0.1111111111111111,\"#46039f\"],[0.2222222222222222,\"#7201a8\"],[0.3333333333333333,\"#9c179e\"],[0.4444444444444444,\"#bd3786\"],[0.5555555555555556,\"#d8576b\"],[0.6666666666666666,\"#ed7953\"],[0.7777777777777778,\"#fb9f3a\"],[0.8888888888888888,\"#fdca26\"],[1.0,\"#f0f921\"]],\"type\":\"contour\"}],\"contourcarpet\":[{\"colorbar\":{\"outlinewidth\":0,\"ticks\":\"\"},\"type\":\"contourcarpet\"}],\"heatmap\":[{\"colorbar\":{\"outlinewidth\":0,\"ticks\":\"\"},\"colorscale\":[[0.0,\"#0d0887\"],[0.1111111111111111,\"#46039f\"],[0.2222222222222222,\"#7201a8\"],[0.3333333333333333,\"#9c179e\"],[0.4444444444444444,\"#bd3786\"],[0.5555555555555556,\"#d8576b\"],[0.6666666666666666,\"#ed7953\"],[0.7777777777777778,\"#fb9f3a\"],[0.8888888888888888,\"#fdca26\"],[1.0,\"#f0f921\"]],\"type\":\"heatmap\"}],\"heatmapgl\":[{\"colorbar\":{\"outlinewidth\":0,\"ticks\":\"\"},\"colorscale\":[[0.0,\"#0d0887\"],[0.1111111111111111,\"#46039f\"],[0.2222222222222222,\"#7201a8\"],[0.3333333333333333,\"#9c179e\"],[0.4444444444444444,\"#bd3786\"],[0.5555555555555556,\"#d8576b\"],[0.6666666666666666,\"#ed7953\"],[0.7777777777777778,\"#fb9f3a\"],[0.8888888888888888,\"#fdca26\"],[1.0,\"#f0f921\"]],\"type\":\"heatmapgl\"}],\"histogram\":[{\"marker\":{\"pattern\":{\"fillmode\":\"overlay\",\"size\":10,\"solidity\":0.2}},\"type\":\"histogram\"}],\"histogram2d\":[{\"colorbar\":{\"outlinewidth\":0,\"ticks\":\"\"},\"colorscale\":[[0.0,\"#0d0887\"],[0.1111111111111111,\"#46039f\"],[0.2222222222222222,\"#7201a8\"],[0.3333333333333333,\"#9c179e\"],[0.4444444444444444,\"#bd3786\"],[0.5555555555555556,\"#d8576b\"],[0.6666666666666666,\"#ed7953\"],[0.7777777777777778,\"#fb9f3a\"],[0.8888888888888888,\"#fdca26\"],[1.0,\"#f0f921\"]],\"type\":\"histogram2d\"}],\"histogram2dcontour\":[{\"colorbar\":{\"outlinewidth\":0,\"ticks\":\"\"},\"colorscale\":[[0.0,\"#0d0887\"],[0.1111111111111111,\"#46039f\"],[0.2222222222222222,\"#7201a8\"],[0.3333333333333333,\"#9c179e\"],[0.4444444444444444,\"#bd3786\"],[0.5555555555555556,\"#d8576b\"],[0.6666666666666666,\"#ed7953\"],[0.7777777777777778,\"#fb9f3a\"],[0.8888888888888888,\"#fdca26\"],[1.0,\"#f0f921\"]],\"type\":\"histogram2dcontour\"}],\"mesh3d\":[{\"colorbar\":{\"outlinewidth\":0,\"ticks\":\"\"},\"type\":\"mesh3d\"}],\"parcoords\":[{\"line\":{\"colorbar\":{\"outlinewidth\":0,\"ticks\":\"\"}},\"type\":\"parcoords\"}],\"pie\":[{\"automargin\":true,\"type\":\"pie\"}],\"scatter\":[{\"marker\":{\"colorbar\":{\"outlinewidth\":0,\"ticks\":\"\"}},\"type\":\"scatter\"}],\"scatter3d\":[{\"line\":{\"colorbar\":{\"outlinewidth\":0,\"ticks\":\"\"}},\"marker\":{\"colorbar\":{\"outlinewidth\":0,\"ticks\":\"\"}},\"type\":\"scatter3d\"}],\"scattercarpet\":[{\"marker\":{\"colorbar\":{\"outlinewidth\":0,\"ticks\":\"\"}},\"type\":\"scattercarpet\"}],\"scattergeo\":[{\"marker\":{\"colorbar\":{\"outlinewidth\":0,\"ticks\":\"\"}},\"type\":\"scattergeo\"}],\"scattergl\":[{\"marker\":{\"colorbar\":{\"outlinewidth\":0,\"ticks\":\"\"}},\"type\":\"scattergl\"}],\"scattermapbox\":[{\"marker\":{\"colorbar\":{\"outlinewidth\":0,\"ticks\":\"\"}},\"type\":\"scattermapbox\"}],\"scatterpolar\":[{\"marker\":{\"colorbar\":{\"outlinewidth\":0,\"ticks\":\"\"}},\"type\":\"scatterpolar\"}],\"scatterpolargl\":[{\"marker\":{\"colorbar\":{\"outlinewidth\":0,\"ticks\":\"\"}},\"type\":\"scatterpolargl\"}],\"scatterternary\":[{\"marker\":{\"colorbar\":{\"outlinewidth\":0,\"ticks\":\"\"}},\"type\":\"scatterternary\"}],\"surface\":[{\"colorbar\":{\"outlinewidth\":0,\"ticks\":\"\"},\"colorscale\":[[0.0,\"#0d0887\"],[0.1111111111111111,\"#46039f\"],[0.2222222222222222,\"#7201a8\"],[0.3333333333333333,\"#9c179e\"],[0.4444444444444444,\"#bd3786\"],[0.5555555555555556,\"#d8576b\"],[0.6666666666666666,\"#ed7953\"],[0.7777777777777778,\"#fb9f3a\"],[0.8888888888888888,\"#fdca26\"],[1.0,\"#f0f921\"]],\"type\":\"surface\"}],\"table\":[{\"cells\":{\"fill\":{\"color\":\"#EBF0F8\"},\"line\":{\"color\":\"white\"}},\"header\":{\"fill\":{\"color\":\"#C8D4E3\"},\"line\":{\"color\":\"white\"}},\"type\":\"table\"}]},\"layout\":{\"annotationdefaults\":{\"arrowcolor\":\"#2a3f5f\",\"arrowhead\":0,\"arrowwidth\":1},\"autotypenumbers\":\"strict\",\"coloraxis\":{\"colorbar\":{\"outlinewidth\":0,\"ticks\":\"\"}},\"colorscale\":{\"diverging\":[[0,\"#8e0152\"],[0.1,\"#c51b7d\"],[0.2,\"#de77ae\"],[0.3,\"#f1b6da\"],[0.4,\"#fde0ef\"],[0.5,\"#f7f7f7\"],[0.6,\"#e6f5d0\"],[0.7,\"#b8e186\"],[0.8,\"#7fbc41\"],[0.9,\"#4d9221\"],[1,\"#276419\"]],\"sequential\":[[0.0,\"#0d0887\"],[0.1111111111111111,\"#46039f\"],[0.2222222222222222,\"#7201a8\"],[0.3333333333333333,\"#9c179e\"],[0.4444444444444444,\"#bd3786\"],[0.5555555555555556,\"#d8576b\"],[0.6666666666666666,\"#ed7953\"],[0.7777777777777778,\"#fb9f3a\"],[0.8888888888888888,\"#fdca26\"],[1.0,\"#f0f921\"]],\"sequentialminus\":[[0.0,\"#0d0887\"],[0.1111111111111111,\"#46039f\"],[0.2222222222222222,\"#7201a8\"],[0.3333333333333333,\"#9c179e\"],[0.4444444444444444,\"#bd3786\"],[0.5555555555555556,\"#d8576b\"],[0.6666666666666666,\"#ed7953\"],[0.7777777777777778,\"#fb9f3a\"],[0.8888888888888888,\"#fdca26\"],[1.0,\"#f0f921\"]]},\"colorway\":[\"#636efa\",\"#EF553B\",\"#00cc96\",\"#ab63fa\",\"#FFA15A\",\"#19d3f3\",\"#FF6692\",\"#B6E880\",\"#FF97FF\",\"#FECB52\"],\"font\":{\"color\":\"#2a3f5f\"},\"geo\":{\"bgcolor\":\"white\",\"lakecolor\":\"white\",\"landcolor\":\"#E5ECF6\",\"showlakes\":true,\"showland\":true,\"subunitcolor\":\"white\"},\"hoverlabel\":{\"align\":\"left\"},\"hovermode\":\"closest\",\"mapbox\":{\"style\":\"light\"},\"paper_bgcolor\":\"white\",\"plot_bgcolor\":\"#E5ECF6\",\"polar\":{\"angularaxis\":{\"gridcolor\":\"white\",\"linecolor\":\"white\",\"ticks\":\"\"},\"bgcolor\":\"#E5ECF6\",\"radialaxis\":{\"gridcolor\":\"white\",\"linecolor\":\"white\",\"ticks\":\"\"}},\"scene\":{\"xaxis\":{\"backgroundcolor\":\"#E5ECF6\",\"gridcolor\":\"white\",\"gridwidth\":2,\"linecolor\":\"white\",\"showbackground\":true,\"ticks\":\"\",\"zerolinecolor\":\"white\"},\"yaxis\":{\"backgroundcolor\":\"#E5ECF6\",\"gridcolor\":\"white\",\"gridwidth\":2,\"linecolor\":\"white\",\"showbackground\":true,\"ticks\":\"\",\"zerolinecolor\":\"white\"},\"zaxis\":{\"backgroundcolor\":\"#E5ECF6\",\"gridcolor\":\"white\",\"gridwidth\":2,\"linecolor\":\"white\",\"showbackground\":true,\"ticks\":\"\",\"zerolinecolor\":\"white\"}},\"shapedefaults\":{\"line\":{\"color\":\"#2a3f5f\"}},\"ternary\":{\"aaxis\":{\"gridcolor\":\"white\",\"linecolor\":\"white\",\"ticks\":\"\"},\"baxis\":{\"gridcolor\":\"white\",\"linecolor\":\"white\",\"ticks\":\"\"},\"bgcolor\":\"#E5ECF6\",\"caxis\":{\"gridcolor\":\"white\",\"linecolor\":\"white\",\"ticks\":\"\"}},\"title\":{\"x\":0.05},\"xaxis\":{\"automargin\":true,\"gridcolor\":\"white\",\"linecolor\":\"white\",\"ticks\":\"\",\"title\":{\"standoff\":15},\"zerolinecolor\":\"white\",\"zerolinewidth\":2},\"yaxis\":{\"automargin\":true,\"gridcolor\":\"white\",\"linecolor\":\"white\",\"ticks\":\"\",\"title\":{\"standoff\":15},\"zerolinecolor\":\"white\",\"zerolinewidth\":2}}}},                        {\"responsive\": true}                    ).then(function(){\n",
              "                            \n",
              "var gd = document.getElementById('356369b5-b05e-4920-844c-8d1f21631672');\n",
              "var x = new MutationObserver(function (mutations, observer) {{\n",
              "        var display = window.getComputedStyle(gd).display;\n",
              "        if (!display || display === 'none') {{\n",
              "            console.log([gd, 'removed!']);\n",
              "            Plotly.purge(gd);\n",
              "            observer.disconnect();\n",
              "        }}\n",
              "}});\n",
              "\n",
              "// Listen for the removal of the full notebook cells\n",
              "var notebookContainer = gd.closest('#notebook-container');\n",
              "if (notebookContainer) {{\n",
              "    x.observe(notebookContainer, {childList: true});\n",
              "}}\n",
              "\n",
              "// Listen for the clearing of the current output cell\n",
              "var outputEl = gd.closest('.output');\n",
              "if (outputEl) {{\n",
              "    x.observe(outputEl, {childList: true});\n",
              "}}\n",
              "\n",
              "                        })                };                            </script>        </div>\n",
              "</body>\n",
              "</html>"
            ]
          },
          "metadata": {}
        }
      ],
      "source": [
        "optuna.visualization.plot_param_importances(study, target_name=\"f1_score\")"
      ]
    },
    {
      "cell_type": "markdown",
      "id": "iJJBn2LrzRJF",
      "metadata": {
        "id": "iJJBn2LrzRJF"
      },
      "source": [
        "Из этого графика можно сделать вывод, что стоит обратить большее внимание на настройку гиперпараметра регулизации"
      ]
    },
    {
      "cell_type": "markdown",
      "source": [
        "#### **Случайный лес**"
      ],
      "metadata": {
        "id": "aOcUuyRQPZhy"
      },
      "id": "aOcUuyRQPZhy"
    },
    {
      "cell_type": "markdown",
      "source": [
        "Настроим оптимизацию гиперпараметров для алгоритма случайного леса."
      ],
      "metadata": {
        "id": "c-3GFSBsPWXW"
      },
      "id": "c-3GFSBsPWXW"
    },
    {
      "cell_type": "code",
      "execution_count": 87,
      "metadata": {
        "id": "wcUglqJnPWXW"
      },
      "outputs": [],
      "source": [
        "def optuna_rf(trial):\n",
        "  # задаем пространства поиска гиперпараметров\n",
        "  n_estimators = trial.suggest_int('n_estimators', 100, 500, 50)\n",
        "  max_depth = trial.suggest_int('max_depth', 5, 20, 1)\n",
        "  min_samples_leaf = trial.suggest_int('min_samples_leaf', 2, 10, 1)\n",
        "\n",
        "  # создаем модель\n",
        "  model = ensemble.RandomForestClassifier(n_estimators=n_estimators,\n",
        "                                          max_depth=max_depth,\n",
        "                                          min_samples_leaf=min_samples_leaf,\n",
        "                                          random_state=random_state)\n",
        "  # обучаем модель\n",
        "  model.fit(X_train_scaled, y_train)\n",
        "  score = metrics.f1_score(y_train, model.predict(X_train_scaled))\n",
        "\n",
        "  return score\n",
        "  \n",
        "  "
      ],
      "id": "wcUglqJnPWXW"
    },
    {
      "cell_type": "code",
      "execution_count": 88,
      "metadata": {
        "colab": {
          "base_uri": "https://localhost:8080/"
        },
        "outputId": "681d334b-28a6-404a-8027-7d4e0646ab13",
        "id": "iD9zE4CMPWXX"
      },
      "outputs": [
        {
          "output_type": "stream",
          "name": "stderr",
          "text": [
            "\u001b[32m[I 2022-06-17 10:30:59,978]\u001b[0m A new study created in memory with name: RandomForestClassifier\u001b[0m\n",
            "\u001b[32m[I 2022-06-17 10:31:01,686]\u001b[0m Trial 0 finished with value: 0.9151607963246554 and parameters: {'n_estimators': 100, 'max_depth': 10, 'min_samples_leaf': 4}. Best is trial 0 with value: 0.9151607963246554.\u001b[0m\n",
            "\u001b[32m[I 2022-06-17 10:31:09,439]\u001b[0m Trial 1 finished with value: 0.9440879926672778 and parameters: {'n_estimators': 400, 'max_depth': 17, 'min_samples_leaf': 5}. Best is trial 1 with value: 0.9440879926672778.\u001b[0m\n",
            "\u001b[32m[I 2022-06-17 10:31:16,835]\u001b[0m Trial 2 finished with value: 0.9267545203800184 and parameters: {'n_estimators': 400, 'max_depth': 14, 'min_samples_leaf': 6}. Best is trial 1 with value: 0.9440879926672778.\u001b[0m\n",
            "\u001b[32m[I 2022-06-17 10:31:18,361]\u001b[0m Trial 3 finished with value: 0.8793846153846153 and parameters: {'n_estimators': 100, 'max_depth': 10, 'min_samples_leaf': 10}. Best is trial 1 with value: 0.9440879926672778.\u001b[0m\n",
            "\u001b[32m[I 2022-06-17 10:31:20,099]\u001b[0m Trial 4 finished with value: 0.9041514041514043 and parameters: {'n_estimators': 100, 'max_depth': 20, 'min_samples_leaf': 9}. Best is trial 1 with value: 0.9440879926672778.\u001b[0m\n",
            "\u001b[32m[I 2022-06-17 10:31:26,506]\u001b[0m Trial 5 finished with value: 0.8594278683482005 and parameters: {'n_estimators': 500, 'max_depth': 8, 'min_samples_leaf': 10}. Best is trial 1 with value: 0.9440879926672778.\u001b[0m\n",
            "\u001b[32m[I 2022-06-17 10:31:28,782]\u001b[0m Trial 6 finished with value: 0.8821548821548821 and parameters: {'n_estimators': 150, 'max_depth': 10, 'min_samples_leaf': 9}. Best is trial 1 with value: 0.9440879926672778.\u001b[0m\n",
            "\u001b[32m[I 2022-06-17 10:31:32,997]\u001b[0m Trial 7 finished with value: 0.973998164576323 and parameters: {'n_estimators': 200, 'max_depth': 18, 'min_samples_leaf': 3}. Best is trial 7 with value: 0.973998164576323.\u001b[0m\n",
            "\u001b[32m[I 2022-06-17 10:31:41,480]\u001b[0m Trial 8 finished with value: 0.9193993257738278 and parameters: {'n_estimators': 500, 'max_depth': 12, 'min_samples_leaf': 6}. Best is trial 7 with value: 0.973998164576323.\u001b[0m\n",
            "\u001b[32m[I 2022-06-17 10:31:43,178]\u001b[0m Trial 9 finished with value: 0.9027142421469961 and parameters: {'n_estimators': 100, 'max_depth': 18, 'min_samples_leaf': 9}. Best is trial 7 with value: 0.973998164576323.\u001b[0m\n",
            "\u001b[32m[I 2022-06-17 10:31:48,496]\u001b[0m Trial 10 finished with value: 0.9819295558958652 and parameters: {'n_estimators': 250, 'max_depth': 15, 'min_samples_leaf': 2}. Best is trial 10 with value: 0.9819295558958652.\u001b[0m\n",
            "\u001b[32m[I 2022-06-17 10:31:53,822]\u001b[0m Trial 11 finished with value: 0.9819295558958652 and parameters: {'n_estimators': 250, 'max_depth': 15, 'min_samples_leaf': 2}. Best is trial 10 with value: 0.9819295558958652.\u001b[0m\n",
            "\u001b[32m[I 2022-06-17 10:31:59,225]\u001b[0m Trial 12 finished with value: 0.9819295558958652 and parameters: {'n_estimators': 250, 'max_depth': 15, 'min_samples_leaf': 2}. Best is trial 10 with value: 0.9819295558958652.\u001b[0m\n",
            "\u001b[32m[I 2022-06-17 10:32:01,909]\u001b[0m Trial 13 finished with value: 0.8141321044546852 and parameters: {'n_estimators': 300, 'max_depth': 5, 'min_samples_leaf': 2}. Best is trial 10 with value: 0.9819295558958652.\u001b[0m\n",
            "\u001b[32m[I 2022-06-17 10:32:07,821]\u001b[0m Trial 14 finished with value: 0.9533394327538883 and parameters: {'n_estimators': 300, 'max_depth': 15, 'min_samples_leaf': 4}. Best is trial 10 with value: 0.9819295558958652.\u001b[0m\n",
            "\u001b[32m[I 2022-06-17 10:32:11,546]\u001b[0m Trial 15 finished with value: 0.9508996645318695 and parameters: {'n_estimators': 200, 'max_depth': 12, 'min_samples_leaf': 3}. Best is trial 10 with value: 0.9819295558958652.\u001b[0m\n",
            "\u001b[32m[I 2022-06-17 10:32:19,179]\u001b[0m Trial 16 finished with value: 0.9858809085328423 and parameters: {'n_estimators': 350, 'max_depth': 16, 'min_samples_leaf': 2}. Best is trial 16 with value: 0.9858809085328423.\u001b[0m\n",
            "\u001b[32m[I 2022-06-17 10:32:27,253]\u001b[0m Trial 17 finished with value: 0.9576090271424215 and parameters: {'n_estimators': 400, 'max_depth': 20, 'min_samples_leaf': 4}. Best is trial 16 with value: 0.9858809085328423.\u001b[0m\n",
            "\u001b[32m[I 2022-06-17 10:32:35,312]\u001b[0m Trial 18 finished with value: 0.9241590214067278 and parameters: {'n_estimators': 450, 'max_depth': 17, 'min_samples_leaf': 7}. Best is trial 16 with value: 0.9858809085328423.\u001b[0m\n",
            "\u001b[32m[I 2022-06-17 10:32:42,048]\u001b[0m Trial 19 finished with value: 0.9572649572649573 and parameters: {'n_estimators': 350, 'max_depth': 13, 'min_samples_leaf': 3}. Best is trial 16 with value: 0.9858809085328423.\u001b[0m\n"
          ]
        },
        {
          "output_type": "stream",
          "name": "stdout",
          "text": [
            "CPU times: user 1min 42s, sys: 333 ms, total: 1min 42s\n",
            "Wall time: 1min 42s\n"
          ]
        }
      ],
      "source": [
        "%%time\n",
        "# cоздаем объект исследования\n",
        "# можем напрямую указать, что нам необходимо максимизировать метрику direction=\"maximize\"\n",
        "study = optuna.create_study(study_name=\"RandomForestClassifier\", direction=\"maximize\")\n",
        "# ищем лучшую комбинацию гиперпараметров n_trials раз\n",
        "study.optimize(optuna_rf, n_trials=20)"
      ],
      "id": "iD9zE4CMPWXX"
    },
    {
      "cell_type": "code",
      "execution_count": 92,
      "metadata": {
        "colab": {
          "base_uri": "https://localhost:8080/"
        },
        "outputId": "42fc9b4d-6bd3-4fb7-e428-decbd90d5345",
        "id": "4hOqWYYqPWXX"
      },
      "outputs": [
        {
          "output_type": "stream",
          "name": "stdout",
          "text": [
            "Наилучшие значения гиперпараметров {'n_estimators': 500, 'max_depth': 20, 'min_samples_leaf': 2}\n",
            "f1_score на обучающем наборе: 0.99\n"
          ]
        }
      ],
      "source": [
        "# выводим результаты на обучающей выборке\n",
        "print(\"Наилучшие значения гиперпараметров {}\".format(study.best_params))\n",
        "print(\"f1_score на обучающем наборе: {:.2f}\".format(study.best_value))"
      ],
      "id": "4hOqWYYqPWXX"
    },
    {
      "cell_type": "code",
      "execution_count": 93,
      "metadata": {
        "colab": {
          "base_uri": "https://localhost:8080/"
        },
        "outputId": "de318bf4-8eb2-458c-f488-e941609d0f6f",
        "id": "vRubq21IPWXY"
      },
      "outputs": [
        {
          "output_type": "stream",
          "name": "stdout",
          "text": [
            "accuracy на тестовом наборе: 0.81\n",
            "f1_score на тестовом наборе: 0.83\n"
          ]
        }
      ],
      "source": [
        "# рассчитаем точность для тестовой выборки\n",
        "model = ensemble.RandomForestClassifier(**study.best_params,random_state=random_state, )\n",
        "model.fit(X_train_scaled, y_train)\n",
        "y_train_pred = model.predict(X_train_scaled)\n",
        "print(\"accuracy на тестовом наборе: {:.2f}\".format(model.score(X_test_scaled, y_test)))\n",
        "y_test_pred = model.predict(X_test_scaled)\n",
        "print('f1_score на тестовом наборе: {:.2f}'.format(metrics.f1_score(y_test, y_test_pred)))"
      ],
      "id": "vRubq21IPWXY"
    },
    {
      "cell_type": "code",
      "execution_count": 91,
      "metadata": {
        "colab": {
          "base_uri": "https://localhost:8080/"
        },
        "outputId": "d8aa0f72-697e-441a-e2e8-7edbe1fce90d",
        "id": "px3YhV6nPWXZ"
      },
      "outputs": [
        {
          "output_type": "stream",
          "name": "stderr",
          "text": [
            "\u001b[32m[I 2022-06-17 10:33:56,140]\u001b[0m Trial 20 finished with value: 0.923500611995104 and parameters: {'n_estimators': 350, 'max_depth': 16, 'min_samples_leaf': 7}. Best is trial 16 with value: 0.9858809085328423.\u001b[0m\n",
            "\u001b[32m[I 2022-06-17 10:34:01,490]\u001b[0m Trial 21 finished with value: 0.9819295558958652 and parameters: {'n_estimators': 250, 'max_depth': 15, 'min_samples_leaf': 2}. Best is trial 16 with value: 0.9858809085328423.\u001b[0m\n",
            "\u001b[32m[I 2022-06-17 10:34:06,524]\u001b[0m Trial 22 finished with value: 0.9691979261970113 and parameters: {'n_estimators': 250, 'max_depth': 13, 'min_samples_leaf': 2}. Best is trial 16 with value: 0.9858809085328423.\u001b[0m\n",
            "\u001b[32m[I 2022-06-17 10:34:10,671]\u001b[0m Trial 23 finished with value: 0.973998164576323 and parameters: {'n_estimators': 200, 'max_depth': 18, 'min_samples_leaf': 3}. Best is trial 16 with value: 0.9858809085328423.\u001b[0m\n",
            "\u001b[32m[I 2022-06-17 10:34:17,039]\u001b[0m Trial 24 finished with value: 0.9364691508857667 and parameters: {'n_estimators': 350, 'max_depth': 14, 'min_samples_leaf': 5}. Best is trial 16 with value: 0.9858809085328423.\u001b[0m\n",
            "\u001b[32m[I 2022-06-17 10:34:23,522]\u001b[0m Trial 25 finished with value: 0.9852670349907919 and parameters: {'n_estimators': 300, 'max_depth': 16, 'min_samples_leaf': 2}. Best is trial 16 with value: 0.9858809085328423.\u001b[0m\n",
            "\u001b[32m[I 2022-06-17 10:34:29,774]\u001b[0m Trial 26 finished with value: 0.975206611570248 and parameters: {'n_estimators': 300, 'max_depth': 17, 'min_samples_leaf': 3}. Best is trial 16 with value: 0.9858809085328423.\u001b[0m\n",
            "\u001b[32m[I 2022-06-17 10:34:36,741]\u001b[0m Trial 27 finished with value: 0.9572127139364304 and parameters: {'n_estimators': 350, 'max_depth': 19, 'min_samples_leaf': 4}. Best is trial 16 with value: 0.9858809085328423.\u001b[0m\n",
            "\u001b[32m[I 2022-06-17 10:34:41,730]\u001b[0m Trial 28 finished with value: 0.9188690842040566 and parameters: {'n_estimators': 300, 'max_depth': 11, 'min_samples_leaf': 5}. Best is trial 16 with value: 0.9858809085328423.\u001b[0m\n",
            "\u001b[32m[I 2022-06-17 10:34:51,228]\u001b[0m Trial 29 finished with value: 0.9864947820748925 and parameters: {'n_estimators': 450, 'max_depth': 16, 'min_samples_leaf': 2}. Best is trial 29 with value: 0.9864947820748925.\u001b[0m\n",
            "\u001b[32m[I 2022-06-17 10:35:00,292]\u001b[0m Trial 30 finished with value: 0.9684918935454266 and parameters: {'n_estimators': 450, 'max_depth': 16, 'min_samples_leaf': 3}. Best is trial 29 with value: 0.9864947820748925.\u001b[0m\n",
            "\u001b[32m[I 2022-06-17 10:35:09,940]\u001b[0m Trial 31 finished with value: 0.9864947820748925 and parameters: {'n_estimators': 450, 'max_depth': 16, 'min_samples_leaf': 2}. Best is trial 29 with value: 0.9864947820748925.\u001b[0m\n",
            "\u001b[32m[I 2022-06-17 10:35:19,852]\u001b[0m Trial 32 finished with value: 0.9880331389996931 and parameters: {'n_estimators': 450, 'max_depth': 17, 'min_samples_leaf': 2}. Best is trial 32 with value: 0.9880331389996931.\u001b[0m\n",
            "\u001b[32m[I 2022-06-17 10:35:29,038]\u001b[0m Trial 33 finished with value: 0.9743276283618583 and parameters: {'n_estimators': 450, 'max_depth': 17, 'min_samples_leaf': 3}. Best is trial 32 with value: 0.9880331389996931.\u001b[0m\n",
            "\u001b[32m[I 2022-06-17 10:35:38,890]\u001b[0m Trial 34 finished with value: 0.9898866074164879 and parameters: {'n_estimators': 450, 'max_depth': 19, 'min_samples_leaf': 2}. Best is trial 34 with value: 0.9898866074164879.\u001b[0m\n",
            "\u001b[32m[I 2022-06-17 10:35:47,623]\u001b[0m Trial 35 finished with value: 0.9569202566452796 and parameters: {'n_estimators': 450, 'max_depth': 19, 'min_samples_leaf': 4}. Best is trial 34 with value: 0.9898866074164879.\u001b[0m\n",
            "\u001b[32m[I 2022-06-17 10:35:57,378]\u001b[0m Trial 36 finished with value: 0.9578497251069028 and parameters: {'n_estimators': 500, 'max_depth': 19, 'min_samples_leaf': 4}. Best is trial 34 with value: 0.9898866074164879.\u001b[0m\n",
            "\u001b[32m[I 2022-06-17 10:36:05,799]\u001b[0m Trial 37 finished with value: 0.9773700305810398 and parameters: {'n_estimators': 400, 'max_depth': 20, 'min_samples_leaf': 3}. Best is trial 34 with value: 0.9898866074164879.\u001b[0m\n",
            "\u001b[32m[I 2022-06-17 10:36:16,660]\u001b[0m Trial 38 finished with value: 0.9886607416487896 and parameters: {'n_estimators': 500, 'max_depth': 18, 'min_samples_leaf': 2}. Best is trial 34 with value: 0.9898866074164879.\u001b[0m\n",
            "\u001b[32m[I 2022-06-17 10:36:25,436]\u001b[0m Trial 39 finished with value: 0.9261294261294261 and parameters: {'n_estimators': 500, 'max_depth': 19, 'min_samples_leaf': 7}. Best is trial 34 with value: 0.9898866074164879.\u001b[0m\n",
            "\u001b[32m[I 2022-06-17 10:36:33,903]\u001b[0m Trial 40 finished with value: 0.9164124466137888 and parameters: {'n_estimators': 500, 'max_depth': 18, 'min_samples_leaf': 8}. Best is trial 34 with value: 0.9898866074164879.\u001b[0m\n",
            "\u001b[32m[I 2022-06-17 10:36:43,604]\u001b[0m Trial 41 finished with value: 0.9880331389996931 and parameters: {'n_estimators': 450, 'max_depth': 17, 'min_samples_leaf': 2}. Best is trial 34 with value: 0.9898866074164879.\u001b[0m\n",
            "\u001b[32m[I 2022-06-17 10:36:52,296]\u001b[0m Trial 42 finished with value: 0.9880257906048511 and parameters: {'n_estimators': 400, 'max_depth': 17, 'min_samples_leaf': 2}. Best is trial 34 with value: 0.9898866074164879.\u001b[0m\n",
            "\u001b[32m[I 2022-06-17 10:37:00,560]\u001b[0m Trial 43 finished with value: 0.9749235474006116 and parameters: {'n_estimators': 400, 'max_depth': 18, 'min_samples_leaf': 3}. Best is trial 34 with value: 0.9898866074164879.\u001b[0m\n",
            "\u001b[32m[I 2022-06-17 10:37:11,817]\u001b[0m Trial 44 finished with value: 0.99049371358479 and parameters: {'n_estimators': 500, 'max_depth': 20, 'min_samples_leaf': 2}. Best is trial 44 with value: 0.99049371358479.\u001b[0m\n",
            "\u001b[32m[I 2022-06-17 10:37:22,267]\u001b[0m Trial 45 finished with value: 0.9773561811505507 and parameters: {'n_estimators': 500, 'max_depth': 20, 'min_samples_leaf': 3}. Best is trial 44 with value: 0.99049371358479.\u001b[0m\n",
            "\u001b[32m[I 2022-06-17 10:37:33,423]\u001b[0m Trial 46 finished with value: 0.9895897121861605 and parameters: {'n_estimators': 500, 'max_depth': 19, 'min_samples_leaf': 2}. Best is trial 44 with value: 0.99049371358479.\u001b[0m\n",
            "\u001b[32m[I 2022-06-17 10:37:40,233]\u001b[0m Trial 47 finished with value: 0.895173685828466 and parameters: {'n_estimators': 500, 'max_depth': 8, 'min_samples_leaf': 2}. Best is trial 44 with value: 0.99049371358479.\u001b[0m\n",
            "\u001b[32m[I 2022-06-17 10:37:50,720]\u001b[0m Trial 48 finished with value: 0.9466300701433363 and parameters: {'n_estimators': 500, 'max_depth': 20, 'min_samples_leaf': 5}. Best is trial 44 with value: 0.99049371358479.\u001b[0m\n",
            "\u001b[32m[I 2022-06-17 10:38:01,921]\u001b[0m Trial 49 finished with value: 0.9895897121861605 and parameters: {'n_estimators': 500, 'max_depth': 19, 'min_samples_leaf': 2}. Best is trial 44 with value: 0.99049371358479.\u001b[0m\n"
          ]
        },
        {
          "output_type": "stream",
          "name": "stdout",
          "text": [
            "CPU times: user 4min 12s, sys: 617 ms, total: 4min 13s\n",
            "Wall time: 4min 12s\n"
          ]
        }
      ],
      "source": [
        "%%time\n",
        "# можем прододжить подбор, указав n_trials(любое число, которое добавится к предыдущим итерациям) \n",
        "study.optimize(optuna_rf, n_trials=30)"
      ],
      "id": "px3YhV6nPWXZ"
    },
    {
      "cell_type": "markdown",
      "metadata": {
        "id": "RERMeMY5PWXa"
      },
      "source": [
        "Optuna удалось получить такой же результат, что и RandomizedSearchCV, но гораздо быстрее по времени"
      ],
      "id": "RERMeMY5PWXa"
    },
    {
      "cell_type": "markdown",
      "metadata": {
        "id": "c9UvnTmFPWXa"
      },
      "source": [
        "График истории оптимизации - отображает количество испытаний на оси Х и метрику на оси Y.\n",
        "\n",
        "Следует использовать эту диаграмму, чтобы проверить, идет ли оптимизация гиперпараметров в правильном направлении или нет."
      ],
      "id": "c9UvnTmFPWXa"
    },
    {
      "cell_type": "code",
      "execution_count": 95,
      "metadata": {
        "colab": {
          "base_uri": "https://localhost:8080/",
          "height": 542
        },
        "outputId": "8271a147-054d-4ca2-d422-8b70641b445a",
        "id": "uYFsUAXEPWXb"
      },
      "outputs": [
        {
          "output_type": "display_data",
          "data": {
            "text/html": [
              "<html>\n",
              "<head><meta charset=\"utf-8\" /></head>\n",
              "<body>\n",
              "    <div>            <script src=\"https://cdnjs.cloudflare.com/ajax/libs/mathjax/2.7.5/MathJax.js?config=TeX-AMS-MML_SVG\"></script><script type=\"text/javascript\">if (window.MathJax) {MathJax.Hub.Config({SVG: {font: \"STIX-Web\"}});}</script>                <script type=\"text/javascript\">window.PlotlyConfig = {MathJaxConfig: 'local'};</script>\n",
              "        <script src=\"https://cdn.plot.ly/plotly-2.8.3.min.js\"></script>                <div id=\"c1243a55-39f8-44c5-aeb7-b69aca2e7db1\" class=\"plotly-graph-div\" style=\"height:525px; width:100%;\"></div>            <script type=\"text/javascript\">                                    window.PLOTLYENV=window.PLOTLYENV || {};                                    if (document.getElementById(\"c1243a55-39f8-44c5-aeb7-b69aca2e7db1\")) {                    Plotly.newPlot(                        \"c1243a55-39f8-44c5-aeb7-b69aca2e7db1\",                        [{\"mode\":\"markers\",\"name\":\"f1_score\",\"x\":[0,1,2,3,4,5,6,7,8,9,10,11,12,13,14,15,16,17,18,19,20,21,22,23,24,25,26,27,28,29,30,31,32,33,34,35,36,37,38,39,40,41,42,43,44,45,46,47,48,49],\"y\":[0.9151607963246554,0.9440879926672778,0.9267545203800184,0.8793846153846153,0.9041514041514043,0.8594278683482005,0.8821548821548821,0.973998164576323,0.9193993257738278,0.9027142421469961,0.9819295558958652,0.9819295558958652,0.9819295558958652,0.8141321044546852,0.9533394327538883,0.9508996645318695,0.9858809085328423,0.9576090271424215,0.9241590214067278,0.9572649572649573,0.923500611995104,0.9819295558958652,0.9691979261970113,0.973998164576323,0.9364691508857667,0.9852670349907919,0.975206611570248,0.9572127139364304,0.9188690842040566,0.9864947820748925,0.9684918935454266,0.9864947820748925,0.9880331389996931,0.9743276283618583,0.9898866074164879,0.9569202566452796,0.9578497251069028,0.9773700305810398,0.9886607416487896,0.9261294261294261,0.9164124466137888,0.9880331389996931,0.9880257906048511,0.9749235474006116,0.99049371358479,0.9773561811505507,0.9895897121861605,0.895173685828466,0.9466300701433363,0.9895897121861605],\"type\":\"scatter\"},{\"name\":\"Best Value\",\"x\":[0,1,2,3,4,5,6,7,8,9,10,11,12,13,14,15,16,17,18,19,20,21,22,23,24,25,26,27,28,29,30,31,32,33,34,35,36,37,38,39,40,41,42,43,44,45,46,47,48,49],\"y\":[0.9151607963246554,0.9440879926672778,0.9440879926672778,0.9440879926672778,0.9440879926672778,0.9440879926672778,0.9440879926672778,0.973998164576323,0.973998164576323,0.973998164576323,0.9819295558958652,0.9819295558958652,0.9819295558958652,0.9819295558958652,0.9819295558958652,0.9819295558958652,0.9858809085328423,0.9858809085328423,0.9858809085328423,0.9858809085328423,0.9858809085328423,0.9858809085328423,0.9858809085328423,0.9858809085328423,0.9858809085328423,0.9858809085328423,0.9858809085328423,0.9858809085328423,0.9858809085328423,0.9864947820748925,0.9864947820748925,0.9864947820748925,0.9880331389996931,0.9880331389996931,0.9898866074164879,0.9898866074164879,0.9898866074164879,0.9898866074164879,0.9898866074164879,0.9898866074164879,0.9898866074164879,0.9898866074164879,0.9898866074164879,0.9898866074164879,0.99049371358479,0.99049371358479,0.99049371358479,0.99049371358479,0.99049371358479,0.99049371358479],\"type\":\"scatter\"}],                        {\"title\":{\"text\":\"Optimization History Plot\"},\"xaxis\":{\"title\":{\"text\":\"#Trials\"}},\"yaxis\":{\"title\":{\"text\":\"f1_score\"}},\"template\":{\"data\":{\"bar\":[{\"error_x\":{\"color\":\"#2a3f5f\"},\"error_y\":{\"color\":\"#2a3f5f\"},\"marker\":{\"line\":{\"color\":\"#E5ECF6\",\"width\":0.5},\"pattern\":{\"fillmode\":\"overlay\",\"size\":10,\"solidity\":0.2}},\"type\":\"bar\"}],\"barpolar\":[{\"marker\":{\"line\":{\"color\":\"#E5ECF6\",\"width\":0.5},\"pattern\":{\"fillmode\":\"overlay\",\"size\":10,\"solidity\":0.2}},\"type\":\"barpolar\"}],\"carpet\":[{\"aaxis\":{\"endlinecolor\":\"#2a3f5f\",\"gridcolor\":\"white\",\"linecolor\":\"white\",\"minorgridcolor\":\"white\",\"startlinecolor\":\"#2a3f5f\"},\"baxis\":{\"endlinecolor\":\"#2a3f5f\",\"gridcolor\":\"white\",\"linecolor\":\"white\",\"minorgridcolor\":\"white\",\"startlinecolor\":\"#2a3f5f\"},\"type\":\"carpet\"}],\"choropleth\":[{\"colorbar\":{\"outlinewidth\":0,\"ticks\":\"\"},\"type\":\"choropleth\"}],\"contour\":[{\"colorbar\":{\"outlinewidth\":0,\"ticks\":\"\"},\"colorscale\":[[0.0,\"#0d0887\"],[0.1111111111111111,\"#46039f\"],[0.2222222222222222,\"#7201a8\"],[0.3333333333333333,\"#9c179e\"],[0.4444444444444444,\"#bd3786\"],[0.5555555555555556,\"#d8576b\"],[0.6666666666666666,\"#ed7953\"],[0.7777777777777778,\"#fb9f3a\"],[0.8888888888888888,\"#fdca26\"],[1.0,\"#f0f921\"]],\"type\":\"contour\"}],\"contourcarpet\":[{\"colorbar\":{\"outlinewidth\":0,\"ticks\":\"\"},\"type\":\"contourcarpet\"}],\"heatmap\":[{\"colorbar\":{\"outlinewidth\":0,\"ticks\":\"\"},\"colorscale\":[[0.0,\"#0d0887\"],[0.1111111111111111,\"#46039f\"],[0.2222222222222222,\"#7201a8\"],[0.3333333333333333,\"#9c179e\"],[0.4444444444444444,\"#bd3786\"],[0.5555555555555556,\"#d8576b\"],[0.6666666666666666,\"#ed7953\"],[0.7777777777777778,\"#fb9f3a\"],[0.8888888888888888,\"#fdca26\"],[1.0,\"#f0f921\"]],\"type\":\"heatmap\"}],\"heatmapgl\":[{\"colorbar\":{\"outlinewidth\":0,\"ticks\":\"\"},\"colorscale\":[[0.0,\"#0d0887\"],[0.1111111111111111,\"#46039f\"],[0.2222222222222222,\"#7201a8\"],[0.3333333333333333,\"#9c179e\"],[0.4444444444444444,\"#bd3786\"],[0.5555555555555556,\"#d8576b\"],[0.6666666666666666,\"#ed7953\"],[0.7777777777777778,\"#fb9f3a\"],[0.8888888888888888,\"#fdca26\"],[1.0,\"#f0f921\"]],\"type\":\"heatmapgl\"}],\"histogram\":[{\"marker\":{\"pattern\":{\"fillmode\":\"overlay\",\"size\":10,\"solidity\":0.2}},\"type\":\"histogram\"}],\"histogram2d\":[{\"colorbar\":{\"outlinewidth\":0,\"ticks\":\"\"},\"colorscale\":[[0.0,\"#0d0887\"],[0.1111111111111111,\"#46039f\"],[0.2222222222222222,\"#7201a8\"],[0.3333333333333333,\"#9c179e\"],[0.4444444444444444,\"#bd3786\"],[0.5555555555555556,\"#d8576b\"],[0.6666666666666666,\"#ed7953\"],[0.7777777777777778,\"#fb9f3a\"],[0.8888888888888888,\"#fdca26\"],[1.0,\"#f0f921\"]],\"type\":\"histogram2d\"}],\"histogram2dcontour\":[{\"colorbar\":{\"outlinewidth\":0,\"ticks\":\"\"},\"colorscale\":[[0.0,\"#0d0887\"],[0.1111111111111111,\"#46039f\"],[0.2222222222222222,\"#7201a8\"],[0.3333333333333333,\"#9c179e\"],[0.4444444444444444,\"#bd3786\"],[0.5555555555555556,\"#d8576b\"],[0.6666666666666666,\"#ed7953\"],[0.7777777777777778,\"#fb9f3a\"],[0.8888888888888888,\"#fdca26\"],[1.0,\"#f0f921\"]],\"type\":\"histogram2dcontour\"}],\"mesh3d\":[{\"colorbar\":{\"outlinewidth\":0,\"ticks\":\"\"},\"type\":\"mesh3d\"}],\"parcoords\":[{\"line\":{\"colorbar\":{\"outlinewidth\":0,\"ticks\":\"\"}},\"type\":\"parcoords\"}],\"pie\":[{\"automargin\":true,\"type\":\"pie\"}],\"scatter\":[{\"marker\":{\"colorbar\":{\"outlinewidth\":0,\"ticks\":\"\"}},\"type\":\"scatter\"}],\"scatter3d\":[{\"line\":{\"colorbar\":{\"outlinewidth\":0,\"ticks\":\"\"}},\"marker\":{\"colorbar\":{\"outlinewidth\":0,\"ticks\":\"\"}},\"type\":\"scatter3d\"}],\"scattercarpet\":[{\"marker\":{\"colorbar\":{\"outlinewidth\":0,\"ticks\":\"\"}},\"type\":\"scattercarpet\"}],\"scattergeo\":[{\"marker\":{\"colorbar\":{\"outlinewidth\":0,\"ticks\":\"\"}},\"type\":\"scattergeo\"}],\"scattergl\":[{\"marker\":{\"colorbar\":{\"outlinewidth\":0,\"ticks\":\"\"}},\"type\":\"scattergl\"}],\"scattermapbox\":[{\"marker\":{\"colorbar\":{\"outlinewidth\":0,\"ticks\":\"\"}},\"type\":\"scattermapbox\"}],\"scatterpolar\":[{\"marker\":{\"colorbar\":{\"outlinewidth\":0,\"ticks\":\"\"}},\"type\":\"scatterpolar\"}],\"scatterpolargl\":[{\"marker\":{\"colorbar\":{\"outlinewidth\":0,\"ticks\":\"\"}},\"type\":\"scatterpolargl\"}],\"scatterternary\":[{\"marker\":{\"colorbar\":{\"outlinewidth\":0,\"ticks\":\"\"}},\"type\":\"scatterternary\"}],\"surface\":[{\"colorbar\":{\"outlinewidth\":0,\"ticks\":\"\"},\"colorscale\":[[0.0,\"#0d0887\"],[0.1111111111111111,\"#46039f\"],[0.2222222222222222,\"#7201a8\"],[0.3333333333333333,\"#9c179e\"],[0.4444444444444444,\"#bd3786\"],[0.5555555555555556,\"#d8576b\"],[0.6666666666666666,\"#ed7953\"],[0.7777777777777778,\"#fb9f3a\"],[0.8888888888888888,\"#fdca26\"],[1.0,\"#f0f921\"]],\"type\":\"surface\"}],\"table\":[{\"cells\":{\"fill\":{\"color\":\"#EBF0F8\"},\"line\":{\"color\":\"white\"}},\"header\":{\"fill\":{\"color\":\"#C8D4E3\"},\"line\":{\"color\":\"white\"}},\"type\":\"table\"}]},\"layout\":{\"annotationdefaults\":{\"arrowcolor\":\"#2a3f5f\",\"arrowhead\":0,\"arrowwidth\":1},\"autotypenumbers\":\"strict\",\"coloraxis\":{\"colorbar\":{\"outlinewidth\":0,\"ticks\":\"\"}},\"colorscale\":{\"diverging\":[[0,\"#8e0152\"],[0.1,\"#c51b7d\"],[0.2,\"#de77ae\"],[0.3,\"#f1b6da\"],[0.4,\"#fde0ef\"],[0.5,\"#f7f7f7\"],[0.6,\"#e6f5d0\"],[0.7,\"#b8e186\"],[0.8,\"#7fbc41\"],[0.9,\"#4d9221\"],[1,\"#276419\"]],\"sequential\":[[0.0,\"#0d0887\"],[0.1111111111111111,\"#46039f\"],[0.2222222222222222,\"#7201a8\"],[0.3333333333333333,\"#9c179e\"],[0.4444444444444444,\"#bd3786\"],[0.5555555555555556,\"#d8576b\"],[0.6666666666666666,\"#ed7953\"],[0.7777777777777778,\"#fb9f3a\"],[0.8888888888888888,\"#fdca26\"],[1.0,\"#f0f921\"]],\"sequentialminus\":[[0.0,\"#0d0887\"],[0.1111111111111111,\"#46039f\"],[0.2222222222222222,\"#7201a8\"],[0.3333333333333333,\"#9c179e\"],[0.4444444444444444,\"#bd3786\"],[0.5555555555555556,\"#d8576b\"],[0.6666666666666666,\"#ed7953\"],[0.7777777777777778,\"#fb9f3a\"],[0.8888888888888888,\"#fdca26\"],[1.0,\"#f0f921\"]]},\"colorway\":[\"#636efa\",\"#EF553B\",\"#00cc96\",\"#ab63fa\",\"#FFA15A\",\"#19d3f3\",\"#FF6692\",\"#B6E880\",\"#FF97FF\",\"#FECB52\"],\"font\":{\"color\":\"#2a3f5f\"},\"geo\":{\"bgcolor\":\"white\",\"lakecolor\":\"white\",\"landcolor\":\"#E5ECF6\",\"showlakes\":true,\"showland\":true,\"subunitcolor\":\"white\"},\"hoverlabel\":{\"align\":\"left\"},\"hovermode\":\"closest\",\"mapbox\":{\"style\":\"light\"},\"paper_bgcolor\":\"white\",\"plot_bgcolor\":\"#E5ECF6\",\"polar\":{\"angularaxis\":{\"gridcolor\":\"white\",\"linecolor\":\"white\",\"ticks\":\"\"},\"bgcolor\":\"#E5ECF6\",\"radialaxis\":{\"gridcolor\":\"white\",\"linecolor\":\"white\",\"ticks\":\"\"}},\"scene\":{\"xaxis\":{\"backgroundcolor\":\"#E5ECF6\",\"gridcolor\":\"white\",\"gridwidth\":2,\"linecolor\":\"white\",\"showbackground\":true,\"ticks\":\"\",\"zerolinecolor\":\"white\"},\"yaxis\":{\"backgroundcolor\":\"#E5ECF6\",\"gridcolor\":\"white\",\"gridwidth\":2,\"linecolor\":\"white\",\"showbackground\":true,\"ticks\":\"\",\"zerolinecolor\":\"white\"},\"zaxis\":{\"backgroundcolor\":\"#E5ECF6\",\"gridcolor\":\"white\",\"gridwidth\":2,\"linecolor\":\"white\",\"showbackground\":true,\"ticks\":\"\",\"zerolinecolor\":\"white\"}},\"shapedefaults\":{\"line\":{\"color\":\"#2a3f5f\"}},\"ternary\":{\"aaxis\":{\"gridcolor\":\"white\",\"linecolor\":\"white\",\"ticks\":\"\"},\"baxis\":{\"gridcolor\":\"white\",\"linecolor\":\"white\",\"ticks\":\"\"},\"bgcolor\":\"#E5ECF6\",\"caxis\":{\"gridcolor\":\"white\",\"linecolor\":\"white\",\"ticks\":\"\"}},\"title\":{\"x\":0.05},\"xaxis\":{\"automargin\":true,\"gridcolor\":\"white\",\"linecolor\":\"white\",\"ticks\":\"\",\"title\":{\"standoff\":15},\"zerolinecolor\":\"white\",\"zerolinewidth\":2},\"yaxis\":{\"automargin\":true,\"gridcolor\":\"white\",\"linecolor\":\"white\",\"ticks\":\"\",\"title\":{\"standoff\":15},\"zerolinecolor\":\"white\",\"zerolinewidth\":2}}}},                        {\"responsive\": true}                    ).then(function(){\n",
              "                            \n",
              "var gd = document.getElementById('c1243a55-39f8-44c5-aeb7-b69aca2e7db1');\n",
              "var x = new MutationObserver(function (mutations, observer) {{\n",
              "        var display = window.getComputedStyle(gd).display;\n",
              "        if (!display || display === 'none') {{\n",
              "            console.log([gd, 'removed!']);\n",
              "            Plotly.purge(gd);\n",
              "            observer.disconnect();\n",
              "        }}\n",
              "}});\n",
              "\n",
              "// Listen for the removal of the full notebook cells\n",
              "var notebookContainer = gd.closest('#notebook-container');\n",
              "if (notebookContainer) {{\n",
              "    x.observe(notebookContainer, {childList: true});\n",
              "}}\n",
              "\n",
              "// Listen for the clearing of the current output cell\n",
              "var outputEl = gd.closest('.output');\n",
              "if (outputEl) {{\n",
              "    x.observe(outputEl, {childList: true});\n",
              "}}\n",
              "\n",
              "                        })                };                            </script>        </div>\n",
              "</body>\n",
              "</html>"
            ]
          },
          "metadata": {}
        }
      ],
      "source": [
        "optuna.visualization.plot_optimization_history(study, target_name=\"f1_score\")"
      ],
      "id": "uYFsUAXEPWXb"
    },
    {
      "cell_type": "markdown",
      "metadata": {
        "id": "KuRnC0gnPWXb"
      },
      "source": [
        "В нашем случае, все идет верно, метрика максимизируется."
      ],
      "id": "KuRnC0gnPWXb"
    },
    {
      "cell_type": "markdown",
      "metadata": {
        "id": "EO3J1IG1PWXb"
      },
      "source": [
        "График важности гиперпараметров - помогает понять, какие гиперпараметры вносят больший вклад в минимизацию/максимизацию метрики."
      ],
      "id": "EO3J1IG1PWXb"
    },
    {
      "cell_type": "code",
      "execution_count": 96,
      "metadata": {
        "colab": {
          "base_uri": "https://localhost:8080/",
          "height": 542
        },
        "outputId": "29c7f3fb-6e82-463f-b8be-3c9b0ae83009",
        "id": "XMFRhgeXPWXb"
      },
      "outputs": [
        {
          "output_type": "display_data",
          "data": {
            "text/html": [
              "<html>\n",
              "<head><meta charset=\"utf-8\" /></head>\n",
              "<body>\n",
              "    <div>            <script src=\"https://cdnjs.cloudflare.com/ajax/libs/mathjax/2.7.5/MathJax.js?config=TeX-AMS-MML_SVG\"></script><script type=\"text/javascript\">if (window.MathJax) {MathJax.Hub.Config({SVG: {font: \"STIX-Web\"}});}</script>                <script type=\"text/javascript\">window.PlotlyConfig = {MathJaxConfig: 'local'};</script>\n",
              "        <script src=\"https://cdn.plot.ly/plotly-2.8.3.min.js\"></script>                <div id=\"4b27990f-a7e5-4716-8a4d-24b37f42e42c\" class=\"plotly-graph-div\" style=\"height:525px; width:100%;\"></div>            <script type=\"text/javascript\">                                    window.PLOTLYENV=window.PLOTLYENV || {};                                    if (document.getElementById(\"4b27990f-a7e5-4716-8a4d-24b37f42e42c\")) {                    Plotly.newPlot(                        \"4b27990f-a7e5-4716-8a4d-24b37f42e42c\",                        [{\"cliponaxis\":false,\"hovertemplate\":[\"n_estimators (IntUniformDistribution): 0.03210840741354114<extra></extra>\",\"min_samples_leaf (IntUniformDistribution): 0.31329759381210737<extra></extra>\",\"max_depth (IntUniformDistribution): 0.6545939987743515<extra></extra>\"],\"marker\":{\"color\":\"rgb(66,146,198)\"},\"orientation\":\"h\",\"text\":[\"0.03210840741354114\",\"0.31329759381210737\",\"0.6545939987743515\"],\"textposition\":\"outside\",\"texttemplate\":\"%{text:.2f}\",\"x\":[0.03210840741354114,0.31329759381210737,0.6545939987743515],\"y\":[\"n_estimators\",\"min_samples_leaf\",\"max_depth\"],\"type\":\"bar\"}],                        {\"showlegend\":false,\"title\":{\"text\":\"Hyperparameter Importances\"},\"xaxis\":{\"title\":{\"text\":\"Importance for f1_score\"}},\"yaxis\":{\"title\":{\"text\":\"Hyperparameter\"}},\"template\":{\"data\":{\"bar\":[{\"error_x\":{\"color\":\"#2a3f5f\"},\"error_y\":{\"color\":\"#2a3f5f\"},\"marker\":{\"line\":{\"color\":\"#E5ECF6\",\"width\":0.5},\"pattern\":{\"fillmode\":\"overlay\",\"size\":10,\"solidity\":0.2}},\"type\":\"bar\"}],\"barpolar\":[{\"marker\":{\"line\":{\"color\":\"#E5ECF6\",\"width\":0.5},\"pattern\":{\"fillmode\":\"overlay\",\"size\":10,\"solidity\":0.2}},\"type\":\"barpolar\"}],\"carpet\":[{\"aaxis\":{\"endlinecolor\":\"#2a3f5f\",\"gridcolor\":\"white\",\"linecolor\":\"white\",\"minorgridcolor\":\"white\",\"startlinecolor\":\"#2a3f5f\"},\"baxis\":{\"endlinecolor\":\"#2a3f5f\",\"gridcolor\":\"white\",\"linecolor\":\"white\",\"minorgridcolor\":\"white\",\"startlinecolor\":\"#2a3f5f\"},\"type\":\"carpet\"}],\"choropleth\":[{\"colorbar\":{\"outlinewidth\":0,\"ticks\":\"\"},\"type\":\"choropleth\"}],\"contour\":[{\"colorbar\":{\"outlinewidth\":0,\"ticks\":\"\"},\"colorscale\":[[0.0,\"#0d0887\"],[0.1111111111111111,\"#46039f\"],[0.2222222222222222,\"#7201a8\"],[0.3333333333333333,\"#9c179e\"],[0.4444444444444444,\"#bd3786\"],[0.5555555555555556,\"#d8576b\"],[0.6666666666666666,\"#ed7953\"],[0.7777777777777778,\"#fb9f3a\"],[0.8888888888888888,\"#fdca26\"],[1.0,\"#f0f921\"]],\"type\":\"contour\"}],\"contourcarpet\":[{\"colorbar\":{\"outlinewidth\":0,\"ticks\":\"\"},\"type\":\"contourcarpet\"}],\"heatmap\":[{\"colorbar\":{\"outlinewidth\":0,\"ticks\":\"\"},\"colorscale\":[[0.0,\"#0d0887\"],[0.1111111111111111,\"#46039f\"],[0.2222222222222222,\"#7201a8\"],[0.3333333333333333,\"#9c179e\"],[0.4444444444444444,\"#bd3786\"],[0.5555555555555556,\"#d8576b\"],[0.6666666666666666,\"#ed7953\"],[0.7777777777777778,\"#fb9f3a\"],[0.8888888888888888,\"#fdca26\"],[1.0,\"#f0f921\"]],\"type\":\"heatmap\"}],\"heatmapgl\":[{\"colorbar\":{\"outlinewidth\":0,\"ticks\":\"\"},\"colorscale\":[[0.0,\"#0d0887\"],[0.1111111111111111,\"#46039f\"],[0.2222222222222222,\"#7201a8\"],[0.3333333333333333,\"#9c179e\"],[0.4444444444444444,\"#bd3786\"],[0.5555555555555556,\"#d8576b\"],[0.6666666666666666,\"#ed7953\"],[0.7777777777777778,\"#fb9f3a\"],[0.8888888888888888,\"#fdca26\"],[1.0,\"#f0f921\"]],\"type\":\"heatmapgl\"}],\"histogram\":[{\"marker\":{\"pattern\":{\"fillmode\":\"overlay\",\"size\":10,\"solidity\":0.2}},\"type\":\"histogram\"}],\"histogram2d\":[{\"colorbar\":{\"outlinewidth\":0,\"ticks\":\"\"},\"colorscale\":[[0.0,\"#0d0887\"],[0.1111111111111111,\"#46039f\"],[0.2222222222222222,\"#7201a8\"],[0.3333333333333333,\"#9c179e\"],[0.4444444444444444,\"#bd3786\"],[0.5555555555555556,\"#d8576b\"],[0.6666666666666666,\"#ed7953\"],[0.7777777777777778,\"#fb9f3a\"],[0.8888888888888888,\"#fdca26\"],[1.0,\"#f0f921\"]],\"type\":\"histogram2d\"}],\"histogram2dcontour\":[{\"colorbar\":{\"outlinewidth\":0,\"ticks\":\"\"},\"colorscale\":[[0.0,\"#0d0887\"],[0.1111111111111111,\"#46039f\"],[0.2222222222222222,\"#7201a8\"],[0.3333333333333333,\"#9c179e\"],[0.4444444444444444,\"#bd3786\"],[0.5555555555555556,\"#d8576b\"],[0.6666666666666666,\"#ed7953\"],[0.7777777777777778,\"#fb9f3a\"],[0.8888888888888888,\"#fdca26\"],[1.0,\"#f0f921\"]],\"type\":\"histogram2dcontour\"}],\"mesh3d\":[{\"colorbar\":{\"outlinewidth\":0,\"ticks\":\"\"},\"type\":\"mesh3d\"}],\"parcoords\":[{\"line\":{\"colorbar\":{\"outlinewidth\":0,\"ticks\":\"\"}},\"type\":\"parcoords\"}],\"pie\":[{\"automargin\":true,\"type\":\"pie\"}],\"scatter\":[{\"marker\":{\"colorbar\":{\"outlinewidth\":0,\"ticks\":\"\"}},\"type\":\"scatter\"}],\"scatter3d\":[{\"line\":{\"colorbar\":{\"outlinewidth\":0,\"ticks\":\"\"}},\"marker\":{\"colorbar\":{\"outlinewidth\":0,\"ticks\":\"\"}},\"type\":\"scatter3d\"}],\"scattercarpet\":[{\"marker\":{\"colorbar\":{\"outlinewidth\":0,\"ticks\":\"\"}},\"type\":\"scattercarpet\"}],\"scattergeo\":[{\"marker\":{\"colorbar\":{\"outlinewidth\":0,\"ticks\":\"\"}},\"type\":\"scattergeo\"}],\"scattergl\":[{\"marker\":{\"colorbar\":{\"outlinewidth\":0,\"ticks\":\"\"}},\"type\":\"scattergl\"}],\"scattermapbox\":[{\"marker\":{\"colorbar\":{\"outlinewidth\":0,\"ticks\":\"\"}},\"type\":\"scattermapbox\"}],\"scatterpolar\":[{\"marker\":{\"colorbar\":{\"outlinewidth\":0,\"ticks\":\"\"}},\"type\":\"scatterpolar\"}],\"scatterpolargl\":[{\"marker\":{\"colorbar\":{\"outlinewidth\":0,\"ticks\":\"\"}},\"type\":\"scatterpolargl\"}],\"scatterternary\":[{\"marker\":{\"colorbar\":{\"outlinewidth\":0,\"ticks\":\"\"}},\"type\":\"scatterternary\"}],\"surface\":[{\"colorbar\":{\"outlinewidth\":0,\"ticks\":\"\"},\"colorscale\":[[0.0,\"#0d0887\"],[0.1111111111111111,\"#46039f\"],[0.2222222222222222,\"#7201a8\"],[0.3333333333333333,\"#9c179e\"],[0.4444444444444444,\"#bd3786\"],[0.5555555555555556,\"#d8576b\"],[0.6666666666666666,\"#ed7953\"],[0.7777777777777778,\"#fb9f3a\"],[0.8888888888888888,\"#fdca26\"],[1.0,\"#f0f921\"]],\"type\":\"surface\"}],\"table\":[{\"cells\":{\"fill\":{\"color\":\"#EBF0F8\"},\"line\":{\"color\":\"white\"}},\"header\":{\"fill\":{\"color\":\"#C8D4E3\"},\"line\":{\"color\":\"white\"}},\"type\":\"table\"}]},\"layout\":{\"annotationdefaults\":{\"arrowcolor\":\"#2a3f5f\",\"arrowhead\":0,\"arrowwidth\":1},\"autotypenumbers\":\"strict\",\"coloraxis\":{\"colorbar\":{\"outlinewidth\":0,\"ticks\":\"\"}},\"colorscale\":{\"diverging\":[[0,\"#8e0152\"],[0.1,\"#c51b7d\"],[0.2,\"#de77ae\"],[0.3,\"#f1b6da\"],[0.4,\"#fde0ef\"],[0.5,\"#f7f7f7\"],[0.6,\"#e6f5d0\"],[0.7,\"#b8e186\"],[0.8,\"#7fbc41\"],[0.9,\"#4d9221\"],[1,\"#276419\"]],\"sequential\":[[0.0,\"#0d0887\"],[0.1111111111111111,\"#46039f\"],[0.2222222222222222,\"#7201a8\"],[0.3333333333333333,\"#9c179e\"],[0.4444444444444444,\"#bd3786\"],[0.5555555555555556,\"#d8576b\"],[0.6666666666666666,\"#ed7953\"],[0.7777777777777778,\"#fb9f3a\"],[0.8888888888888888,\"#fdca26\"],[1.0,\"#f0f921\"]],\"sequentialminus\":[[0.0,\"#0d0887\"],[0.1111111111111111,\"#46039f\"],[0.2222222222222222,\"#7201a8\"],[0.3333333333333333,\"#9c179e\"],[0.4444444444444444,\"#bd3786\"],[0.5555555555555556,\"#d8576b\"],[0.6666666666666666,\"#ed7953\"],[0.7777777777777778,\"#fb9f3a\"],[0.8888888888888888,\"#fdca26\"],[1.0,\"#f0f921\"]]},\"colorway\":[\"#636efa\",\"#EF553B\",\"#00cc96\",\"#ab63fa\",\"#FFA15A\",\"#19d3f3\",\"#FF6692\",\"#B6E880\",\"#FF97FF\",\"#FECB52\"],\"font\":{\"color\":\"#2a3f5f\"},\"geo\":{\"bgcolor\":\"white\",\"lakecolor\":\"white\",\"landcolor\":\"#E5ECF6\",\"showlakes\":true,\"showland\":true,\"subunitcolor\":\"white\"},\"hoverlabel\":{\"align\":\"left\"},\"hovermode\":\"closest\",\"mapbox\":{\"style\":\"light\"},\"paper_bgcolor\":\"white\",\"plot_bgcolor\":\"#E5ECF6\",\"polar\":{\"angularaxis\":{\"gridcolor\":\"white\",\"linecolor\":\"white\",\"ticks\":\"\"},\"bgcolor\":\"#E5ECF6\",\"radialaxis\":{\"gridcolor\":\"white\",\"linecolor\":\"white\",\"ticks\":\"\"}},\"scene\":{\"xaxis\":{\"backgroundcolor\":\"#E5ECF6\",\"gridcolor\":\"white\",\"gridwidth\":2,\"linecolor\":\"white\",\"showbackground\":true,\"ticks\":\"\",\"zerolinecolor\":\"white\"},\"yaxis\":{\"backgroundcolor\":\"#E5ECF6\",\"gridcolor\":\"white\",\"gridwidth\":2,\"linecolor\":\"white\",\"showbackground\":true,\"ticks\":\"\",\"zerolinecolor\":\"white\"},\"zaxis\":{\"backgroundcolor\":\"#E5ECF6\",\"gridcolor\":\"white\",\"gridwidth\":2,\"linecolor\":\"white\",\"showbackground\":true,\"ticks\":\"\",\"zerolinecolor\":\"white\"}},\"shapedefaults\":{\"line\":{\"color\":\"#2a3f5f\"}},\"ternary\":{\"aaxis\":{\"gridcolor\":\"white\",\"linecolor\":\"white\",\"ticks\":\"\"},\"baxis\":{\"gridcolor\":\"white\",\"linecolor\":\"white\",\"ticks\":\"\"},\"bgcolor\":\"#E5ECF6\",\"caxis\":{\"gridcolor\":\"white\",\"linecolor\":\"white\",\"ticks\":\"\"}},\"title\":{\"x\":0.05},\"xaxis\":{\"automargin\":true,\"gridcolor\":\"white\",\"linecolor\":\"white\",\"ticks\":\"\",\"title\":{\"standoff\":15},\"zerolinecolor\":\"white\",\"zerolinewidth\":2},\"yaxis\":{\"automargin\":true,\"gridcolor\":\"white\",\"linecolor\":\"white\",\"ticks\":\"\",\"title\":{\"standoff\":15},\"zerolinecolor\":\"white\",\"zerolinewidth\":2}}}},                        {\"responsive\": true}                    ).then(function(){\n",
              "                            \n",
              "var gd = document.getElementById('4b27990f-a7e5-4716-8a4d-24b37f42e42c');\n",
              "var x = new MutationObserver(function (mutations, observer) {{\n",
              "        var display = window.getComputedStyle(gd).display;\n",
              "        if (!display || display === 'none') {{\n",
              "            console.log([gd, 'removed!']);\n",
              "            Plotly.purge(gd);\n",
              "            observer.disconnect();\n",
              "        }}\n",
              "}});\n",
              "\n",
              "// Listen for the removal of the full notebook cells\n",
              "var notebookContainer = gd.closest('#notebook-container');\n",
              "if (notebookContainer) {{\n",
              "    x.observe(notebookContainer, {childList: true});\n",
              "}}\n",
              "\n",
              "// Listen for the clearing of the current output cell\n",
              "var outputEl = gd.closest('.output');\n",
              "if (outputEl) {{\n",
              "    x.observe(outputEl, {childList: true});\n",
              "}}\n",
              "\n",
              "                        })                };                            </script>        </div>\n",
              "</body>\n",
              "</html>"
            ]
          },
          "metadata": {}
        }
      ],
      "source": [
        "optuna.visualization.plot_param_importances(study, target_name=\"f1_score\")"
      ],
      "id": "XMFRhgeXPWXb"
    },
    {
      "cell_type": "markdown",
      "metadata": {
        "id": "VoW2ZMJOPWXc"
      },
      "source": [
        "Из этого графика можно сделать вывод, что стоит обратить большее внимание на настройку гиперпараметра max_depth"
      ],
      "id": "VoW2ZMJOPWXc"
    },
    {
      "cell_type": "markdown",
      "metadata": {
        "id": "GpuVmqNwPWXc"
      },
      "source": [
        "График контура отношений гиперпараметров\n",
        "\n",
        "Он показывает связь между различными комбинациями гиперпараметров и значение метрики для этих комбинаций в виде контурного графика."
      ],
      "id": "GpuVmqNwPWXc"
    },
    {
      "cell_type": "code",
      "execution_count": 98,
      "metadata": {
        "colab": {
          "base_uri": "https://localhost:8080/",
          "height": 542
        },
        "outputId": "b39dbdc3-a754-4a0f-89b6-598f70850826",
        "id": "IonreLntPWXc"
      },
      "outputs": [
        {
          "output_type": "display_data",
          "data": {
            "text/html": [
              "<html>\n",
              "<head><meta charset=\"utf-8\" /></head>\n",
              "<body>\n",
              "    <div>            <script src=\"https://cdnjs.cloudflare.com/ajax/libs/mathjax/2.7.5/MathJax.js?config=TeX-AMS-MML_SVG\"></script><script type=\"text/javascript\">if (window.MathJax) {MathJax.Hub.Config({SVG: {font: \"STIX-Web\"}});}</script>                <script type=\"text/javascript\">window.PlotlyConfig = {MathJaxConfig: 'local'};</script>\n",
              "        <script src=\"https://cdn.plot.ly/plotly-2.8.3.min.js\"></script>                <div id=\"2bfe6d46-d77c-47d5-928e-1ecd555159d9\" class=\"plotly-graph-div\" style=\"height:525px; width:100%;\"></div>            <script type=\"text/javascript\">                                    window.PLOTLYENV=window.PLOTLYENV || {};                                    if (document.getElementById(\"2bfe6d46-d77c-47d5-928e-1ecd555159d9\")) {                    Plotly.newPlot(                        \"2bfe6d46-d77c-47d5-928e-1ecd555159d9\",                        [{\"colorbar\":{\"title\":{\"text\":\"f1_score\"}},\"colorscale\":[[0,\"rgb(5,10,172)\"],[0.35,\"rgb(40,60,190)\"],[0.5,\"rgb(70,100,245)\"],[0.6,\"rgb(90,120,245)\"],[0.7,\"rgb(106,137,247)\"],[1,\"rgb(220,220,220)\"]],\"connectgaps\":true,\"contours\":{\"coloring\":\"heatmap\"},\"hoverinfo\":\"none\",\"line\":{\"smoothing\":1.3},\"reversescale\":false,\"x\":[4.25,5,8,10,11,12,13,14,15,16,17,18,19,20,20.75],\"y\":[1.6,2,3,4,5,6,7,8,9,10,10.4],\"z\":[[null,null,null,null,null,null,null,null,null,null,null,null,null,null,null],[null,0.8141321044546852,0.895173685828466,null,null,null,0.9691979261970113,null,0.9819295558958652,0.9864947820748925,0.9880257906048511,0.9886607416487896,0.9895897121861605,0.99049371358479,null],[null,null,null,null,null,0.9508996645318695,0.9572649572649573,null,null,0.9684918935454266,0.9743276283618583,0.9749235474006116,null,0.9773561811505507,null],[null,null,null,0.9151607963246554,null,null,null,null,0.9533394327538883,null,null,null,0.9578497251069028,0.9576090271424215,null],[null,null,null,null,0.9188690842040566,null,null,0.9364691508857667,null,null,0.9440879926672778,null,null,0.9466300701433363,null],[null,null,null,null,null,0.9193993257738278,null,0.9267545203800184,null,null,null,null,null,null,null],[null,null,null,null,null,null,null,null,null,0.923500611995104,0.9241590214067278,null,0.9261294261294261,null,null],[null,null,null,null,null,null,null,null,null,null,null,0.9164124466137888,null,null,null],[null,null,null,0.8821548821548821,null,null,null,null,null,null,null,0.9027142421469961,null,0.9041514041514043,null],[null,null,0.8594278683482005,0.8793846153846153,null,null,null,null,null,null,null,null,null,null,null],[null,null,null,null,null,null,null,null,null,null,null,null,null,null,null]],\"type\":\"contour\"},{\"marker\":{\"color\":\"black\",\"line\":{\"color\":\"Grey\",\"width\":0.5}},\"mode\":\"markers\",\"showlegend\":false,\"x\":[10,17,14,10,20,8,10,18,12,18,15,15,15,5,15,12,16,20,17,13,16,15,13,18,14,16,17,19,11,16,16,16,17,17,19,19,19,20,18,19,18,17,17,18,20,20,19,8,20,19],\"y\":[4,5,6,10,9,10,9,3,6,9,2,2,2,2,4,3,2,4,7,3,7,2,2,3,5,2,3,4,5,2,3,2,2,3,2,4,4,3,2,7,8,2,2,3,2,3,2,2,5,2],\"type\":\"scatter\"}],                        {\"title\":{\"text\":\"Contour Plot\"},\"template\":{\"data\":{\"bar\":[{\"error_x\":{\"color\":\"#2a3f5f\"},\"error_y\":{\"color\":\"#2a3f5f\"},\"marker\":{\"line\":{\"color\":\"#E5ECF6\",\"width\":0.5},\"pattern\":{\"fillmode\":\"overlay\",\"size\":10,\"solidity\":0.2}},\"type\":\"bar\"}],\"barpolar\":[{\"marker\":{\"line\":{\"color\":\"#E5ECF6\",\"width\":0.5},\"pattern\":{\"fillmode\":\"overlay\",\"size\":10,\"solidity\":0.2}},\"type\":\"barpolar\"}],\"carpet\":[{\"aaxis\":{\"endlinecolor\":\"#2a3f5f\",\"gridcolor\":\"white\",\"linecolor\":\"white\",\"minorgridcolor\":\"white\",\"startlinecolor\":\"#2a3f5f\"},\"baxis\":{\"endlinecolor\":\"#2a3f5f\",\"gridcolor\":\"white\",\"linecolor\":\"white\",\"minorgridcolor\":\"white\",\"startlinecolor\":\"#2a3f5f\"},\"type\":\"carpet\"}],\"choropleth\":[{\"colorbar\":{\"outlinewidth\":0,\"ticks\":\"\"},\"type\":\"choropleth\"}],\"contour\":[{\"colorbar\":{\"outlinewidth\":0,\"ticks\":\"\"},\"colorscale\":[[0.0,\"#0d0887\"],[0.1111111111111111,\"#46039f\"],[0.2222222222222222,\"#7201a8\"],[0.3333333333333333,\"#9c179e\"],[0.4444444444444444,\"#bd3786\"],[0.5555555555555556,\"#d8576b\"],[0.6666666666666666,\"#ed7953\"],[0.7777777777777778,\"#fb9f3a\"],[0.8888888888888888,\"#fdca26\"],[1.0,\"#f0f921\"]],\"type\":\"contour\"}],\"contourcarpet\":[{\"colorbar\":{\"outlinewidth\":0,\"ticks\":\"\"},\"type\":\"contourcarpet\"}],\"heatmap\":[{\"colorbar\":{\"outlinewidth\":0,\"ticks\":\"\"},\"colorscale\":[[0.0,\"#0d0887\"],[0.1111111111111111,\"#46039f\"],[0.2222222222222222,\"#7201a8\"],[0.3333333333333333,\"#9c179e\"],[0.4444444444444444,\"#bd3786\"],[0.5555555555555556,\"#d8576b\"],[0.6666666666666666,\"#ed7953\"],[0.7777777777777778,\"#fb9f3a\"],[0.8888888888888888,\"#fdca26\"],[1.0,\"#f0f921\"]],\"type\":\"heatmap\"}],\"heatmapgl\":[{\"colorbar\":{\"outlinewidth\":0,\"ticks\":\"\"},\"colorscale\":[[0.0,\"#0d0887\"],[0.1111111111111111,\"#46039f\"],[0.2222222222222222,\"#7201a8\"],[0.3333333333333333,\"#9c179e\"],[0.4444444444444444,\"#bd3786\"],[0.5555555555555556,\"#d8576b\"],[0.6666666666666666,\"#ed7953\"],[0.7777777777777778,\"#fb9f3a\"],[0.8888888888888888,\"#fdca26\"],[1.0,\"#f0f921\"]],\"type\":\"heatmapgl\"}],\"histogram\":[{\"marker\":{\"pattern\":{\"fillmode\":\"overlay\",\"size\":10,\"solidity\":0.2}},\"type\":\"histogram\"}],\"histogram2d\":[{\"colorbar\":{\"outlinewidth\":0,\"ticks\":\"\"},\"colorscale\":[[0.0,\"#0d0887\"],[0.1111111111111111,\"#46039f\"],[0.2222222222222222,\"#7201a8\"],[0.3333333333333333,\"#9c179e\"],[0.4444444444444444,\"#bd3786\"],[0.5555555555555556,\"#d8576b\"],[0.6666666666666666,\"#ed7953\"],[0.7777777777777778,\"#fb9f3a\"],[0.8888888888888888,\"#fdca26\"],[1.0,\"#f0f921\"]],\"type\":\"histogram2d\"}],\"histogram2dcontour\":[{\"colorbar\":{\"outlinewidth\":0,\"ticks\":\"\"},\"colorscale\":[[0.0,\"#0d0887\"],[0.1111111111111111,\"#46039f\"],[0.2222222222222222,\"#7201a8\"],[0.3333333333333333,\"#9c179e\"],[0.4444444444444444,\"#bd3786\"],[0.5555555555555556,\"#d8576b\"],[0.6666666666666666,\"#ed7953\"],[0.7777777777777778,\"#fb9f3a\"],[0.8888888888888888,\"#fdca26\"],[1.0,\"#f0f921\"]],\"type\":\"histogram2dcontour\"}],\"mesh3d\":[{\"colorbar\":{\"outlinewidth\":0,\"ticks\":\"\"},\"type\":\"mesh3d\"}],\"parcoords\":[{\"line\":{\"colorbar\":{\"outlinewidth\":0,\"ticks\":\"\"}},\"type\":\"parcoords\"}],\"pie\":[{\"automargin\":true,\"type\":\"pie\"}],\"scatter\":[{\"marker\":{\"colorbar\":{\"outlinewidth\":0,\"ticks\":\"\"}},\"type\":\"scatter\"}],\"scatter3d\":[{\"line\":{\"colorbar\":{\"outlinewidth\":0,\"ticks\":\"\"}},\"marker\":{\"colorbar\":{\"outlinewidth\":0,\"ticks\":\"\"}},\"type\":\"scatter3d\"}],\"scattercarpet\":[{\"marker\":{\"colorbar\":{\"outlinewidth\":0,\"ticks\":\"\"}},\"type\":\"scattercarpet\"}],\"scattergeo\":[{\"marker\":{\"colorbar\":{\"outlinewidth\":0,\"ticks\":\"\"}},\"type\":\"scattergeo\"}],\"scattergl\":[{\"marker\":{\"colorbar\":{\"outlinewidth\":0,\"ticks\":\"\"}},\"type\":\"scattergl\"}],\"scattermapbox\":[{\"marker\":{\"colorbar\":{\"outlinewidth\":0,\"ticks\":\"\"}},\"type\":\"scattermapbox\"}],\"scatterpolar\":[{\"marker\":{\"colorbar\":{\"outlinewidth\":0,\"ticks\":\"\"}},\"type\":\"scatterpolar\"}],\"scatterpolargl\":[{\"marker\":{\"colorbar\":{\"outlinewidth\":0,\"ticks\":\"\"}},\"type\":\"scatterpolargl\"}],\"scatterternary\":[{\"marker\":{\"colorbar\":{\"outlinewidth\":0,\"ticks\":\"\"}},\"type\":\"scatterternary\"}],\"surface\":[{\"colorbar\":{\"outlinewidth\":0,\"ticks\":\"\"},\"colorscale\":[[0.0,\"#0d0887\"],[0.1111111111111111,\"#46039f\"],[0.2222222222222222,\"#7201a8\"],[0.3333333333333333,\"#9c179e\"],[0.4444444444444444,\"#bd3786\"],[0.5555555555555556,\"#d8576b\"],[0.6666666666666666,\"#ed7953\"],[0.7777777777777778,\"#fb9f3a\"],[0.8888888888888888,\"#fdca26\"],[1.0,\"#f0f921\"]],\"type\":\"surface\"}],\"table\":[{\"cells\":{\"fill\":{\"color\":\"#EBF0F8\"},\"line\":{\"color\":\"white\"}},\"header\":{\"fill\":{\"color\":\"#C8D4E3\"},\"line\":{\"color\":\"white\"}},\"type\":\"table\"}]},\"layout\":{\"annotationdefaults\":{\"arrowcolor\":\"#2a3f5f\",\"arrowhead\":0,\"arrowwidth\":1},\"autotypenumbers\":\"strict\",\"coloraxis\":{\"colorbar\":{\"outlinewidth\":0,\"ticks\":\"\"}},\"colorscale\":{\"diverging\":[[0,\"#8e0152\"],[0.1,\"#c51b7d\"],[0.2,\"#de77ae\"],[0.3,\"#f1b6da\"],[0.4,\"#fde0ef\"],[0.5,\"#f7f7f7\"],[0.6,\"#e6f5d0\"],[0.7,\"#b8e186\"],[0.8,\"#7fbc41\"],[0.9,\"#4d9221\"],[1,\"#276419\"]],\"sequential\":[[0.0,\"#0d0887\"],[0.1111111111111111,\"#46039f\"],[0.2222222222222222,\"#7201a8\"],[0.3333333333333333,\"#9c179e\"],[0.4444444444444444,\"#bd3786\"],[0.5555555555555556,\"#d8576b\"],[0.6666666666666666,\"#ed7953\"],[0.7777777777777778,\"#fb9f3a\"],[0.8888888888888888,\"#fdca26\"],[1.0,\"#f0f921\"]],\"sequentialminus\":[[0.0,\"#0d0887\"],[0.1111111111111111,\"#46039f\"],[0.2222222222222222,\"#7201a8\"],[0.3333333333333333,\"#9c179e\"],[0.4444444444444444,\"#bd3786\"],[0.5555555555555556,\"#d8576b\"],[0.6666666666666666,\"#ed7953\"],[0.7777777777777778,\"#fb9f3a\"],[0.8888888888888888,\"#fdca26\"],[1.0,\"#f0f921\"]]},\"colorway\":[\"#636efa\",\"#EF553B\",\"#00cc96\",\"#ab63fa\",\"#FFA15A\",\"#19d3f3\",\"#FF6692\",\"#B6E880\",\"#FF97FF\",\"#FECB52\"],\"font\":{\"color\":\"#2a3f5f\"},\"geo\":{\"bgcolor\":\"white\",\"lakecolor\":\"white\",\"landcolor\":\"#E5ECF6\",\"showlakes\":true,\"showland\":true,\"subunitcolor\":\"white\"},\"hoverlabel\":{\"align\":\"left\"},\"hovermode\":\"closest\",\"mapbox\":{\"style\":\"light\"},\"paper_bgcolor\":\"white\",\"plot_bgcolor\":\"#E5ECF6\",\"polar\":{\"angularaxis\":{\"gridcolor\":\"white\",\"linecolor\":\"white\",\"ticks\":\"\"},\"bgcolor\":\"#E5ECF6\",\"radialaxis\":{\"gridcolor\":\"white\",\"linecolor\":\"white\",\"ticks\":\"\"}},\"scene\":{\"xaxis\":{\"backgroundcolor\":\"#E5ECF6\",\"gridcolor\":\"white\",\"gridwidth\":2,\"linecolor\":\"white\",\"showbackground\":true,\"ticks\":\"\",\"zerolinecolor\":\"white\"},\"yaxis\":{\"backgroundcolor\":\"#E5ECF6\",\"gridcolor\":\"white\",\"gridwidth\":2,\"linecolor\":\"white\",\"showbackground\":true,\"ticks\":\"\",\"zerolinecolor\":\"white\"},\"zaxis\":{\"backgroundcolor\":\"#E5ECF6\",\"gridcolor\":\"white\",\"gridwidth\":2,\"linecolor\":\"white\",\"showbackground\":true,\"ticks\":\"\",\"zerolinecolor\":\"white\"}},\"shapedefaults\":{\"line\":{\"color\":\"#2a3f5f\"}},\"ternary\":{\"aaxis\":{\"gridcolor\":\"white\",\"linecolor\":\"white\",\"ticks\":\"\"},\"baxis\":{\"gridcolor\":\"white\",\"linecolor\":\"white\",\"ticks\":\"\"},\"bgcolor\":\"#E5ECF6\",\"caxis\":{\"gridcolor\":\"white\",\"linecolor\":\"white\",\"ticks\":\"\"}},\"title\":{\"x\":0.05},\"xaxis\":{\"automargin\":true,\"gridcolor\":\"white\",\"linecolor\":\"white\",\"ticks\":\"\",\"title\":{\"standoff\":15},\"zerolinecolor\":\"white\",\"zerolinewidth\":2},\"yaxis\":{\"automargin\":true,\"gridcolor\":\"white\",\"linecolor\":\"white\",\"ticks\":\"\",\"title\":{\"standoff\":15},\"zerolinecolor\":\"white\",\"zerolinewidth\":2}}},\"xaxis\":{\"title\":{\"text\":\"max_depth\"},\"range\":[4.25,20.75]},\"yaxis\":{\"title\":{\"text\":\"min_samples_leaf\"},\"range\":[1.6,10.4]}},                        {\"responsive\": true}                    ).then(function(){\n",
              "                            \n",
              "var gd = document.getElementById('2bfe6d46-d77c-47d5-928e-1ecd555159d9');\n",
              "var x = new MutationObserver(function (mutations, observer) {{\n",
              "        var display = window.getComputedStyle(gd).display;\n",
              "        if (!display || display === 'none') {{\n",
              "            console.log([gd, 'removed!']);\n",
              "            Plotly.purge(gd);\n",
              "            observer.disconnect();\n",
              "        }}\n",
              "}});\n",
              "\n",
              "// Listen for the removal of the full notebook cells\n",
              "var notebookContainer = gd.closest('#notebook-container');\n",
              "if (notebookContainer) {{\n",
              "    x.observe(notebookContainer, {childList: true});\n",
              "}}\n",
              "\n",
              "// Listen for the clearing of the current output cell\n",
              "var outputEl = gd.closest('.output');\n",
              "if (outputEl) {{\n",
              "    x.observe(outputEl, {childList: true});\n",
              "}}\n",
              "\n",
              "                        })                };                            </script>        </div>\n",
              "</body>\n",
              "</html>"
            ]
          },
          "metadata": {}
        }
      ],
      "source": [
        "optuna.visualization.plot_contour(study, params=[\"max_depth\", \"min_samples_leaf\"],\n",
        "                                  target_name=\"f1_score\")"
      ],
      "id": "IonreLntPWXc"
    },
    {
      "cell_type": "markdown",
      "metadata": {
        "id": "ONYvLOV7PWXc"
      },
      "source": [
        "Точки с белым фоном это и есть лучшии комбинации min_samples_leaf, max_depth.\n",
        "\n",
        "\n",
        "\n",
        "\n",
        "\n",
        "\n",
        "\n",
        "\n",
        "\n",
        "\n",
        "\n",
        "\n",
        "\n",
        "\n"
      ],
      "id": "ONYvLOV7PWXc"
    },
    {
      "cell_type": "markdown",
      "source": [
        "##Вывод"
      ],
      "metadata": {
        "id": "4mUs4Xm9Ql4Q"
      },
      "id": "4mUs4Xm9Ql4Q"
    },
    {
      "cell_type": "markdown",
      "source": [
        "Модель логистической регрессии(best f1=0.79) нам выдала хуже метрику, чем модель случайного леса(best f1=0.83)"
      ],
      "metadata": {
        "id": "BmC4EZc1RRSH"
      },
      "id": "BmC4EZc1RRSH"
    },
    {
      "cell_type": "markdown",
      "source": [
        "Поиск гиперпараметров для Логистической регрессии оказался самым сложным, так как не все алгоритмы оптимизации состыкуются с алгоритмами регулизации. Много параметров имеет категриальные значения. ПО различным оптимизаторам получились следующие данные:\n",
        "\n",
        "1.   GridSearchCV  f1 = 0.79\n",
        "2.   RandomizedSearchCV f1 = 0.79\n",
        "3.   Hyperopt f1=0.78\n",
        "4.   Optuna f1=0.71\n"
      ],
      "metadata": {
        "id": "_RbSmrgmRUwy"
      },
      "id": "_RbSmrgmRUwy"
    },
    {
      "cell_type": "markdown",
      "source": [
        "Поиск гиперпараметров для Случайного леса оказался гораздо проще. Все настройки оптимизаторов уже были изучены в материалах уроков. По различным оптимизаторам получились следующие данные:\n",
        "\n",
        "1.   GridSearchCV  f1 = 0.82\n",
        "2.   RandomizedSearchCV f1 = 0.83\n",
        "3.   Hyperopt f1=0.82\n",
        "4.   Optuna f1=0.83\n"
      ],
      "metadata": {
        "id": "3Eq5vxMJS7Ke"
      },
      "id": "3Eq5vxMJS7Ke"
    },
    {
      "cell_type": "code",
      "source": [
        ""
      ],
      "metadata": {
        "id": "kxsRMLA3TeDJ"
      },
      "id": "kxsRMLA3TeDJ",
      "execution_count": null,
      "outputs": []
    }
  ],
  "metadata": {
    "colab": {
      "collapsed_sections": [],
      "name": "Practice.ML-7.Optimization_of_hyperparameters.ipynb",
      "provenance": [],
      "toc_visible": true,
      "include_colab_link": true
    },
    "kernelspec": {
      "display_name": "Python 3 (ipykernel)",
      "language": "python",
      "name": "python3"
    },
    "language_info": {
      "codemirror_mode": {
        "name": "ipython",
        "version": 3
      },
      "file_extension": ".py",
      "mimetype": "text/x-python",
      "name": "python",
      "nbconvert_exporter": "python",
      "pygments_lexer": "ipython3",
      "version": "3.9.7"
    },
    "gpuClass": "standard"
  },
  "nbformat": 4,
  "nbformat_minor": 5
}