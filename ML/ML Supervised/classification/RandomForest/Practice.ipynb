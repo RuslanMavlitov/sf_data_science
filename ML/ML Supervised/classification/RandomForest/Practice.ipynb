{
 "cells": [
  {
   "cell_type": "markdown",
   "id": "35f51b71-dd98-4174-801c-f912391b631f",
   "metadata": {},
   "source": [
    "# Введение в ансамбли"
   ]
  },
  {
   "cell_type": "code",
   "execution_count": 9,
   "id": "82138140-b2e0-41be-9e26-acd2a1b5c373",
   "metadata": {},
   "outputs": [],
   "source": [
    "import numpy as np #для матричных вычислений\n",
    "import pandas as pd #для анализа и предобработки данных\n",
    "import matplotlib.pyplot as plt #для визуализации\n",
    "import seaborn as sns #для визуализации\n",
    "\n",
    "from sklearn import linear_model #линейные модели\n",
    "from sklearn import tree #деревья решений\n",
    "from sklearn import ensemble #ансамбли\n",
    "from sklearn import metrics #метрики\n",
    "\n",
    "from sklearn.model_selection import train_test_split"
   ]
  },
  {
   "cell_type": "markdown",
   "id": "1c9b55e6",
   "metadata": {},
   "source": [
    "## Задание"
   ]
  },
  {
   "cell_type": "code",
   "execution_count": 10,
   "id": "f64d6fba",
   "metadata": {},
   "outputs": [
    {
     "data": {
      "text/html": [
       "<div>\n",
       "<style scoped>\n",
       "    .dataframe tbody tr th:only-of-type {\n",
       "        vertical-align: middle;\n",
       "    }\n",
       "\n",
       "    .dataframe tbody tr th {\n",
       "        vertical-align: top;\n",
       "    }\n",
       "\n",
       "    .dataframe thead th {\n",
       "        text-align: right;\n",
       "    }\n",
       "</style>\n",
       "<table border=\"1\" class=\"dataframe\">\n",
       "  <thead>\n",
       "    <tr style=\"text-align: right;\">\n",
       "      <th></th>\n",
       "      <th>fixed acidity</th>\n",
       "      <th>volatile acidity</th>\n",
       "      <th>citric acid</th>\n",
       "      <th>residual sugar</th>\n",
       "      <th>chlorides</th>\n",
       "      <th>free sulfur dioxide</th>\n",
       "      <th>total sulfur dioxide</th>\n",
       "      <th>density</th>\n",
       "      <th>pH</th>\n",
       "      <th>sulphates</th>\n",
       "      <th>alcohol</th>\n",
       "      <th>quality</th>\n",
       "    </tr>\n",
       "  </thead>\n",
       "  <tbody>\n",
       "    <tr>\n",
       "      <th>0</th>\n",
       "      <td>7.4</td>\n",
       "      <td>0.70</td>\n",
       "      <td>0.00</td>\n",
       "      <td>1.9</td>\n",
       "      <td>0.076</td>\n",
       "      <td>11.0</td>\n",
       "      <td>34.0</td>\n",
       "      <td>0.9978</td>\n",
       "      <td>3.51</td>\n",
       "      <td>0.56</td>\n",
       "      <td>9.4</td>\n",
       "      <td>5</td>\n",
       "    </tr>\n",
       "    <tr>\n",
       "      <th>1</th>\n",
       "      <td>7.8</td>\n",
       "      <td>0.88</td>\n",
       "      <td>0.00</td>\n",
       "      <td>2.6</td>\n",
       "      <td>0.098</td>\n",
       "      <td>25.0</td>\n",
       "      <td>67.0</td>\n",
       "      <td>0.9968</td>\n",
       "      <td>3.20</td>\n",
       "      <td>0.68</td>\n",
       "      <td>9.8</td>\n",
       "      <td>5</td>\n",
       "    </tr>\n",
       "    <tr>\n",
       "      <th>2</th>\n",
       "      <td>7.8</td>\n",
       "      <td>0.76</td>\n",
       "      <td>0.04</td>\n",
       "      <td>2.3</td>\n",
       "      <td>0.092</td>\n",
       "      <td>15.0</td>\n",
       "      <td>54.0</td>\n",
       "      <td>0.9970</td>\n",
       "      <td>3.26</td>\n",
       "      <td>0.65</td>\n",
       "      <td>9.8</td>\n",
       "      <td>5</td>\n",
       "    </tr>\n",
       "    <tr>\n",
       "      <th>3</th>\n",
       "      <td>11.2</td>\n",
       "      <td>0.28</td>\n",
       "      <td>0.56</td>\n",
       "      <td>1.9</td>\n",
       "      <td>0.075</td>\n",
       "      <td>17.0</td>\n",
       "      <td>60.0</td>\n",
       "      <td>0.9980</td>\n",
       "      <td>3.16</td>\n",
       "      <td>0.58</td>\n",
       "      <td>9.8</td>\n",
       "      <td>6</td>\n",
       "    </tr>\n",
       "    <tr>\n",
       "      <th>4</th>\n",
       "      <td>7.4</td>\n",
       "      <td>0.70</td>\n",
       "      <td>0.00</td>\n",
       "      <td>1.9</td>\n",
       "      <td>0.076</td>\n",
       "      <td>11.0</td>\n",
       "      <td>34.0</td>\n",
       "      <td>0.9978</td>\n",
       "      <td>3.51</td>\n",
       "      <td>0.56</td>\n",
       "      <td>9.4</td>\n",
       "      <td>5</td>\n",
       "    </tr>\n",
       "  </tbody>\n",
       "</table>\n",
       "</div>"
      ],
      "text/plain": [
       "   fixed acidity  volatile acidity  citric acid  residual sugar  chlorides  \\\n",
       "0            7.4              0.70         0.00             1.9      0.076   \n",
       "1            7.8              0.88         0.00             2.6      0.098   \n",
       "2            7.8              0.76         0.04             2.3      0.092   \n",
       "3           11.2              0.28         0.56             1.9      0.075   \n",
       "4            7.4              0.70         0.00             1.9      0.076   \n",
       "\n",
       "   free sulfur dioxide  total sulfur dioxide  density    pH  sulphates  \\\n",
       "0                 11.0                  34.0   0.9978  3.51       0.56   \n",
       "1                 25.0                  67.0   0.9968  3.20       0.68   \n",
       "2                 15.0                  54.0   0.9970  3.26       0.65   \n",
       "3                 17.0                  60.0   0.9980  3.16       0.58   \n",
       "4                 11.0                  34.0   0.9978  3.51       0.56   \n",
       "\n",
       "   alcohol  quality  \n",
       "0      9.4        5  \n",
       "1      9.8        5  \n",
       "2      9.8        5  \n",
       "3      9.8        6  \n",
       "4      9.4        5  "
      ]
     },
     "execution_count": 10,
     "metadata": {},
     "output_type": "execute_result"
    }
   ],
   "source": [
    "wine_data = pd.read_csv('data/winequality-red.zip', sep=';')\n",
    "wine_data.head()"
   ]
  },
  {
   "cell_type": "code",
   "execution_count": 11,
   "id": "0870f00c",
   "metadata": {},
   "outputs": [],
   "source": [
    "# разделим вино на хорошее и плохое. \n",
    "#Хорошим вином будем называть вино, параметр quality которого  6, плохим — всё остальное.\n",
    "wine_data['quality'] = wine_data['quality'].apply(lambda x: 1 if x>=6 else 0)\n",
    "\n",
    "#Создаем матрицу признаков X и столбец с ответами y\n",
    "X = wine_data.drop('quality', axis=1)\n",
    "y = wine_data['quality']"
   ]
  },
  {
   "cell_type": "code",
   "execution_count": 12,
   "id": "73d96256",
   "metadata": {},
   "outputs": [],
   "source": [
    "X_train, X_test, y_train, y_test = train_test_split(X, y, test_size=0.2, random_state=42)"
   ]
  },
  {
   "cell_type": "markdown",
   "id": "80854d9d-293a-47f3-a421-463bf1ea9e05",
   "metadata": {},
   "source": [
    "## Бэггинг. Случайный лес (Random Forest)"
   ]
  },
  {
   "cell_type": "code",
   "execution_count": 13,
   "id": "46c51fad",
   "metadata": {},
   "outputs": [
    {
     "name": "stdout",
     "output_type": "stream",
     "text": [
      "              precision    recall  f1-score   support\n",
      "\n",
      "           0       0.82      0.86      0.84       603\n",
      "           1       0.87      0.84      0.85       676\n",
      "\n",
      "    accuracy                           0.85      1279\n",
      "   macro avg       0.85      0.85      0.85      1279\n",
      "weighted avg       0.85      0.85      0.85      1279\n",
      "\n",
      "\n",
      "              precision    recall  f1-score   support\n",
      "\n",
      "           0       0.70      0.74      0.72       141\n",
      "           1       0.79      0.75      0.77       179\n",
      "\n",
      "    accuracy                           0.75       320\n",
      "   macro avg       0.75      0.75      0.75       320\n",
      "weighted avg       0.75      0.75      0.75       320\n",
      "\n"
     ]
    }
   ],
   "source": [
    "#Создаем объект класса случайный лес\n",
    "rf_wine = ensemble.RandomForestClassifier(\n",
    "    n_estimators=500, #число деревьев\n",
    "    criterion='gini', #критерий эффективности\n",
    "    max_depth=8, #максимальная глубина дерева\n",
    "    max_features='sqrt', #число признаков из метода случайных подространств\n",
    "    min_samples_leaf=10, #The minimum number of samples required to be at a leaf node\n",
    "    random_state=42 #генератор случайных чисел\n",
    ")\n",
    "#Обучаем модель \n",
    "rf_wine.fit(X_train, y_train)\n",
    "\n",
    "#Делаем предсказание класса\n",
    "y_pred_train = rf_wine.predict(X_train)\n",
    "y_pred_test = rf_wine.predict(X_test)\n",
    "#Выводим отчет о метриках\n",
    "print(metrics.classification_report(y_train, y_pred_train))\n",
    "print()\n",
    "print(metrics.classification_report(y_test, y_pred_test))"
   ]
  },
  {
   "cell_type": "code",
   "execution_count": 14,
   "id": "fcdcd6df",
   "metadata": {},
   "outputs": [
    {
     "data": {
      "image/png": "[encoded data removed]",
      "text/plain": [
       "<Figure size 936x360 with 1 Axes>"
      ]
     },
     "metadata": {
      "needs_background": "light"
     },
     "output_type": "display_data"
    }
   ],
   "source": [
    "fig, ax = plt.subplots(figsize=(13, 5)) #фигура + координатная плоскость\n",
    "feature = X_train.columns #признаки\n",
    "feature_importances = rf_wine.feature_importances_ #важность признаков\n",
    "#Строим столбчатую диаграмму\n",
    "sns.barplot(x=feature, y=feature_importances, ax=ax);\n",
    "#Добавляем подпись графику, осям абцисс и ординат\n",
    "ax.set_title('Bar plot feature importances')\n",
    "ax.set_xlabel('Features')\n",
    "ax.set_ylabel('Importances');"
   ]
  },
  {
   "cell_type": "markdown",
   "id": "2e04113f-615f-4e60-a06c-a0b1e729bc6a",
   "metadata": {},
   "source": [
    "## Бустинг. Градиентный бустинг над деревьями решений (Gradient Boosting Decision Tree)"
   ]
  },
  {
   "cell_type": "code",
   "execution_count": 16,
   "id": "ac231efd",
   "metadata": {},
   "outputs": [
    {
     "name": "stdout",
     "output_type": "stream",
     "text": [
      "              precision    recall  f1-score   support\n",
      "\n",
      "           0       0.91      0.92      0.91       603\n",
      "           1       0.92      0.92      0.92       676\n",
      "\n",
      "    accuracy                           0.92      1279\n",
      "   macro avg       0.92      0.92      0.92      1279\n",
      "weighted avg       0.92      0.92      0.92      1279\n",
      "\n",
      "\n",
      "              precision    recall  f1-score   support\n",
      "\n",
      "           0       0.77      0.80      0.79       141\n",
      "           1       0.84      0.82      0.83       179\n",
      "\n",
      "    accuracy                           0.81       320\n",
      "   macro avg       0.81      0.81      0.81       320\n",
      "weighted avg       0.81      0.81      0.81       320\n",
      "\n"
     ]
    }
   ],
   "source": [
    "#Создаем объект класса градиентный бустинг над деревьями\n",
    "gb_wine = ensemble.GradientBoostingClassifier(\n",
    "    loss='deviance', #функция потерь\n",
    "    learning_rate=0.1, #темп обучения\n",
    "    n_estimators=200, #число деревьев\n",
    "    max_depth=3, #максимальная глубина дерева\n",
    "    min_samples_leaf=10, #The minimum number of samples required to be at a leaf node\n",
    "    random_state=42 #генератор случайных чисел\n",
    ")\n",
    "#Обучаем модель \n",
    "gb_wine.fit(X_train, y_train)\n",
    "\n",
    "#Делаем предсказание класса\n",
    "y_pred_train = gb_wine.predict(X_train)\n",
    "y_pred_test = gb_wine.predict(X_test)\n",
    "#Выводим отчет о метриках\n",
    "print(metrics.classification_report(y_train, y_pred_train))\n",
    "print()\n",
    "print(metrics.classification_report(y_test, y_pred_test))"
   ]
  },
  {
   "cell_type": "markdown",
   "id": "3318f047-3526-4178-8ba8-d58c3b31b5c3",
   "metadata": {},
   "source": [
    "## Стекинг"
   ]
  },
  {
   "cell_type": "code",
   "execution_count": 19,
   "id": "55c86fcc",
   "metadata": {},
   "outputs": [
    {
     "name": "stderr",
     "output_type": "stream",
     "text": [
      "/home/russ174/.local/lib/python3.9/site-packages/sklearn/linear_model/_logistic.py:763: ConvergenceWarning: lbfgs failed to converge (status=1):\n",
      "STOP: TOTAL NO. of ITERATIONS REACHED LIMIT.\n",
      "\n",
      "Increase the number of iterations (max_iter) or scale the data as shown in:\n",
      "    https://scikit-learn.org/stable/modules/preprocessing.html\n",
      "Please also refer to the documentation for alternative solver options:\n",
      "    https://scikit-learn.org/stable/modules/linear_model.html#logistic-regression\n",
      "  n_iter_i = _check_optimize_result(\n",
      "/home/russ174/.local/lib/python3.9/site-packages/sklearn/linear_model/_logistic.py:763: ConvergenceWarning: lbfgs failed to converge (status=1):\n",
      "STOP: TOTAL NO. of ITERATIONS REACHED LIMIT.\n",
      "\n",
      "Increase the number of iterations (max_iter) or scale the data as shown in:\n",
      "    https://scikit-learn.org/stable/modules/preprocessing.html\n",
      "Please also refer to the documentation for alternative solver options:\n",
      "    https://scikit-learn.org/stable/modules/linear_model.html#logistic-regression\n",
      "  n_iter_i = _check_optimize_result(\n"
     ]
    },
    {
     "name": "stdout",
     "output_type": "stream",
     "text": [
      "              precision    recall  f1-score   support\n",
      "\n",
      "           0       0.92      0.92      0.92       603\n",
      "           1       0.93      0.93      0.93       676\n",
      "\n",
      "    accuracy                           0.93      1279\n",
      "   macro avg       0.93      0.93      0.93      1279\n",
      "weighted avg       0.93      0.93      0.93      1279\n",
      "\n",
      "\n",
      "              precision    recall  f1-score   support\n",
      "\n",
      "           0       0.76      0.78      0.77       141\n",
      "           1       0.82      0.80      0.81       179\n",
      "\n",
      "    accuracy                           0.79       320\n",
      "   macro avg       0.79      0.79      0.79       320\n",
      "weighted avg       0.79      0.79      0.79       320\n",
      "\n"
     ]
    }
   ],
   "source": [
    "#Создаем список кортежей вида: (наименование модели, модель)\n",
    "estimators = [\n",
    "    ('lr', linear_model.LogisticRegression(\n",
    "        C=0.01,\n",
    "        random_state=42 #генератор случайных чисел\n",
    "        )\n",
    "    ),\n",
    "    ('rf', ensemble.RandomForestClassifier(\n",
    "        n_estimators=500, #число деревьев в лесу\n",
    "        min_samples_leaf=5,\n",
    "        random_state=42 #генератор случайных чисел\n",
    "        )\n",
    "    ),\n",
    "    ('gb', ensemble.GradientBoostingClassifier(\n",
    "        n_estimators=200, #число деревьев\n",
    "        max_depth=3, #максимальная глубина дерева\n",
    "        min_samples_leaf=5,\n",
    "        random_state=42 #генератор случайных чисел\n",
    "        )\n",
    "    )\n",
    "]\n",
    "\n",
    "#Создаем объект класса стекинг\n",
    "stack = ensemble.StackingClassifier(\n",
    "    estimators,\n",
    "    final_estimator=linear_model.LogisticRegression(random_state=42)\n",
    ")\n",
    "#Обучаем модель\n",
    "stack.fit(X_train, y_train)\n",
    "\n",
    "#Делаем предсказание класса\n",
    "y_pred_train = stack.predict(X_train)\n",
    "y_pred_test = stack.predict(X_test)\n",
    "#Выводим отчет о метриках\n",
    "print(metrics.classification_report(y_train, y_pred_train))\n",
    "print()\n",
    "print(metrics.classification_report(y_test, y_pred_test))"
   ]
  }
 ],
 "metadata": {
  "kernelspec": {
   "display_name": "Python 3 (ipykernel)",
   "language": "python",
   "name": "python3"
  },
  "language_info": {
   "codemirror_mode": {
    "name": "ipython",
    "version": 3
   },
   "file_extension": ".py",
   "mimetype": "text/x-python",
   "name": "python",
   "nbconvert_exporter": "python",
   "pygments_lexer": "ipython3",
   "version": "3.9.12"
  }
 },
 "nbformat": 4,
 "nbformat_minor": 5
}
