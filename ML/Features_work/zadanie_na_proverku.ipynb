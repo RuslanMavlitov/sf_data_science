{
 "cells": [
  {
   "cell_type": "code",
   "execution_count": 1,
   "metadata": {
    "id": "t_IvORKWGuCH"
   },
   "outputs": [],
   "source": [
    "import pandas as pd\n",
    "import numpy as np\n",
    "\n",
    "from sklearn.model_selection import train_test_split\n",
    "from sklearn.linear_model import LinearRegression\n",
    "from sklearn.metrics import mean_absolute_error\n",
    "from sklearn.metrics import r2_score"
   ]
  },
  {
   "cell_type": "markdown",
   "metadata": {
    "id": "FtTudvkQGzRk"
   },
   "source": [
    "# Загрузка данных"
   ]
  },
  {
   "cell_type": "code",
   "execution_count": 2,
   "metadata": {
    "id": "CiadW5D9G07U"
   },
   "outputs": [],
   "source": [
    "#%%capture\n",
    "#!wget https://www.dropbox.com/s/64ol9q9ssggz6f1/data_ford_price.xlsx"
   ]
  },
  {
   "cell_type": "code",
   "execution_count": 3,
   "metadata": {
    "id": "gmll87tAG2rK"
   },
   "outputs": [],
   "source": [
    "data = pd.read_excel('data/data_ford_price.xlsx') "
   ]
  },
  {
   "cell_type": "markdown",
   "metadata": {
    "id": "zKZZVz_6IA1m"
   },
   "source": [
    "#  Отбор признаков: мотивация"
   ]
  },
  {
   "cell_type": "markdown",
   "metadata": {
    "id": "dt3vhRQ2G_uP"
   },
   "source": [
    "## Предобработка данных"
   ]
  },
  {
   "cell_type": "code",
   "execution_count": 4,
   "metadata": {
    "id": "CJdK-t3MHDSp"
   },
   "outputs": [],
   "source": [
    "data = data[['price','year', 'cylinders', 'odometer', 'lat', 'long', 'weather']]\n",
    "data.dropna(inplace = True)\n",
    "\n",
    "y = data['price']\n",
    "x = data.drop(columns='price')\n",
    "\n",
    "X_train, X_test, y_train, y_test = train_test_split(x, y, test_size=0.2, random_state=42)"
   ]
  },
  {
   "cell_type": "markdown",
   "metadata": {
    "id": "E54vkz2xIGWm"
   },
   "source": [
    "#  Отбор признаков: классификация методов"
   ]
  },
  {
   "cell_type": "markdown",
   "metadata": {
    "id": "dUnTavGgIpj0"
   },
   "source": [
    "## Метод рекурсивного исключения признаков"
   ]
  },
  {
   "cell_type": "code",
   "execution_count": 5,
   "metadata": {
    "id": "UYdiW0RWIZ5V"
   },
   "outputs": [],
   "source": [
    "from sklearn.feature_selection import RFE"
   ]
  },
  {
   "cell_type": "code",
   "execution_count": 6,
   "metadata": {
    "colab": {
     "base_uri": "https://localhost:8080/"
    },
    "executionInfo": {
     "elapsed": 5,
     "status": "ok",
     "timestamp": 1650361787999,
     "user": {
      "displayName": "Ketrin Trofimova",
      "userId": "05400058012601189465"
     },
     "user_tz": -180
    },
    "id": "qxZGlxQYITTm",
    "outputId": "cf3cfc7c-1bb2-4a2b-b8c4-26a5857e251a"
   },
   "outputs": [
    {
     "data": {
      "text/plain": [
       "array(['year', 'cylinders', 'lat'], dtype=object)"
      ]
     },
     "execution_count": 6,
     "metadata": {},
     "output_type": "execute_result"
    }
   ],
   "source": [
    "estimator = LinearRegression()\n",
    "selector = RFE(estimator, n_features_to_select=3, step=1)\n",
    "selector = selector.fit(X_train, y_train)\n",
    " \n",
    "selector.get_feature_names_out()"
   ]
  },
  {
   "cell_type": "markdown",
   "metadata": {},
   "source": [
    "Приоритетные признаки 'year', 'cylinders' и 'lat'."
   ]
  },
  {
   "cell_type": "code",
   "execution_count": 7,
   "metadata": {},
   "outputs": [],
   "source": [
    "data_RFE = data[['year', 'cylinders', 'lat']].copy()\n",
    "\n",
    "y = data['price']\n",
    "x = data_RFE\n",
    "\n",
    "X_train, X_test, y_train, y_test = train_test_split(x, y, test_size=0.2, random_state=42)"
   ]
  },
  {
   "cell_type": "markdown",
   "metadata": {
    "id": "kqjEj0ABG4ZD"
   },
   "source": [
    "## Обучение модели на 3 столбцах по методу RFE"
   ]
  },
  {
   "cell_type": "code",
   "execution_count": 12,
   "metadata": {
    "colab": {
     "base_uri": "https://localhost:8080/"
    },
    "executionInfo": {
     "elapsed": 8,
     "status": "ok",
     "timestamp": 1650361775695,
     "user": {
      "displayName": "Ketrin Trofimova",
      "userId": "05400058012601189465"
     },
     "user_tz": -180
    },
    "id": "K0aIWfwpHSHN",
    "outputId": "9d5779ab-7fea-43e4-f7d6-62317dfcc079"
   },
   "outputs": [
    {
     "name": "stdout",
     "output_type": "stream",
     "text": [
      "MAE RFE: 5280.017\n",
      "R2_RFE: 0.562\n"
     ]
    }
   ],
   "source": [
    "model_RFE= LinearRegression()\n",
    "\n",
    "model_RFE.fit(X_train, y_train)\n",
    "y_predicted_RFE = model_RFE.predict(X_test)\n",
    " \n",
    "mae_RFE = mean_absolute_error(y_test, y_predicted_RFE)\n",
    "R2_RFE = r2_score(y_test, y_predicted_RFE)\n",
    "print('MAE RFE: %.3f' % mae_RFE)\n",
    "print('R2_RFE: %.3f' % R2_RFE)"
   ]
  },
  {
   "cell_type": "markdown",
   "metadata": {
    "id": "_KhZgXCkK3Ap"
   },
   "source": [
    "##  МЕТОДЫ ВЫБОРА ПРИЗНАКОВ НА ОСНОВЕ ФИЛЬТРОВ"
   ]
  },
  {
   "cell_type": "code",
   "execution_count": 13,
   "metadata": {
    "id": "mVHuMD0eK8or"
   },
   "outputs": [],
   "source": [
    "from sklearn.feature_selection import SelectKBest, f_regression"
   ]
  },
  {
   "cell_type": "code",
   "execution_count": 14,
   "metadata": {},
   "outputs": [],
   "source": [
    "y = data['price']\n",
    "x = data.drop(columns='price')\n",
    "\n",
    "X_train, X_test, y_train, y_test = train_test_split(x, y, test_size=0.2, random_state=42)"
   ]
  },
  {
   "cell_type": "code",
   "execution_count": 15,
   "metadata": {
    "colab": {
     "base_uri": "https://localhost:8080/"
    },
    "executionInfo": {
     "elapsed": 413,
     "status": "ok",
     "timestamp": 1650361806172,
     "user": {
      "displayName": "Ketrin Trofimova",
      "userId": "05400058012601189465"
     },
     "user_tz": -180
    },
    "id": "dc2EPKG5K39w",
    "outputId": "4bc13ef2-9c06-47c6-f892-566135ee3dcd"
   },
   "outputs": [
    {
     "data": {
      "text/plain": [
       "array(['year', 'cylinders', 'odometer'], dtype=object)"
      ]
     },
     "execution_count": 15,
     "metadata": {},
     "output_type": "execute_result"
    }
   ],
   "source": [
    "selector = SelectKBest(f_regression, k=3)\n",
    "selector.fit(X_train, y_train)\n",
    " \n",
    "selector.get_feature_names_out()"
   ]
  },
  {
   "cell_type": "code",
   "execution_count": 16,
   "metadata": {
    "id": "02oW-kA9K-ig"
   },
   "outputs": [],
   "source": [
    "data_pearson = data[['year', 'cylinders', 'odometer']].copy()\n",
    "\n",
    "y = data['price']\n",
    "x = data_pearson\n",
    "\n",
    "X_train, X_test, y_train, y_test = train_test_split(x, y, test_size=0.2, random_state=42)"
   ]
  },
  {
   "cell_type": "markdown",
   "metadata": {
    "id": "kqjEj0ABG4ZD"
   },
   "source": [
    "## Обучение модели на 3 столбцах по методу Pearson`s"
   ]
  },
  {
   "cell_type": "code",
   "execution_count": 19,
   "metadata": {
    "colab": {
     "base_uri": "https://localhost:8080/"
    },
    "executionInfo": {
     "elapsed": 8,
     "status": "ok",
     "timestamp": 1650361775695,
     "user": {
      "displayName": "Ketrin Trofimova",
      "userId": "05400058012601189465"
     },
     "user_tz": -180
    },
    "id": "K0aIWfwpHSHN",
    "outputId": "9d5779ab-7fea-43e4-f7d6-62317dfcc079"
   },
   "outputs": [
    {
     "name": "stdout",
     "output_type": "stream",
     "text": [
      "MAE RFE: 4925.458\n",
      "R2_RFE: 0.598\n"
     ]
    }
   ],
   "source": [
    "model_pearson= LinearRegression()\n",
    "\n",
    "model_pearson.fit(X_train, y_train)\n",
    "y_predicted_pearson = model_pearson.predict(X_test)\n",
    " \n",
    "mae_pearson = mean_absolute_error(y_test, y_predicted_pearson)\n",
    "R2_pearson = r2_score(y_test, y_predicted_pearson)\n",
    "print('MAE RFE: %.3f' % mae_pearson)\n",
    "print('R2_RFE: %.3f' % R2_pearson)"
   ]
  },
  {
   "cell_type": "markdown",
   "metadata": {},
   "source": [
    "## ИТОГ"
   ]
  },
  {
   "cell_type": "markdown",
   "metadata": {},
   "source": [
    "        Метрики линейной регресии на признаках отобранных по рекурсивного исключения признаков (RFE):\n",
    "    MAE RFE: 5280.017\n",
    "    R2_RFE: 0.562\n",
    "        Метрики линейной регресии на признаках отобранных по коэффициенту корреляции Пирсона:\n",
    "    MAE RFE: 4925.458\n",
    "    R2_RFE: 0.598    "
   ]
  },
  {
   "cell_type": "markdown",
   "metadata": {},
   "source": [
    "    По метрикам оказалось, что значимость признаков по коэффициенту корреляции Пирсона лучше влияют на модель по абсолютной ошибке и по коэффициенту детеминации. Логичнее было предположить, что пробег должен в большей степени влиять на цену, чем географическая координата. "
   ]
  },
  {
   "cell_type": "code",
   "execution_count": null,
   "metadata": {},
   "outputs": [],
   "source": []
  },
  {
   "cell_type": "code",
   "execution_count": null,
   "metadata": {},
   "outputs": [],
   "source": []
  }
 ],
 "metadata": {
  "colab": {
   "collapsed_sections": [],
   "name": "Отбор_признаков.ipynb",
   "provenance": []
  },
  "kernelspec": {
   "display_name": "Python 3 (ipykernel)",
   "language": "python",
   "name": "python3"
  },
  "language_info": {
   "codemirror_mode": {
    "name": "ipython",
    "version": 3
   },
   "file_extension": ".py",
   "mimetype": "text/x-python",
   "name": "python",
   "nbconvert_exporter": "python",
   "pygments_lexer": "ipython3",
   "version": "3.9.12"
  }
 },
 "nbformat": 4,
 "nbformat_minor": 1
}
