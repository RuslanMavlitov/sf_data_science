{
 "cells": [
  {
   "cell_type": "code",
   "execution_count": 1,
   "metadata": {
    "executionInfo": {
     "elapsed": 415,
     "status": "ok",
     "timestamp": 1650314608039,
     "user": {
      "displayName": "Ketrin Trofimova",
      "userId": "05400058012601189465"
     },
     "user_tz": -180
    },
    "id": "rXuqbqHi2BSO"
   },
   "outputs": [],
   "source": [
    "import pandas as pd\n",
    "import numpy as np\n",
    "from sklearn.linear_model import LinearRegression, LogisticRegression\n",
    "from sklearn.metrics import r2_score\n",
    "from sklearn.model_selection import train_test_split"
   ]
  },
  {
   "cell_type": "markdown",
   "metadata": {
    "id": "z_Z6bFot2Oeg"
   },
   "source": [
    "# Загрузка данных"
   ]
  },
  {
   "cell_type": "code",
   "execution_count": 2,
   "metadata": {
    "executionInfo": {
     "elapsed": 1100,
     "status": "ok",
     "timestamp": 1650314609998,
     "user": {
      "displayName": "Ketrin Trofimova",
      "userId": "05400058012601189465"
     },
     "user_tz": -180
    },
    "id": "WXYdSwui2LKL"
   },
   "outputs": [],
   "source": [
    "#%%capture\n",
    "#!wget https://www.dropbox.com/s/64ol9q9ssggz6f1/data_ford_price.xlsx"
   ]
  },
  {
   "cell_type": "code",
   "execution_count": 3,
   "metadata": {
    "executionInfo": {
     "elapsed": 1794,
     "status": "ok",
     "timestamp": 1650314614539,
     "user": {
      "displayName": "Ketrin Trofimova",
      "userId": "05400058012601189465"
     },
     "user_tz": -180
    },
    "id": "Wkm_a7aj2Sk_"
   },
   "outputs": [],
   "source": [
    "data = pd.read_excel('data/data_ford_price.xlsx') "
   ]
  },
  {
   "cell_type": "code",
   "execution_count": 4,
   "metadata": {},
   "outputs": [
    {
     "name": "stdout",
     "output_type": "stream",
     "text": [
      "<class 'pandas.core.frame.DataFrame'>\n",
      "RangeIndex: 7017 entries, 0 to 7016\n",
      "Data columns (total 12 columns):\n",
      " #   Column        Non-Null Count  Dtype  \n",
      "---  ------        --------------  -----  \n",
      " 0   price         7017 non-null   int64  \n",
      " 1   year          7017 non-null   int64  \n",
      " 2   condition     7017 non-null   int64  \n",
      " 3   cylinders     7017 non-null   int64  \n",
      " 4   odometer      7017 non-null   int64  \n",
      " 5   title_status  7017 non-null   object \n",
      " 6   transmission  7017 non-null   object \n",
      " 7   drive         6626 non-null   object \n",
      " 8   size          5453 non-null   object \n",
      " 9   lat           7017 non-null   float64\n",
      " 10  long          7017 non-null   float64\n",
      " 11  weather       6837 non-null   float64\n",
      "dtypes: float64(3), int64(5), object(4)\n",
      "memory usage: 658.0+ KB\n"
     ]
    }
   ],
   "source": [
    "data.info()"
   ]
  },
  {
   "cell_type": "markdown",
   "metadata": {
    "id": "p1Woo8G12avl"
   },
   "source": [
    "# Предобработка: удаление пропусков"
   ]
  },
  {
   "cell_type": "code",
   "execution_count": 5,
   "metadata": {
    "colab": {
     "base_uri": "https://localhost:8080/",
     "height": 419
    },
    "executionInfo": {
     "elapsed": 335,
     "status": "ok",
     "timestamp": 1650314617468,
     "user": {
      "displayName": "Ketrin Trofimova",
      "userId": "05400058012601189465"
     },
     "user_tz": -180
    },
    "id": "iDspRan-4fTI",
    "outputId": "5205dd56-9a74-4079-f2b6-0d5d1bd39613"
   },
   "outputs": [
    {
     "data": {
      "text/html": [
       "<div>\n",
       "<style scoped>\n",
       "    .dataframe tbody tr th:only-of-type {\n",
       "        vertical-align: middle;\n",
       "    }\n",
       "\n",
       "    .dataframe tbody tr th {\n",
       "        vertical-align: top;\n",
       "    }\n",
       "\n",
       "    .dataframe thead th {\n",
       "        text-align: right;\n",
       "    }\n",
       "</style>\n",
       "<table border=\"1\" class=\"dataframe\">\n",
       "  <thead>\n",
       "    <tr style=\"text-align: right;\">\n",
       "      <th></th>\n",
       "      <th>price</th>\n",
       "      <th>year</th>\n",
       "      <th>condition</th>\n",
       "      <th>cylinders</th>\n",
       "      <th>odometer</th>\n",
       "      <th>title_status</th>\n",
       "      <th>transmission</th>\n",
       "      <th>drive</th>\n",
       "      <th>size</th>\n",
       "      <th>lat</th>\n",
       "      <th>long</th>\n",
       "      <th>weather</th>\n",
       "    </tr>\n",
       "  </thead>\n",
       "  <tbody>\n",
       "    <tr>\n",
       "      <th>0</th>\n",
       "      <td>43900</td>\n",
       "      <td>2016</td>\n",
       "      <td>4</td>\n",
       "      <td>6</td>\n",
       "      <td>43500</td>\n",
       "      <td>clean</td>\n",
       "      <td>automatic</td>\n",
       "      <td>4wd</td>\n",
       "      <td>full-size</td>\n",
       "      <td>36.471500</td>\n",
       "      <td>-82.483400</td>\n",
       "      <td>59.0</td>\n",
       "    </tr>\n",
       "    <tr>\n",
       "      <th>1</th>\n",
       "      <td>15490</td>\n",
       "      <td>2009</td>\n",
       "      <td>2</td>\n",
       "      <td>8</td>\n",
       "      <td>98131</td>\n",
       "      <td>clean</td>\n",
       "      <td>automatic</td>\n",
       "      <td>4wd</td>\n",
       "      <td>full-size</td>\n",
       "      <td>40.468826</td>\n",
       "      <td>-74.281734</td>\n",
       "      <td>52.0</td>\n",
       "    </tr>\n",
       "    <tr>\n",
       "      <th>2</th>\n",
       "      <td>2495</td>\n",
       "      <td>2002</td>\n",
       "      <td>2</td>\n",
       "      <td>8</td>\n",
       "      <td>201803</td>\n",
       "      <td>clean</td>\n",
       "      <td>automatic</td>\n",
       "      <td>4wd</td>\n",
       "      <td>full-size</td>\n",
       "      <td>42.477134</td>\n",
       "      <td>-82.949564</td>\n",
       "      <td>45.0</td>\n",
       "    </tr>\n",
       "    <tr>\n",
       "      <th>3</th>\n",
       "      <td>1300</td>\n",
       "      <td>2000</td>\n",
       "      <td>1</td>\n",
       "      <td>8</td>\n",
       "      <td>170305</td>\n",
       "      <td>rebuilt</td>\n",
       "      <td>automatic</td>\n",
       "      <td>4wd</td>\n",
       "      <td>full-size</td>\n",
       "      <td>40.764373</td>\n",
       "      <td>-82.349503</td>\n",
       "      <td>49.0</td>\n",
       "    </tr>\n",
       "    <tr>\n",
       "      <th>5</th>\n",
       "      <td>6995</td>\n",
       "      <td>2003</td>\n",
       "      <td>3</td>\n",
       "      <td>8</td>\n",
       "      <td>167662</td>\n",
       "      <td>clean</td>\n",
       "      <td>automatic</td>\n",
       "      <td>4wd</td>\n",
       "      <td>full-size</td>\n",
       "      <td>45.518031</td>\n",
       "      <td>-122.578752</td>\n",
       "      <td>50.0</td>\n",
       "    </tr>\n",
       "    <tr>\n",
       "      <th>...</th>\n",
       "      <td>...</td>\n",
       "      <td>...</td>\n",
       "      <td>...</td>\n",
       "      <td>...</td>\n",
       "      <td>...</td>\n",
       "      <td>...</td>\n",
       "      <td>...</td>\n",
       "      <td>...</td>\n",
       "      <td>...</td>\n",
       "      <td>...</td>\n",
       "      <td>...</td>\n",
       "      <td>...</td>\n",
       "    </tr>\n",
       "    <tr>\n",
       "      <th>7012</th>\n",
       "      <td>22500</td>\n",
       "      <td>2015</td>\n",
       "      <td>3</td>\n",
       "      <td>6</td>\n",
       "      <td>23500</td>\n",
       "      <td>clean</td>\n",
       "      <td>automatic</td>\n",
       "      <td>rwd</td>\n",
       "      <td>full-size</td>\n",
       "      <td>32.680700</td>\n",
       "      <td>-117.169800</td>\n",
       "      <td>59.0</td>\n",
       "    </tr>\n",
       "    <tr>\n",
       "      <th>7013</th>\n",
       "      <td>5975</td>\n",
       "      <td>2005</td>\n",
       "      <td>2</td>\n",
       "      <td>8</td>\n",
       "      <td>0</td>\n",
       "      <td>clean</td>\n",
       "      <td>automatic</td>\n",
       "      <td>rwd</td>\n",
       "      <td>full-size</td>\n",
       "      <td>38.213303</td>\n",
       "      <td>-85.785762</td>\n",
       "      <td>50.0</td>\n",
       "    </tr>\n",
       "    <tr>\n",
       "      <th>7014</th>\n",
       "      <td>9999</td>\n",
       "      <td>2006</td>\n",
       "      <td>3</td>\n",
       "      <td>8</td>\n",
       "      <td>161514</td>\n",
       "      <td>clean</td>\n",
       "      <td>automatic</td>\n",
       "      <td>NaN</td>\n",
       "      <td>full-size</td>\n",
       "      <td>37.609783</td>\n",
       "      <td>-120.995406</td>\n",
       "      <td>59.0</td>\n",
       "    </tr>\n",
       "    <tr>\n",
       "      <th>7015</th>\n",
       "      <td>10900</td>\n",
       "      <td>2011</td>\n",
       "      <td>2</td>\n",
       "      <td>8</td>\n",
       "      <td>164000</td>\n",
       "      <td>clean</td>\n",
       "      <td>automatic</td>\n",
       "      <td>4wd</td>\n",
       "      <td>full-size</td>\n",
       "      <td>43.140600</td>\n",
       "      <td>-93.385000</td>\n",
       "      <td>47.0</td>\n",
       "    </tr>\n",
       "    <tr>\n",
       "      <th>7016</th>\n",
       "      <td>18000</td>\n",
       "      <td>2010</td>\n",
       "      <td>2</td>\n",
       "      <td>8</td>\n",
       "      <td>104000</td>\n",
       "      <td>clean</td>\n",
       "      <td>automatic</td>\n",
       "      <td>4wd</td>\n",
       "      <td>full-size</td>\n",
       "      <td>37.987200</td>\n",
       "      <td>-84.178900</td>\n",
       "      <td>50.0</td>\n",
       "    </tr>\n",
       "  </tbody>\n",
       "</table>\n",
       "<p>6837 rows × 12 columns</p>\n",
       "</div>"
      ],
      "text/plain": [
       "      price  year  condition  cylinders  odometer title_status transmission  \\\n",
       "0     43900  2016          4          6     43500        clean    automatic   \n",
       "1     15490  2009          2          8     98131        clean    automatic   \n",
       "2      2495  2002          2          8    201803        clean    automatic   \n",
       "3      1300  2000          1          8    170305      rebuilt    automatic   \n",
       "5      6995  2003          3          8    167662        clean    automatic   \n",
       "...     ...   ...        ...        ...       ...          ...          ...   \n",
       "7012  22500  2015          3          6     23500        clean    automatic   \n",
       "7013   5975  2005          2          8         0        clean    automatic   \n",
       "7014   9999  2006          3          8    161514        clean    automatic   \n",
       "7015  10900  2011          2          8    164000        clean    automatic   \n",
       "7016  18000  2010          2          8    104000        clean    automatic   \n",
       "\n",
       "     drive       size        lat        long  weather  \n",
       "0      4wd  full-size  36.471500  -82.483400     59.0  \n",
       "1      4wd  full-size  40.468826  -74.281734     52.0  \n",
       "2      4wd  full-size  42.477134  -82.949564     45.0  \n",
       "3      4wd  full-size  40.764373  -82.349503     49.0  \n",
       "5      4wd  full-size  45.518031 -122.578752     50.0  \n",
       "...    ...        ...        ...         ...      ...  \n",
       "7012   rwd  full-size  32.680700 -117.169800     59.0  \n",
       "7013   rwd  full-size  38.213303  -85.785762     50.0  \n",
       "7014   NaN  full-size  37.609783 -120.995406     59.0  \n",
       "7015   4wd  full-size  43.140600  -93.385000     47.0  \n",
       "7016   4wd  full-size  37.987200  -84.178900     50.0  \n",
       "\n",
       "[6837 rows x 12 columns]"
      ]
     },
     "execution_count": 5,
     "metadata": {},
     "output_type": "execute_result"
    }
   ],
   "source": [
    "data[~data['weather'].isna()]"
   ]
  },
  {
   "cell_type": "code",
   "execution_count": 6,
   "metadata": {},
   "outputs": [
    {
     "data": {
      "text/plain": [
       "False    0.78\n",
       "True     0.22\n",
       "Name: size, dtype: float64"
      ]
     },
     "execution_count": 6,
     "metadata": {},
     "output_type": "execute_result"
    }
   ],
   "source": [
    "round(data['size'].isna().value_counts(normalize=True), 2)"
   ]
  },
  {
   "cell_type": "code",
   "execution_count": 7,
   "metadata": {
    "executionInfo": {
     "elapsed": 397,
     "status": "ok",
     "timestamp": 1650314619562,
     "user": {
      "displayName": "Ketrin Trofimova",
      "userId": "05400058012601189465"
     },
     "user_tz": -180
    },
    "id": "vZUpb8pD4qQc"
   },
   "outputs": [],
   "source": [
    "y = data['price']\n",
    "x = data.drop(columns='price')"
   ]
  },
  {
   "cell_type": "code",
   "execution_count": 8,
   "metadata": {
    "executionInfo": {
     "elapsed": 332,
     "status": "ok",
     "timestamp": 1650314621274,
     "user": {
      "displayName": "Ketrin Trofimova",
      "userId": "05400058012601189465"
     },
     "user_tz": -180
    },
    "id": "R0hnK0CI4g7v"
   },
   "outputs": [],
   "source": [
    "x = x.dropna()"
   ]
  },
  {
   "cell_type": "code",
   "execution_count": 9,
   "metadata": {
    "executionInfo": {
     "elapsed": 3,
     "status": "ok",
     "timestamp": 1650314621641,
     "user": {
      "displayName": "Ketrin Trofimova",
      "userId": "05400058012601189465"
     },
     "user_tz": -180
    },
    "id": "Y-3BXpzi4nPD"
   },
   "outputs": [],
   "source": [
    "y = y.iloc[x.index]"
   ]
  },
  {
   "cell_type": "code",
   "execution_count": 10,
   "metadata": {
    "executionInfo": {
     "elapsed": 333,
     "status": "ok",
     "timestamp": 1650314445794,
     "user": {
      "displayName": "Ketrin Trofimova",
      "userId": "05400058012601189465"
     },
     "user_tz": -180
    },
    "id": "7N1esMMZ5EbC"
   },
   "outputs": [],
   "source": [
    "X_train, X_test, y_train, y_test = train_test_split(x, y, test_size=0.2, random_state=30)"
   ]
  },
  {
   "cell_type": "markdown",
   "metadata": {
    "id": "ziDBWBvR4x7Y"
   },
   "source": [
    "## Кодирование категориальных переменных"
   ]
  },
  {
   "cell_type": "code",
   "execution_count": 11,
   "metadata": {
    "executionInfo": {
     "elapsed": 2,
     "status": "ok",
     "timestamp": 1650314446274,
     "user": {
      "displayName": "Ketrin Trofimova",
      "userId": "05400058012601189465"
     },
     "user_tz": -180
    },
    "id": "876_C0gk4vce"
   },
   "outputs": [],
   "source": [
    "from sklearn.preprocessing import OneHotEncoder"
   ]
  },
  {
   "cell_type": "code",
   "execution_count": 12,
   "metadata": {
    "executionInfo": {
     "elapsed": 447,
     "status": "ok",
     "timestamp": 1650314447618,
     "user": {
      "displayName": "Ketrin Trofimova",
      "userId": "05400058012601189465"
     },
     "user_tz": -180
    },
    "id": "IhB7PPaM5N0D"
   },
   "outputs": [],
   "source": [
    "columns_to_change = ['cylinders', 'title_status', 'transmission', 'drive', 'size']"
   ]
  },
  {
   "cell_type": "code",
   "execution_count": 23,
   "metadata": {
    "executionInfo": {
     "elapsed": 3,
     "status": "ok",
     "timestamp": 1650314448113,
     "user": {
      "displayName": "Ketrin Trofimova",
      "userId": "05400058012601189465"
     },
     "user_tz": -180
    },
    "id": "7qvqk2-g7r9-"
   },
   "outputs": [],
   "source": [
    "def encode_cat_features_out(columns_to_change, X_train, X_test, y_train):\n",
    "  one_hot_encoder = OneHotEncoder()\n",
    "  X_train_onehot = one_hot_encoder.fit_transform(X_train[columns_to_change]).toarray()\n",
    "  X_test_onehot = one_hot_encoder.transform(X_test[columns_to_change]).toarray()\n",
    "\n",
    "  columns = one_hot_encoder.get_feature_names_out(columns_to_change)\n",
    "  print(columns[:10])\n",
    "\n",
    "  X_train_onehot_df = pd.DataFrame(X_train_onehot, columns=columns)\n",
    "  X_test_onehot_df = pd.DataFrame(X_test_onehot, columns=columns)\n",
    "\n",
    "  X_train = X_train.reset_index().drop(['index'], axis = 1)\n",
    "  X_test = X_test.reset_index().drop(['index'], axis = 1)\n",
    "  y_train = y_train.reset_index().drop(['index'], axis = 1)\n",
    "\n",
    "  X_train_new = pd.concat([X_train, X_train_onehot_df], axis=1)\n",
    "  X_test_new = pd.concat([X_test, X_test_onehot_df], axis=1)\n",
    "  \n",
    "  X_train_new = X_train_new.drop(columns=columns_to_change)\n",
    "  X_test_new = X_test_new.drop(columns=columns_to_change)\n",
    "\n",
    "  return X_train_new, X_test_new"
   ]
  },
  {
   "cell_type": "code",
   "execution_count": 24,
   "metadata": {
    "colab": {
     "base_uri": "https://localhost:8080/"
    },
    "executionInfo": {
     "elapsed": 515,
     "status": "ok",
     "timestamp": 1650314450138,
     "user": {
      "displayName": "Ketrin Trofimova",
      "userId": "05400058012601189465"
     },
     "user_tz": -180
    },
    "id": "h9EhYwyk8U4A",
    "outputId": "0996e5f7-980a-49ae-94af-3798a8b3474a"
   },
   "outputs": [
    {
     "name": "stdout",
     "output_type": "stream",
     "text": [
      "['cylinders_3' 'cylinders_4' 'cylinders_5' 'cylinders_6' 'cylinders_8'\n",
      " 'cylinders_10' 'title_status_clean' 'title_status_lien'\n",
      " 'title_status_missing' 'title_status_rebuilt']\n"
     ]
    }
   ],
   "source": [
    " X_train_new, X_test_new = encode_cat_features_out(columns_to_change, X_train, X_test, y_train)"
   ]
  },
  {
   "cell_type": "markdown",
   "metadata": {
    "id": "h-AlDHXh5yTk"
   },
   "source": [
    "## Обучение модели "
   ]
  },
  {
   "cell_type": "code",
   "execution_count": 25,
   "metadata": {
    "executionInfo": {
     "elapsed": 412,
     "status": "ok",
     "timestamp": 1650314452050,
     "user": {
      "displayName": "Ketrin Trofimova",
      "userId": "05400058012601189465"
     },
     "user_tz": -180
    },
    "id": "H1DtU6Q45vq7"
   },
   "outputs": [],
   "source": [
    "lr_model = LinearRegression()"
   ]
  },
  {
   "cell_type": "code",
   "execution_count": 26,
   "metadata": {
    "colab": {
     "base_uri": "https://localhost:8080/"
    },
    "executionInfo": {
     "elapsed": 3,
     "status": "ok",
     "timestamp": 1650314452444,
     "user": {
      "displayName": "Ketrin Trofimova",
      "userId": "05400058012601189465"
     },
     "user_tz": -180
    },
    "id": "WBnH1rIY51Y5",
    "outputId": "cd598211-617b-4ebc-eead-9356c064a723"
   },
   "outputs": [
    {
     "name": "stdout",
     "output_type": "stream",
     "text": [
      "Train R^2: 0.647\n",
      "Test R^2: 0.693\n"
     ]
    }
   ],
   "source": [
    "lr_model.fit(X_train_new, y_train)\n",
    "y_train_predict = lr_model.predict(X_train_new)\n",
    "y_test_predict = lr_model.predict(X_test_new)\n",
    "print(\"Train R^2: {:.3f}\".format(r2_score(y_train, y_train_predict)))\n",
    "print(\"Test R^2: {:.3f}\".format(r2_score(y_test, y_test_predict)))"
   ]
  },
  {
   "cell_type": "markdown",
   "metadata": {
    "id": "hRm3d6Fu6gHe"
   },
   "source": [
    "# Предобработка: заполнение пропусков"
   ]
  },
  {
   "cell_type": "code",
   "execution_count": 27,
   "metadata": {
    "executionInfo": {
     "elapsed": 363,
     "status": "ok",
     "timestamp": 1650314630420,
     "user": {
      "displayName": "Ketrin Trofimova",
      "userId": "05400058012601189465"
     },
     "user_tz": -180
    },
    "id": "fEeXe7bK6kSU"
   },
   "outputs": [],
   "source": [
    "y = data['price']\n",
    "x = data.drop(columns='price')"
   ]
  },
  {
   "cell_type": "code",
   "execution_count": 28,
   "metadata": {
    "executionInfo": {
     "elapsed": 322,
     "status": "ok",
     "timestamp": 1650314633976,
     "user": {
      "displayName": "Ketrin Trofimova",
      "userId": "05400058012601189465"
     },
     "user_tz": -180
    },
    "id": "zbH-jQ6Y6tRN"
   },
   "outputs": [],
   "source": [
    "X_train, X_test, y_train, y_test = train_test_split(x, y, test_size=0.2, random_state=30)"
   ]
  },
  {
   "cell_type": "code",
   "execution_count": 29,
   "metadata": {
    "executionInfo": {
     "elapsed": 2,
     "status": "ok",
     "timestamp": 1650314634403,
     "user": {
      "displayName": "Ketrin Trofimova",
      "userId": "05400058012601189465"
     },
     "user_tz": -180
    },
    "id": "7YTTpiT86zSa"
   },
   "outputs": [],
   "source": [
    "X_train['weather'] = X_train['weather'].fillna(np.round(np.mean(X_train['weather']),0))\n",
    "X_test['weather'] = X_test['weather'].fillna(np.round(np.mean(X_train['weather']),0))"
   ]
  },
  {
   "cell_type": "code",
   "execution_count": 30,
   "metadata": {
    "colab": {
     "base_uri": "https://localhost:8080/"
    },
    "executionInfo": {
     "elapsed": 5,
     "status": "ok",
     "timestamp": 1650314635691,
     "user": {
      "displayName": "Ketrin Trofimova",
      "userId": "05400058012601189465"
     },
     "user_tz": -180
    },
    "id": "XTE2kMOh66Ny",
    "outputId": "5d3da472-d6be-4ee6-bf84-9cba6f22c6f7"
   },
   "outputs": [
    {
     "data": {
      "text/plain": [
       "4wd    0.738406\n",
       "Name: drive, dtype: float64"
      ]
     },
     "execution_count": 30,
     "metadata": {},
     "output_type": "execute_result"
    }
   ],
   "source": [
    "X_train['drive'].value_counts(True).head(1)"
   ]
  },
  {
   "cell_type": "code",
   "execution_count": 31,
   "metadata": {
    "colab": {
     "base_uri": "https://localhost:8080/"
    },
    "executionInfo": {
     "elapsed": 4,
     "status": "ok",
     "timestamp": 1650314636218,
     "user": {
      "displayName": "Ketrin Trofimova",
      "userId": "05400058012601189465"
     },
     "user_tz": -180
    },
    "id": "IvLA4olc6-SO",
    "outputId": "cb44f876-314f-4299-868f-06ec5c2397fe"
   },
   "outputs": [
    {
     "data": {
      "text/plain": [
       "full-size    0.841164\n",
       "Name: size, dtype: float64"
      ]
     },
     "execution_count": 31,
     "metadata": {},
     "output_type": "execute_result"
    }
   ],
   "source": [
    "X_train['size'].value_counts(True).head(1)\n"
   ]
  },
  {
   "cell_type": "code",
   "execution_count": 32,
   "metadata": {
    "executionInfo": {
     "elapsed": 4,
     "status": "ok",
     "timestamp": 1650314637410,
     "user": {
      "displayName": "Ketrin Trofimova",
      "userId": "05400058012601189465"
     },
     "user_tz": -180
    },
    "id": "0ebCGlXH7BW2"
   },
   "outputs": [],
   "source": [
    "X_train['size'] = X_train['size'].fillna('full-size')\n",
    "X_train['drive'] = X_train['drive'].fillna('4wd')\n",
    " \n",
    "X_test['size'] = X_test['size'].fillna('full-size')\n",
    "X_test['drive'] = X_test['drive'].fillna('4wd')"
   ]
  },
  {
   "cell_type": "code",
   "execution_count": 34,
   "metadata": {
    "colab": {
     "base_uri": "https://localhost:8080/"
    },
    "executionInfo": {
     "elapsed": 3,
     "status": "ok",
     "timestamp": 1650314638623,
     "user": {
      "displayName": "Ketrin Trofimova",
      "userId": "05400058012601189465"
     },
     "user_tz": -180
    },
    "id": "pdWGZjiB7Fbm",
    "outputId": "683fd4c6-4528-4b39-af3f-1c602402e11b"
   },
   "outputs": [
    {
     "name": "stdout",
     "output_type": "stream",
     "text": [
      "['cylinders_3' 'cylinders_4' 'cylinders_5' 'cylinders_6' 'cylinders_8'\n",
      " 'cylinders_10' 'title_status_clean' 'title_status_lien'\n",
      " 'title_status_missing' 'title_status_rebuilt']\n"
     ]
    }
   ],
   "source": [
    "X_train_new, X_test_new = encode_cat_features_out(columns_to_change, X_train, X_test, y_train)"
   ]
  },
  {
   "cell_type": "code",
   "execution_count": 35,
   "metadata": {
    "colab": {
     "base_uri": "https://localhost:8080/"
    },
    "executionInfo": {
     "elapsed": 433,
     "status": "ok",
     "timestamp": 1650314639679,
     "user": {
      "displayName": "Ketrin Trofimova",
      "userId": "05400058012601189465"
     },
     "user_tz": -180
    },
    "id": "ptOtGXEa80Mn",
    "outputId": "cb28a915-3cf1-48da-a2c9-340970d50d78"
   },
   "outputs": [
    {
     "name": "stdout",
     "output_type": "stream",
     "text": [
      "Train R^2: 0.649\n",
      "Test R^2: 0.465\n"
     ]
    }
   ],
   "source": [
    "lr_model = LinearRegression()\n",
    "lr_model.fit(X_train_new, y_train)\n",
    "y_train_predict = lr_model.predict(X_train_new)\n",
    "y_test_predict = lr_model.predict(X_test_new)\n",
    "print(\"Train R^2: {:.3f}\".format(r2_score(y_train, y_train_predict)))\n",
    "print(\"Test R^2: {:.3f}\".format(r2_score(y_test, y_test_predict)))"
   ]
  },
  {
   "cell_type": "markdown",
   "metadata": {
    "id": "y5VQDzaX9YFi"
   },
   "source": [
    "# Предсказание пропусков с помощью ML"
   ]
  },
  {
   "cell_type": "code",
   "execution_count": 36,
   "metadata": {
    "executionInfo": {
     "elapsed": 439,
     "status": "ok",
     "timestamp": 1650314642242,
     "user": {
      "displayName": "Ketrin Trofimova",
      "userId": "05400058012601189465"
     },
     "user_tz": -180
    },
    "id": "YBgh7if19dEk"
   },
   "outputs": [],
   "source": [
    "data = x.copy()\n",
    " \n",
    "test_data = data[data['weather'].isnull()]\n",
    "data.dropna(inplace=True)\n",
    " \n",
    "y_train = data['weather']\n",
    "X_train = data.drop(['size','weather','drive'], axis=1)\n",
    "X_test = test_data.drop(['size','weather','drive'], axis=1)\n"
   ]
  },
  {
   "cell_type": "code",
   "execution_count": 37,
   "metadata": {
    "executionInfo": {
     "elapsed": 4,
     "status": "ok",
     "timestamp": 1650314643568,
     "user": {
      "displayName": "Ketrin Trofimova",
      "userId": "05400058012601189465"
     },
     "user_tz": -180
    },
    "id": "GUvMVoyq9pvl"
   },
   "outputs": [],
   "source": [
    "categorial_cols = ['cylinders', 'title_status', 'transmission']"
   ]
  },
  {
   "cell_type": "code",
   "execution_count": 38,
   "metadata": {
    "colab": {
     "base_uri": "https://localhost:8080/"
    },
    "executionInfo": {
     "elapsed": 6,
     "status": "ok",
     "timestamp": 1650314643876,
     "user": {
      "displayName": "Ketrin Trofimova",
      "userId": "05400058012601189465"
     },
     "user_tz": -180
    },
    "id": "nZwhWjxh9hrt",
    "outputId": "d9149bbe-efda-4f93-dc20-d1c3c1f367be"
   },
   "outputs": [
    {
     "name": "stdout",
     "output_type": "stream",
     "text": [
      "['cylinders_3' 'cylinders_4' 'cylinders_5' 'cylinders_6' 'cylinders_8'\n",
      " 'cylinders_10' 'title_status_clean' 'title_status_lien'\n",
      " 'title_status_missing' 'title_status_rebuilt']\n"
     ]
    }
   ],
   "source": [
    "X_train_new, X_test_new = encode_cat_features_out(categorial_cols, X_train, X_test, y_train)"
   ]
  },
  {
   "cell_type": "code",
   "execution_count": 39,
   "metadata": {
    "colab": {
     "base_uri": "https://localhost:8080/"
    },
    "executionInfo": {
     "elapsed": 9,
     "status": "ok",
     "timestamp": 1650314644832,
     "user": {
      "displayName": "Ketrin Trofimova",
      "userId": "05400058012601189465"
     },
     "user_tz": -180
    },
    "id": "bP5AVFZj9rRA",
    "outputId": "c1248920-3327-477c-ef9b-3db6ef05bc2f"
   },
   "outputs": [
    {
     "data": {
      "text/plain": [
       "array([ 40.91435555,  40.7637233 ,  39.74866152,  41.2755305 ,\n",
       "        40.31791932,  41.10796547,  41.15337846,  39.94866488,\n",
       "        41.10796547,  40.7217165 ,  40.18904454,  91.62094167,\n",
       "        41.12549856,  41.33052316,  39.66827354,  40.91435555,\n",
       "        40.77287826,  40.84208674,  41.10796547,  41.02118034,\n",
       "        40.31791932,  41.30309209,  40.77645269,  40.75842615,\n",
       "        40.61605044,  40.79031628,  40.7701239 ,  39.78723017,\n",
       "        41.27231621,  39.77492057,  40.7637233 ,  40.7701239 ,\n",
       "        41.10796547,  39.68313064,  40.12277414,  39.7873657 ,\n",
       "        41.07798631,  41.06812063,  40.7637233 ,  40.90194049,\n",
       "        41.10796547,  70.85737739,  30.44339508,  40.76125291,\n",
       "        39.77492057,  41.12549856,  39.74864816,  40.72219488,\n",
       "        40.97162064,  40.7448585 ,  39.71065847,  39.78779447,\n",
       "        39.77492057,  40.15945849,  41.12549856,  40.7902779 ,\n",
       "        39.65555168,  41.10796547,  40.76125291,  40.15619215,\n",
       "        40.79031628,  41.10796547,  40.7902779 ,  40.72219488,\n",
       "        40.7637233 ,  40.78397466,  40.72219488,  40.82820161,\n",
       "        41.06812063,  41.10796547,  39.52458406,  45.60763742,\n",
       "        40.31791932,  39.78744811,  39.78786444,  40.72219488,\n",
       "        40.31791932,  39.60969403,  40.78397466,  40.18904454,\n",
       "        40.87125735,  40.79031628,  39.9047601 ,  39.77492057,\n",
       "        41.10796547,  39.8626169 ,  41.11087181,  39.68991004,\n",
       "        41.10796547,  40.80997176,  40.72219488,  39.65555168,\n",
       "        36.16180154,  70.85737739,  41.10796547,  40.7448585 ,\n",
       "        40.76978569,  40.77645269,  40.90194049,  39.94866488,\n",
       "        39.68511582,  40.12280065,  40.7701239 ,  41.09538224,\n",
       "        40.72219488,  82.17558365,  40.95065381,  40.72219488,\n",
       "        41.18861809,  41.46847454,  40.74856324,  40.72219488,\n",
       "        40.79252885,  39.68313064,  41.23198903,  40.78397466,\n",
       "        41.09538224,  39.96479283,  40.7701239 ,  40.72219488,\n",
       "        41.09538224,  45.38415775,  40.79031628,  40.51155664,\n",
       "        39.03360193,  40.38809523,  40.76125291,  40.7902779 ,\n",
       "        81.99632124,  39.58885753,  39.68991004,  40.15619215,\n",
       "        40.97801461,  40.6191532 ,  40.9699132 ,  39.85098055,\n",
       "        39.8626169 ,  40.76125291,   0.98734546,  41.10796547,\n",
       "        40.7703828 ,  41.27231621,  39.96043333,  41.12549856,\n",
       "        39.7878622 ,  39.68991004,  40.77287826,  39.8626169 ,\n",
       "        40.74856324,  40.34473029, 108.10354991,  40.15619215,\n",
       "        39.78747467,  41.10941864,  45.54060388,  40.12276743,\n",
       "        38.52890696,  39.74858135,  51.95799897,  39.85098055,\n",
       "        40.70952531,  41.10796547,  41.06812063,  41.10796547,\n",
       "        40.08541523,  40.12280736,  39.68991004,  41.30117068,\n",
       "        41.10796547,  38.4145639 ,  39.68313064,  41.09646831,\n",
       "        40.29179572,  40.72219488,  41.15337846,  40.77775715,\n",
       "        41.11087181, 108.10354991,  40.61605044,  41.03761704])"
      ]
     },
     "execution_count": 39,
     "metadata": {},
     "output_type": "execute_result"
    }
   ],
   "source": [
    "model = LinearRegression()\n",
    "model.fit(X_train_new, y_train)\n",
    " \n",
    "y_pred = model.predict(X_test_new)\n",
    "y_pred"
   ]
  },
  {
   "cell_type": "code",
   "execution_count": null,
   "metadata": {},
   "outputs": [],
   "source": []
  },
  {
   "cell_type": "code",
   "execution_count": null,
   "metadata": {},
   "outputs": [],
   "source": []
  },
  {
   "cell_type": "code",
   "execution_count": null,
   "metadata": {},
   "outputs": [],
   "source": []
  },
  {
   "cell_type": "code",
   "execution_count": null,
   "metadata": {},
   "outputs": [],
   "source": []
  },
  {
   "cell_type": "markdown",
   "metadata": {
    "id": "U2Thi5OIUwZR"
   },
   "source": [
    "## Решение Задания 4.5\n",
    "\n",
    "\n",
    "Вставьте найденную замену на место пропусков в столбце weather. Используйте тот же метод для заполнения пропусков в size. Обратите внимание на тип модели, который нужен (классификация или регрессия) в зависимости от типа признака. "
   ]
  },
  {
   "cell_type": "code",
   "execution_count": 40,
   "metadata": {
    "colab": {
     "base_uri": "https://localhost:8080/"
    },
    "executionInfo": {
     "elapsed": 339,
     "status": "ok",
     "timestamp": 1650314647820,
     "user": {
      "displayName": "Ketrin Trofimova",
      "userId": "05400058012601189465"
     },
     "user_tz": -180
    },
    "id": "100wnoVJU0QP",
    "outputId": "71a69388-35f5-462e-9d45-8606a7587f3d"
   },
   "outputs": [
    {
     "name": "stderr",
     "output_type": "stream",
     "text": [
      "/tmp/ipykernel_6341/3939650608.py:2: SettingWithCopyWarning: \n",
      "A value is trying to be set on a copy of a slice from a DataFrame\n",
      "\n",
      "See the caveats in the documentation: https://pandas.pydata.org/pandas-docs/stable/user_guide/indexing.html#returning-a-view-versus-a-copy\n",
      "  x['weather'].loc[ni] = y_pred[i]\n"
     ]
    }
   ],
   "source": [
    "for i, ni in enumerate(test_data.index[:len(x)]):\n",
    "             x['weather'].loc[ni] = y_pred[i]"
   ]
  },
  {
   "cell_type": "code",
   "execution_count": 41,
   "metadata": {
    "colab": {
     "base_uri": "https://localhost:8080/"
    },
    "executionInfo": {
     "elapsed": 6,
     "status": "ok",
     "timestamp": 1650314648548,
     "user": {
      "displayName": "Ketrin Trofimova",
      "userId": "05400058012601189465"
     },
     "user_tz": -180
    },
    "id": "rDHbqPseWs6b",
    "outputId": "231cec8d-2b81-43ba-c143-645925c70c9c"
   },
   "outputs": [
    {
     "name": "stdout",
     "output_type": "stream",
     "text": [
      "<class 'pandas.core.frame.DataFrame'>\n",
      "RangeIndex: 7017 entries, 0 to 7016\n",
      "Data columns (total 11 columns):\n",
      " #   Column        Non-Null Count  Dtype  \n",
      "---  ------        --------------  -----  \n",
      " 0   year          7017 non-null   int64  \n",
      " 1   condition     7017 non-null   int64  \n",
      " 2   cylinders     7017 non-null   int64  \n",
      " 3   odometer      7017 non-null   int64  \n",
      " 4   title_status  7017 non-null   object \n",
      " 5   transmission  7017 non-null   object \n",
      " 6   drive         6626 non-null   object \n",
      " 7   size          5453 non-null   object \n",
      " 8   lat           7017 non-null   float64\n",
      " 9   long          7017 non-null   float64\n",
      " 10  weather       7017 non-null   float64\n",
      "dtypes: float64(3), int64(4), object(4)\n",
      "memory usage: 603.1+ KB\n"
     ]
    }
   ],
   "source": [
    "x.info()"
   ]
  },
  {
   "cell_type": "code",
   "execution_count": 58,
   "metadata": {
    "colab": {
     "base_uri": "https://localhost:8080/",
     "height": 282
    },
    "executionInfo": {
     "elapsed": 586,
     "status": "ok",
     "timestamp": 1650314650579,
     "user": {
      "displayName": "Ketrin Trofimova",
      "userId": "05400058012601189465"
     },
     "user_tz": -180
    },
    "id": "95IjG92xXdzM",
    "outputId": "5db60b74-9b0c-4070-8748-47123ba2edef"
   },
   "outputs": [
    {
     "data": {
      "text/plain": [
       "<matplotlib.axes._subplots.AxesSubplot at 0x7fd3eb489550>"
      ]
     },
     "execution_count": 58,
     "metadata": {},
     "output_type": "execute_result"
    },
    {
     "data": {
      "image/png": "[encoded data removed]",
      "text/plain": [
       "<Figure size 432x288 with 1 Axes>"
      ]
     },
     "metadata": {
      "needs_background": "light"
     },
     "output_type": "display_data"
    }
   ],
   "source": [
    "x['size'].hist()"
   ]
  },
  {
   "cell_type": "markdown",
   "metadata": {
    "id": "-vTm877dX1n7"
   },
   "source": [
    "Данный признак является категориальным. Следовательно, понадобится классификатор для заполения пропусков в нем."
   ]
  },
  {
   "cell_type": "code",
   "execution_count": 45,
   "metadata": {
    "executionInfo": {
     "elapsed": 353,
     "status": "ok",
     "timestamp": 1650314653398,
     "user": {
      "displayName": "Ketrin Trofimova",
      "userId": "05400058012601189465"
     },
     "user_tz": -180
    },
    "id": "h1_1paODYK4T"
   },
   "outputs": [],
   "source": [
    "data = x.copy()\n",
    " \n",
    "test_data = data[data['size'].isnull()]\n",
    "data.dropna(inplace=True)\n",
    " \n",
    "y_train = data['size']\n",
    "X_train = data.drop(['size', 'drive'], axis=1)\n",
    "X_test = test_data.drop(['size','drive'], axis=1)"
   ]
  },
  {
   "cell_type": "code",
   "execution_count": 46,
   "metadata": {
    "colab": {
     "base_uri": "https://localhost:8080/"
    },
    "executionInfo": {
     "elapsed": 7,
     "status": "ok",
     "timestamp": 1650314654685,
     "user": {
      "displayName": "Ketrin Trofimova",
      "userId": "05400058012601189465"
     },
     "user_tz": -180
    },
    "id": "vyUZZ7OOYi2j",
    "outputId": "05fac50a-fc5a-4c68-fe6b-273147cdcfd9"
   },
   "outputs": [
    {
     "name": "stdout",
     "output_type": "stream",
     "text": [
      "['cylinders_3' 'cylinders_4' 'cylinders_5' 'cylinders_6' 'cylinders_8'\n",
      " 'cylinders_10' 'title_status_clean' 'title_status_lien'\n",
      " 'title_status_missing' 'title_status_rebuilt']\n"
     ]
    }
   ],
   "source": [
    "X_train_new, X_test_new = encode_cat_features_out(categorial_cols, X_train, X_test, y_train)"
   ]
  },
  {
   "cell_type": "code",
   "execution_count": 55,
   "metadata": {
    "colab": {
     "base_uri": "https://localhost:8080/"
    },
    "executionInfo": {
     "elapsed": 811,
     "status": "ok",
     "timestamp": 1650314658524,
     "user": {
      "displayName": "Ketrin Trofimova",
      "userId": "05400058012601189465"
     },
     "user_tz": -180
    },
    "id": "KDHHlO_MZCqX",
    "outputId": "60fae026-411d-4764-c288-46e8d0741925"
   },
   "outputs": [
    {
     "name": "stderr",
     "output_type": "stream",
     "text": [
      "/home/russ174/.local/lib/python3.9/site-packages/sklearn/linear_model/_logistic.py:814: ConvergenceWarning: lbfgs failed to converge (status=1):\n",
      "STOP: TOTAL NO. of ITERATIONS REACHED LIMIT.\n",
      "\n",
      "Increase the number of iterations (max_iter) or scale the data as shown in:\n",
      "    https://scikit-learn.org/stable/modules/preprocessing.html\n",
      "Please also refer to the documentation for alternative solver options:\n",
      "    https://scikit-learn.org/stable/modules/linear_model.html#logistic-regression\n",
      "  n_iter_i = _check_optimize_result(\n"
     ]
    },
    {
     "data": {
      "text/plain": [
       "array(['full-size', 'full-size', 'full-size', ..., 'full-size',\n",
       "       'full-size', 'full-size'], dtype=object)"
      ]
     },
     "execution_count": 55,
     "metadata": {},
     "output_type": "execute_result"
    }
   ],
   "source": [
    "model = LogisticRegression()\n",
    "model.fit(X_train_new, y_train)\n",
    " \n",
    "y_pred = model.predict(X_test_new)\n",
    "y_pred"
   ]
  },
  {
   "cell_type": "code",
   "execution_count": 49,
   "metadata": {
    "colab": {
     "base_uri": "https://localhost:8080/"
    },
    "executionInfo": {
     "elapsed": 1092,
     "status": "ok",
     "timestamp": 1650314683880,
     "user": {
      "displayName": "Ketrin Trofimova",
      "userId": "05400058012601189465"
     },
     "user_tz": -180
    },
    "id": "3Ajz50x8a1AD",
    "outputId": "25d80afb-3842-4537-c8c7-c2cc0152aa5f"
   },
   "outputs": [
    {
     "name": "stderr",
     "output_type": "stream",
     "text": [
      "/tmp/ipykernel_6341/2553570009.py:2: SettingWithCopyWarning: \n",
      "A value is trying to be set on a copy of a slice from a DataFrame\n",
      "\n",
      "See the caveats in the documentation: https://pandas.pydata.org/pandas-docs/stable/user_guide/indexing.html#returning-a-view-versus-a-copy\n",
      "  x['size'].loc[ni] = y_pred[i]\n"
     ]
    }
   ],
   "source": [
    "for i, ni in enumerate(test_data.index[:len(x)]):\n",
    "             x['size'].loc[ni] = y_pred[i]"
   ]
  },
  {
   "cell_type": "code",
   "execution_count": 50,
   "metadata": {
    "colab": {
     "base_uri": "https://localhost:8080/"
    },
    "executionInfo": {
     "elapsed": 310,
     "status": "ok",
     "timestamp": 1650314691288,
     "user": {
      "displayName": "Ketrin Trofimova",
      "userId": "05400058012601189465"
     },
     "user_tz": -180
    },
    "id": "2nAsWs8Da6pQ",
    "outputId": "142b9f2a-54c8-4e1f-bf19-6a94bec9c417"
   },
   "outputs": [
    {
     "name": "stdout",
     "output_type": "stream",
     "text": [
      "<class 'pandas.core.frame.DataFrame'>\n",
      "RangeIndex: 7017 entries, 0 to 7016\n",
      "Data columns (total 11 columns):\n",
      " #   Column        Non-Null Count  Dtype  \n",
      "---  ------        --------------  -----  \n",
      " 0   year          7017 non-null   int64  \n",
      " 1   condition     7017 non-null   int64  \n",
      " 2   cylinders     7017 non-null   int64  \n",
      " 3   odometer      7017 non-null   int64  \n",
      " 4   title_status  7017 non-null   object \n",
      " 5   transmission  7017 non-null   object \n",
      " 6   drive         6626 non-null   object \n",
      " 7   size          7017 non-null   object \n",
      " 8   lat           7017 non-null   float64\n",
      " 9   long          7017 non-null   float64\n",
      " 10  weather       7017 non-null   float64\n",
      "dtypes: float64(3), int64(4), object(4)\n",
      "memory usage: 603.1+ KB\n"
     ]
    }
   ],
   "source": [
    "x.info()"
   ]
  },
  {
   "cell_type": "code",
   "execution_count": 52,
   "metadata": {},
   "outputs": [
    {
     "data": {
      "text/plain": [
       "<AxesSubplot:>"
      ]
     },
     "execution_count": 52,
     "metadata": {},
     "output_type": "execute_result"
    },
    {
     "data": {
      "image/png": "[encoded data removed]",
      "text/plain": [
       "<Figure size 432x288 with 1 Axes>"
      ]
     },
     "metadata": {
      "needs_background": "light"
     },
     "output_type": "display_data"
    }
   ],
   "source": [
    "x['size'].hist()"
   ]
  },
  {
   "cell_type": "markdown",
   "metadata": {
    "id": "_zkJtlDP96K9"
   },
   "source": [
    "# Пребодработка: работа с выбросами"
   ]
  },
  {
   "cell_type": "code",
   "execution_count": 56,
   "metadata": {
    "id": "jxfn2SjW-J5Y"
   },
   "outputs": [],
   "source": [
    "data = pd.read_excel('data/data_ford_price.xlsx') "
   ]
  },
  {
   "cell_type": "code",
   "execution_count": 57,
   "metadata": {
    "id": "mNhV_pG99-GV"
   },
   "outputs": [],
   "source": [
    "data = data[['price', 'year', 'cylinders', 'odometer' ,'lat', 'long','weather']]\n",
    "data.dropna(inplace = True)"
   ]
  },
  {
   "cell_type": "code",
   "execution_count": 58,
   "metadata": {
    "colab": {
     "base_uri": "https://localhost:8080/",
     "height": 204
    },
    "id": "wP8Ge8vw-BSQ",
    "outputId": "4952eee1-ec25-49e5-fd68-d7fadbb59070"
   },
   "outputs": [
    {
     "data": {
      "text/html": [
       "<div>\n",
       "<style scoped>\n",
       "    .dataframe tbody tr th:only-of-type {\n",
       "        vertical-align: middle;\n",
       "    }\n",
       "\n",
       "    .dataframe tbody tr th {\n",
       "        vertical-align: top;\n",
       "    }\n",
       "\n",
       "    .dataframe thead th {\n",
       "        text-align: right;\n",
       "    }\n",
       "</style>\n",
       "<table border=\"1\" class=\"dataframe\">\n",
       "  <thead>\n",
       "    <tr style=\"text-align: right;\">\n",
       "      <th></th>\n",
       "      <th>year</th>\n",
       "      <th>cylinders</th>\n",
       "      <th>odometer</th>\n",
       "      <th>lat</th>\n",
       "      <th>long</th>\n",
       "      <th>weather</th>\n",
       "    </tr>\n",
       "  </thead>\n",
       "  <tbody>\n",
       "    <tr>\n",
       "      <th>0</th>\n",
       "      <td>2016</td>\n",
       "      <td>6</td>\n",
       "      <td>43500</td>\n",
       "      <td>36.471500</td>\n",
       "      <td>-82.483400</td>\n",
       "      <td>59.0</td>\n",
       "    </tr>\n",
       "    <tr>\n",
       "      <th>1</th>\n",
       "      <td>2009</td>\n",
       "      <td>8</td>\n",
       "      <td>98131</td>\n",
       "      <td>40.468826</td>\n",
       "      <td>-74.281734</td>\n",
       "      <td>52.0</td>\n",
       "    </tr>\n",
       "    <tr>\n",
       "      <th>2</th>\n",
       "      <td>2002</td>\n",
       "      <td>8</td>\n",
       "      <td>201803</td>\n",
       "      <td>42.477134</td>\n",
       "      <td>-82.949564</td>\n",
       "      <td>45.0</td>\n",
       "    </tr>\n",
       "    <tr>\n",
       "      <th>3</th>\n",
       "      <td>2000</td>\n",
       "      <td>8</td>\n",
       "      <td>170305</td>\n",
       "      <td>40.764373</td>\n",
       "      <td>-82.349503</td>\n",
       "      <td>49.0</td>\n",
       "    </tr>\n",
       "    <tr>\n",
       "      <th>5</th>\n",
       "      <td>2003</td>\n",
       "      <td>8</td>\n",
       "      <td>167662</td>\n",
       "      <td>45.518031</td>\n",
       "      <td>-122.578752</td>\n",
       "      <td>50.0</td>\n",
       "    </tr>\n",
       "  </tbody>\n",
       "</table>\n",
       "</div>"
      ],
      "text/plain": [
       "   year  cylinders  odometer        lat        long  weather\n",
       "0  2016          6     43500  36.471500  -82.483400     59.0\n",
       "1  2009          8     98131  40.468826  -74.281734     52.0\n",
       "2  2002          8    201803  42.477134  -82.949564     45.0\n",
       "3  2000          8    170305  40.764373  -82.349503     49.0\n",
       "5  2003          8    167662  45.518031 -122.578752     50.0"
      ]
     },
     "execution_count": 58,
     "metadata": {},
     "output_type": "execute_result"
    }
   ],
   "source": [
    "y = data['price']\n",
    "x = data.drop(columns='price')\n",
    "x.head()"
   ]
  },
  {
   "cell_type": "code",
   "execution_count": 59,
   "metadata": {
    "id": "tFM3_nT0-O-m"
   },
   "outputs": [],
   "source": [
    "from sklearn.metrics import mean_absolute_error"
   ]
  },
  {
   "cell_type": "code",
   "execution_count": 60,
   "metadata": {
    "colab": {
     "base_uri": "https://localhost:8080/"
    },
    "id": "_t3vDJEx-RA_",
    "outputId": "c87a1a59-a9c0-4283-d847-79aa61a5ee3f"
   },
   "outputs": [
    {
     "name": "stdout",
     "output_type": "stream",
     "text": [
      "MAE: 4682.957\n"
     ]
    }
   ],
   "source": [
    "X_train, X_test, y_train, y_test = train_test_split(x, y, test_size=0.3, random_state=40)\n",
    "\n",
    "model = LinearRegression()\n",
    "model.fit(X_train, y_train)\n",
    "y_predicted = model.predict(X_test)\n",
    " \n",
    "mae = mean_absolute_error(y_test, y_predicted)\n",
    "print('MAE: %.3f' % mae)\n"
   ]
  },
  {
   "cell_type": "code",
   "execution_count": 61,
   "metadata": {
    "colab": {
     "base_uri": "https://localhost:8080/"
    },
    "id": "lvjqVt7b-TNc",
    "outputId": "efa84929-523e-47dd-f91b-13085da7031c"
   },
   "outputs": [
    {
     "name": "stderr",
     "output_type": "stream",
     "text": [
      "/home/russ174/.local/lib/python3.9/site-packages/sklearn/base.py:450: UserWarning: X does not have valid feature names, but IsolationForest was fitted with feature names\n",
      "  warnings.warn(\n"
     ]
    },
    {
     "name": "stdout",
     "output_type": "stream",
     "text": [
      "(4306, 6) (4306,)\n",
      "MAE: 4435.554\n"
     ]
    }
   ],
   "source": [
    "from  sklearn.ensemble import IsolationForest\n",
    " \n",
    "# ищем выбросы в обучающей выборке\n",
    "iso = IsolationForest(contamination=0.1)\n",
    "y_predicted = iso.fit_predict(X_train)\n",
    " \n",
    "# выберем все строки, которые не являются выбросами\n",
    "mask = y_predicted != -1\n",
    "X_train, y_train = X_train[mask], y_train[mask]\n",
    " \n",
    "print(X_train.shape, y_train.shape)\n",
    " \n",
    "model = LinearRegression()\n",
    "model.fit(X_train, y_train)\n",
    " \n",
    "y_predicted = model.predict(X_test)\n",
    "mae = mean_absolute_error(y_test, y_predicted)\n",
    "print('MAE: %.3f' % mae)"
   ]
  },
  {
   "cell_type": "code",
   "execution_count": 62,
   "metadata": {
    "colab": {
     "base_uri": "https://localhost:8080/"
    },
    "id": "4dksdvLS-WZD",
    "outputId": "bb4fa352-98c0-4064-dbdf-b04786574050"
   },
   "outputs": [
    {
     "name": "stdout",
     "output_type": "stream",
     "text": [
      "(3974, 6) (3974,)\n",
      "MAE: 4441.409\n"
     ]
    }
   ],
   "source": [
    "from sklearn.neighbors import LocalOutlierFactor\n",
    " \n",
    "lof = LocalOutlierFactor()\n",
    "y_predicted = lof.fit_predict(X_train)\n",
    "\n",
    "mask = y_predicted != -1\n",
    "X_train, y_train = X_train[mask], y_train[mask]\n",
    " \n",
    "print(X_train.shape, y_train.shape)\n",
    " \n",
    "model = LinearRegression()\n",
    "model.fit(X_train, y_train)\n",
    " \n",
    "y_predicted = model.predict(X_test)\n",
    "mae = mean_absolute_error(y_test, y_predicted)\n",
    "print('MAE: %.3f' % mae)"
   ]
  },
  {
   "cell_type": "code",
   "execution_count": 63,
   "metadata": {
    "colab": {
     "base_uri": "https://localhost:8080/"
    },
    "id": "CXLHK9Fl-ZIW",
    "outputId": "d455edd8-d128-4411-cb56-e840b4046ef8"
   },
   "outputs": [
    {
     "name": "stdout",
     "output_type": "stream",
     "text": [
      "(3934, 6) (3934,)\n",
      "MAE: 4453.243\n"
     ]
    }
   ],
   "source": [
    "from sklearn.covariance import EllipticEnvelope\n",
    " \n",
    "ee = EllipticEnvelope(contamination=0.01)\n",
    "y_predicted = ee.fit_predict(X_train)\n",
    "\n",
    "mask = y_predicted != -1\n",
    "X_train, y_train = X_train[mask], y_train[mask]\n",
    " \n",
    "print(X_train.shape, y_train.shape)\n",
    " \n",
    "model = LinearRegression()\n",
    "model.fit(X_train, y_train)\n",
    " \n",
    "y_predicted = model.predict(X_test)\n",
    "mae = mean_absolute_error(y_test, y_predicted)\n",
    "print('MAE: %.3f' % mae)"
   ]
  },
  {
   "cell_type": "code",
   "execution_count": null,
   "metadata": {},
   "outputs": [],
   "source": []
  }
 ],
 "metadata": {
  "colab": {
   "collapsed_sections": [],
   "name": "Обработка_пропусков_и_выбросов.ipynb",
   "provenance": []
  },
  "kernelspec": {
   "display_name": "Python 3 (ipykernel)",
   "language": "python",
   "name": "python3"
  },
  "language_info": {
   "codemirror_mode": {
    "name": "ipython",
    "version": 3
   },
   "file_extension": ".py",
   "mimetype": "text/x-python",
   "name": "python",
   "nbconvert_exporter": "python",
   "pygments_lexer": "ipython3",
   "version": "3.9.12"
  }
 },
 "nbformat": 4,
 "nbformat_minor": 1
}
